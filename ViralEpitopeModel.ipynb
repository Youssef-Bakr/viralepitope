{
 "cells": [
  {
   "cell_type": "code",
   "execution_count": 1,
   "metadata": {},
   "outputs": [
    {
     "data": {
      "text/plain": [
       "'\\nCreated on August 4th 2022\\n\\n@author: JJ\\n'"
      ]
     },
     "execution_count": 1,
     "metadata": {},
     "output_type": "execute_result"
    }
   ],
   "source": [
    "\"\"\"\n",
    "Created on August 4th 2022\n",
    "\n",
    "@author: JJ\n",
    "\"\"\""
   ]
  },
  {
   "cell_type": "code",
   "execution_count": 2,
   "metadata": {},
   "outputs": [
    {
     "name": "stderr",
     "output_type": "stream",
     "text": [
      "2022-08-29 14:42:41.176800: I tensorflow/stream_executor/platform/default/dso_loader.cc:49] Successfully opened dynamic library libcudart.so.10.1\n"
     ]
    }
   ],
   "source": [
    "import os, re, sys\n",
    "import numpy as np\n",
    "import pandas as pd\n",
    "from math import log\n",
    "import random\n",
    "import scipy.io\n",
    "import tensorflow as tf\n",
    "import csv"
   ]
  },
  {
   "cell_type": "code",
   "execution_count": 3,
   "metadata": {},
   "outputs": [],
   "source": [
    "import tensorflow as tf\n",
    "from tensorflow.keras.optimizers import *\n",
    "from tensorflow.keras.models import *\n",
    "from tensorflow.keras.layers import *\n",
    "from tensorflow.keras.constraints import MaxNorm\n",
    "from tensorflow.keras.regularizers import (\n",
    "    l2, \n",
    "    l1, \n",
    "    l1_l2\n",
    ")\n",
    "from tensorflow.keras.models import Model\n",
    "from tensorflow.keras import backend as K\n",
    "from tensorflow.keras import (\n",
    "    activations, \n",
    "    initializers, \n",
    "    regularizers, \n",
    "    constraints\n",
    ")"
   ]
  },
  {
   "cell_type": "code",
   "execution_count": 4,
   "metadata": {},
   "outputs": [],
   "source": [
    "#import from python files\n",
    "from model import build_model"
   ]
  },
  {
   "cell_type": "code",
   "execution_count": 5,
   "metadata": {},
   "outputs": [],
   "source": [
    "num_threads = 4\n",
    "# Maximum number of threads to use for OpenMP parallel regions.\n",
    "os.environ[\"OMP_NUM_THREADS\"] = \"4\"\n",
    "# Without setting below 2 environment variables, it didn't work for me. Thanks to @cjw85 \n",
    "os.environ[\"TF_NUM_INTRAOP_THREADS\"] = \"4\"\n",
    "os.environ[\"TF_NUM_INTEROP_THREADS\"] = \"4\"\n",
    "\n",
    "tf.config.threading.set_inter_op_parallelism_threads(\n",
    "    num_threads\n",
    ")\n",
    "tf.config.threading.set_intra_op_parallelism_threads(\n",
    "    num_threads\n",
    ")\n",
    "tf.config.set_soft_device_placement(True)"
   ]
  },
  {
   "cell_type": "code",
   "execution_count": 6,
   "metadata": {},
   "outputs": [],
   "source": [
    "# in a well-defined initial state.\n",
    "random.seed\n",
    "np.random.seed(1337)\n",
    "tf.random.set_seed(1337)"
   ]
  },
  {
   "cell_type": "code",
   "execution_count": 7,
   "metadata": {},
   "outputs": [],
   "source": [
    "import matplotlib\n",
    "import matplotlib.pyplot as plt"
   ]
  },
  {
   "cell_type": "code",
   "execution_count": 8,
   "metadata": {},
   "outputs": [],
   "source": [
    "from tensorflow.keras.callbacks import (\n",
    "    ModelCheckpoint, \n",
    "    EarlyStopping\n",
    ")\n",
    "from sklearn.metrics import (\n",
    "    roc_curve,\n",
    "    auc,\n",
    "    roc_auc_score,\n",
    "    average_precision_score,\n",
    "    precision_recall_curve,\n",
    ")"
   ]
  },
  {
   "cell_type": "code",
   "execution_count": 7,
   "metadata": {},
   "outputs": [],
   "source": [
    "class Attention(Layer):\n",
    "    def __init__(\n",
    "        self,\n",
    "        hidden,\n",
    "        init=\"glorot_uniform\",\n",
    "        activation=\"linear\",\n",
    "        W_regularizer=None,\n",
    "        b_regularizer=None,\n",
    "        W_constraint=None,\n",
    "        **kwargs\n",
    "    ):\n",
    "        self.init = initializers.get(init)\n",
    "        self.activation = activations.get(activation)\n",
    "        self.W_regularizer = regularizers.get(W_regularizer)\n",
    "        self.b_regularizer = regularizers.get(b_regularizer)\n",
    "        self.W_constraint = constraints.get(W_constraint)\n",
    "        self.hidden = hidden\n",
    "        super(Attention, self).__init__(**kwargs)\n",
    "\n",
    "    def build(self, input_shape):\n",
    "        input_dim = input_shape[-1]\n",
    "        self.input_length = input_shape[1]\n",
    "        self.W0 = self.add_weight(\n",
    "            name=\"{}_W1\".format(self.name),\n",
    "            shape=(input_dim, self.hidden),\n",
    "            initializer=\"glorot_uniform\",\n",
    "            trainable=True,\n",
    "        )  # Keras 2 API\n",
    "        self.W = self.add_weight(\n",
    "            name=\"{}_W\".format(self.name),\n",
    "            shape=(self.hidden, 1),\n",
    "            initializer=\"glorot_uniform\",\n",
    "            trainable=True,\n",
    "        )\n",
    "        self.b0 = K.zeros((self.hidden,), name=\"{}_b0\".format(self.name))\n",
    "        self.b = K.zeros((1,), name=\"{}_b\".format(self.name))\n",
    "        # AttributeError: Can't set the attribute \"trainable_weights\",\n",
    "        # likely because it conflicts with an existing read-only @property of the object.\n",
    "        # Please choose a different name.\n",
    "        # https://issueexplorer.com/issue/wenguanwang/ASNet/8\n",
    "        self._trainable_weights = [self.W0, self.W, self.b, self.b0]\n",
    "\n",
    "        self.regularizers = []\n",
    "        if self.W_regularizer:\n",
    "            self.W_regularizer.set_param(self.W)\n",
    "            self.regularizers.append(self.W_regularizer)\n",
    "\n",
    "        if self.b_regularizer:\n",
    "            self.b_regularizer.set_param(self.b)\n",
    "            self.regularizers.append(self.b_regularizer)\n",
    "\n",
    "        self.constraints = {}\n",
    "        if self.W_constraint:\n",
    "            self.constraints[self.W0] = self.W_constraint\n",
    "            self.constraints[self.W] = self.W_constraint\n",
    "\n",
    "        super(Attention, self).build(input_shape)\n",
    "\n",
    "    def call(self, x, mask=None):\n",
    "        attmap = self.activation(K.dot(x, self.W0) + self.b0)\n",
    "        attmap = K.dot(attmap, self.W) + self.b\n",
    "        attmap = K.reshape(\n",
    "            attmap, (-1, self.input_length)\n",
    "        )  # Softmax needs one dimension\n",
    "        attmap = K.softmax(attmap)\n",
    "        dense_representation = K.batch_dot(attmap, x, axes=(1, 1))\n",
    "        out = K.concatenate(\n",
    "            [dense_representation, attmap]\n",
    "        )  # Output the attention maps but do not pass it to the next layer by DIY flatten layer\n",
    "        return out\n",
    "\n",
    "    def compute_output_shape(self, input_shape):\n",
    "        return (input_shape[0], input_shape[-1] + input_shape[1])\n",
    "\n",
    "    def get_config(self):\n",
    "        config = {\n",
    "            \"init\": \"glorot_uniform\",\n",
    "            \"activation\": self.activation.__name__,\n",
    "            \"W_constraint\": self.W_constraint.get_config()\n",
    "            if self.W_constraint\n",
    "            else None,\n",
    "            \"W_regularizer\": self.W_regularizer.get_config()\n",
    "            if self.W_regularizer\n",
    "            else None,\n",
    "            \"b_regularizer\": self.b_regularizer.get_config()\n",
    "            if self.b_regularizer\n",
    "            else None,\n",
    "            \"hidden\": self.hidden if self.hidden else None,\n",
    "        }\n",
    "        base_config = super(Attention, self).get_config()\n",
    "        return dict(list(base_config.items()) + list(config.items()))\n",
    "\n",
    "\n",
    "class attention_flatten(Layer):  # Based on the source code of Keras flatten\n",
    "    def __init__(self, keep_dim, **kwargs):\n",
    "        self.keep_dim = keep_dim # 64\n",
    "        super(attention_flatten, self).__init__(**kwargs)\n",
    "\n",
    "    def compute_output_shape(self, input_shape):\n",
    "        if not all(input_shape[1:]):\n",
    "            raise Exception(\n",
    "                'The shape of the input to \"Flatten\" '\n",
    "                \"is not fully defined \"\n",
    "                \"(got \" + str(input_shape[2:]) + \". \"\n",
    "                'Make sure to pass a complete \"input_shape\" '\n",
    "                'or \"batch_input_shape\" argument to the first '\n",
    "                \"layer in your model.\"\n",
    "            )\n",
    "        return (input_shape[0], self.keep_dim)  # Remove the attention map\n",
    "\n",
    "    def call(self, x, mask=None):\n",
    "        x = x[:, : self.keep_dim]\n",
    "        #return K.batch_flatten(x)\n",
    "        return x\n",
    "    \n",
    "    def get_config(self):\n",
    "        config = super().get_config().copy()\n",
    "        return config"
   ]
  },
  {
   "cell_type": "code",
   "execution_count": 9,
   "metadata": {},
   "outputs": [],
   "source": [
    "from sklearn.model_selection import train_test_split, StratifiedKFold\n",
    "from sklearn.utils import resample, shuffle\n",
    "from sklearn.feature_selection import (\n",
    "    SelectKBest,\n",
    "    chi2\n",
    ")\n",
    "import keras_tuner as kt\n",
    "from collections import defaultdict"
   ]
  },
  {
   "cell_type": "code",
   "execution_count": 10,
   "metadata": {},
   "outputs": [],
   "source": [
    "#import pickle\n",
    "#with open ('fulldata_pseudoseq_dictionary.pkl', 'rb') as f:\n",
    "#    pseudo_seq = pickle.load(f)"
   ]
  },
  {
   "cell_type": "code",
   "execution_count": 9,
   "metadata": {},
   "outputs": [],
   "source": [
    "import pickle\n",
    "with open ('fulldata_pseudoseq_dictionary_converted.pkl', 'rb') as f:\n",
    "    pseudo_seq = pickle.load(f)"
   ]
  },
  {
   "cell_type": "code",
   "execution_count": 10,
   "metadata": {},
   "outputs": [
    {
     "data": {
      "text/plain": [
       "dict"
      ]
     },
     "execution_count": 10,
     "metadata": {},
     "output_type": "execute_result"
    }
   ],
   "source": [
    "type(pseudo_seq)"
   ]
  },
  {
   "cell_type": "code",
   "execution_count": 11,
   "metadata": {},
   "outputs": [
    {
     "name": "stderr",
     "output_type": "stream",
     "text": [
      "/tmp/ipykernel_81602/3434162491.py:5: VisibleDeprecationWarning: Creating an ndarray from ragged nested sequences (which is a list-or-tuple of lists-or-tuples-or ndarrays with different lengths or shapes) is deprecated. If you meant to do this, you must specify 'dtype=object' when creating the ndarray.\n",
      "  allele_data = np.array(allele_data)\n"
     ]
    }
   ],
   "source": [
    "    training_data = []\n",
    "    for allele in pseudo_seq.keys():\n",
    "        allele_data = pseudo_seq[allele]\n",
    "        random.shuffle(allele_data)\n",
    "        allele_data = np.array(allele_data)\n",
    "        training_data.extend(allele_data)\n",
    "    \n",
    "    [all_pep, all_mhc, all_target] = [[i[j] for i in training_data] for j in range(3)]\n",
    "    all_pep = np.array(all_pep)\n",
    "    all_mhc = np.array(all_mhc)\n",
    "    all_target = np.array(all_target)"
   ]
  },
  {
   "cell_type": "code",
   "execution_count": 13,
   "metadata": {},
   "outputs": [
    {
     "name": "stdout",
     "output_type": "stream",
     "text": [
      "(945434, 30, 20)\n",
      "(945434, 34, 20)\n",
      "(945434,)\n"
     ]
    }
   ],
   "source": [
    "print(all_pep.shape)\n",
    "print(all_mhc.shape)\n",
    "print(all_target.shape)"
   ]
  },
  {
   "cell_type": "code",
   "execution_count": 15,
   "metadata": {},
   "outputs": [],
   "source": [
    "#np.save('/home/jjia1/jjia1/viralepitope/all_pep.npy', all_pep)\n",
    "#np.save('/home/jjia1/jjia1/viralepitope/all_mhc.npy', all_mhc)\n",
    "#np.save('/home/jjia1/jjia1/viralepitope/all_target.npy', all_target)"
   ]
  },
  {
   "cell_type": "code",
   "execution_count": 15,
   "metadata": {},
   "outputs": [],
   "source": [
    "np.save('/home/jjia1/jjia1/viralepitope/all_pep_converted.npy', all_pep)\n",
    "np.save('/home/jjia1/jjia1/viralepitope/all_mhc_converted.npy', all_mhc)\n",
    "np.save('/home/jjia1/jjia1/viralepitope/all_target_converted.npy', all_target)"
   ]
  },
  {
   "cell_type": "code",
   "execution_count": 110,
   "metadata": {},
   "outputs": [],
   "source": [
    "#all_pep, all_mhc, all_target = np.load('/home/jjia1/jjia1/viralepitope/all_pep.npy'), np.load('/home/jjia1/jjia1/viralepitope/all_mhc.npy'), np.load('/home/jjia1/jjia1/viralepitope/all_target.npy')"
   ]
  },
  {
   "cell_type": "code",
   "execution_count": 10,
   "metadata": {},
   "outputs": [],
   "source": [
    "all_pep, all_mhc, all_target = np.load('/home/jjia1/jjia1/viralepitope/all_pep_converted.npy'), np.load('/home/jjia1/jjia1/viralepitope/all_mhc_converted.npy'), np.load('/home/jjia1/jjia1/viralepitope/all_target_converted.npy')"
   ]
  },
  {
   "cell_type": "code",
   "execution_count": 66,
   "metadata": {},
   "outputs": [],
   "source": [
    "#build 2 models\n",
    "#one model for the sequence, one model for the MHC names\n",
    "#integrate the outputs in a final dense layer"
   ]
  },
  {
   "cell_type": "code",
   "execution_count": 11,
   "metadata": {},
   "outputs": [],
   "source": [
    "def create_model(training_pep, training_mhc):\n",
    "        filters, kernel_size, fc1_size, fc2_size, fc3_size = 128, 3, 256, 64, 2\n",
    "        inputs_1 = Input(shape = (np.shape(training_pep[0])[0],20))\n",
    "        inputs_2 = Input(shape = (34,np.shape(training_mhc[0])[0]))\n",
    "        #Initial feature extraction using a convolutional layer\n",
    "        pep_conv = Conv1D(filters,kernel_size,padding = 'same',activation = 'relu',strides = 1)(inputs_1)\n",
    "        pep_maxpool = MaxPooling1D()(pep_conv)\n",
    "        mhc_conv_1 = Conv1D(filters,kernel_size,padding = 'same',activation = 'relu',strides = 1)(inputs_2)\n",
    "        mhc_maxpool_1 = MaxPooling1D()(mhc_conv_1)\n",
    "        #The convolutional module\n",
    "        mhc_conv_2 = Conv1D(filters,kernel_size,padding = 'same',activation = 'relu',strides = 1)(mhc_maxpool_1)\n",
    "        mhc_maxpool_2 = MaxPooling1D()(mhc_conv_2)\n",
    "        flat_pep_0 = Flatten()(pep_conv)\n",
    "        flat_pep_1 = Flatten()(pep_conv)\n",
    "        flat_pep_2 = Flatten()(pep_conv)\n",
    "        flat_mhc_0 = Flatten()(inputs_2)\n",
    "        flat_mhc_1 = Flatten()(mhc_maxpool_1)\n",
    "        flat_mhc_2 = Flatten()(mhc_maxpool_2)\n",
    "        cat_0 = Concatenate()([flat_pep_0, flat_mhc_0])\n",
    "        cat_1 = Concatenate()([flat_pep_1, flat_mhc_1])\n",
    "        cat_2 = Concatenate()([flat_pep_2, flat_mhc_2])        \n",
    "        fc1_0 = Dense(fc1_size,activation = \"relu\")(cat_0)\n",
    "        fc1_1 = Dense(fc1_size,activation = \"relu\")(cat_1)\n",
    "        fc1_2 = Dense(fc1_size,activation = \"relu\")(cat_2)\n",
    "        merge_1 = Concatenate()([fc1_0, fc1_1, fc1_2])\n",
    "        fc2 = Dense(fc2_size,activation = \"relu\")(merge_1)\n",
    "        fc3 = Dense(fc3_size,activation = \"relu\")(fc2)\n",
    "        #The attention module\n",
    "        mhc_attention_weights = Flatten()(TimeDistributed(Dense(1))(mhc_conv_1))\n",
    "        pep_attention_weights = Flatten()(TimeDistributed(Dense(1))(pep_conv))\n",
    "        mhc_attention_weights = Activation('softmax')(mhc_attention_weights)\n",
    "        pep_attention_weights = Activation('softmax')(pep_attention_weights)        \n",
    "        mhc_conv_permute = Permute((2,1))(mhc_conv_1)\n",
    "        pep_conv_permute = Permute((2,1))(pep_conv)\n",
    "        mhc_attention = Dot(-1)([mhc_conv_permute, mhc_attention_weights])\n",
    "        pep_attention = Dot(-1)([pep_conv_permute, pep_attention_weights])\n",
    "        #Concatenating the output of the two modules\n",
    "        merge_2 = Concatenate()([mhc_attention,pep_attention,fc3])\n",
    "        #Output of the model\n",
    "        out = Dense(1,activation = \"sigmoid\")(merge_2)\n",
    "        model = Model(inputs=[inputs_1, inputs_2],outputs=out)  \n",
    "        model.summary()\n",
    "        model.compile(loss='binary_crossentropy', optimizer='adam', metrics=['accuracy', 'AUC'])"
   ]
  },
  {
   "cell_type": "code",
   "execution_count": 12,
   "metadata": {},
   "outputs": [],
   "source": [
    "es = EarlyStopping(monitor = 'val_accuracy', mode = 'max', verbose = 1, patience = 5)"
   ]
  },
  {
   "cell_type": "code",
   "execution_count": 13,
   "metadata": {},
   "outputs": [],
   "source": [
    "train_pep, test_pep, train_mhc, test_mhc, train_target, test_target = train_test_split(all_pep, all_mhc, all_target, test_size = 0.2, stratify= all_target)"
   ]
  },
  {
   "cell_type": "code",
   "execution_count": 14,
   "metadata": {},
   "outputs": [
    {
     "name": "stdout",
     "output_type": "stream",
     "text": [
      "(756347, 30, 20)\n",
      "(189087, 30, 20)\n"
     ]
    }
   ],
   "source": [
    "print(train_pep.shape)\n",
    "print(test_pep.shape)"
   ]
  },
  {
   "cell_type": "code",
   "execution_count": 15,
   "metadata": {},
   "outputs": [],
   "source": [
    "folder = \"\""
   ]
  },
  {
   "cell_type": "code",
   "execution_count": 16,
   "metadata": {},
   "outputs": [],
   "source": [
    "kfold = StratifiedKFold(n_splits=5, shuffle=True, random_state=1337)    \n",
    "allprobas_=np.array([]) \n",
    "all_labels=np.array([])"
   ]
  },
  {
   "cell_type": "code",
   "execution_count": 17,
   "metadata": {},
   "outputs": [
    {
     "name": "stdout",
     "output_type": "stream",
     "text": [
      "WARNING:tensorflow:AutoGraph could not transform <bound method attention_flatten.call of <attention_layer.attention_flatten object at 0x7fd42682b790>> and will run it as-is.\n",
      "Please report this to the TensorFlow team. When filing the bug, set the verbosity to 10 (on Linux, `export AUTOGRAPH_VERBOSITY=10`) and attach the full output.\n",
      "Cause: module 'gast' has no attribute 'Index'\n",
      "To silence this warning, decorate the function with @tf.autograph.experimental.do_not_convert\n",
      "WARNING: AutoGraph could not transform <bound method attention_flatten.call of <attention_layer.attention_flatten object at 0x7fd42682b790>> and will run it as-is.\n",
      "Please report this to the TensorFlow team. When filing the bug, set the verbosity to 10 (on Linux, `export AUTOGRAPH_VERBOSITY=10`) and attach the full output.\n",
      "Cause: module 'gast' has no attribute 'Index'\n",
      "To silence this warning, decorate the function with @tf.autograph.experimental.do_not_convert\n"
     ]
    },
    {
     "name": "stderr",
     "output_type": "stream",
     "text": [
      "2022-08-29 14:43:49.274182: I tensorflow/compiler/jit/xla_cpu_device.cc:41] Not creating XLA devices, tf_xla_enable_xla_devices not set\n",
      "2022-08-29 14:43:49.275563: W tensorflow/stream_executor/platform/default/dso_loader.cc:60] Could not load dynamic library 'libcuda.so.1'; dlerror: libcuda.so.1: cannot open shared object file: No such file or directory\n",
      "2022-08-29 14:43:49.275586: W tensorflow/stream_executor/cuda/cuda_driver.cc:326] failed call to cuInit: UNKNOWN ERROR (303)\n",
      "2022-08-29 14:43:49.275616: I tensorflow/stream_executor/cuda/cuda_diagnostics.cc:156] kernel driver does not appear to be running on this host (sbcphaplp001.uthouston.edu): /proc/driver/nvidia/version does not exist\n",
      "2022-08-29 14:43:49.276000: I tensorflow/core/platform/cpu_feature_guard.cc:142] This TensorFlow binary is optimized with oneAPI Deep Neural Network Library (oneDNN) to use the following CPU instructions in performance-critical operations:  SSE4.1 SSE4.2 AVX AVX2 AVX512F FMA\n",
      "To enable them in other operations, rebuild TensorFlow with the appropriate compiler flags.\n",
      "2022-08-29 14:43:49.276315: I tensorflow/compiler/jit/xla_gpu_device.cc:99] Not creating XLA devices, tf_xla_enable_xla_devices not set\n"
     ]
    },
    {
     "name": "stdout",
     "output_type": "stream",
     "text": [
      "Model: \"model\"\n",
      "__________________________________________________________________________________________________\n",
      "Layer (type)                    Output Shape         Param #     Connected to                     \n",
      "==================================================================================================\n",
      "peptide (InputLayer)            [(None, 30, 20)]     0                                            \n",
      "__________________________________________________________________________________________________\n",
      "mhc (InputLayer)                [(None, 34, 20)]     0                                            \n",
      "__________________________________________________________________________________________________\n",
      "conv1_pep (Conv1D)              (None, 30, 128)      7808        peptide[0][0]                    \n",
      "__________________________________________________________________________________________________\n",
      "conv1_mhc (Conv1D)              (None, 34, 128)      7808        mhc[0][0]                        \n",
      "__________________________________________________________________________________________________\n",
      "max_pooling1d (MaxPooling1D)    (None, 15, 128)      0           conv1_pep[0][0]                  \n",
      "__________________________________________________________________________________________________\n",
      "max_pooling1d_1 (MaxPooling1D)  (None, 17, 128)      0           conv1_mhc[0][0]                  \n",
      "__________________________________________________________________________________________________\n",
      "dropout (Dropout)               (None, 15, 128)      0           max_pooling1d[0][0]              \n",
      "__________________________________________________________________________________________________\n",
      "dropout_2 (Dropout)             (None, 17, 128)      0           max_pooling1d_1[0][0]            \n",
      "__________________________________________________________________________________________________\n",
      "flatten (Flatten)               (None, 1920)         0           dropout[0][0]                    \n",
      "__________________________________________________________________________________________________\n",
      "flatten_1 (Flatten)             (None, 2176)         0           dropout_2[0][0]                  \n",
      "__________________________________________________________________________________________________\n",
      "attention (Attention)           (None, 143)          33281       dropout[0][0]                    \n",
      "__________________________________________________________________________________________________\n",
      "dropout_1 (Dropout)             (None, 1920)         0           flatten[0][0]                    \n",
      "__________________________________________________________________________________________________\n",
      "attention_1 (Attention)         (None, 145)          33281       dropout_2[0][0]                  \n",
      "__________________________________________________________________________________________________\n",
      "dropout_3 (Dropout)             (None, 2176)         0           flatten_1[0][0]                  \n",
      "__________________________________________________________________________________________________\n",
      "attention_flatten (attention_fl (None, 128)          0           attention[0][0]                  \n",
      "__________________________________________________________________________________________________\n",
      "dense (Dense)                   (None, 1)            1921        dropout_1[0][0]                  \n",
      "__________________________________________________________________________________________________\n",
      "attention_flatten_1 (attention_ (None, 128)          0           attention_1[0][0]                \n",
      "__________________________________________________________________________________________________\n",
      "dense_2 (Dense)                 (None, 1)            2177        dropout_3[0][0]                  \n",
      "__________________________________________________________________________________________________\n",
      "concatenate (Concatenate)       (None, 129)          0           attention_flatten[0][0]          \n",
      "                                                                 dense[0][0]                      \n",
      "__________________________________________________________________________________________________\n",
      "concatenate_1 (Concatenate)     (None, 129)          0           attention_flatten_1[0][0]        \n",
      "                                                                 dense_2[0][0]                    \n",
      "__________________________________________________________________________________________________\n",
      "dense_1 (Dense)                 (None, 1)            130         concatenate[0][0]                \n",
      "__________________________________________________________________________________________________\n",
      "dense_3 (Dense)                 (None, 1)            130         concatenate_1[0][0]              \n",
      "__________________________________________________________________________________________________\n",
      "concatenate_2 (Concatenate)     (None, 2)            0           dense_1[0][0]                    \n",
      "                                                                 dense_3[0][0]                    \n",
      "__________________________________________________________________________________________________\n",
      "dense_4 (Dense)                 (None, 1)            3           concatenate_2[0][0]              \n",
      "__________________________________________________________________________________________________\n",
      "activation (Activation)         (None, 1)            0           dense_4[0][0]                    \n",
      "==================================================================================================\n",
      "Total params: 86,539\n",
      "Trainable params: 86,539\n",
      "Non-trainable params: 0\n",
      "__________________________________________________________________________________________________\n",
      "Model: \"model\"\n",
      "__________________________________________________________________________________________________\n",
      "Layer (type)                    Output Shape         Param #     Connected to                     \n",
      "==================================================================================================\n",
      "peptide (InputLayer)            [(None, 30, 20)]     0                                            \n",
      "__________________________________________________________________________________________________\n",
      "mhc (InputLayer)                [(None, 34, 20)]     0                                            \n",
      "__________________________________________________________________________________________________\n",
      "conv1_pep (Conv1D)              (None, 30, 128)      7808        peptide[0][0]                    \n",
      "__________________________________________________________________________________________________\n",
      "conv1_mhc (Conv1D)              (None, 34, 128)      7808        mhc[0][0]                        \n",
      "__________________________________________________________________________________________________\n",
      "max_pooling1d (MaxPooling1D)    (None, 15, 128)      0           conv1_pep[0][0]                  \n",
      "__________________________________________________________________________________________________\n",
      "max_pooling1d_1 (MaxPooling1D)  (None, 17, 128)      0           conv1_mhc[0][0]                  \n",
      "__________________________________________________________________________________________________\n",
      "dropout (Dropout)               (None, 15, 128)      0           max_pooling1d[0][0]              \n",
      "__________________________________________________________________________________________________\n",
      "dropout_2 (Dropout)             (None, 17, 128)      0           max_pooling1d_1[0][0]            \n",
      "__________________________________________________________________________________________________\n",
      "flatten (Flatten)               (None, 1920)         0           dropout[0][0]                    \n",
      "__________________________________________________________________________________________________\n",
      "flatten_1 (Flatten)             (None, 2176)         0           dropout_2[0][0]                  \n",
      "__________________________________________________________________________________________________\n",
      "attention (Attention)           (None, 143)          33281       dropout[0][0]                    \n",
      "__________________________________________________________________________________________________\n",
      "dropout_1 (Dropout)             (None, 1920)         0           flatten[0][0]                    \n",
      "__________________________________________________________________________________________________\n",
      "attention_1 (Attention)         (None, 145)          33281       dropout_2[0][0]                  \n",
      "__________________________________________________________________________________________________\n",
      "dropout_3 (Dropout)             (None, 2176)         0           flatten_1[0][0]                  \n",
      "__________________________________________________________________________________________________\n",
      "attention_flatten (attention_fl (None, 128)          0           attention[0][0]                  \n",
      "__________________________________________________________________________________________________\n",
      "dense (Dense)                   (None, 1)            1921        dropout_1[0][0]                  \n",
      "__________________________________________________________________________________________________\n",
      "attention_flatten_1 (attention_ (None, 128)          0           attention_1[0][0]                \n",
      "__________________________________________________________________________________________________\n",
      "dense_2 (Dense)                 (None, 1)            2177        dropout_3[0][0]                  \n",
      "__________________________________________________________________________________________________\n",
      "concatenate (Concatenate)       (None, 129)          0           attention_flatten[0][0]          \n",
      "                                                                 dense[0][0]                      \n",
      "__________________________________________________________________________________________________\n",
      "concatenate_1 (Concatenate)     (None, 129)          0           attention_flatten_1[0][0]        \n",
      "                                                                 dense_2[0][0]                    \n",
      "__________________________________________________________________________________________________\n",
      "dense_1 (Dense)                 (None, 1)            130         concatenate[0][0]                \n",
      "__________________________________________________________________________________________________\n",
      "dense_3 (Dense)                 (None, 1)            130         concatenate_1[0][0]              \n",
      "__________________________________________________________________________________________________\n",
      "concatenate_2 (Concatenate)     (None, 2)            0           dense_1[0][0]                    \n",
      "                                                                 dense_3[0][0]                    \n",
      "__________________________________________________________________________________________________\n",
      "dense_4 (Dense)                 (None, 1)            3           concatenate_2[0][0]              \n",
      "__________________________________________________________________________________________________\n",
      "activation (Activation)         (None, 1)            0           dense_4[0][0]                    \n",
      "==================================================================================================\n",
      "Total params: 86,539\n",
      "Trainable params: 86,539\n",
      "Non-trainable params: 0\n",
      "__________________________________________________________________________________________________\n"
     ]
    },
    {
     "name": "stderr",
     "output_type": "stream",
     "text": [
      "2022-08-29 14:43:50.844240: W tensorflow/core/framework/cpu_allocator_impl.cc:80] Allocation of 1452184800 exceeds 10% of free system memory.\n",
      "2022-08-29 14:43:54.103778: W tensorflow/core/framework/cpu_allocator_impl.cc:80] Allocation of 1645809440 exceeds 10% of free system memory.\n",
      "2022-08-29 14:43:56.966858: I tensorflow/compiler/mlir/mlir_graph_optimization_pass.cc:116] None of the MLIR optimization passes are enabled (registered 2)\n",
      "2022-08-29 14:43:56.970216: I tensorflow/core/platform/profile_utils/cpu_utils.cc:112] CPU Frequency: 2200000000 Hz\n"
     ]
    },
    {
     "name": "stdout",
     "output_type": "stream",
     "text": [
      "Epoch 1/100\n",
      "1182/1182 [==============================] - 119s 99ms/step - loss: 0.2645 - accuracy: 0.9053 - auc: 0.7753 - val_loss: 0.2105 - val_accuracy: 0.9144 - val_auc: 0.8867\n",
      "Epoch 2/100\n",
      " 258/1182 [=====>........................] - ETA: 1:22 - loss: 0.2180 - accuracy: 0.9145 - auc: 0.8696"
     ]
    }
   ],
   "source": [
    "for i, (train, test) in enumerate(kfold.split(train_pep, train_target)):\n",
    "    training_pep = train_pep[train]\n",
    "    training_mhc = train_mhc[train]\n",
    "    training_target = train_target[train]\n",
    "    \n",
    "    validation_pep = train_pep[test]\n",
    "    validation_mhc = train_mhc[test]\n",
    "    validation_target = train_target[test]\n",
    "\n",
    "    mc = ModelCheckpoint(folder + '/model_%s.h5' % str(i), monitor='val_accuracy', mode='max', verbose=1, save_best_only=True)\n",
    "    model = build_model(training_pep, training_mhc)\n",
    "    model.summary()\n",
    "\n",
    "    model.fit([training_pep,training_mhc], \n",
    "            training_target,\n",
    "            batch_size=512,\n",
    "            epochs = 100,\n",
    "            shuffle=True,\n",
    "            callbacks=[es],\n",
    "            validation_data=([validation_pep,validation_mhc], validation_target),\n",
    "            verbose=1)\n",
    "\n",
    "    saved_model = load_model(folder + '/model_%s.h5' % str(i))\n",
    "    probas_ = saved_model.predict([np.array(validation_pep),np.array(validation_mhc)])\n",
    "    allprobas_ = np.append(allprobas_, probas_)           \n",
    "    allylable = np.append(allylable, validation_target)\n",
    "    del model\n"
   ]
  },
  {
   "cell_type": "code",
   "execution_count": null,
   "metadata": {},
   "outputs": [],
   "source": [
    "font1 = {'family' : 'Times New Roman',\n",
    "        'weight' : 'normal',\n",
    "        'size'   : 16}\n",
    "figsize=6.2, 6.2\n",
    "\n",
    "########ROC_figure\n",
    "figure1, ax1 = plt.subplots(figsize=figsize)\n",
    "ax1.tick_params(labelsize=18)\n",
    "labels = ax1.get_xticklabels() + ax1.get_yticklabels()\n",
    "[label.set_fontname('Times New Roman') for label in labels]  \n",
    "\n",
    "fpr, tpr, thresholds = roc_curve(allylable, allprobas_)\n",
    "roc_auc = auc(fpr, tpr)\n",
    "print(roc_auc)\n",
    "\n",
    "ax1.plot(fpr, tpr, color='b',\n",
    "    label=r'Mean ROC (AUC = %0.4f)' % (roc_auc),\n",
    "    lw=2, alpha=.8)\n",
    "ax1.plot([0, 1], [0, 1], linestyle='--', lw=2, color='r',\n",
    "        label='Luck', alpha=.8)\n",
    "ax1.set_xlim([-0.05, 1.05])\n",
    "ax1.set_ylim([-0.05, 1.05])\n",
    "ax1.set_xlabel('False Positive Rate', font1)\n",
    "ax1.set_ylabel('True Positive Rate', font1)\n",
    "# title1 = 'Cross Validated ROC Curve'\n",
    "# ax1.set_title(title1, font1)\n",
    "ax1.legend(loc=\"lower right\")\n",
    "figure1.savefig(folder + '5_fold_roc.png', dpi=300, bbox_inches = 'tight')\n",
    "\n",
    "########PR_figure\n",
    "figure2, ax2 = plt.subplots(figsize=figsize)\n",
    "ax2.tick_params(labelsize=18)\n",
    "labels = ax2.get_xticklabels() + ax2.get_yticklabels()\n",
    "[label.set_fontname('Times New Roman') for label in labels] \n",
    "\n",
    "precision, recall, _ = precision_recall_curve(allylable, allprobas_)\n",
    "ax2.plot(recall, precision, color='b',\n",
    "        label=r'Precision-Recall (AUC = %0.4f)' % (average_precision_score(allylable, allprobas_)),\n",
    "        lw=2, alpha=.8)\n",
    "\n",
    "ax2.set_xlim([-0.05, 1.05])\n",
    "ax2.set_ylim([-0.05, 1.05])\n",
    "ax2.set_xlabel('Recall', font1)\n",
    "ax2.set_ylabel('Precision', font1)\n",
    "# title2 = 'Cross Validated PR Curve'\n",
    "# ax2.set_title(title2, font1)\n",
    "ax2.legend(loc=\"lower left\")\n",
    "figure2.savefig(folder + '5_fold_pr.png', dpi=300, bbox_inches = 'tight')\n"
   ]
  },
  {
   "cell_type": "code",
   "execution_count": 46,
   "metadata": {},
   "outputs": [
    {
     "name": "stdout",
     "output_type": "stream",
     "text": [
      "0.9068510812113243\n"
     ]
    },
    {
     "data": {
      "text/plain": [
       "<matplotlib.legend.Legend at 0x7f48638d0ca0>"
      ]
     },
     "execution_count": 46,
     "metadata": {},
     "output_type": "execute_result"
    },
    {
     "data": {
      "image/png": "[encoded data removed]",
      "text/plain": [
       "<Figure size 446.4x446.4 with 1 Axes>"
      ]
     },
     "metadata": {
      "needs_background": "light"
     },
     "output_type": "display_data"
    }
   ],
   "source": [
    "font1 = {'family' : 'Times New Roman',\n",
    "        'weight' : 'normal',\n",
    "        'size'   : 16}\n",
    "figsize=6.2, 6.2\n",
    "\n",
    "########ROC_figure\n",
    "figure1, ax1 = plt.subplots(figsize=figsize)\n",
    "ax1.tick_params(labelsize=18)\n",
    "labels = ax1.get_xticklabels() + ax1.get_yticklabels()\n",
    "[label.set_fontname('Times New Roman') for label in labels]  \n",
    "\n",
    "fpr, tpr, thresholds = roc_curve(all_labels, allprobas_)\n",
    "roc_auc = auc(fpr, tpr)\n",
    "print(roc_auc)\n",
    "\n",
    "ax1.plot(fpr, tpr, color='b',\n",
    "    label=r'ROC (AUC = %0.4f)' % (roc_auc),\n",
    "    lw=2, alpha=.8)\n",
    "ax1.plot([0, 1], [0, 1], linestyle='--', lw=2, color='r',\n",
    "        label='Luck', alpha=.8)\n",
    "ax1.set_xlim([-0.05, 1.05])\n",
    "ax1.set_ylim([-0.05, 1.05])\n",
    "ax1.set_xlabel('False Positive Rate', font1)\n",
    "ax1.set_ylabel('True Positive Rate', font1)\n",
    "# title1 = 'Cross Validated ROC Curve'\n",
    "# ax1.set_title(title1, font1)\n",
    "ax1.legend(loc=\"lower right\")"
   ]
  },
  {
   "cell_type": "code",
   "execution_count": 47,
   "metadata": {},
   "outputs": [
    {
     "data": {
      "text/plain": [
       "<matplotlib.legend.Legend at 0x7f486380e820>"
      ]
     },
     "execution_count": 47,
     "metadata": {},
     "output_type": "execute_result"
    },
    {
     "data": {
      "image/png": "[encoded data removed]",
      "text/plain": [
       "<Figure size 446.4x446.4 with 1 Axes>"
      ]
     },
     "metadata": {
      "needs_background": "light"
     },
     "output_type": "display_data"
    }
   ],
   "source": [
    "########PR_figure\n",
    "figure2, ax2 = plt.subplots(figsize=figsize)\n",
    "ax2.tick_params(labelsize=18)\n",
    "labels = ax2.get_xticklabels() + ax2.get_yticklabels()\n",
    "[label.set_fontname('Times New Roman') for label in labels] \n",
    "\n",
    "precision, recall, _ = precision_recall_curve(all_labels, allprobas_)\n",
    "ax2.plot(recall, precision, color='b',\n",
    "        label=r'Precision-Recall (AUC = %0.4f)' % (average_precision_score(all_labels, allprobas_)),\n",
    "        lw=2, alpha=.8)\n",
    "\n",
    "ax2.set_xlim([-0.05, 1.05])\n",
    "ax2.set_ylim([-0.05, 1.05])\n",
    "ax2.set_xlabel('Recall', font1)\n",
    "ax2.set_ylabel('Precision', font1)\n",
    "# title2 = 'Cross Validated PR Curve'\n",
    "# ax2.set_title(title2, font1)\n",
    "ax2.legend(loc=\"lower left\")"
   ]
  },
  {
   "cell_type": "code",
   "execution_count": 55,
   "metadata": {},
   "outputs": [
    {
     "name": "stdout",
     "output_type": "stream",
     "text": [
      "dict_keys(['loss', 'accuracy', 'auc', 'val_loss', 'val_accuracy', 'val_auc'])\n"
     ]
    }
   ],
   "source": [
    "print(saved_model.history.keys())"
   ]
  },
  {
   "cell_type": "code",
   "execution_count": 58,
   "metadata": {},
   "outputs": [
    {
     "data": {
      "text/plain": [
       "<matplotlib.legend.Legend at 0x7f4863273970>"
      ]
     },
     "execution_count": 58,
     "metadata": {},
     "output_type": "execute_result"
    },
    {
     "data": {
      "image/png": "[encoded data removed]",
      "text/plain": [
       "<Figure size 432x288 with 1 Axes>"
      ]
     },
     "metadata": {
      "needs_background": "light"
     },
     "output_type": "display_data"
    }
   ],
   "source": [
    "plt.plot(saved_model.history[\"loss\"])\n",
    "plt.plot(saved_model.history[\"val_loss\"])\n",
    "plt.legend(['train', 'test'], loc='best')"
   ]
  },
  {
   "cell_type": "code",
   "execution_count": 59,
   "metadata": {},
   "outputs": [
    {
     "data": {
      "text/plain": [
       "<matplotlib.legend.Legend at 0x7f48631de910>"
      ]
     },
     "execution_count": 59,
     "metadata": {},
     "output_type": "execute_result"
    },
    {
     "data": {
      "image/png": "[encoded data removed]",
      "text/plain": [
       "<Figure size 432x288 with 1 Axes>"
      ]
     },
     "metadata": {
      "needs_background": "light"
     },
     "output_type": "display_data"
    }
   ],
   "source": [
    "plt.plot(saved_model.history[\"accuracy\"])\n",
    "plt.plot(saved_model.history[\"val_accuracy\"])\n",
    "plt.legend(['train', 'test'], loc='best')"
   ]
  },
  {
   "cell_type": "code",
   "execution_count": null,
   "metadata": {},
   "outputs": [],
   "source": []
  }
 ],
 "metadata": {
  "kernelspec": {
   "display_name": "Python 3.8.13 ('viralepitope': conda)",
   "language": "python",
   "name": "python3"
  },
  "language_info": {
   "codemirror_mode": {
    "name": "ipython",
    "version": 3
   },
   "file_extension": ".py",
   "mimetype": "text/x-python",
   "name": "python",
   "nbconvert_exporter": "python",
   "pygments_lexer": "ipython3",
   "version": "3.8.13"
  },
  "orig_nbformat": 4,
  "vscode": {
   "interpreter": {
    "hash": "89a569e57c3a868c837518f690d34e8ba538dcefa2ece26ecfaf82d5cd67ebe4"
   }
  }
 },
 "nbformat": 4,
 "nbformat_minor": 2
}
