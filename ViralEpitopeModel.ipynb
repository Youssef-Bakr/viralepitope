{
 "cells": [
  {
   "cell_type": "code",
   "execution_count": 1,
   "metadata": {},
   "outputs": [
    {
     "data": {
      "text/plain": [
       "'\\nCreated on August 4th 2022\\n\\n@author: JJ\\n'"
      ]
     },
     "execution_count": 1,
     "metadata": {},
     "output_type": "execute_result"
    }
   ],
   "source": [
    "\"\"\"\n",
    "Created on August 4th 2022\n",
    "\n",
    "@author: JJ\n",
    "\"\"\""
   ]
  },
  {
   "cell_type": "code",
   "execution_count": 2,
   "metadata": {},
   "outputs": [
    {
     "name": "stderr",
     "output_type": "stream",
     "text": [
      "2022-08-23 17:28:19.411152: I tensorflow/stream_executor/platform/default/dso_loader.cc:49] Successfully opened dynamic library libcudart.so.10.1\n"
     ]
    }
   ],
   "source": [
    "import os, re, sys\n",
    "import numpy as np\n",
    "import pandas as pd\n",
    "from math import log\n",
    "import random\n",
    "import scipy.io\n",
    "import tensorflow as tf\n",
    "import csv"
   ]
  },
  {
   "cell_type": "code",
   "execution_count": 3,
   "metadata": {},
   "outputs": [],
   "source": [
    "num_threads = 4\n",
    "# Maximum number of threads to use for OpenMP parallel regions.\n",
    "os.environ[\"OMP_NUM_THREADS\"] = \"4\"\n",
    "# Without setting below 2 environment variables, it didn't work for me. Thanks to @cjw85 \n",
    "os.environ[\"TF_NUM_INTRAOP_THREADS\"] = \"4\"\n",
    "os.environ[\"TF_NUM_INTEROP_THREADS\"] = \"4\"\n",
    "\n",
    "tf.config.threading.set_inter_op_parallelism_threads(\n",
    "    num_threads\n",
    ")\n",
    "tf.config.threading.set_intra_op_parallelism_threads(\n",
    "    num_threads\n",
    ")\n",
    "tf.config.set_soft_device_placement(True)"
   ]
  },
  {
   "cell_type": "code",
   "execution_count": 4,
   "metadata": {},
   "outputs": [],
   "source": [
    "# in a well-defined initial state.\n",
    "random.seed\n",
    "np.random.seed(1337)\n",
    "tf.random.set_seed(1337)"
   ]
  },
  {
   "cell_type": "code",
   "execution_count": 5,
   "metadata": {},
   "outputs": [],
   "source": [
    "import matplotlib\n",
    "import matplotlib.pyplot as plt"
   ]
  },
  {
   "cell_type": "code",
   "execution_count": 6,
   "metadata": {},
   "outputs": [],
   "source": [
    "from tensorflow.keras.optimizers import *\n",
    "from tensorflow.keras.models import *\n",
    "from tensorflow.keras.layers import *\n",
    "from tensorflow.keras.constraints import MaxNorm\n",
    "from tensorflow.keras.callbacks import (\n",
    "    ModelCheckpoint, \n",
    "    EarlyStopping\n",
    ")\n",
    "from sklearn.metrics import (\n",
    "    roc_curve,\n",
    "    auc,\n",
    "    roc_auc_score,\n",
    "    average_precision_score,\n",
    "    precision_recall_curve,\n",
    ")\n",
    "from tensorflow.keras.regularizers import (\n",
    "    l2, \n",
    "    l1, \n",
    "    l1_l2\n",
    ")\n",
    "from tensorflow.keras.models import Model\n",
    "from tensorflow.keras import backend as K\n",
    "from tensorflow.keras import (\n",
    "    activations, \n",
    "    initializers, \n",
    "    regularizers, \n",
    "    constraints\n",
    ")"
   ]
  },
  {
   "cell_type": "code",
   "execution_count": 7,
   "metadata": {},
   "outputs": [],
   "source": [
    "class Attention(Layer):\n",
    "    def __init__(\n",
    "        self,\n",
    "        hidden,\n",
    "        init=\"glorot_uniform\",\n",
    "        activation=\"linear\",\n",
    "        W_regularizer=None,\n",
    "        b_regularizer=None,\n",
    "        W_constraint=None,\n",
    "        **kwargs\n",
    "    ):\n",
    "        self.init = initializers.get(init)\n",
    "        self.activation = activations.get(activation)\n",
    "        self.W_regularizer = regularizers.get(W_regularizer)\n",
    "        self.b_regularizer = regularizers.get(b_regularizer)\n",
    "        self.W_constraint = constraints.get(W_constraint)\n",
    "        self.hidden = hidden\n",
    "        super(Attention, self).__init__(**kwargs)\n",
    "\n",
    "    def build(self, input_shape):\n",
    "        input_dim = input_shape[-1]\n",
    "        self.input_length = input_shape[1]\n",
    "        self.W0 = self.add_weight(\n",
    "            name=\"{}_W1\".format(self.name),\n",
    "            shape=(input_dim, self.hidden),\n",
    "            initializer=\"glorot_uniform\",\n",
    "            trainable=True,\n",
    "        )  # Keras 2 API\n",
    "        self.W = self.add_weight(\n",
    "            name=\"{}_W\".format(self.name),\n",
    "            shape=(self.hidden, 1),\n",
    "            initializer=\"glorot_uniform\",\n",
    "            trainable=True,\n",
    "        )\n",
    "        self.b0 = K.zeros((self.hidden,), name=\"{}_b0\".format(self.name))\n",
    "        self.b = K.zeros((1,), name=\"{}_b\".format(self.name))\n",
    "        # AttributeError: Can't set the attribute \"trainable_weights\",\n",
    "        # likely because it conflicts with an existing read-only @property of the object.\n",
    "        # Please choose a different name.\n",
    "        # https://issueexplorer.com/issue/wenguanwang/ASNet/8\n",
    "        self._trainable_weights = [self.W0, self.W, self.b, self.b0]\n",
    "\n",
    "        self.regularizers = []\n",
    "        if self.W_regularizer:\n",
    "            self.W_regularizer.set_param(self.W)\n",
    "            self.regularizers.append(self.W_regularizer)\n",
    "\n",
    "        if self.b_regularizer:\n",
    "            self.b_regularizer.set_param(self.b)\n",
    "            self.regularizers.append(self.b_regularizer)\n",
    "\n",
    "        self.constraints = {}\n",
    "        if self.W_constraint:\n",
    "            self.constraints[self.W0] = self.W_constraint\n",
    "            self.constraints[self.W] = self.W_constraint\n",
    "\n",
    "        super(Attention, self).build(input_shape)\n",
    "\n",
    "    def call(self, x, mask=None):\n",
    "        attmap = self.activation(K.dot(x, self.W0) + self.b0)\n",
    "        attmap = K.dot(attmap, self.W) + self.b\n",
    "        attmap = K.reshape(\n",
    "            attmap, (-1, self.input_length)\n",
    "        )  # Softmax needs one dimension\n",
    "        attmap = K.softmax(attmap)\n",
    "        dense_representation = K.batch_dot(attmap, x, axes=(1, 1))\n",
    "        out = K.concatenate(\n",
    "            [dense_representation, attmap]\n",
    "        )  # Output the attention maps but do not pass it to the next layer by DIY flatten layer\n",
    "        return out\n",
    "\n",
    "    def compute_output_shape(self, input_shape):\n",
    "        return (input_shape[0], input_shape[-1] + input_shape[1])\n",
    "\n",
    "    def get_config(self):\n",
    "        config = {\n",
    "            \"init\": \"glorot_uniform\",\n",
    "            \"activation\": self.activation.__name__,\n",
    "            \"W_constraint\": self.W_constraint.get_config()\n",
    "            if self.W_constraint\n",
    "            else None,\n",
    "            \"W_regularizer\": self.W_regularizer.get_config()\n",
    "            if self.W_regularizer\n",
    "            else None,\n",
    "            \"b_regularizer\": self.b_regularizer.get_config()\n",
    "            if self.b_regularizer\n",
    "            else None,\n",
    "            \"hidden\": self.hidden if self.hidden else None,\n",
    "        }\n",
    "        base_config = super(Attention, self).get_config()\n",
    "        return dict(list(base_config.items()) + list(config.items()))\n",
    "\n",
    "\n",
    "class attention_flatten(Layer):  # Based on the source code of Keras flatten\n",
    "    def __init__(self, keep_dim, **kwargs):\n",
    "        self.keep_dim = keep_dim # 64\n",
    "        super(attention_flatten, self).__init__(**kwargs)\n",
    "\n",
    "    def compute_output_shape(self, input_shape):\n",
    "        if not all(input_shape[1:]):\n",
    "            raise Exception(\n",
    "                'The shape of the input to \"Flatten\" '\n",
    "                \"is not fully defined \"\n",
    "                \"(got \" + str(input_shape[2:]) + \". \"\n",
    "                'Make sure to pass a complete \"input_shape\" '\n",
    "                'or \"batch_input_shape\" argument to the first '\n",
    "                \"layer in your model.\"\n",
    "            )\n",
    "        return (input_shape[0], self.keep_dim)  # Remove the attention map\n",
    "\n",
    "    def call(self, x, mask=None):\n",
    "        x = x[:, : self.keep_dim]\n",
    "        #return K.batch_flatten(x)\n",
    "        return x\n",
    "    \n",
    "    def get_config(self):\n",
    "        config = super().get_config().copy()\n",
    "        return config"
   ]
  },
  {
   "cell_type": "code",
   "execution_count": 8,
   "metadata": {},
   "outputs": [],
   "source": [
    "from sklearn.model_selection import train_test_split, StratifiedKFold\n",
    "from sklearn.utils import resample, shuffle\n",
    "from sklearn.feature_selection import (\n",
    "    SelectKBest,\n",
    "    chi2\n",
    ")\n",
    "import keras_tuner as kt\n",
    "from collections import defaultdict"
   ]
  },
  {
   "cell_type": "code",
   "execution_count": 10,
   "metadata": {},
   "outputs": [],
   "source": [
    "#import pickle\n",
    "#with open ('fulldata_pseudoseq_dictionary.pkl', 'rb') as f:\n",
    "#    pseudo_seq = pickle.load(f)"
   ]
  },
  {
   "cell_type": "code",
   "execution_count": 9,
   "metadata": {},
   "outputs": [],
   "source": [
    "import pickle\n",
    "with open ('fulldata_pseudoseq_dictionary_converted.pkl', 'rb') as f:\n",
    "    pseudo_seq = pickle.load(f)"
   ]
  },
  {
   "cell_type": "code",
   "execution_count": 10,
   "metadata": {},
   "outputs": [
    {
     "data": {
      "text/plain": [
       "dict"
      ]
     },
     "execution_count": 10,
     "metadata": {},
     "output_type": "execute_result"
    }
   ],
   "source": [
    "type(pseudo_seq)"
   ]
  },
  {
   "cell_type": "code",
   "execution_count": 11,
   "metadata": {},
   "outputs": [
    {
     "name": "stderr",
     "output_type": "stream",
     "text": [
      "/tmp/ipykernel_81602/3434162491.py:5: VisibleDeprecationWarning: Creating an ndarray from ragged nested sequences (which is a list-or-tuple of lists-or-tuples-or ndarrays with different lengths or shapes) is deprecated. If you meant to do this, you must specify 'dtype=object' when creating the ndarray.\n",
      "  allele_data = np.array(allele_data)\n"
     ]
    }
   ],
   "source": [
    "    training_data = []\n",
    "    for allele in pseudo_seq.keys():\n",
    "        allele_data = pseudo_seq[allele]\n",
    "        random.shuffle(allele_data)\n",
    "        allele_data = np.array(allele_data)\n",
    "        training_data.extend(allele_data)\n",
    "    \n",
    "    [all_pep, all_mhc, all_target] = [[i[j] for i in training_data] for j in range(3)]\n",
    "    all_pep = np.array(all_pep)\n",
    "    all_mhc = np.array(all_mhc)\n",
    "    all_target = np.array(all_target)"
   ]
  },
  {
   "cell_type": "code",
   "execution_count": 12,
   "metadata": {},
   "outputs": [],
   "source": [
    "#read these scripts\n",
    "#https://github.com/HYsxe/ACME/tree/master/ACME_codes\n",
    "#https://github.com/HYsxe/ACME/blob/master/ACME_codes/read_binding_data.py\n",
    "#https://github.com/HYsxe/ACME/blob/master/ACME_codes/pseudo_seq.py\n",
    "#https://github.com/HYsxe/ACME/blob/master/ACME_codes/allele_list.py\n",
    "#https://github.com/HYsxe/ACME/blob/master/ACME_codes/allele_seq.py\n",
    "#https://github.com/HYsxe/ACME/blob/master/ACME_codes/model_training.py\n"
   ]
  },
  {
   "cell_type": "code",
   "execution_count": 13,
   "metadata": {},
   "outputs": [
    {
     "name": "stdout",
     "output_type": "stream",
     "text": [
      "(945434, 30, 20)\n",
      "(945434, 34, 20)\n",
      "(945434,)\n"
     ]
    }
   ],
   "source": [
    "print(all_pep.shape)\n",
    "print(all_mhc.shape)\n",
    "print(all_target.shape)"
   ]
  },
  {
   "cell_type": "code",
   "execution_count": 21,
   "metadata": {},
   "outputs": [
    {
     "name": "stdout",
     "output_type": "stream",
     "text": [
      "YSAMYEEKVAHTDENIAYLMFHYYTWAVQAYTGY\n"
     ]
    }
   ],
   "source": [
    "print(all_mhc[0])"
   ]
  },
  {
   "cell_type": "code",
   "execution_count": 14,
   "metadata": {},
   "outputs": [
    {
     "name": "stdout",
     "output_type": "stream",
     "text": [
      "[[-0.2 -0.1 -0.2 -0.3 -0.3 -0.1 -0.2 -0.3  0.2 -0.1 -0.1 -0.2  0.   0.4\n",
      "  -0.3 -0.2 -0.2  0.2  0.8 -0.1]\n",
      " [ 0.1 -0.1  0.1  0.  -0.1  0.  -0.1  0.  -0.1 -0.3 -0.3  0.  -0.2 -0.3\n",
      "  -0.1  0.5  0.2 -0.4 -0.2 -0.2]\n",
      " [ 0.5 -0.2 -0.1 -0.2 -0.1 -0.1 -0.1  0.  -0.2 -0.1 -0.2 -0.1 -0.1 -0.3\n",
      "  -0.1  0.1  0.  -0.3 -0.2  0. ]\n",
      " [-0.1 -0.2 -0.2 -0.4 -0.2  0.  -0.2 -0.3 -0.1  0.2  0.3 -0.2  0.7  0.\n",
      "  -0.3 -0.2 -0.1 -0.1  0.   0.1]\n",
      " [-0.2 -0.1 -0.2 -0.3 -0.3 -0.1 -0.2 -0.3  0.2 -0.1 -0.1 -0.2  0.   0.4\n",
      "  -0.3 -0.2 -0.2  0.2  0.8 -0.1]\n",
      " [-0.1  0.   0.   0.2 -0.3  0.2  0.6 -0.3  0.  -0.4 -0.3  0.1 -0.2 -0.3\n",
      "  -0.1 -0.1 -0.1 -0.3 -0.2 -0.3]\n",
      " [-0.1  0.   0.   0.2 -0.3  0.2  0.6 -0.3  0.  -0.4 -0.3  0.1 -0.2 -0.3\n",
      "  -0.1 -0.1 -0.1 -0.3 -0.2 -0.3]\n",
      " [-0.1  0.3  0.  -0.1 -0.3  0.2  0.1 -0.2  0.  -0.3 -0.3  0.6 -0.2 -0.4\n",
      "  -0.1  0.  -0.1 -0.3 -0.2 -0.3]\n",
      " [ 0.  -0.3 -0.3 -0.4 -0.1 -0.3 -0.3 -0.4 -0.4  0.4  0.1 -0.3  0.1 -0.1\n",
      "  -0.3 -0.2  0.  -0.3 -0.1  0.5]\n",
      " [ 0.5 -0.2 -0.1 -0.2 -0.1 -0.1 -0.1  0.  -0.2 -0.1 -0.2 -0.1 -0.1 -0.3\n",
      "  -0.1  0.1  0.  -0.3 -0.2  0. ]\n",
      " [-0.2  0.   0.1 -0.1 -0.3  0.1  0.  -0.2  1.  -0.4 -0.3  0.  -0.1 -0.1\n",
      "  -0.2 -0.1 -0.2 -0.3  0.2 -0.4]\n",
      " [ 0.  -0.1  0.  -0.1 -0.1 -0.1 -0.1 -0.2 -0.2 -0.1 -0.1 -0.1 -0.1 -0.2\n",
      "  -0.1  0.2  0.5 -0.3 -0.2  0. ]\n",
      " [-0.2 -0.2  0.2  0.8 -0.4  0.   0.2 -0.1 -0.1 -0.4 -0.4 -0.1 -0.4 -0.5\n",
      "  -0.1  0.  -0.1 -0.5 -0.3 -0.4]\n",
      " [-0.1  0.   0.   0.2 -0.3  0.2  0.6 -0.3  0.  -0.4 -0.3  0.1 -0.2 -0.3\n",
      "  -0.1 -0.1 -0.1 -0.3 -0.2 -0.3]\n",
      " [-0.1 -0.1  0.7  0.2 -0.2  0.   0.   0.   0.1 -0.3 -0.4  0.  -0.2 -0.4\n",
      "  -0.2  0.1  0.  -0.4 -0.2 -0.3]\n",
      " [-0.1 -0.4 -0.3 -0.4 -0.2 -0.3 -0.4 -0.4 -0.4  0.5  0.2 -0.3  0.2  0.\n",
      "  -0.3 -0.3 -0.1 -0.3 -0.1  0.4]\n",
      " [ 0.5 -0.2 -0.1 -0.2 -0.1 -0.1 -0.1  0.  -0.2 -0.1 -0.2 -0.1 -0.1 -0.3\n",
      "  -0.1  0.1  0.  -0.3 -0.2  0. ]\n",
      " [-0.2 -0.1 -0.2 -0.3 -0.3 -0.1 -0.2 -0.3  0.2 -0.1 -0.1 -0.2  0.   0.4\n",
      "  -0.3 -0.2 -0.2  0.2  0.8 -0.1]\n",
      " [-0.2 -0.3 -0.4 -0.4 -0.2 -0.2 -0.3 -0.4 -0.3  0.2  0.5 -0.3  0.3  0.1\n",
      "  -0.4 -0.3 -0.1 -0.2 -0.1  0.1]\n",
      " [-0.1 -0.2 -0.2 -0.4 -0.2  0.  -0.2 -0.3 -0.1  0.2  0.3 -0.2  0.7  0.\n",
      "  -0.3 -0.2 -0.1 -0.1  0.   0.1]\n",
      " [-0.3 -0.3 -0.4 -0.5 -0.2 -0.4 -0.3 -0.4 -0.1  0.   0.1 -0.4  0.   0.8\n",
      "  -0.4 -0.3 -0.2  0.1  0.4 -0.1]\n",
      " [-0.2  0.   0.1 -0.1 -0.3  0.1  0.  -0.2  1.  -0.4 -0.3  0.  -0.1 -0.1\n",
      "  -0.2 -0.1 -0.2 -0.3  0.2 -0.4]\n",
      " [-0.2 -0.1 -0.2 -0.3 -0.3 -0.1 -0.2 -0.3  0.2 -0.1 -0.1 -0.2  0.   0.4\n",
      "  -0.3 -0.2 -0.2  0.2  0.8 -0.1]\n",
      " [-0.2 -0.1 -0.2 -0.3 -0.3 -0.1 -0.2 -0.3  0.2 -0.1 -0.1 -0.2  0.   0.4\n",
      "  -0.3 -0.2 -0.2  0.2  0.8 -0.1]\n",
      " [ 0.  -0.1  0.  -0.1 -0.1 -0.1 -0.1 -0.2 -0.2 -0.1 -0.1 -0.1 -0.1 -0.2\n",
      "  -0.1  0.2  0.5 -0.3 -0.2  0. ]\n",
      " [-0.3 -0.3 -0.4 -0.5 -0.5 -0.1 -0.3 -0.3 -0.3 -0.3 -0.2 -0.3 -0.1  0.1\n",
      "  -0.4 -0.4 -0.3  1.5  0.2 -0.3]\n",
      " [ 0.5 -0.2 -0.1 -0.2 -0.1 -0.1 -0.1  0.  -0.2 -0.1 -0.2 -0.1 -0.1 -0.3\n",
      "  -0.1  0.1  0.  -0.3 -0.2  0. ]\n",
      " [ 0.  -0.3 -0.3 -0.4 -0.1 -0.3 -0.3 -0.4 -0.4  0.4  0.1 -0.3  0.1 -0.1\n",
      "  -0.3 -0.2  0.  -0.3 -0.1  0.5]\n",
      " [-0.1  0.1  0.   0.  -0.3  0.7  0.2 -0.2  0.1 -0.3 -0.2  0.2  0.  -0.4\n",
      "  -0.1  0.  -0.1 -0.1 -0.1 -0.3]\n",
      " [ 0.5 -0.2 -0.1 -0.2 -0.1 -0.1 -0.1  0.  -0.2 -0.1 -0.2 -0.1 -0.1 -0.3\n",
      "  -0.1  0.1  0.  -0.3 -0.2  0. ]\n",
      " [-0.2 -0.1 -0.2 -0.3 -0.3 -0.1 -0.2 -0.3  0.2 -0.1 -0.1 -0.2  0.   0.4\n",
      "  -0.3 -0.2 -0.2  0.2  0.8 -0.1]\n",
      " [ 0.  -0.1  0.  -0.1 -0.1 -0.1 -0.1 -0.2 -0.2 -0.1 -0.1 -0.1 -0.1 -0.2\n",
      "  -0.1  0.2  0.5 -0.3 -0.2  0. ]\n",
      " [ 0.  -0.3  0.  -0.1 -0.3 -0.2 -0.3  0.8 -0.2 -0.4 -0.4 -0.2 -0.3 -0.4\n",
      "  -0.2  0.  -0.2 -0.3 -0.3 -0.4]\n",
      " [-0.2 -0.1 -0.2 -0.3 -0.3 -0.1 -0.2 -0.3  0.2 -0.1 -0.1 -0.2  0.   0.4\n",
      "  -0.3 -0.2 -0.2  0.2  0.8 -0.1]]\n"
     ]
    }
   ],
   "source": [
    "print(all_mhc[0])"
   ]
  },
  {
   "cell_type": "code",
   "execution_count": 15,
   "metadata": {},
   "outputs": [],
   "source": [
    "#np.save('/home/jjia1/jjia1/viralepitope/all_pep.npy', all_pep)\n",
    "#np.save('/home/jjia1/jjia1/viralepitope/all_mhc.npy', all_mhc)\n",
    "#np.save('/home/jjia1/jjia1/viralepitope/all_target.npy', all_target)"
   ]
  },
  {
   "cell_type": "code",
   "execution_count": 15,
   "metadata": {},
   "outputs": [],
   "source": [
    "np.save('/home/jjia1/jjia1/viralepitope/all_pep_converted.npy', all_pep)\n",
    "np.save('/home/jjia1/jjia1/viralepitope/all_mhc_converted.npy', all_mhc)\n",
    "np.save('/home/jjia1/jjia1/viralepitope/all_target_converted.npy', all_target)"
   ]
  },
  {
   "cell_type": "code",
   "execution_count": 110,
   "metadata": {},
   "outputs": [],
   "source": [
    "#all_pep, all_mhc, all_target = np.load('/home/jjia1/jjia1/viralepitope/all_pep.npy'), np.load('/home/jjia1/jjia1/viralepitope/all_mhc.npy'), np.load('/home/jjia1/jjia1/viralepitope/all_target.npy')"
   ]
  },
  {
   "cell_type": "code",
   "execution_count": null,
   "metadata": {},
   "outputs": [],
   "source": [
    "#all_pep, all_mhc, all_target = np.load('/home/jjia1/jjia1/viralepitope/all_pep_converted.npy'), np.load('/home/jjia1/jjia1/viralepitope/all_mhc_converted.npy'), np.load('/home/jjia1/jjia1/viralepitope/all_target_converted.npy')"
   ]
  },
  {
   "cell_type": "code",
   "execution_count": 16,
   "metadata": {},
   "outputs": [],
   "source": [
    "kfold = StratifiedKFold(n_splits=5, shuffle=True, random_state=1337)    \n",
    "allprobas_=np.array([]) \n",
    "all_labels=np.array([])"
   ]
  },
  {
   "cell_type": "code",
   "execution_count": 66,
   "metadata": {},
   "outputs": [],
   "source": [
    "#build 2 models\n",
    "#one model for the sequence, one model for the MHC names\n",
    "#integrate the outputs in a final dense layer"
   ]
  },
  {
   "cell_type": "code",
   "execution_count": 27,
   "metadata": {},
   "outputs": [],
   "source": [
    "def build_model(training_pep, training_mhc):\n",
    "    filters, kernel = 128, 3\n",
    "    input_pep = Input(shape=(np.shape(training_pep[0])), name = 'peptide')\n",
    "\n",
    "    conv_pep = Conv1D(filters = filters, kernel_size = kernel, activation = 'relu', \n",
    "                        padding = 'same',name = 'conv1_pep')\n",
    "\n",
    "    conv_pool_out_pep = MaxPooling1D()\n",
    "    conv_pool_dropout1_pep = Dropout(0.6)\n",
    "    conv_pool_dropout2_pep = Dropout(0.5)\n",
    "\n",
    "    decoder_pep = Attention(hidden=256, activation = 'linear')\n",
    "    dense1_pep = Dense(1)\n",
    "    \n",
    "    output1_pep = conv_pep(input_pep)\n",
    "    output2_pep = conv_pool_out_pep(output1_pep)\n",
    "    output3_pep = conv_pool_dropout1_pep(output2_pep)\n",
    "\n",
    "    att_decoder_pep = decoder_pep(output3_pep)\n",
    "    output4_pep = attention_flatten(output3_pep.shape[2])(att_decoder_pep)\n",
    "    \n",
    "    output5_pep = dense1_pep(conv_pool_dropout2_pep(Flatten()(output3_pep)))\n",
    "    output_all_pep = concatenate([output4_pep, output5_pep])\n",
    "    output6_pep = Dense(1)(output_all_pep)\n",
    "\n",
    "    #output_final_pep = Activation('sigmoid')(output6_pep)\n",
    "\n",
    "    input_mhc = Input(shape=(np.shape(training_mhc[0])), name = 'mhc')\n",
    "\n",
    "    conv_mhc = Conv1D(filters = filters, kernel_size = kernel, activation = 'relu', \n",
    "                        padding = 'same',kernel_constraint = MaxNorm(3), \n",
    "                        name = 'conv1_mhc')\n",
    "\n",
    "    conv_pool_out_mhc = MaxPooling1D()\n",
    "    conv_pool_dropout1_mhc = Dropout(0.6)\n",
    "    conv_pool_dropout2_mhc = Dropout(0.5)\n",
    "\n",
    "    decoder_mhc = Attention(hidden=256, activation = 'linear')\n",
    "    dense1_mhc = Dense(1)\n",
    "    \n",
    "    output1_mhc = conv_mhc(input_mhc)\n",
    "    output2_mhc = conv_pool_out_mhc(output1_mhc)\n",
    "    output3_mhc = conv_pool_dropout1_mhc(output2_mhc)\n",
    "\n",
    "    att_decoder_mhc = decoder_mhc(output3_mhc)\n",
    "    output4_mhc = attention_flatten(output3_mhc.shape[2])(att_decoder_mhc)\n",
    "    \n",
    "    output5_mhc = dense1_mhc(conv_pool_dropout2_mhc(Flatten()(output3_mhc)))\n",
    "    output_all_mhc = concatenate([output4_mhc, output5_mhc])\n",
    "    output6_mhc = Dense(1)(output_all_mhc)\n",
    "\n",
    "    #output_final_mhc = Activation('sigmoid')(output6_mhc)\n",
    "\n",
    "    combinedOutput = concatenate([output6_pep, output6_mhc])\n",
    "    combinedDenseOutput = Dense(1)(combinedOutput)\n",
    "    finalCombinedOutput = Activation('sigmoid')(combinedDenseOutput)\n",
    "\n",
    "    model = Model(inputs = ([input_pep, input_mhc]), outputs = finalCombinedOutput)\n",
    "    opt = Adam(learning_rate = 1e-3)\n",
    "    model.compile(loss = 'binary_crossentropy', optimizer = opt, metrics = ['accuracy', 'AUC'])\n",
    "    model.summary()\n",
    "    return model"
   ]
  },
  {
   "cell_type": "code",
   "execution_count": 94,
   "metadata": {},
   "outputs": [],
   "source": [
    "def create_model(training_pep, training_mhc):\n",
    "        filters, kernel_size, fc1_size, fc2_size, fc3_size = 128, 3, 256, 64, 2\n",
    "        inputs_1 = Input(shape = (np.shape(training_pep[0])[0],20))\n",
    "        inputs_2 = Input(shape = (34,np.shape(training_mhc[0])[0]))\n",
    "        #Initial feature extraction using a convolutional layer\n",
    "        pep_conv = Conv1D(filters,kernel_size,padding = 'same',activation = 'relu',strides = 1)(inputs_1)\n",
    "        pep_maxpool = MaxPooling1D()(pep_conv)\n",
    "        mhc_conv_1 = Conv1D(filters,kernel_size,padding = 'same',activation = 'relu',strides = 1)(inputs_2)\n",
    "        mhc_maxpool_1 = MaxPooling1D()(mhc_conv_1)\n",
    "        #The convolutional module\n",
    "        mhc_conv_2 = Conv1D(filters,kernel_size,padding = 'same',activation = 'relu',strides = 1)(mhc_maxpool_1)\n",
    "        mhc_maxpool_2 = MaxPooling1D()(mhc_conv_2)\n",
    "        flat_pep_0 = Flatten()(pep_conv)\n",
    "        flat_pep_1 = Flatten()(pep_conv)\n",
    "        flat_pep_2 = Flatten()(pep_conv)\n",
    "        flat_mhc_0 = Flatten()(inputs_2)\n",
    "        flat_mhc_1 = Flatten()(mhc_maxpool_1)\n",
    "        flat_mhc_2 = Flatten()(mhc_maxpool_2)\n",
    "        cat_0 = Concatenate()([flat_pep_0, flat_mhc_0])\n",
    "        cat_1 = Concatenate()([flat_pep_1, flat_mhc_1])\n",
    "        cat_2 = Concatenate()([flat_pep_2, flat_mhc_2])        \n",
    "        fc1_0 = Dense(fc1_size,activation = \"relu\")(cat_0)\n",
    "        fc1_1 = Dense(fc1_size,activation = \"relu\")(cat_1)\n",
    "        fc1_2 = Dense(fc1_size,activation = \"relu\")(cat_2)\n",
    "        merge_1 = Concatenate()([fc1_0, fc1_1, fc1_2])\n",
    "        fc2 = Dense(fc2_size,activation = \"relu\")(merge_1)\n",
    "        fc3 = Dense(fc3_size,activation = \"relu\")(fc2)\n",
    "        #The attention module\n",
    "        mhc_attention_weights = Flatten()(TimeDistributed(Dense(1))(mhc_conv_1))\n",
    "        pep_attention_weights = Flatten()(TimeDistributed(Dense(1))(pep_conv))\n",
    "        mhc_attention_weights = Activation('softmax')(mhc_attention_weights)\n",
    "        pep_attention_weights = Activation('softmax')(pep_attention_weights)        \n",
    "        mhc_conv_permute = Permute((2,1))(mhc_conv_1)\n",
    "        pep_conv_permute = Permute((2,1))(pep_conv)\n",
    "        mhc_attention = Dot(-1)([mhc_conv_permute, mhc_attention_weights])\n",
    "        pep_attention = Dot(-1)([pep_conv_permute, pep_attention_weights])\n",
    "        #Concatenating the output of the two modules\n",
    "        merge_2 = Concatenate()([mhc_attention,pep_attention,fc3])\n",
    "        #Output of the model\n",
    "        out = Dense(1,activation = \"sigmoid\")(merge_2)\n",
    "        model = Model(inputs=[inputs_1, inputs_2],outputs=out)  \n",
    "        model.summary()\n",
    "        model.compile(loss='binary_crossentropy', optimizer='adam', metrics=['accuracy', 'AUC'])"
   ]
  },
  {
   "cell_type": "code",
   "execution_count": 18,
   "metadata": {},
   "outputs": [],
   "source": [
    "es = EarlyStopping(monitor = 'val_accuracy', mode = 'max', verbose = 1, patience = 5)"
   ]
  },
  {
   "cell_type": "code",
   "execution_count": 39,
   "metadata": {},
   "outputs": [],
   "source": [
    "train_pep, test_pep, train_mhc, test_mhc, train_target, test_target = train_test_split(all_pep, all_mhc, all_target, test_size = 0.2, stratify= all_target)"
   ]
  },
  {
   "cell_type": "code",
   "execution_count": 40,
   "metadata": {},
   "outputs": [
    {
     "name": "stdout",
     "output_type": "stream",
     "text": [
      "(756347, 30, 20)\n",
      "(189087, 30, 20)\n"
     ]
    }
   ],
   "source": [
    "print(train_pep.shape)\n",
    "print(test_pep.shape)"
   ]
  },
  {
   "cell_type": "code",
   "execution_count": 41,
   "metadata": {},
   "outputs": [],
   "source": [
    "for i, (train, test) in enumerate(kfold.split(train_pep, train_target)):\n",
    "    training_pep = train_pep[train]\n",
    "    training_mhc = train_mhc[train]\n",
    "    training_target = train_target[train]\n",
    "    \n",
    "    validation_pep = train_pep[test]\n",
    "    validation_mhc = train_mhc[test]\n",
    "    validation_target = train_target[test]"
   ]
  },
  {
   "cell_type": "code",
   "execution_count": 42,
   "metadata": {},
   "outputs": [
    {
     "name": "stdout",
     "output_type": "stream",
     "text": [
      "Model: \"model_1\"\n",
      "__________________________________________________________________________________________________\n",
      "Layer (type)                    Output Shape         Param #     Connected to                     \n",
      "==================================================================================================\n",
      "peptide (InputLayer)            [(None, 30, 20)]     0                                            \n",
      "__________________________________________________________________________________________________\n",
      "mhc (InputLayer)                [(None, 34, 20)]     0                                            \n",
      "__________________________________________________________________________________________________\n",
      "conv1_pep (Conv1D)              (None, 30, 128)      7808        peptide[0][0]                    \n",
      "__________________________________________________________________________________________________\n",
      "conv1_mhc (Conv1D)              (None, 34, 128)      7808        mhc[0][0]                        \n",
      "__________________________________________________________________________________________________\n",
      "max_pooling1d_3 (MaxPooling1D)  (None, 15, 128)      0           conv1_pep[0][0]                  \n",
      "__________________________________________________________________________________________________\n",
      "max_pooling1d_4 (MaxPooling1D)  (None, 17, 128)      0           conv1_mhc[0][0]                  \n",
      "__________________________________________________________________________________________________\n",
      "dropout_6 (Dropout)             (None, 15, 128)      0           max_pooling1d_3[0][0]            \n",
      "__________________________________________________________________________________________________\n",
      "dropout_8 (Dropout)             (None, 17, 128)      0           max_pooling1d_4[0][0]            \n",
      "__________________________________________________________________________________________________\n",
      "flatten_2 (Flatten)             (None, 1920)         0           dropout_6[0][0]                  \n",
      "__________________________________________________________________________________________________\n",
      "flatten_3 (Flatten)             (None, 2176)         0           dropout_8[0][0]                  \n",
      "__________________________________________________________________________________________________\n",
      "attention_3 (Attention)         (None, 143)          33281       dropout_6[0][0]                  \n",
      "__________________________________________________________________________________________________\n",
      "dropout_7 (Dropout)             (None, 1920)         0           flatten_2[0][0]                  \n",
      "__________________________________________________________________________________________________\n",
      "attention_4 (Attention)         (None, 145)          33281       dropout_8[0][0]                  \n",
      "__________________________________________________________________________________________________\n",
      "dropout_9 (Dropout)             (None, 2176)         0           flatten_3[0][0]                  \n",
      "__________________________________________________________________________________________________\n",
      "attention_flatten_2 (attention_ (None, 128)          0           attention_3[0][0]                \n",
      "__________________________________________________________________________________________________\n",
      "dense_6 (Dense)                 (None, 1)            1921        dropout_7[0][0]                  \n",
      "__________________________________________________________________________________________________\n",
      "attention_flatten_3 (attention_ (None, 128)          0           attention_4[0][0]                \n",
      "__________________________________________________________________________________________________\n",
      "dense_8 (Dense)                 (None, 1)            2177        dropout_9[0][0]                  \n",
      "__________________________________________________________________________________________________\n",
      "concatenate_3 (Concatenate)     (None, 129)          0           attention_flatten_2[0][0]        \n",
      "                                                                 dense_6[0][0]                    \n",
      "__________________________________________________________________________________________________\n",
      "concatenate_4 (Concatenate)     (None, 129)          0           attention_flatten_3[0][0]        \n",
      "                                                                 dense_8[0][0]                    \n",
      "__________________________________________________________________________________________________\n",
      "dense_7 (Dense)                 (None, 1)            130         concatenate_3[0][0]              \n",
      "__________________________________________________________________________________________________\n",
      "dense_9 (Dense)                 (None, 1)            130         concatenate_4[0][0]              \n",
      "__________________________________________________________________________________________________\n",
      "concatenate_5 (Concatenate)     (None, 2)            0           dense_7[0][0]                    \n",
      "                                                                 dense_9[0][0]                    \n",
      "__________________________________________________________________________________________________\n",
      "dense_10 (Dense)                (None, 1)            3           concatenate_5[0][0]              \n",
      "__________________________________________________________________________________________________\n",
      "activation_1 (Activation)       (None, 1)            0           dense_10[0][0]                   \n",
      "==================================================================================================\n",
      "Total params: 86,539\n",
      "Trainable params: 86,539\n",
      "Non-trainable params: 0\n",
      "__________________________________________________________________________________________________\n"
     ]
    }
   ],
   "source": [
    "del model\n",
    "model = build_model(training_pep, training_mhc)"
   ]
  },
  {
   "cell_type": "code",
   "execution_count": 44,
   "metadata": {},
   "outputs": [
    {
     "name": "stdout",
     "output_type": "stream",
     "text": [
      "Epoch 1/100\n",
      "1182/1182 [==============================] - 95s 80ms/step - loss: 0.2695 - accuracy: 0.9094 - auc: 0.7570 - val_loss: 0.2149 - val_accuracy: 0.9135 - val_auc: 0.8812\n",
      "Epoch 2/100\n",
      "1182/1182 [==============================] - 90s 77ms/step - loss: 0.2165 - accuracy: 0.9135 - auc: 0.8752 - val_loss: 0.2062 - val_accuracy: 0.9162 - val_auc: 0.8928\n",
      "Epoch 3/100\n",
      "1182/1182 [==============================] - 89s 75ms/step - loss: 0.2103 - accuracy: 0.9151 - auc: 0.8836 - val_loss: 0.2024 - val_accuracy: 0.9169 - val_auc: 0.8964\n",
      "Epoch 4/100\n",
      "1182/1182 [==============================] - 88s 75ms/step - loss: 0.2078 - accuracy: 0.9159 - auc: 0.8874 - val_loss: 0.2008 - val_accuracy: 0.9174 - val_auc: 0.8981\n",
      "Epoch 5/100\n",
      "1182/1182 [==============================] - 88s 75ms/step - loss: 0.2084 - accuracy: 0.9152 - auc: 0.8882 - val_loss: 0.2006 - val_accuracy: 0.9169 - val_auc: 0.8990\n",
      "Epoch 6/100\n",
      "1182/1182 [==============================] - 89s 75ms/step - loss: 0.2056 - accuracy: 0.9167 - auc: 0.8900 - val_loss: 0.1994 - val_accuracy: 0.9174 - val_auc: 0.9007\n",
      "Epoch 7/100\n",
      "1182/1182 [==============================] - 86s 73ms/step - loss: 0.2059 - accuracy: 0.9160 - auc: 0.8918 - val_loss: 0.1984 - val_accuracy: 0.9186 - val_auc: 0.9014\n",
      "Epoch 8/100\n",
      "1182/1182 [==============================] - 87s 74ms/step - loss: 0.2046 - accuracy: 0.9161 - auc: 0.8928 - val_loss: 0.1973 - val_accuracy: 0.9185 - val_auc: 0.9028\n",
      "Epoch 9/100\n",
      "1182/1182 [==============================] - 85s 72ms/step - loss: 0.2047 - accuracy: 0.9166 - auc: 0.8928 - val_loss: 0.1972 - val_accuracy: 0.9188 - val_auc: 0.9025\n",
      "Epoch 10/100\n",
      "1182/1182 [==============================] - 84s 71ms/step - loss: 0.2039 - accuracy: 0.9168 - auc: 0.8937 - val_loss: 0.1983 - val_accuracy: 0.9172 - val_auc: 0.9031\n",
      "Epoch 11/100\n",
      "1182/1182 [==============================] - 84s 71ms/step - loss: 0.2043 - accuracy: 0.9163 - auc: 0.8937 - val_loss: 0.1965 - val_accuracy: 0.9198 - val_auc: 0.9034\n",
      "Epoch 12/100\n",
      "1182/1182 [==============================] - 81s 69ms/step - loss: 0.2035 - accuracy: 0.9174 - auc: 0.8934 - val_loss: 0.1973 - val_accuracy: 0.9179 - val_auc: 0.9038\n",
      "Epoch 13/100\n",
      "1182/1182 [==============================] - 86s 72ms/step - loss: 0.2033 - accuracy: 0.9169 - auc: 0.8953 - val_loss: 0.1970 - val_accuracy: 0.9179 - val_auc: 0.9045\n",
      "Epoch 14/100\n",
      "1182/1182 [==============================] - 83s 71ms/step - loss: 0.2028 - accuracy: 0.9169 - auc: 0.8951 - val_loss: 0.1962 - val_accuracy: 0.9193 - val_auc: 0.9042\n",
      "Epoch 15/100\n",
      "1182/1182 [==============================] - 83s 70ms/step - loss: 0.2032 - accuracy: 0.9172 - auc: 0.8957 - val_loss: 0.1960 - val_accuracy: 0.9190 - val_auc: 0.9044\n",
      "Epoch 16/100\n",
      "1182/1182 [==============================] - 87s 74ms/step - loss: 0.2024 - accuracy: 0.9175 - auc: 0.8954 - val_loss: 0.1951 - val_accuracy: 0.9198 - val_auc: 0.9052\n",
      "Epoch 17/100\n",
      "1182/1182 [==============================] - 79s 67ms/step - loss: 0.2029 - accuracy: 0.9167 - auc: 0.8965 - val_loss: 0.1958 - val_accuracy: 0.9187 - val_auc: 0.9053\n",
      "Epoch 18/100\n",
      "1182/1182 [==============================] - 84s 71ms/step - loss: 0.2014 - accuracy: 0.9183 - auc: 0.8954 - val_loss: 0.1952 - val_accuracy: 0.9196 - val_auc: 0.9053\n",
      "Epoch 19/100\n",
      "1182/1182 [==============================] - 85s 72ms/step - loss: 0.2015 - accuracy: 0.9179 - auc: 0.8966 - val_loss: 0.1944 - val_accuracy: 0.9203 - val_auc: 0.9059\n",
      "Epoch 20/100\n",
      "1182/1182 [==============================] - 86s 73ms/step - loss: 0.2005 - accuracy: 0.9179 - auc: 0.8983 - val_loss: 0.1947 - val_accuracy: 0.9192 - val_auc: 0.9064\n",
      "Epoch 21/100\n",
      "1182/1182 [==============================] - 81s 69ms/step - loss: 0.2018 - accuracy: 0.9178 - auc: 0.8970 - val_loss: 0.1945 - val_accuracy: 0.9195 - val_auc: 0.9062\n",
      "Epoch 22/100\n",
      "1182/1182 [==============================] - 83s 70ms/step - loss: 0.2003 - accuracy: 0.9183 - auc: 0.8975 - val_loss: 0.1943 - val_accuracy: 0.9212 - val_auc: 0.9063\n",
      "Epoch 23/100\n",
      "1182/1182 [==============================] - 102s 86ms/step - loss: 0.2009 - accuracy: 0.9182 - auc: 0.8967 - val_loss: 0.1939 - val_accuracy: 0.9202 - val_auc: 0.9068\n",
      "Epoch 24/100\n",
      "1182/1182 [==============================] - 118s 100ms/step - loss: 0.1998 - accuracy: 0.9185 - auc: 0.8982 - val_loss: 0.1940 - val_accuracy: 0.9202 - val_auc: 0.9066\n",
      "Epoch 25/100\n",
      "1182/1182 [==============================] - 113s 95ms/step - loss: 0.1996 - accuracy: 0.9187 - auc: 0.8975 - val_loss: 0.1937 - val_accuracy: 0.9205 - val_auc: 0.9070\n",
      "Epoch 26/100\n",
      "1182/1182 [==============================] - 117s 99ms/step - loss: 0.2001 - accuracy: 0.9183 - auc: 0.8985 - val_loss: 0.1938 - val_accuracy: 0.9204 - val_auc: 0.9067\n",
      "Epoch 27/100\n",
      "1182/1182 [==============================] - 116s 98ms/step - loss: 0.2010 - accuracy: 0.9178 - auc: 0.8985 - val_loss: 0.1932 - val_accuracy: 0.9206 - val_auc: 0.9072\n",
      "Epoch 00027: early stopping\n"
     ]
    }
   ],
   "source": [
    "saved_model = model.fit([training_pep,training_mhc], \n",
    "            training_target,\n",
    "            batch_size=512,\n",
    "            epochs = 100,\n",
    "            shuffle=True,\n",
    "            callbacks=[es],\n",
    "            validation_data=([validation_pep,validation_mhc], validation_target),\n",
    "            verbose=1)"
   ]
  },
  {
   "cell_type": "code",
   "execution_count": 45,
   "metadata": {},
   "outputs": [],
   "source": [
    "probas_ = saved_model.model.predict([np.array(validation_pep),np.array(validation_mhc)])\n",
    "allprobas_ = np.append(allprobas_, probas_)           \n",
    "all_labels = np.append(all_labels, validation_target)"
   ]
  },
  {
   "cell_type": "code",
   "execution_count": 46,
   "metadata": {},
   "outputs": [
    {
     "name": "stdout",
     "output_type": "stream",
     "text": [
      "0.9068510812113243\n"
     ]
    },
    {
     "data": {
      "text/plain": [
       "<matplotlib.legend.Legend at 0x7f48638d0ca0>"
      ]
     },
     "execution_count": 46,
     "metadata": {},
     "output_type": "execute_result"
    },
    {
     "data": {
      "image/png": "[encoded data removed]",
      "text/plain": [
       "<Figure size 446.4x446.4 with 1 Axes>"
      ]
     },
     "metadata": {
      "needs_background": "light"
     },
     "output_type": "display_data"
    }
   ],
   "source": [
    "font1 = {'family' : 'Times New Roman',\n",
    "        'weight' : 'normal',\n",
    "        'size'   : 16}\n",
    "figsize=6.2, 6.2\n",
    "\n",
    "########ROC_figure\n",
    "figure1, ax1 = plt.subplots(figsize=figsize)\n",
    "ax1.tick_params(labelsize=18)\n",
    "labels = ax1.get_xticklabels() + ax1.get_yticklabels()\n",
    "[label.set_fontname('Times New Roman') for label in labels]  \n",
    "\n",
    "fpr, tpr, thresholds = roc_curve(all_labels, allprobas_)\n",
    "roc_auc = auc(fpr, tpr)\n",
    "print(roc_auc)\n",
    "\n",
    "ax1.plot(fpr, tpr, color='b',\n",
    "    label=r'ROC (AUC = %0.4f)' % (roc_auc),\n",
    "    lw=2, alpha=.8)\n",
    "ax1.plot([0, 1], [0, 1], linestyle='--', lw=2, color='r',\n",
    "        label='Luck', alpha=.8)\n",
    "ax1.set_xlim([-0.05, 1.05])\n",
    "ax1.set_ylim([-0.05, 1.05])\n",
    "ax1.set_xlabel('False Positive Rate', font1)\n",
    "ax1.set_ylabel('True Positive Rate', font1)\n",
    "# title1 = 'Cross Validated ROC Curve'\n",
    "# ax1.set_title(title1, font1)\n",
    "ax1.legend(loc=\"lower right\")"
   ]
  },
  {
   "cell_type": "code",
   "execution_count": 47,
   "metadata": {},
   "outputs": [
    {
     "data": {
      "text/plain": [
       "<matplotlib.legend.Legend at 0x7f486380e820>"
      ]
     },
     "execution_count": 47,
     "metadata": {},
     "output_type": "execute_result"
    },
    {
     "data": {
      "image/png": "[encoded data removed]",
      "text/plain": [
       "<Figure size 446.4x446.4 with 1 Axes>"
      ]
     },
     "metadata": {
      "needs_background": "light"
     },
     "output_type": "display_data"
    }
   ],
   "source": [
    "########PR_figure\n",
    "figure2, ax2 = plt.subplots(figsize=figsize)\n",
    "ax2.tick_params(labelsize=18)\n",
    "labels = ax2.get_xticklabels() + ax2.get_yticklabels()\n",
    "[label.set_fontname('Times New Roman') for label in labels] \n",
    "\n",
    "precision, recall, _ = precision_recall_curve(all_labels, allprobas_)\n",
    "ax2.plot(recall, precision, color='b',\n",
    "        label=r'Precision-Recall (AUC = %0.4f)' % (average_precision_score(all_labels, allprobas_)),\n",
    "        lw=2, alpha=.8)\n",
    "\n",
    "ax2.set_xlim([-0.05, 1.05])\n",
    "ax2.set_ylim([-0.05, 1.05])\n",
    "ax2.set_xlabel('Recall', font1)\n",
    "ax2.set_ylabel('Precision', font1)\n",
    "# title2 = 'Cross Validated PR Curve'\n",
    "# ax2.set_title(title2, font1)\n",
    "ax2.legend(loc=\"lower left\")"
   ]
  },
  {
   "cell_type": "code",
   "execution_count": 48,
   "metadata": {},
   "outputs": [],
   "source": [
    "probas_ = saved_model.model.predict([np.array(test_pep),np.array(test_mhc)])\n",
    "allprobas_ = np.append(allprobas_, probas_)           \n",
    "all_labels = np.append(all_labels, validation_target)"
   ]
  },
  {
   "cell_type": "code",
   "execution_count": 51,
   "metadata": {},
   "outputs": [
    {
     "name": "stdout",
     "output_type": "stream",
     "text": [
      "0.9091132313399066\n"
     ]
    },
    {
     "data": {
      "text/plain": [
       "<matplotlib.legend.Legend at 0x7f48636f6a60>"
      ]
     },
     "execution_count": 51,
     "metadata": {},
     "output_type": "execute_result"
    },
    {
     "data": {
      "image/png": "[encoded data removed]",
      "text/plain": [
       "<Figure size 446.4x446.4 with 1 Axes>"
      ]
     },
     "metadata": {
      "needs_background": "light"
     },
     "output_type": "display_data"
    }
   ],
   "source": [
    "font1 = {'family' : 'Times New Roman',\n",
    "        'weight' : 'normal',\n",
    "        'size'   : 16}\n",
    "figsize=6.2, 6.2\n",
    "\n",
    "########ROC_figure\n",
    "figure1, ax1 = plt.subplots(figsize=figsize)\n",
    "ax1.tick_params(labelsize=18)\n",
    "labels = ax1.get_xticklabels() + ax1.get_yticklabels()\n",
    "[label.set_fontname('Times New Roman') for label in labels]  \n",
    "\n",
    "fpr, tpr, thresholds = roc_curve(test_target, probas_)\n",
    "roc_auc = auc(fpr, tpr)\n",
    "print(roc_auc)\n",
    "\n",
    "ax1.plot(fpr, tpr, color='b',\n",
    "    label=r'ROC (AUC = %0.4f)' % (roc_auc),\n",
    "    lw=2, alpha=.8)\n",
    "ax1.plot([0, 1], [0, 1], linestyle='--', lw=2, color='r',\n",
    "        label='Luck', alpha=.8)\n",
    "ax1.set_xlim([-0.05, 1.05])\n",
    "ax1.set_ylim([-0.05, 1.05])\n",
    "ax1.set_xlabel('False Positive Rate', font1)\n",
    "ax1.set_ylabel('True Positive Rate', font1)\n",
    "# title1 = 'Cross Validated ROC Curve'\n",
    "# ax1.set_title(title1, font1)\n",
    "ax1.legend(loc=\"lower right\")"
   ]
  },
  {
   "cell_type": "code",
   "execution_count": 54,
   "metadata": {},
   "outputs": [
    {
     "data": {
      "text/plain": [
       "<matplotlib.legend.Legend at 0x7f4863547a60>"
      ]
     },
     "execution_count": 54,
     "metadata": {},
     "output_type": "execute_result"
    },
    {
     "data": {
      "image/png": "[encoded data removed]",
      "text/plain": [
       "<Figure size 446.4x446.4 with 1 Axes>"
      ]
     },
     "metadata": {
      "needs_background": "light"
     },
     "output_type": "display_data"
    }
   ],
   "source": [
    "########PR_figure\n",
    "figure2, ax2 = plt.subplots(figsize=figsize)\n",
    "ax2.tick_params(labelsize=18)\n",
    "labels = ax2.get_xticklabels() + ax2.get_yticklabels()\n",
    "[label.set_fontname('Times New Roman') for label in labels] \n",
    "\n",
    "precision, recall, _ = precision_recall_curve(test_target, probas_)\n",
    "ax2.plot(recall, precision, color='b',\n",
    "        label=r'Precision-Recall (AUC = %0.4f)' % (average_precision_score(test_target, probas_)),\n",
    "        lw=2, alpha=.8)\n",
    "\n",
    "ax2.set_xlim([-0.05, 1.05])\n",
    "ax2.set_ylim([-0.05, 1.05])\n",
    "ax2.set_xlabel('Recall', font1)\n",
    "ax2.set_ylabel('Precision', font1)\n",
    "# title2 = 'Cross Validated PR Curve'\n",
    "# ax2.set_title(title2, font1)\n",
    "ax2.legend(loc=\"lower left\")"
   ]
  },
  {
   "cell_type": "code",
   "execution_count": 55,
   "metadata": {},
   "outputs": [
    {
     "name": "stdout",
     "output_type": "stream",
     "text": [
      "dict_keys(['loss', 'accuracy', 'auc', 'val_loss', 'val_accuracy', 'val_auc'])\n"
     ]
    }
   ],
   "source": [
    "print(saved_model.history.keys())"
   ]
  },
  {
   "cell_type": "code",
   "execution_count": 58,
   "metadata": {},
   "outputs": [
    {
     "data": {
      "text/plain": [
       "<matplotlib.legend.Legend at 0x7f4863273970>"
      ]
     },
     "execution_count": 58,
     "metadata": {},
     "output_type": "execute_result"
    },
    {
     "data": {
      "image/png": "[encoded data removed]",
      "text/plain": [
       "<Figure size 432x288 with 1 Axes>"
      ]
     },
     "metadata": {
      "needs_background": "light"
     },
     "output_type": "display_data"
    }
   ],
   "source": [
    "plt.plot(saved_model.history[\"loss\"])\n",
    "plt.plot(saved_model.history[\"val_loss\"])\n",
    "plt.legend(['train', 'test'], loc='best')"
   ]
  },
  {
   "cell_type": "code",
   "execution_count": 59,
   "metadata": {},
   "outputs": [
    {
     "data": {
      "text/plain": [
       "<matplotlib.legend.Legend at 0x7f48631de910>"
      ]
     },
     "execution_count": 59,
     "metadata": {},
     "output_type": "execute_result"
    },
    {
     "data": {
      "image/png": "[encoded data removed]",
      "text/plain": [
       "<Figure size 432x288 with 1 Axes>"
      ]
     },
     "metadata": {
      "needs_background": "light"
     },
     "output_type": "display_data"
    }
   ],
   "source": [
    "plt.plot(saved_model.history[\"accuracy\"])\n",
    "plt.plot(saved_model.history[\"val_accuracy\"])\n",
    "plt.legend(['train', 'test'], loc='best')"
   ]
  },
  {
   "cell_type": "code",
   "execution_count": null,
   "metadata": {},
   "outputs": [],
   "source": []
  }
 ],
 "metadata": {
  "kernelspec": {
   "display_name": "Python 3.8.13 ('viralepitope': conda)",
   "language": "python",
   "name": "python3"
  },
  "language_info": {
   "codemirror_mode": {
    "name": "ipython",
    "version": 3
   },
   "file_extension": ".py",
   "mimetype": "text/x-python",
   "name": "python",
   "nbconvert_exporter": "python",
   "pygments_lexer": "ipython3",
   "version": "3.8.13"
  },
  "orig_nbformat": 4,
  "vscode": {
   "interpreter": {
    "hash": "89a569e57c3a868c837518f690d34e8ba538dcefa2ece26ecfaf82d5cd67ebe4"
   }
  }
 },
 "nbformat": 4,
 "nbformat_minor": 2
}
