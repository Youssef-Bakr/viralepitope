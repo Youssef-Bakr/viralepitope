{
 "cells": [
  {
   "cell_type": "code",
   "execution_count": 1,
   "metadata": {},
   "outputs": [
    {
     "data": {
      "text/plain": [
       "'\\nCreated on August 4th 2022\\n\\n@author: JJ\\n'"
      ]
     },
     "execution_count": 1,
     "metadata": {},
     "output_type": "execute_result"
    }
   ],
   "source": [
    "\"\"\"\n",
    "Created on August 4th 2022\n",
    "\n",
    "@author: JJ\n",
    "\"\"\""
   ]
  },
  {
   "cell_type": "code",
   "execution_count": 2,
   "metadata": {},
   "outputs": [
    {
     "name": "stderr",
     "output_type": "stream",
     "text": [
      "2022-08-22 13:20:47.138490: I tensorflow/stream_executor/platform/default/dso_loader.cc:49] Successfully opened dynamic library libcudart.so.10.1\n"
     ]
    }
   ],
   "source": [
    "import os, re, sys\n",
    "import numpy as np\n",
    "import pandas as pd\n",
    "from math import log\n",
    "import random\n",
    "import scipy.io\n",
    "import tensorflow as tf\n",
    "import csv"
   ]
  },
  {
   "cell_type": "code",
   "execution_count": 3,
   "metadata": {},
   "outputs": [],
   "source": [
    "num_threads = 4\n",
    "# Maximum number of threads to use for OpenMP parallel regions.\n",
    "os.environ[\"OMP_NUM_THREADS\"] = \"4\"\n",
    "# Without setting below 2 environment variables, it didn't work for me. Thanks to @cjw85 \n",
    "os.environ[\"TF_NUM_INTRAOP_THREADS\"] = \"4\"\n",
    "os.environ[\"TF_NUM_INTEROP_THREADS\"] = \"4\"\n",
    "\n",
    "tf.config.threading.set_inter_op_parallelism_threads(\n",
    "    num_threads\n",
    ")\n",
    "tf.config.threading.set_intra_op_parallelism_threads(\n",
    "    num_threads\n",
    ")\n",
    "tf.config.set_soft_device_placement(True)"
   ]
  },
  {
   "cell_type": "code",
   "execution_count": 4,
   "metadata": {},
   "outputs": [],
   "source": [
    "# in a well-defined initial state.\n",
    "random.seed\n",
    "np.random.seed(1337)\n",
    "tf.random.set_seed(1337)"
   ]
  },
  {
   "cell_type": "code",
   "execution_count": 5,
   "metadata": {},
   "outputs": [],
   "source": [
    "import matplotlib\n",
    "import matplotlib.pyplot as plt"
   ]
  },
  {
   "cell_type": "code",
   "execution_count": 83,
   "metadata": {},
   "outputs": [],
   "source": [
    "from tensorflow.keras.optimizers import *\n",
    "from tensorflow.keras.models import *\n",
    "from tensorflow.keras.layers import *\n",
    "from tensorflow.keras.constraints import MaxNorm\n",
    "from tensorflow.keras.callbacks import (\n",
    "    ModelCheckpoint, \n",
    "    EarlyStopping\n",
    ")\n",
    "from sklearn.metrics import (\n",
    "    roc_curve,\n",
    "    auc,\n",
    "    roc_auc_score,\n",
    "    average_precision_score,\n",
    "    precision_recall_curve,\n",
    ")\n",
    "from tensorflow.keras.regularizers import (\n",
    "    l2, \n",
    "    l1, \n",
    "    l1_l2\n",
    ")\n",
    "from tensorflow.keras.models import Model\n",
    "from tensorflow.keras import backend as K\n",
    "from tensorflow.keras import (\n",
    "    activations, \n",
    "    initializers, \n",
    "    regularizers, \n",
    "    constraints\n",
    ")"
   ]
  },
  {
   "cell_type": "code",
   "execution_count": 7,
   "metadata": {},
   "outputs": [],
   "source": [
    "class Attention(Layer):\n",
    "    def __init__(\n",
    "        self,\n",
    "        hidden,\n",
    "        init=\"glorot_uniform\",\n",
    "        activation=\"linear\",\n",
    "        W_regularizer=None,\n",
    "        b_regularizer=None,\n",
    "        W_constraint=None,\n",
    "        **kwargs\n",
    "    ):\n",
    "        self.init = initializers.get(init)\n",
    "        self.activation = activations.get(activation)\n",
    "        self.W_regularizer = regularizers.get(W_regularizer)\n",
    "        self.b_regularizer = regularizers.get(b_regularizer)\n",
    "        self.W_constraint = constraints.get(W_constraint)\n",
    "        self.hidden = hidden\n",
    "        super(Attention, self).__init__(**kwargs)\n",
    "\n",
    "    def build(self, input_shape):\n",
    "        input_dim = input_shape[-1]\n",
    "        self.input_length = input_shape[1]\n",
    "        self.W0 = self.add_weight(\n",
    "            name=\"{}_W1\".format(self.name),\n",
    "            shape=(input_dim, self.hidden),\n",
    "            initializer=\"glorot_uniform\",\n",
    "            trainable=True,\n",
    "        )  # Keras 2 API\n",
    "        self.W = self.add_weight(\n",
    "            name=\"{}_W\".format(self.name),\n",
    "            shape=(self.hidden, 1),\n",
    "            initializer=\"glorot_uniform\",\n",
    "            trainable=True,\n",
    "        )\n",
    "        self.b0 = K.zeros((self.hidden,), name=\"{}_b0\".format(self.name))\n",
    "        self.b = K.zeros((1,), name=\"{}_b\".format(self.name))\n",
    "        # AttributeError: Can't set the attribute \"trainable_weights\",\n",
    "        # likely because it conflicts with an existing read-only @property of the object.\n",
    "        # Please choose a different name.\n",
    "        # https://issueexplorer.com/issue/wenguanwang/ASNet/8\n",
    "        self._trainable_weights = [self.W0, self.W, self.b, self.b0]\n",
    "\n",
    "        self.regularizers = []\n",
    "        if self.W_regularizer:\n",
    "            self.W_regularizer.set_param(self.W)\n",
    "            self.regularizers.append(self.W_regularizer)\n",
    "\n",
    "        if self.b_regularizer:\n",
    "            self.b_regularizer.set_param(self.b)\n",
    "            self.regularizers.append(self.b_regularizer)\n",
    "\n",
    "        self.constraints = {}\n",
    "        if self.W_constraint:\n",
    "            self.constraints[self.W0] = self.W_constraint\n",
    "            self.constraints[self.W] = self.W_constraint\n",
    "\n",
    "        super(Attention, self).build(input_shape)\n",
    "\n",
    "    def call(self, x, mask=None):\n",
    "        attmap = self.activation(K.dot(x, self.W0) + self.b0)\n",
    "        attmap = K.dot(attmap, self.W) + self.b\n",
    "        attmap = K.reshape(\n",
    "            attmap, (-1, self.input_length)\n",
    "        )  # Softmax needs one dimension\n",
    "        attmap = K.softmax(attmap)\n",
    "        dense_representation = K.batch_dot(attmap, x, axes=(1, 1))\n",
    "        out = K.concatenate(\n",
    "            [dense_representation, attmap]\n",
    "        )  # Output the attention maps but do not pass it to the next layer by DIY flatten layer\n",
    "        return out\n",
    "\n",
    "    def compute_output_shape(self, input_shape):\n",
    "        return (input_shape[0], input_shape[-1] + input_shape[1])\n",
    "\n",
    "    def get_config(self):\n",
    "        config = {\n",
    "            \"init\": \"glorot_uniform\",\n",
    "            \"activation\": self.activation.__name__,\n",
    "            \"W_constraint\": self.W_constraint.get_config()\n",
    "            if self.W_constraint\n",
    "            else None,\n",
    "            \"W_regularizer\": self.W_regularizer.get_config()\n",
    "            if self.W_regularizer\n",
    "            else None,\n",
    "            \"b_regularizer\": self.b_regularizer.get_config()\n",
    "            if self.b_regularizer\n",
    "            else None,\n",
    "            \"hidden\": self.hidden if self.hidden else None,\n",
    "        }\n",
    "        base_config = super(Attention, self).get_config()\n",
    "        return dict(list(base_config.items()) + list(config.items()))\n",
    "\n",
    "\n",
    "class attention_flatten(Layer):  # Based on the source code of Keras flatten\n",
    "    def __init__(self, keep_dim, **kwargs):\n",
    "        self.keep_dim = keep_dim # 64\n",
    "        super(attention_flatten, self).__init__(**kwargs)\n",
    "\n",
    "    def compute_output_shape(self, input_shape):\n",
    "        if not all(input_shape[1:]):\n",
    "            raise Exception(\n",
    "                'The shape of the input to \"Flatten\" '\n",
    "                \"is not fully defined \"\n",
    "                \"(got \" + str(input_shape[2:]) + \". \"\n",
    "                'Make sure to pass a complete \"input_shape\" '\n",
    "                'or \"batch_input_shape\" argument to the first '\n",
    "                \"layer in your model.\"\n",
    "            )\n",
    "        return (input_shape[0], self.keep_dim)  # Remove the attention map\n",
    "\n",
    "    def call(self, x, mask=None):\n",
    "        x = x[:, : self.keep_dim]\n",
    "        #return K.batch_flatten(x)\n",
    "        return x\n",
    "    \n",
    "    def get_config(self):\n",
    "        config = super().get_config().copy()\n",
    "        return config"
   ]
  },
  {
   "cell_type": "code",
   "execution_count": 8,
   "metadata": {},
   "outputs": [],
   "source": [
    "from sklearn.model_selection import train_test_split, StratifiedKFold\n",
    "from sklearn.utils import resample, shuffle\n",
    "from sklearn.feature_selection import (\n",
    "    SelectKBest,\n",
    "    chi2\n",
    ")\n",
    "from collections import defaultdict"
   ]
  },
  {
   "cell_type": "code",
   "execution_count": 9,
   "metadata": {},
   "outputs": [],
   "source": [
    "import pickle\n",
    "with open ('fulldata_pseudoseq_dictionary.pkl', 'rb') as f:\n",
    "    pseudo_seq = pickle.load(f)"
   ]
  },
  {
   "cell_type": "code",
   "execution_count": 10,
   "metadata": {},
   "outputs": [
    {
     "data": {
      "text/plain": [
       "dict"
      ]
     },
     "execution_count": 10,
     "metadata": {},
     "output_type": "execute_result"
    }
   ],
   "source": [
    "type(pseudo_seq)"
   ]
  },
  {
   "cell_type": "code",
   "execution_count": 11,
   "metadata": {},
   "outputs": [],
   "source": [
    "import keras_tuner as kt"
   ]
  },
  {
   "cell_type": "code",
   "execution_count": 12,
   "metadata": {},
   "outputs": [
    {
     "name": "stderr",
     "output_type": "stream",
     "text": [
      "/tmp/ipykernel_257068/3434162491.py:5: VisibleDeprecationWarning: Creating an ndarray from ragged nested sequences (which is a list-or-tuple of lists-or-tuples-or ndarrays with different lengths or shapes) is deprecated. If you meant to do this, you must specify 'dtype=object' when creating the ndarray.\n",
      "  allele_data = np.array(allele_data)\n"
     ]
    }
   ],
   "source": [
    "    training_data = []\n",
    "    for allele in pseudo_seq.keys():\n",
    "        allele_data = pseudo_seq[allele]\n",
    "        random.shuffle(allele_data)\n",
    "        allele_data = np.array(allele_data)\n",
    "        training_data.extend(allele_data)\n",
    "    \n",
    "    [all_pep, all_mhc, all_target] = [[i[j] for i in training_data] for j in range(3)]\n",
    "    all_pep = np.array(all_pep)\n",
    "    all_mhc = np.array(all_mhc)\n",
    "    all_target = np.array(all_target)"
   ]
  },
  {
   "cell_type": "code",
   "execution_count": 13,
   "metadata": {},
   "outputs": [
    {
     "name": "stdout",
     "output_type": "stream",
     "text": [
      "(945434, 30, 20)\n",
      "(945434,)\n",
      "(945434,)\n"
     ]
    }
   ],
   "source": [
    "print(all_pep.shape)\n",
    "print(all_mhc.shape)\n",
    "print(all_target.shape)"
   ]
  },
  {
   "cell_type": "code",
   "execution_count": 124,
   "metadata": {},
   "outputs": [
    {
     "name": "stdout",
     "output_type": "stream",
     "text": [
      "YSAMYEEKVAHTDENIAYLMFHYYTWAVQAYTGY\n"
     ]
    }
   ],
   "source": [
    "print(all_mhc[0])"
   ]
  },
  {
   "cell_type": "code",
   "execution_count": 15,
   "metadata": {},
   "outputs": [],
   "source": [
    "np.save('/home/jjia1/jjia1/viralepitope/all_pep.npy', all_pep)\n",
    "np.save('/home/jjia1/jjia1/viralepitope/all_mhc.npy', all_mhc)\n",
    "np.save('/home/jjia1/jjia1/viralepitope/all_target.npy', all_target)"
   ]
  },
  {
   "cell_type": "code",
   "execution_count": 110,
   "metadata": {},
   "outputs": [],
   "source": [
    "all_pep, all_mhc, all_target = np.load('/home/jjia1/jjia1/viralepitope/all_pep.npy'), np.load('/home/jjia1/jjia1/viralepitope/all_mhc.npy'), np.load('/home/jjia1/jjia1/viralepitope/all_target.npy')"
   ]
  },
  {
   "cell_type": "code",
   "execution_count": 16,
   "metadata": {},
   "outputs": [],
   "source": [
    "kfold = StratifiedKFold(n_splits=5, shuffle=True, random_state=1337)    \n",
    "allprobas_=np.array([]) \n",
    "all_labels=np.array([])"
   ]
  },
  {
   "cell_type": "code",
   "execution_count": 66,
   "metadata": {},
   "outputs": [],
   "source": [
    "#build 2 models\n",
    "#one model for the sequence, one model for the MHC names\n",
    "#integrate the outputs in a final dense layer\n",
    "\t"
   ]
  },
  {
   "cell_type": "code",
   "execution_count": 115,
   "metadata": {},
   "outputs": [],
   "source": [
    "from sklearn.preprocessing import *\n",
    "encode = MultiLabelBinarizer()\n",
    "aa={\"A\":0,\"R\":1,\"N\":2,\"D\":3,\"C\":4,\"Q\":5,\"E\":6,\"G\":7,\"H\":8,\"I\":9,\"L\":10,\"K\":11,\"M\":12,\"F\":13,\"P\":14,\"S\":15,\"T\":16,\"W\":17,\"Y\":18,\"V\":19}"
   ]
  },
  {
   "cell_type": "code",
   "execution_count": 117,
   "metadata": {},
   "outputs": [],
   "source": [
    "classes = encode.fit(aa)"
   ]
  },
  {
   "cell_type": "code",
   "execution_count": 119,
   "metadata": {},
   "outputs": [
    {
     "data": {
      "text/plain": [
       "['A',\n",
       " 'C',\n",
       " 'D',\n",
       " 'E',\n",
       " 'F',\n",
       " 'G',\n",
       " 'H',\n",
       " 'I',\n",
       " 'K',\n",
       " 'L',\n",
       " 'M',\n",
       " 'N',\n",
       " 'P',\n",
       " 'Q',\n",
       " 'R',\n",
       " 'S',\n",
       " 'T',\n",
       " 'V',\n",
       " 'W',\n",
       " 'Y']"
      ]
     },
     "execution_count": 119,
     "metadata": {},
     "output_type": "execute_result"
    }
   ],
   "source": [
    "list(encode.classes_)"
   ]
  },
  {
   "cell_type": "code",
   "execution_count": 122,
   "metadata": {},
   "outputs": [
    {
     "data": {
      "text/plain": [
       "945434"
      ]
     },
     "execution_count": 122,
     "metadata": {},
     "output_type": "execute_result"
    }
   ],
   "source": [
    "len(all_mhc)\n",
    "for i in range(len(all_mhc)):\n",
    "    "
   ]
  },
  {
   "cell_type": "code",
   "execution_count": 76,
   "metadata": {},
   "outputs": [],
   "source": [
    "def build_model(training_pep, training_mhc):\n",
    "    filters, kernel = 128, 3\n",
    "    input_pep = Input(shape=(np.shape(training_pep[0][0])), name = 'peptide')\n",
    "\n",
    "    conv_pep = Conv1D(filters = filters, kernel_size = kernel, activation = 'relu', \n",
    "                        padding = 'same',name = 'conv1_pep')\n",
    "\n",
    "    conv_pool_out_pep = MaxPooling1D()\n",
    "    conv_pool_dropout1_pep = Dropout(0.6)\n",
    "    conv_pool_dropout2_pep = Dropout(0.5)\n",
    "\n",
    "    decoder_pep = Attention(hidden=256, activation = 'linear')\n",
    "    dense1_pep = Dense(1)\n",
    "    \n",
    "    output1_pep = conv_pep(input_pep)\n",
    "    output2_pep = conv_pool_out_pep(output1_pep)\n",
    "    output3_pep = conv_pool_dropout1_pep(output2_pep)\n",
    "\n",
    "    att_decoder_pep = decoder_pep(output3_pep)\n",
    "    output4_pep = attention_flatten(output3_pep.shape[2])(att_decoder_pep)\n",
    "    \n",
    "    output5_pep = dense1_pep(conv_pool_dropout2_pep(Flatten()(output3_pep)))\n",
    "    output_all_pep = concatenate([output4_pep, output5_pep])\n",
    "    output6_pep = Dense(1)(output_all_pep)\n",
    "\n",
    "    #output_final_pep = Activation('sigmoid')(output6_pep)\n",
    "\n",
    "    input_mhc = Input(shape=(np.shape(training_mhc[0][0])), name = 'mhc')\n",
    "\n",
    "    conv_mhc = Conv1D(filters = filters, kernel_size = kernel, activation = 'relu', \n",
    "                        padding = 'same',kernel_constraint = MaxNorm(3), \n",
    "                        name = 'conv1_mhc')\n",
    "\n",
    "    conv_pool_out_mhc = MaxPooling1D()\n",
    "    conv_pool_dropout1_mhc = Dropout(0.6)\n",
    "    conv_pool_dropout2_mhc = Dropout(0.5)\n",
    "\n",
    "    decoder_mhc = Attention(hidden=256, activation = 'linear')\n",
    "    dense1_mhc = Dense(1)\n",
    "    \n",
    "    output1_mhc = conv_mhc(input_mhc)\n",
    "    output2_mhc = conv_pool_out_mhc(output1_mhc)\n",
    "    output3_mhc = conv_pool_dropout1_mhc(output2_mhc)\n",
    "\n",
    "    att_decoder_mhc = decoder_mhc(output3_mhc)\n",
    "    output4_mhc = attention_flatten(output3_mhc.shape[2])(att_decoder_mhc)\n",
    "    \n",
    "    output5_mhc = dense1_mhc(conv_pool_dropout2_mhc(Flatten()(output3_mhc)))\n",
    "    output_all_mhc = concatenate([output4_mhc, output5_mhc])\n",
    "    output6_mhc = Dense(1)(output_all_mhc)\n",
    "\n",
    "    #output_final_mhc = Activation('sigmoid')(output6_mhc)\n",
    "\n",
    "    combinedOutput = concatenate([output6_pep, output6_mhc])\n",
    "    combinedDenseOutput = Dense(1)(combinedOutput)\n",
    "    finalCombinedOutput = Activation('sigmoid')(combinedDenseOutput)\n",
    "\n",
    "    model = Model(inputs = ([input_pep, input_mhc]), outputs = finalCombinedOutput)\n",
    "    opt = Adam(learning_rate = 1e-3)\n",
    "    model.compile(loss = 'binary_crossentropy', optimizer = opt, metrics = ['accuracy', 'AUC'])\n",
    "    model.summary()\n",
    "    return model"
   ]
  },
  {
   "cell_type": "code",
   "execution_count": 94,
   "metadata": {},
   "outputs": [],
   "source": [
    "def create_model(training_pep, training_mhc):\n",
    "        filters, kernel_size, fc1_size, fc2_size, fc3_size = 128, 3, 256, 64, 2\n",
    "        inputs_1 = Input(shape = (np.shape(training_pep[0])[0],20))\n",
    "        inputs_2 = Input(shape = (34,np.shape(training_mhc[0])[0]))\n",
    "        #Initial feature extraction using a convolutional layer\n",
    "        pep_conv = Conv1D(filters,kernel_size,padding = 'same',activation = 'relu',strides = 1)(inputs_1)\n",
    "        pep_maxpool = MaxPooling1D()(pep_conv)\n",
    "        mhc_conv_1 = Conv1D(filters,kernel_size,padding = 'same',activation = 'relu',strides = 1)(inputs_2)\n",
    "        mhc_maxpool_1 = MaxPooling1D()(mhc_conv_1)\n",
    "        #The convolutional module\n",
    "        mhc_conv_2 = Conv1D(filters,kernel_size,padding = 'same',activation = 'relu',strides = 1)(mhc_maxpool_1)\n",
    "        mhc_maxpool_2 = MaxPooling1D()(mhc_conv_2)\n",
    "        flat_pep_0 = Flatten()(pep_conv)\n",
    "        flat_pep_1 = Flatten()(pep_conv)\n",
    "        flat_pep_2 = Flatten()(pep_conv)\n",
    "        flat_mhc_0 = Flatten()(inputs_2)\n",
    "        flat_mhc_1 = Flatten()(mhc_maxpool_1)\n",
    "        flat_mhc_2 = Flatten()(mhc_maxpool_2)\n",
    "        cat_0 = Concatenate()([flat_pep_0, flat_mhc_0])\n",
    "        cat_1 = Concatenate()([flat_pep_1, flat_mhc_1])\n",
    "        cat_2 = Concatenate()([flat_pep_2, flat_mhc_2])        \n",
    "        fc1_0 = Dense(fc1_size,activation = \"relu\")(cat_0)\n",
    "        fc1_1 = Dense(fc1_size,activation = \"relu\")(cat_1)\n",
    "        fc1_2 = Dense(fc1_size,activation = \"relu\")(cat_2)\n",
    "        merge_1 = Concatenate()([fc1_0, fc1_1, fc1_2])\n",
    "        fc2 = Dense(fc2_size,activation = \"relu\")(merge_1)\n",
    "        fc3 = Dense(fc3_size,activation = \"relu\")(fc2)\n",
    "        #The attention module\n",
    "        mhc_attention_weights = Flatten()(TimeDistributed(Dense(1))(mhc_conv_1))\n",
    "        pep_attention_weights = Flatten()(TimeDistributed(Dense(1))(pep_conv))\n",
    "        mhc_attention_weights = Activation('softmax')(mhc_attention_weights)\n",
    "        pep_attention_weights = Activation('softmax')(pep_attention_weights)        \n",
    "        mhc_conv_permute = Permute((2,1))(mhc_conv_1)\n",
    "        pep_conv_permute = Permute((2,1))(pep_conv)\n",
    "        mhc_attention = Dot(-1)([mhc_conv_permute, mhc_attention_weights])\n",
    "        pep_attention = Dot(-1)([pep_conv_permute, pep_attention_weights])\n",
    "        #Concatenating the output of the two modules\n",
    "        merge_2 = Concatenate()([mhc_attention,pep_attention,fc3])\n",
    "        #Output of the model\n",
    "        out = Dense(1,activation = \"sigmoid\")(merge_2)\n",
    "        model = Model(inputs=[inputs_1, inputs_2],outputs=out)  \n",
    "        model.summary()\n",
    "        model.compile(loss='binary_crossentropy', optimizer='adam', metrics=['accuracy', 'AUC'])"
   ]
  },
  {
   "cell_type": "code",
   "execution_count": 20,
   "metadata": {},
   "outputs": [],
   "source": [
    "es = EarlyStopping(monitor = 'val_accuracy', mode = 'max', verbose = 1, patience = 5)"
   ]
  },
  {
   "cell_type": "code",
   "execution_count": 21,
   "metadata": {},
   "outputs": [],
   "source": [
    "for i, (train, test) in enumerate(kfold.split(all_pep, all_target)):\n",
    "    training_pep = all_pep[train]\n",
    "    training_mhc = all_mhc[train]\n",
    "    training_target = all_target[train]\n",
    "    \n",
    "    validation_pep = all_pep[test]\n",
    "    validation_mhc = all_mhc[test]\n",
    "    validation_target = all_target[test]"
   ]
  },
  {
   "cell_type": "code",
   "execution_count": 33,
   "metadata": {},
   "outputs": [
    {
     "data": {
      "text/plain": [
       "(30, 20)"
      ]
     },
     "execution_count": 33,
     "metadata": {},
     "output_type": "execute_result"
    }
   ],
   "source": [
    "training_pep[1].shape"
   ]
  },
  {
   "cell_type": "code",
   "execution_count": 78,
   "metadata": {},
   "outputs": [
    {
     "name": "stdout",
     "output_type": "stream",
     "text": [
      "Epoch 1/100\n"
     ]
    },
    {
     "name": "stderr",
     "output_type": "stream",
     "text": [
      "2022-08-22 15:14:01.054352: W tensorflow/core/framework/op_kernel.cc:1740] OP_REQUIRES failed at cast_op.cc:121 : Unimplemented: Cast string to float is not supported\n"
     ]
    },
    {
     "ename": "UnimplementedError",
     "evalue": " Cast string to float is not supported\n\t [[node model_9/Cast (defined at tmp/ipykernel_257068/2091846939.py:1) ]] [Op:__inference_train_function_8599]\n\nFunction call stack:\ntrain_function\n",
     "output_type": "error",
     "traceback": [
      "\u001b[0;31m---------------------------------------------------------------------------\u001b[0m",
      "\u001b[0;31mUnimplementedError\u001b[0m                        Traceback (most recent call last)",
      "\u001b[1;32m/home/jjia1/viralepitope/viralepitope/ViralEpitopeModel.ipynb Cell 22\u001b[0m in \u001b[0;36m<cell line: 1>\u001b[0;34m()\u001b[0m\n\u001b[0;32m----> <a href='vscode-notebook-cell://ssh-remote%2B129.106.31.44/home/jjia1/viralepitope/viralepitope/ViralEpitopeModel.ipynb#X24sdnNjb2RlLXJlbW90ZQ%3D%3D?line=0'>1</a>\u001b[0m saved_model \u001b[39m=\u001b[39m model\u001b[39m.\u001b[39;49mfit([training_pep,training_mhc], \n\u001b[1;32m      <a href='vscode-notebook-cell://ssh-remote%2B129.106.31.44/home/jjia1/viralepitope/viralepitope/ViralEpitopeModel.ipynb#X24sdnNjb2RlLXJlbW90ZQ%3D%3D?line=1'>2</a>\u001b[0m             training_target,\n\u001b[1;32m      <a href='vscode-notebook-cell://ssh-remote%2B129.106.31.44/home/jjia1/viralepitope/viralepitope/ViralEpitopeModel.ipynb#X24sdnNjb2RlLXJlbW90ZQ%3D%3D?line=2'>3</a>\u001b[0m             batch_size\u001b[39m=\u001b[39;49m\u001b[39m512\u001b[39;49m,\n\u001b[1;32m      <a href='vscode-notebook-cell://ssh-remote%2B129.106.31.44/home/jjia1/viralepitope/viralepitope/ViralEpitopeModel.ipynb#X24sdnNjb2RlLXJlbW90ZQ%3D%3D?line=3'>4</a>\u001b[0m             epochs \u001b[39m=\u001b[39;49m \u001b[39m100\u001b[39;49m,\n\u001b[1;32m      <a href='vscode-notebook-cell://ssh-remote%2B129.106.31.44/home/jjia1/viralepitope/viralepitope/ViralEpitopeModel.ipynb#X24sdnNjb2RlLXJlbW90ZQ%3D%3D?line=4'>5</a>\u001b[0m             shuffle\u001b[39m=\u001b[39;49m\u001b[39mTrue\u001b[39;49;00m,\n\u001b[1;32m      <a href='vscode-notebook-cell://ssh-remote%2B129.106.31.44/home/jjia1/viralepitope/viralepitope/ViralEpitopeModel.ipynb#X24sdnNjb2RlLXJlbW90ZQ%3D%3D?line=5'>6</a>\u001b[0m             callbacks\u001b[39m=\u001b[39;49m[es],\n\u001b[1;32m      <a href='vscode-notebook-cell://ssh-remote%2B129.106.31.44/home/jjia1/viralepitope/viralepitope/ViralEpitopeModel.ipynb#X24sdnNjb2RlLXJlbW90ZQ%3D%3D?line=6'>7</a>\u001b[0m             validation_data\u001b[39m=\u001b[39;49m([validation_pep,validation_mhc], validation_target),\n\u001b[1;32m      <a href='vscode-notebook-cell://ssh-remote%2B129.106.31.44/home/jjia1/viralepitope/viralepitope/ViralEpitopeModel.ipynb#X24sdnNjb2RlLXJlbW90ZQ%3D%3D?line=7'>8</a>\u001b[0m             verbose\u001b[39m=\u001b[39;49m\u001b[39m1\u001b[39;49m)\n\u001b[1;32m     <a href='vscode-notebook-cell://ssh-remote%2B129.106.31.44/home/jjia1/viralepitope/viralepitope/ViralEpitopeModel.ipynb#X24sdnNjb2RlLXJlbW90ZQ%3D%3D?line=9'>10</a>\u001b[0m probas_ \u001b[39m=\u001b[39m saved_model\u001b[39m.\u001b[39mpredict([np\u001b[39m.\u001b[39marray(validation_pep),np\u001b[39m.\u001b[39marray(validation_mhc)])\n\u001b[1;32m     <a href='vscode-notebook-cell://ssh-remote%2B129.106.31.44/home/jjia1/viralepitope/viralepitope/ViralEpitopeModel.ipynb#X24sdnNjb2RlLXJlbW90ZQ%3D%3D?line=10'>11</a>\u001b[0m allprobas_ \u001b[39m=\u001b[39m np\u001b[39m.\u001b[39mappend(allprobas_, probas_)           \n",
      "File \u001b[0;32m~/miniconda3/envs/viralepitope/lib/python3.8/site-packages/tensorflow/python/keras/engine/training.py:1100\u001b[0m, in \u001b[0;36mModel.fit\u001b[0;34m(self, x, y, batch_size, epochs, verbose, callbacks, validation_split, validation_data, shuffle, class_weight, sample_weight, initial_epoch, steps_per_epoch, validation_steps, validation_batch_size, validation_freq, max_queue_size, workers, use_multiprocessing)\u001b[0m\n\u001b[1;32m   1093\u001b[0m \u001b[39mwith\u001b[39;00m trace\u001b[39m.\u001b[39mTrace(\n\u001b[1;32m   1094\u001b[0m     \u001b[39m'\u001b[39m\u001b[39mtrain\u001b[39m\u001b[39m'\u001b[39m,\n\u001b[1;32m   1095\u001b[0m     epoch_num\u001b[39m=\u001b[39mepoch,\n\u001b[1;32m   1096\u001b[0m     step_num\u001b[39m=\u001b[39mstep,\n\u001b[1;32m   1097\u001b[0m     batch_size\u001b[39m=\u001b[39mbatch_size,\n\u001b[1;32m   1098\u001b[0m     _r\u001b[39m=\u001b[39m\u001b[39m1\u001b[39m):\n\u001b[1;32m   1099\u001b[0m   callbacks\u001b[39m.\u001b[39mon_train_batch_begin(step)\n\u001b[0;32m-> 1100\u001b[0m   tmp_logs \u001b[39m=\u001b[39m \u001b[39mself\u001b[39;49m\u001b[39m.\u001b[39;49mtrain_function(iterator)\n\u001b[1;32m   1101\u001b[0m   \u001b[39mif\u001b[39;00m data_handler\u001b[39m.\u001b[39mshould_sync:\n\u001b[1;32m   1102\u001b[0m     context\u001b[39m.\u001b[39masync_wait()\n",
      "File \u001b[0;32m~/miniconda3/envs/viralepitope/lib/python3.8/site-packages/tensorflow/python/eager/def_function.py:828\u001b[0m, in \u001b[0;36mFunction.__call__\u001b[0;34m(self, *args, **kwds)\u001b[0m\n\u001b[1;32m    826\u001b[0m tracing_count \u001b[39m=\u001b[39m \u001b[39mself\u001b[39m\u001b[39m.\u001b[39mexperimental_get_tracing_count()\n\u001b[1;32m    827\u001b[0m \u001b[39mwith\u001b[39;00m trace\u001b[39m.\u001b[39mTrace(\u001b[39mself\u001b[39m\u001b[39m.\u001b[39m_name) \u001b[39mas\u001b[39;00m tm:\n\u001b[0;32m--> 828\u001b[0m   result \u001b[39m=\u001b[39m \u001b[39mself\u001b[39;49m\u001b[39m.\u001b[39;49m_call(\u001b[39m*\u001b[39;49margs, \u001b[39m*\u001b[39;49m\u001b[39m*\u001b[39;49mkwds)\n\u001b[1;32m    829\u001b[0m   compiler \u001b[39m=\u001b[39m \u001b[39m\"\u001b[39m\u001b[39mxla\u001b[39m\u001b[39m\"\u001b[39m \u001b[39mif\u001b[39;00m \u001b[39mself\u001b[39m\u001b[39m.\u001b[39m_experimental_compile \u001b[39melse\u001b[39;00m \u001b[39m\"\u001b[39m\u001b[39mnonXla\u001b[39m\u001b[39m\"\u001b[39m\n\u001b[1;32m    830\u001b[0m   new_tracing_count \u001b[39m=\u001b[39m \u001b[39mself\u001b[39m\u001b[39m.\u001b[39mexperimental_get_tracing_count()\n",
      "File \u001b[0;32m~/miniconda3/envs/viralepitope/lib/python3.8/site-packages/tensorflow/python/eager/def_function.py:888\u001b[0m, in \u001b[0;36mFunction._call\u001b[0;34m(self, *args, **kwds)\u001b[0m\n\u001b[1;32m    884\u001b[0m     \u001b[39mpass\u001b[39;00m  \u001b[39m# Fall through to cond-based initialization.\u001b[39;00m\n\u001b[1;32m    885\u001b[0m   \u001b[39melse\u001b[39;00m:\n\u001b[1;32m    886\u001b[0m     \u001b[39m# Lifting succeeded, so variables are initialized and we can run the\u001b[39;00m\n\u001b[1;32m    887\u001b[0m     \u001b[39m# stateless function.\u001b[39;00m\n\u001b[0;32m--> 888\u001b[0m     \u001b[39mreturn\u001b[39;00m \u001b[39mself\u001b[39;49m\u001b[39m.\u001b[39;49m_stateless_fn(\u001b[39m*\u001b[39;49margs, \u001b[39m*\u001b[39;49m\u001b[39m*\u001b[39;49mkwds)\n\u001b[1;32m    889\u001b[0m \u001b[39melse\u001b[39;00m:\n\u001b[1;32m    890\u001b[0m   _, _, _, filtered_flat_args \u001b[39m=\u001b[39m \\\n\u001b[1;32m    891\u001b[0m       \u001b[39mself\u001b[39m\u001b[39m.\u001b[39m_stateful_fn\u001b[39m.\u001b[39m_function_spec\u001b[39m.\u001b[39mcanonicalize_function_inputs(  \u001b[39m# pylint: disable=protected-access\u001b[39;00m\n\u001b[1;32m    892\u001b[0m           \u001b[39m*\u001b[39margs, \u001b[39m*\u001b[39m\u001b[39m*\u001b[39mkwds)\n",
      "File \u001b[0;32m~/miniconda3/envs/viralepitope/lib/python3.8/site-packages/tensorflow/python/eager/function.py:2942\u001b[0m, in \u001b[0;36mFunction.__call__\u001b[0;34m(self, *args, **kwargs)\u001b[0m\n\u001b[1;32m   2939\u001b[0m \u001b[39mwith\u001b[39;00m \u001b[39mself\u001b[39m\u001b[39m.\u001b[39m_lock:\n\u001b[1;32m   2940\u001b[0m   (graph_function,\n\u001b[1;32m   2941\u001b[0m    filtered_flat_args) \u001b[39m=\u001b[39m \u001b[39mself\u001b[39m\u001b[39m.\u001b[39m_maybe_define_function(args, kwargs)\n\u001b[0;32m-> 2942\u001b[0m \u001b[39mreturn\u001b[39;00m graph_function\u001b[39m.\u001b[39;49m_call_flat(\n\u001b[1;32m   2943\u001b[0m     filtered_flat_args, captured_inputs\u001b[39m=\u001b[39;49mgraph_function\u001b[39m.\u001b[39;49mcaptured_inputs)\n",
      "File \u001b[0;32m~/miniconda3/envs/viralepitope/lib/python3.8/site-packages/tensorflow/python/eager/function.py:1918\u001b[0m, in \u001b[0;36mConcreteFunction._call_flat\u001b[0;34m(self, args, captured_inputs, cancellation_manager)\u001b[0m\n\u001b[1;32m   1914\u001b[0m possible_gradient_type \u001b[39m=\u001b[39m gradients_util\u001b[39m.\u001b[39mPossibleTapeGradientTypes(args)\n\u001b[1;32m   1915\u001b[0m \u001b[39mif\u001b[39;00m (possible_gradient_type \u001b[39m==\u001b[39m gradients_util\u001b[39m.\u001b[39mPOSSIBLE_GRADIENT_TYPES_NONE\n\u001b[1;32m   1916\u001b[0m     \u001b[39mand\u001b[39;00m executing_eagerly):\n\u001b[1;32m   1917\u001b[0m   \u001b[39m# No tape is watching; skip to running the function.\u001b[39;00m\n\u001b[0;32m-> 1918\u001b[0m   \u001b[39mreturn\u001b[39;00m \u001b[39mself\u001b[39m\u001b[39m.\u001b[39m_build_call_outputs(\u001b[39mself\u001b[39;49m\u001b[39m.\u001b[39;49m_inference_function\u001b[39m.\u001b[39;49mcall(\n\u001b[1;32m   1919\u001b[0m       ctx, args, cancellation_manager\u001b[39m=\u001b[39;49mcancellation_manager))\n\u001b[1;32m   1920\u001b[0m forward_backward \u001b[39m=\u001b[39m \u001b[39mself\u001b[39m\u001b[39m.\u001b[39m_select_forward_and_backward_functions(\n\u001b[1;32m   1921\u001b[0m     args,\n\u001b[1;32m   1922\u001b[0m     possible_gradient_type,\n\u001b[1;32m   1923\u001b[0m     executing_eagerly)\n\u001b[1;32m   1924\u001b[0m forward_function, args_with_tangents \u001b[39m=\u001b[39m forward_backward\u001b[39m.\u001b[39mforward()\n",
      "File \u001b[0;32m~/miniconda3/envs/viralepitope/lib/python3.8/site-packages/tensorflow/python/eager/function.py:555\u001b[0m, in \u001b[0;36m_EagerDefinedFunction.call\u001b[0;34m(self, ctx, args, cancellation_manager)\u001b[0m\n\u001b[1;32m    553\u001b[0m \u001b[39mwith\u001b[39;00m _InterpolateFunctionError(\u001b[39mself\u001b[39m):\n\u001b[1;32m    554\u001b[0m   \u001b[39mif\u001b[39;00m cancellation_manager \u001b[39mis\u001b[39;00m \u001b[39mNone\u001b[39;00m:\n\u001b[0;32m--> 555\u001b[0m     outputs \u001b[39m=\u001b[39m execute\u001b[39m.\u001b[39;49mexecute(\n\u001b[1;32m    556\u001b[0m         \u001b[39mstr\u001b[39;49m(\u001b[39mself\u001b[39;49m\u001b[39m.\u001b[39;49msignature\u001b[39m.\u001b[39;49mname),\n\u001b[1;32m    557\u001b[0m         num_outputs\u001b[39m=\u001b[39;49m\u001b[39mself\u001b[39;49m\u001b[39m.\u001b[39;49m_num_outputs,\n\u001b[1;32m    558\u001b[0m         inputs\u001b[39m=\u001b[39;49margs,\n\u001b[1;32m    559\u001b[0m         attrs\u001b[39m=\u001b[39;49mattrs,\n\u001b[1;32m    560\u001b[0m         ctx\u001b[39m=\u001b[39;49mctx)\n\u001b[1;32m    561\u001b[0m   \u001b[39melse\u001b[39;00m:\n\u001b[1;32m    562\u001b[0m     outputs \u001b[39m=\u001b[39m execute\u001b[39m.\u001b[39mexecute_with_cancellation(\n\u001b[1;32m    563\u001b[0m         \u001b[39mstr\u001b[39m(\u001b[39mself\u001b[39m\u001b[39m.\u001b[39msignature\u001b[39m.\u001b[39mname),\n\u001b[1;32m    564\u001b[0m         num_outputs\u001b[39m=\u001b[39m\u001b[39mself\u001b[39m\u001b[39m.\u001b[39m_num_outputs,\n\u001b[0;32m   (...)\u001b[0m\n\u001b[1;32m    567\u001b[0m         ctx\u001b[39m=\u001b[39mctx,\n\u001b[1;32m    568\u001b[0m         cancellation_manager\u001b[39m=\u001b[39mcancellation_manager)\n",
      "File \u001b[0;32m~/miniconda3/envs/viralepitope/lib/python3.8/site-packages/tensorflow/python/eager/execute.py:59\u001b[0m, in \u001b[0;36mquick_execute\u001b[0;34m(op_name, num_outputs, inputs, attrs, ctx, name)\u001b[0m\n\u001b[1;32m     57\u001b[0m \u001b[39mtry\u001b[39;00m:\n\u001b[1;32m     58\u001b[0m   ctx\u001b[39m.\u001b[39mensure_initialized()\n\u001b[0;32m---> 59\u001b[0m   tensors \u001b[39m=\u001b[39m pywrap_tfe\u001b[39m.\u001b[39;49mTFE_Py_Execute(ctx\u001b[39m.\u001b[39;49m_handle, device_name, op_name,\n\u001b[1;32m     60\u001b[0m                                       inputs, attrs, num_outputs)\n\u001b[1;32m     61\u001b[0m \u001b[39mexcept\u001b[39;00m core\u001b[39m.\u001b[39m_NotOkStatusException \u001b[39mas\u001b[39;00m e:\n\u001b[1;32m     62\u001b[0m   \u001b[39mif\u001b[39;00m name \u001b[39mis\u001b[39;00m \u001b[39mnot\u001b[39;00m \u001b[39mNone\u001b[39;00m:\n",
      "\u001b[0;31mUnimplementedError\u001b[0m:  Cast string to float is not supported\n\t [[node model_9/Cast (defined at tmp/ipykernel_257068/2091846939.py:1) ]] [Op:__inference_train_function_8599]\n\nFunction call stack:\ntrain_function\n"
     ]
    }
   ],
   "source": [
    "saved_model = model.fit([training_pep,training_mhc], \n",
    "            training_target,\n",
    "            batch_size=512,\n",
    "            epochs = 100,\n",
    "            shuffle=True,\n",
    "            callbacks=[es],\n",
    "            validation_data=([validation_pep,validation_mhc], validation_target),\n",
    "            verbose=1)\n",
    "\n",
    "probas_ = saved_model.predict([np.array(validation_pep),np.array(validation_mhc)])\n",
    "allprobas_ = np.append(allprobas_, probas_)           \n",
    "all_labels = np.append(all_labels, validation_target)\n",
    "del model"
   ]
  },
  {
   "cell_type": "code",
   "execution_count": 70,
   "metadata": {},
   "outputs": [],
   "source": [
    "del model"
   ]
  },
  {
   "cell_type": "code",
   "execution_count": null,
   "metadata": {},
   "outputs": [],
   "source": []
  }
 ],
 "metadata": {
  "kernelspec": {
   "display_name": "Python 3.8.13 ('viralepitope': conda)",
   "language": "python",
   "name": "python3"
  },
  "language_info": {
   "codemirror_mode": {
    "name": "ipython",
    "version": 3
   },
   "file_extension": ".py",
   "mimetype": "text/x-python",
   "name": "python",
   "nbconvert_exporter": "python",
   "pygments_lexer": "ipython3",
   "version": "3.8.13"
  },
  "orig_nbformat": 4,
  "vscode": {
   "interpreter": {
    "hash": "89a569e57c3a868c837518f690d34e8ba538dcefa2ece26ecfaf82d5cd67ebe4"
   }
  }
 },
 "nbformat": 4,
 "nbformat_minor": 2
}
