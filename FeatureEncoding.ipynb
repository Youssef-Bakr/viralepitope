{
 "cells": [
  {
   "cell_type": "code",
   "execution_count": 1,
   "metadata": {},
   "outputs": [
    {
     "data": {
      "text/plain": [
       "'\\nFeature Encoding Script\\n@jjia\\n'"
      ]
     },
     "execution_count": 1,
     "metadata": {},
     "output_type": "execute_result"
    }
   ],
   "source": [
    "\"\"\"\n",
    "Feature Encoding Script\n",
    "@jjia\n",
    "\"\"\""
   ]
  },
  {
   "cell_type": "code",
   "execution_count": 2,
   "metadata": {},
   "outputs": [],
   "source": [
    "import os, re, sys\n",
    "import numpy as np\n",
    "import pandas as pd\n",
    "from math import log\n",
    "import random\n",
    "import scipy.io\n",
    "from collections import defaultdict"
   ]
  },
  {
   "cell_type": "code",
   "execution_count": 3,
   "metadata": {},
   "outputs": [],
   "source": [
    "# in a well-defined initial state.\n",
    "random.seed\n",
    "np.random.seed(1337)"
   ]
  },
  {
   "cell_type": "code",
   "execution_count": 4,
   "metadata": {},
   "outputs": [],
   "source": [
    "def read_blosum(path,one_hot):\n",
    "    '''\n",
    "    Read the blosum matrix from the file blosum50.txt\n",
    "    Args:\n",
    "        1. path: path to the file blosum50.txt\n",
    "    Return values:\n",
    "        1. The blosum50 matrix\n",
    "    '''\n",
    "    f = open(path,\"r\")\n",
    "    blosum = []\n",
    "    if one_hot ==0: #(blosum 50)\n",
    "       for line in f:\n",
    "           blosum.append([(float(i))/10 for i in re.split(\"\\t\",line)])\n",
    "    else:\n",
    "        for line in f: #(one-hot)\n",
    "           blosum.append([float(i) for i in re.split(\"\\t\",line)])\n",
    "    f.close()\n",
    "    return blosum\n",
    "\n",
    "path_dict = \"/home/jjia1/viralepitope/\"\n",
    "blosum_matrix = read_blosum(path_dict + 'blosum50.txt', 0)\n",
    "\n",
    "pseq_dict = np.load(path_dict + 'pseq_dict_all.npy', allow_pickle = True).item()\n",
    "#pseq_dict_blosum_matrix = pseudo_seq(pseq_dict, blosum_matrix)\n"
   ]
  },
  {
   "cell_type": "code",
   "execution_count": 4,
   "metadata": {},
   "outputs": [],
   "source": [
    "np.save('../viralepitope/blosum_matrix.npy', blosum_matrix)"
   ]
  },
  {
   "cell_type": "code",
   "execution_count": 5,
   "metadata": {},
   "outputs": [],
   "source": [
    "pos_data = pd.read_csv('positive_epitope_seq.txt', sep = '\\t', header = None)\n",
    "neg_data = pd.read_csv('negative_epitope_seq.txt', sep = '\\t', header = None)"
   ]
  },
  {
   "cell_type": "code",
   "execution_count": 6,
   "metadata": {},
   "outputs": [
    {
     "data": {
      "text/html": [
       "<div>\n",
       "<style scoped>\n",
       "    .dataframe tbody tr th:only-of-type {\n",
       "        vertical-align: middle;\n",
       "    }\n",
       "\n",
       "    .dataframe tbody tr th {\n",
       "        vertical-align: top;\n",
       "    }\n",
       "\n",
       "    .dataframe thead th {\n",
       "        text-align: right;\n",
       "    }\n",
       "</style>\n",
       "<table border=\"1\" class=\"dataframe\">\n",
       "  <thead>\n",
       "    <tr style=\"text-align: right;\">\n",
       "      <th></th>\n",
       "      <th>0</th>\n",
       "      <th>1</th>\n",
       "      <th>2</th>\n",
       "    </tr>\n",
       "  </thead>\n",
       "  <tbody>\n",
       "    <tr>\n",
       "      <th>0</th>\n",
       "      <td>KLEDLERDL</td>\n",
       "      <td>HLA-A*02:01</td>\n",
       "      <td>1</td>\n",
       "    </tr>\n",
       "    <tr>\n",
       "      <th>1</th>\n",
       "      <td>LITGRLQSL</td>\n",
       "      <td>HLA-A2</td>\n",
       "      <td>1</td>\n",
       "    </tr>\n",
       "    <tr>\n",
       "      <th>2</th>\n",
       "      <td>EVMPVSMAK</td>\n",
       "      <td>HLA-A*03:01</td>\n",
       "      <td>1</td>\n",
       "    </tr>\n",
       "    <tr>\n",
       "      <th>3</th>\n",
       "      <td>EVMPVSMAK</td>\n",
       "      <td>HLA-A*11:01</td>\n",
       "      <td>1</td>\n",
       "    </tr>\n",
       "    <tr>\n",
       "      <th>4</th>\n",
       "      <td>KTFPPTEPK</td>\n",
       "      <td>HLA-A*03:01</td>\n",
       "      <td>1</td>\n",
       "    </tr>\n",
       "    <tr>\n",
       "      <th>...</th>\n",
       "      <td>...</td>\n",
       "      <td>...</td>\n",
       "      <td>...</td>\n",
       "    </tr>\n",
       "    <tr>\n",
       "      <th>88046</th>\n",
       "      <td>ILLWQPIPV</td>\n",
       "      <td>HLA-A*02:01</td>\n",
       "      <td>1</td>\n",
       "    </tr>\n",
       "    <tr>\n",
       "      <th>88047</th>\n",
       "      <td>ALDVYNGLL</td>\n",
       "      <td>HLA-A*02:01</td>\n",
       "      <td>1</td>\n",
       "    </tr>\n",
       "    <tr>\n",
       "      <th>88048</th>\n",
       "      <td>LTDAVKVMDL</td>\n",
       "      <td>HLA-A*02:01</td>\n",
       "      <td>1</td>\n",
       "    </tr>\n",
       "    <tr>\n",
       "      <th>88049</th>\n",
       "      <td>KLQCVDLHV</td>\n",
       "      <td>HLA-A*02:01</td>\n",
       "      <td>1</td>\n",
       "    </tr>\n",
       "    <tr>\n",
       "      <th>88050</th>\n",
       "      <td>FLTPKKLQCV</td>\n",
       "      <td>HLA-A*02:01</td>\n",
       "      <td>1</td>\n",
       "    </tr>\n",
       "  </tbody>\n",
       "</table>\n",
       "<p>88051 rows × 3 columns</p>\n",
       "</div>"
      ],
      "text/plain": [
       "                0            1  2\n",
       "0       KLEDLERDL  HLA-A*02:01  1\n",
       "1       LITGRLQSL       HLA-A2  1\n",
       "2       EVMPVSMAK  HLA-A*03:01  1\n",
       "3       EVMPVSMAK  HLA-A*11:01  1\n",
       "4       KTFPPTEPK  HLA-A*03:01  1\n",
       "...           ...          ... ..\n",
       "88046   ILLWQPIPV  HLA-A*02:01  1\n",
       "88047   ALDVYNGLL  HLA-A*02:01  1\n",
       "88048  LTDAVKVMDL  HLA-A*02:01  1\n",
       "88049   KLQCVDLHV  HLA-A*02:01  1\n",
       "88050  FLTPKKLQCV  HLA-A*02:01  1\n",
       "\n",
       "[88051 rows x 3 columns]"
      ]
     },
     "execution_count": 6,
     "metadata": {},
     "output_type": "execute_result"
    }
   ],
   "source": [
    "pos_data"
   ]
  },
  {
   "cell_type": "code",
   "execution_count": 7,
   "metadata": {},
   "outputs": [
    {
     "data": {
      "text/html": [
       "<div>\n",
       "<style scoped>\n",
       "    .dataframe tbody tr th:only-of-type {\n",
       "        vertical-align: middle;\n",
       "    }\n",
       "\n",
       "    .dataframe tbody tr th {\n",
       "        vertical-align: top;\n",
       "    }\n",
       "\n",
       "    .dataframe thead th {\n",
       "        text-align: right;\n",
       "    }\n",
       "</style>\n",
       "<table border=\"1\" class=\"dataframe\">\n",
       "  <thead>\n",
       "    <tr style=\"text-align: right;\">\n",
       "      <th></th>\n",
       "      <th>0</th>\n",
       "      <th>1</th>\n",
       "      <th>2</th>\n",
       "    </tr>\n",
       "  </thead>\n",
       "  <tbody>\n",
       "    <tr>\n",
       "      <th>0</th>\n",
       "      <td>VLMNHKVFE</td>\n",
       "      <td>HLA-A2</td>\n",
       "      <td>0</td>\n",
       "    </tr>\n",
       "    <tr>\n",
       "      <th>1</th>\n",
       "      <td>DLQHLSREER</td>\n",
       "      <td>HLA-A2</td>\n",
       "      <td>0</td>\n",
       "    </tr>\n",
       "    <tr>\n",
       "      <th>2</th>\n",
       "      <td>CGFDVLYPP</td>\n",
       "      <td>HLA-A2</td>\n",
       "      <td>0</td>\n",
       "    </tr>\n",
       "    <tr>\n",
       "      <th>3</th>\n",
       "      <td>SINNDLNLR</td>\n",
       "      <td>HLA-A2</td>\n",
       "      <td>0</td>\n",
       "    </tr>\n",
       "    <tr>\n",
       "      <th>4</th>\n",
       "      <td>DKDTASNEN</td>\n",
       "      <td>HLA-A2</td>\n",
       "      <td>0</td>\n",
       "    </tr>\n",
       "    <tr>\n",
       "      <th>...</th>\n",
       "      <td>...</td>\n",
       "      <td>...</td>\n",
       "      <td>...</td>\n",
       "    </tr>\n",
       "    <tr>\n",
       "      <th>880495</th>\n",
       "      <td>AMHKAMLMA</td>\n",
       "      <td>HLA-A*68:12</td>\n",
       "      <td>0</td>\n",
       "    </tr>\n",
       "    <tr>\n",
       "      <th>880496</th>\n",
       "      <td>KRIFSFLDLF</td>\n",
       "      <td>HLA-A*68:12</td>\n",
       "      <td>0</td>\n",
       "    </tr>\n",
       "    <tr>\n",
       "      <th>880497</th>\n",
       "      <td>TSPCRSQVL</td>\n",
       "      <td>HLA-A*68:12</td>\n",
       "      <td>0</td>\n",
       "    </tr>\n",
       "    <tr>\n",
       "      <th>880498</th>\n",
       "      <td>VQSGNLALA</td>\n",
       "      <td>HLA-A*68:12</td>\n",
       "      <td>0</td>\n",
       "    </tr>\n",
       "    <tr>\n",
       "      <th>880499</th>\n",
       "      <td>LKGIYHQSMS</td>\n",
       "      <td>HLA-A*68:12</td>\n",
       "      <td>0</td>\n",
       "    </tr>\n",
       "  </tbody>\n",
       "</table>\n",
       "<p>880500 rows × 3 columns</p>\n",
       "</div>"
      ],
      "text/plain": [
       "                 0            1  2\n",
       "0        VLMNHKVFE       HLA-A2  0\n",
       "1       DLQHLSREER       HLA-A2  0\n",
       "2        CGFDVLYPP       HLA-A2  0\n",
       "3        SINNDLNLR       HLA-A2  0\n",
       "4        DKDTASNEN       HLA-A2  0\n",
       "...            ...          ... ..\n",
       "880495   AMHKAMLMA  HLA-A*68:12  0\n",
       "880496  KRIFSFLDLF  HLA-A*68:12  0\n",
       "880497   TSPCRSQVL  HLA-A*68:12  0\n",
       "880498   VQSGNLALA  HLA-A*68:12  0\n",
       "880499  LKGIYHQSMS  HLA-A*68:12  0\n",
       "\n",
       "[880500 rows x 3 columns]"
      ]
     },
     "execution_count": 7,
     "metadata": {},
     "output_type": "execute_result"
    }
   ],
   "source": [
    "neg_data"
   ]
  },
  {
   "cell_type": "code",
   "execution_count": 8,
   "metadata": {},
   "outputs": [],
   "source": [
    "data = pd.concat([pos_data, neg_data], axis = 0)"
   ]
  },
  {
   "cell_type": "code",
   "execution_count": 9,
   "metadata": {},
   "outputs": [],
   "source": [
    "data_shuffled = data.sample(frac =1)"
   ]
  },
  {
   "cell_type": "code",
   "execution_count": 10,
   "metadata": {},
   "outputs": [
    {
     "data": {
      "text/html": [
       "<div>\n",
       "<style scoped>\n",
       "    .dataframe tbody tr th:only-of-type {\n",
       "        vertical-align: middle;\n",
       "    }\n",
       "\n",
       "    .dataframe tbody tr th {\n",
       "        vertical-align: top;\n",
       "    }\n",
       "\n",
       "    .dataframe thead th {\n",
       "        text-align: right;\n",
       "    }\n",
       "</style>\n",
       "<table border=\"1\" class=\"dataframe\">\n",
       "  <thead>\n",
       "    <tr style=\"text-align: right;\">\n",
       "      <th></th>\n",
       "      <th>0</th>\n",
       "      <th>1</th>\n",
       "      <th>2</th>\n",
       "    </tr>\n",
       "  </thead>\n",
       "  <tbody>\n",
       "    <tr>\n",
       "      <th>0</th>\n",
       "      <td>LKEEFSAEE</td>\n",
       "      <td>HLA-A*24:02</td>\n",
       "      <td>0</td>\n",
       "    </tr>\n",
       "    <tr>\n",
       "      <th>1</th>\n",
       "      <td>LLPKTFGQSS</td>\n",
       "      <td>HLA-A*02:03</td>\n",
       "      <td>0</td>\n",
       "    </tr>\n",
       "    <tr>\n",
       "      <th>2</th>\n",
       "      <td>DSSQCSPSP</td>\n",
       "      <td>HLA-C*05:01</td>\n",
       "      <td>0</td>\n",
       "    </tr>\n",
       "    <tr>\n",
       "      <th>3</th>\n",
       "      <td>GSVMLGFAR</td>\n",
       "      <td>HLA-A*02:01</td>\n",
       "      <td>0</td>\n",
       "    </tr>\n",
       "    <tr>\n",
       "      <th>4</th>\n",
       "      <td>LRLSKLRRC</td>\n",
       "      <td>HLA-A*11:01</td>\n",
       "      <td>0</td>\n",
       "    </tr>\n",
       "    <tr>\n",
       "      <th>...</th>\n",
       "      <td>...</td>\n",
       "      <td>...</td>\n",
       "      <td>...</td>\n",
       "    </tr>\n",
       "    <tr>\n",
       "      <th>968546</th>\n",
       "      <td>NHPGQLWRW</td>\n",
       "      <td>HLA-B*35:01</td>\n",
       "      <td>0</td>\n",
       "    </tr>\n",
       "    <tr>\n",
       "      <th>968547</th>\n",
       "      <td>LRDLLIRTHM</td>\n",
       "      <td>HLA-A*02:06</td>\n",
       "      <td>0</td>\n",
       "    </tr>\n",
       "    <tr>\n",
       "      <th>968548</th>\n",
       "      <td>PRAPGEQQR</td>\n",
       "      <td>HLA-A*02:01</td>\n",
       "      <td>0</td>\n",
       "    </tr>\n",
       "    <tr>\n",
       "      <th>968549</th>\n",
       "      <td>FDVVTKCVS</td>\n",
       "      <td>HLA-A*30:02</td>\n",
       "      <td>0</td>\n",
       "    </tr>\n",
       "    <tr>\n",
       "      <th>968550</th>\n",
       "      <td>SLGSQKERLL</td>\n",
       "      <td>HLA-A*02:01</td>\n",
       "      <td>0</td>\n",
       "    </tr>\n",
       "  </tbody>\n",
       "</table>\n",
       "<p>968551 rows × 3 columns</p>\n",
       "</div>"
      ],
      "text/plain": [
       "                 0            1  2\n",
       "0        LKEEFSAEE  HLA-A*24:02  0\n",
       "1       LLPKTFGQSS  HLA-A*02:03  0\n",
       "2        DSSQCSPSP  HLA-C*05:01  0\n",
       "3        GSVMLGFAR  HLA-A*02:01  0\n",
       "4        LRLSKLRRC  HLA-A*11:01  0\n",
       "...            ...          ... ..\n",
       "968546   NHPGQLWRW  HLA-B*35:01  0\n",
       "968547  LRDLLIRTHM  HLA-A*02:06  0\n",
       "968548   PRAPGEQQR  HLA-A*02:01  0\n",
       "968549   FDVVTKCVS  HLA-A*30:02  0\n",
       "968550  SLGSQKERLL  HLA-A*02:01  0\n",
       "\n",
       "[968551 rows x 3 columns]"
      ]
     },
     "execution_count": 10,
     "metadata": {},
     "output_type": "execute_result"
    }
   ],
   "source": [
    "data_shuffled.reset_index(drop = True)"
   ]
  },
  {
   "cell_type": "code",
   "execution_count": 11,
   "metadata": {},
   "outputs": [],
   "source": [
    "data_shuffled.to_csv('fulldata_withlabels_combined.txt', sep = '\\t', header = False, index = False)"
   ]
  },
  {
   "cell_type": "code",
   "execution_count": 14,
   "metadata": {},
   "outputs": [
    {
     "name": "stdout",
     "output_type": "stream",
     "text": [
      "YYAGYREKYRQTDVNKLYLRYNFYTWAERAYTWY\n",
      "34\n"
     ]
    }
   ],
   "source": [
    "x = pseq_dict\n",
    "print(x.get('HLA-C*05:01'))\n",
    "print(len(x.get('HLA-C*05:01')))"
   ]
  },
  {
   "cell_type": "code",
   "execution_count": 15,
   "metadata": {},
   "outputs": [
    {
     "name": "stdout",
     "output_type": "stream",
     "text": [
      "YYATYRNIFTNTYESNLYIRYDSYTWAVLAYLWY\n",
      "34\n"
     ]
    }
   ],
   "source": [
    "print(x.get('HLA-B*35:01'))\n",
    "print(len(x.get('HLA-B*35:01')))"
   ]
  },
  {
   "cell_type": "code",
   "execution_count": 16,
   "metadata": {},
   "outputs": [
    {
     "data": {
      "text/plain": [
       "10387"
      ]
     },
     "execution_count": 16,
     "metadata": {},
     "output_type": "execute_result"
    }
   ],
   "source": [
    "len(pseq_dict)"
   ]
  },
  {
   "cell_type": "code",
   "execution_count": 17,
   "metadata": {},
   "outputs": [],
   "source": [
    "def convert_alleleseq_to_pseudoseq(seq_dict, blosum_matrix):\n",
    "    aa={\"A\":0,\"R\":1,\"N\":2,\"D\":3,\"C\":4,\"Q\":5,\"E\":6,\"G\":7,\"H\":8,\"I\":9,\"L\":10,\"K\":11,\"M\":12,\"F\":13,\"P\":14,\"S\":15,\"T\":16,\"W\":17,\"Y\":18,\"V\":19}\n",
    "\n",
    "    residue_indices = list(range(0,34,1))\n",
    "    #Now encode the MHC sequences into pseudo-sequences.\n",
    "    for allele in seq_dict.keys():\n",
    "        new_pseq = []\n",
    "        pseq =\"\"\n",
    "        for index in residue_indices:\n",
    "            pseq+= seq_dict[allele][index]\n",
    "            new_pseq.append(blosum_matrix[aa[seq_dict[allele][index]]]) \n",
    "        pseq_dict[allele] = new_pseq\n",
    "    \n",
    "    return pseq_dict\n",
    "\n",
    "pseq_dict_converted = convert_alleleseq_to_pseudoseq(pseq_dict, blosum_matrix)"
   ]
  },
  {
   "cell_type": "code",
   "execution_count": 18,
   "metadata": {},
   "outputs": [
    {
     "data": {
      "text/plain": [
       "10387"
      ]
     },
     "execution_count": 18,
     "metadata": {},
     "output_type": "execute_result"
    }
   ],
   "source": [
    "len(pseq_dict_converted)"
   ]
  },
  {
   "cell_type": "code",
   "execution_count": 19,
   "metadata": {},
   "outputs": [],
   "source": [
    "def mhc_peptide_pair(path, pseq_dict_matrix, blosum_matrix):\n",
    "    aa={\"A\":0,\"R\":1,\"N\":2,\"D\":3,\"C\":4,\"Q\":5,\"E\":6,\"G\":7,\"H\":8,\"I\":9,\"L\":10,\"K\":11,\"M\":12,\"F\":13,\"P\":14,\"S\":15,\"T\":16,\"W\":17,\"Y\":18,\"V\":19}\n",
    "    data_dict = {}\n",
    "    pep_length = [8,9,10,11,12,13,14,15]\n",
    "    f = open(path,\"r\")\n",
    "    for line in f:\n",
    "        info = re.split(\"\\t\",line)#Retrive information from a tab-delimited line\n",
    "        allele = info[1].strip()\n",
    "        if allele in pseq_dict.keys():\n",
    "            affinity = int(info[-1].strip()) #Retrive lable information \n",
    "            pep = info[0].strip() #Retrive ligand information \n",
    "            \n",
    "            if set(list(pep)).difference(list('ACDEFGHIKLMNPQRSTVWY')):\n",
    "                print('Illegal peptides')\n",
    "                continue   \n",
    "            if len(pep) not in pep_length:\n",
    "                print('Illegal peptides')\n",
    "                continue \n",
    "                \n",
    "            pep_blosum = []#Encoded peptide seuqence\n",
    "            for residue_index in range(15):\n",
    "                #Encode the peptide sequence in the 1-12 columns, with the N-terminal aligned to the left end\n",
    "                #If the peptide is shorter than 12 residues, the remaining positions on\n",
    "                #the rightare filled will zero-padding\n",
    "                if residue_index < len(pep):\n",
    "                    pep_blosum.append(blosum_matrix[aa[pep[residue_index]]])\n",
    "                else:\n",
    "                    pep_blosum.append(np.zeros(20))\n",
    "            for residue_index in range(15):\n",
    "                #Encode the peptide sequence in the 13-24 columns, with the C-terminal aligned to the right end\n",
    "                #If the peptide is shorter than 12 residues, the remaining positions on\n",
    "                #the left are filled will zero-padding\n",
    "                if 15 - residue_index > len(pep):\n",
    "                    pep_blosum.append(np.zeros(20)) \n",
    "                else:\n",
    "                    pep_blosum.append(blosum_matrix[aa[pep[len(pep) - 15 + residue_index]]])\n",
    "\n",
    "            new_data = [pep_blosum, pseq_dict_matrix[allele], affinity]\n",
    "            \n",
    "            if allele not in data_dict.keys():\n",
    "                data_dict[allele] = [new_data]\n",
    "            else:\n",
    "                data_dict[allele].append(new_data)\n",
    "                \n",
    "    return data_dict"
   ]
  },
  {
   "cell_type": "code",
   "execution_count": 21,
   "metadata": {},
   "outputs": [],
   "source": [
    "##pos_pseudo_seq = mhc_peptide_pair('viralepitope/iedb_data.txt', pseq_dict, blosum_matrix)\n",
    "#type(pos_pseudo_seq)\n",
    "#neg_pseudo_seq = mhc_peptide_pair('viralepitope/negative_epitope_seq_affinity.txt', pseq_dict, blosum_matrix)\n",
    "#neg_pseudo_seq['HLA-A*24:03']"
   ]
  },
  {
   "cell_type": "code",
   "execution_count": 20,
   "metadata": {},
   "outputs": [
    {
     "name": "stdout",
     "output_type": "stream",
     "text": [
      "Illegal peptides\n",
      "Illegal peptides\n",
      "Illegal peptides\n",
      "Illegal peptides\n",
      "Illegal peptides\n",
      "Illegal peptides\n",
      "Illegal peptides\n",
      "Illegal peptides\n",
      "Illegal peptides\n",
      "Illegal peptides\n",
      "Illegal peptides\n",
      "Illegal peptides\n",
      "Illegal peptides\n",
      "Illegal peptides\n",
      "Illegal peptides\n",
      "Illegal peptides\n",
      "Illegal peptides\n"
     ]
    }
   ],
   "source": [
    "pseudo_seq = mhc_peptide_pair('fulldata_withlabels_combined.txt', pseq_dict, blosum_matrix)"
   ]
  },
  {
   "cell_type": "code",
   "execution_count": 21,
   "metadata": {},
   "outputs": [
    {
     "name": "stdout",
     "output_type": "stream",
     "text": [
      "Illegal peptides\n",
      "Illegal peptides\n",
      "Illegal peptides\n",
      "Illegal peptides\n",
      "Illegal peptides\n",
      "Illegal peptides\n",
      "Illegal peptides\n",
      "Illegal peptides\n",
      "Illegal peptides\n",
      "Illegal peptides\n",
      "Illegal peptides\n",
      "Illegal peptides\n",
      "Illegal peptides\n",
      "Illegal peptides\n",
      "Illegal peptides\n",
      "Illegal peptides\n",
      "Illegal peptides\n"
     ]
    }
   ],
   "source": [
    "pseudo_seq_converted = mhc_peptide_pair('fulldata_withlabels_combined.txt', pseq_dict_converted, blosum_matrix)"
   ]
  },
  {
   "cell_type": "code",
   "execution_count": 22,
   "metadata": {},
   "outputs": [
    {
     "data": {
      "text/plain": [
       "121"
      ]
     },
     "execution_count": 22,
     "metadata": {},
     "output_type": "execute_result"
    }
   ],
   "source": [
    "len(pseudo_seq)"
   ]
  },
  {
   "cell_type": "code",
   "execution_count": 23,
   "metadata": {},
   "outputs": [
    {
     "data": {
      "text/plain": [
       "121"
      ]
     },
     "execution_count": 23,
     "metadata": {},
     "output_type": "execute_result"
    }
   ],
   "source": [
    "len(pseudo_seq_converted)"
   ]
  },
  {
   "cell_type": "code",
   "execution_count": 24,
   "metadata": {},
   "outputs": [],
   "source": [
    "import pickle"
   ]
  },
  {
   "cell_type": "code",
   "execution_count": 25,
   "metadata": {},
   "outputs": [],
   "source": [
    "with open('fulldata_pseudoseq_dictionary.pkl', 'wb') as f:\n",
    "    pickle.dump(pseudo_seq,f)"
   ]
  },
  {
   "cell_type": "code",
   "execution_count": 26,
   "metadata": {},
   "outputs": [],
   "source": [
    "with open('fulldata_pseudoseq_dictionary_converted.pkl', 'wb') as f:\n",
    "    pickle.dump(pseudo_seq_converted, f)"
   ]
  },
  {
   "cell_type": "code",
   "execution_count": 15,
   "metadata": {},
   "outputs": [],
   "source": [
    "#with open('pos_pseudo_seq_dictionary.pkl', 'wb') as f:\n",
    "#    pickle.dump(pos_pseudo_seq, f)\n",
    "#with open('neg_pseudo_seq_dictionary.pkl', 'wb') as f:\n",
    "#    pickle.dump(neg_pseudo_seq, f)"
   ]
  },
  {
   "cell_type": "code",
   "execution_count": 19,
   "metadata": {},
   "outputs": [],
   "source": [
    "#import csv\n",
    "# open file for writing, \"w\" is writing\n",
    "#w = csv.writer(open(\"viralepitope/positive_pseudo_seq.csv\", \"w\"))\n",
    "\n",
    "# loop over dictionary keys and values\n",
    "#for key, val in pos_pseudo_seq.items():\n",
    "#    # write every key and value to file\n",
    "#    w.writerow([key, val])"
   ]
  },
  {
   "cell_type": "code",
   "execution_count": 20,
   "metadata": {},
   "outputs": [],
   "source": [
    "# open file for writing, \"w\" is writing\n",
    "#w1 = csv.writer(open(\"viralepitope/negative_pseudo_seq.csv\", \"w\"))\n",
    "\n",
    "# loop over dictionary keys and values\n",
    "#for key, val in neg_pseudo_seq.items():\n",
    "    # write every key and value to file\n",
    "#    w1.writerow([key, val])"
   ]
  },
  {
   "cell_type": "code",
   "execution_count": null,
   "metadata": {},
   "outputs": [],
   "source": []
  }
 ],
 "metadata": {
  "kernelspec": {
   "display_name": "Python 3.8.13 ('viralepitope': conda)",
   "language": "python",
   "name": "python3"
  },
  "language_info": {
   "codemirror_mode": {
    "name": "ipython",
    "version": 3
   },
   "file_extension": ".py",
   "mimetype": "text/x-python",
   "name": "python",
   "nbconvert_exporter": "python",
   "pygments_lexer": "ipython3",
   "version": "3.8.13"
  },
  "orig_nbformat": 4,
  "vscode": {
   "interpreter": {
    "hash": "89a569e57c3a868c837518f690d34e8ba538dcefa2ece26ecfaf82d5cd67ebe4"
   }
  }
 },
 "nbformat": 4,
 "nbformat_minor": 2
}
