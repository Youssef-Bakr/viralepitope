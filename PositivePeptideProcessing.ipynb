{
 "cells": [
  {
   "cell_type": "code",
   "execution_count": 1,
   "metadata": {},
   "outputs": [],
   "source": [
    "import pandas as pd"
   ]
  },
  {
   "cell_type": "code",
   "execution_count": 2,
   "metadata": {},
   "outputs": [],
   "source": [
    "data = pd.read_csv('mhc_ligand_full.csv', dtype = object)"
   ]
  },
  {
   "cell_type": "code",
   "execution_count": 3,
   "metadata": {},
   "outputs": [
    {
     "data": {
      "text/plain": [
       "Index(['Reference', 'Reference.1', 'Reference.2', 'Reference.3', 'Reference.4',\n",
       "       'Reference.5', 'Reference.6', 'Reference.7', 'Reference.8', 'Epitope',\n",
       "       'Epitope.1', 'Epitope.2', 'Epitope.3', 'Epitope.4', 'Epitope.5',\n",
       "       'Epitope.6', 'Epitope.7', 'Epitope.8', 'Epitope.9', 'Epitope.10',\n",
       "       'Epitope.11', 'Epitope.12', 'Epitope.13', 'Epitope.14',\n",
       "       'Related Object', 'Related Object.1', 'Related Object.2',\n",
       "       'Related Object.3', 'Related Object.4', 'Related Object.5',\n",
       "       'Related Object.6', 'Related Object.7', 'Related Object.8',\n",
       "       'Related Object.9', 'Related Object.10', 'Related Object.11',\n",
       "       'Related Object.12', 'Related Object.13', 'Related Object.14', 'Host',\n",
       "       'Host.1', 'Host.2', 'Host.3', 'Host.4', 'In vivo Process',\n",
       "       'In vivo Process.1', 'In vivo Process.2', 'In vivo Process.3',\n",
       "       'In vivo Process.4', 'In vivo Process.5', 'In vivo Process.6',\n",
       "       'In vivo Process.7', 'In vivo Process.8', 'In vivo Process.9',\n",
       "       'In vivo Process.10', 'In vivo Process.11', 'In vivo Process.12',\n",
       "       'In vivo Process.13', 'In vivo Process.14', 'In vivo Process.15',\n",
       "       'In vivo Process.16', 'In vivo Process.17', 'In vitro Process',\n",
       "       'In vitro Process.1', 'In vitro Process.2', 'In vitro Process.3',\n",
       "       'In vitro Process.4', 'In vitro Process.5', 'In vitro Process.6',\n",
       "       'In vitro Process.7', 'In vitro Process.8', 'In vitro Process.9',\n",
       "       'In vitro Process.10', 'In vitro Process.11', 'In vitro Process.12',\n",
       "       'In vitro Process.13', 'In vitro Process.14',\n",
       "       'Processed Antigen Comments', 'Assay', 'Assay.1', 'Assay.2', 'Assay.3',\n",
       "       'Assay.4', 'Assay.5', 'Assay.6', 'Assay.7', 'Assay.8', 'Assay.9',\n",
       "       'Assay.10', 'Assay.11', 'Antigen Processing Cells',\n",
       "       'Antigen Processing Cells.1', 'Antigen Processing Cells.2',\n",
       "       'Antigen Processing Cells.3', 'Antigen Processing Cells.4', 'MHC',\n",
       "       'MHC.1', 'MHC.2', 'MHC.3', 'Assay Comments'],\n",
       "      dtype='object')"
      ]
     },
     "execution_count": 3,
     "metadata": {},
     "output_type": "execute_result"
    }
   ],
   "source": [
    "data.columns"
   ]
  },
  {
   "cell_type": "code",
   "execution_count": 4,
   "metadata": {},
   "outputs": [
    {
     "data": {
      "text/plain": [
       "(4391206, 100)"
      ]
     },
     "execution_count": 4,
     "metadata": {},
     "output_type": "execute_result"
    }
   ],
   "source": [
    "data.shape"
   ]
  },
  {
   "cell_type": "code",
   "execution_count": 5,
   "metadata": {},
   "outputs": [
    {
     "data": {
      "text/plain": [
       "0          Description\n",
       "1            KLEDLERDL\n",
       "2            LITGRLQSL\n",
       "3             TRVAFAGL\n",
       "4             RNTDFFGL\n",
       "              ...     \n",
       "4391201      LRKRQLAVL\n",
       "4391202      LRKRQLTAL\n",
       "4391203      LRKRQLTVA\n",
       "4391204      LRKRQLTVI\n",
       "4391205      LRKRQLTVV\n",
       "Name: Epitope.2, Length: 4391206, dtype: object"
      ]
     },
     "execution_count": 5,
     "metadata": {},
     "output_type": "execute_result"
    }
   ],
   "source": [
    "data['Epitope.2']"
   ]
  },
  {
   "cell_type": "code",
   "execution_count": 6,
   "metadata": {},
   "outputs": [
    {
     "data": {
      "text/plain": [
       "0          Allele Name\n",
       "1          HLA-A*02:01\n",
       "2               HLA-A2\n",
       "3                H2-Kb\n",
       "4                H2-Kb\n",
       "              ...     \n",
       "4391201    Anpl-UAA*76\n",
       "4391202    Anpl-UAA*76\n",
       "4391203    Anpl-UAA*76\n",
       "4391204    Anpl-UAA*76\n",
       "4391205    Anpl-UAA*76\n",
       "Name: MHC, Length: 4391206, dtype: object"
      ]
     },
     "execution_count": 6,
     "metadata": {},
     "output_type": "execute_result"
    }
   ],
   "source": [
    "data['MHC']"
   ]
  },
  {
   "cell_type": "code",
   "execution_count": 7,
   "metadata": {},
   "outputs": [
    {
     "data": {
      "text/plain": [
       "0          MHC allele class\n",
       "1                         I\n",
       "2                         I\n",
       "3                         I\n",
       "4                         I\n",
       "                 ...       \n",
       "4391201                   I\n",
       "4391202                   I\n",
       "4391203                   I\n",
       "4391204                   I\n",
       "4391205                   I\n",
       "Name: MHC.3, Length: 4391206, dtype: object"
      ]
     },
     "execution_count": 7,
     "metadata": {},
     "output_type": "execute_result"
    }
   ],
   "source": [
    "data['MHC.3']"
   ]
  },
  {
   "cell_type": "code",
   "execution_count": 8,
   "metadata": {},
   "outputs": [
    {
     "data": {
      "text/plain": [
       "0                               Name\n",
       "1               human (Homo sapiens)\n",
       "2               human (Homo sapiens)\n",
       "3               mouse (Mus musculus)\n",
       "4               mouse (Mus musculus)\n",
       "                     ...            \n",
       "4391201    duck (Anas platyrhynchos)\n",
       "4391202    duck (Anas platyrhynchos)\n",
       "4391203    duck (Anas platyrhynchos)\n",
       "4391204    duck (Anas platyrhynchos)\n",
       "4391205    duck (Anas platyrhynchos)\n",
       "Name: Host, Length: 4391206, dtype: object"
      ]
     },
     "execution_count": 8,
     "metadata": {},
     "output_type": "execute_result"
    }
   ],
   "source": [
    "data['Host']"
   ]
  },
  {
   "cell_type": "code",
   "execution_count": 9,
   "metadata": {},
   "outputs": [],
   "source": [
    "humans = data[data['Host']== 'human (Homo sapiens)']"
   ]
  },
  {
   "cell_type": "code",
   "execution_count": 10,
   "metadata": {},
   "outputs": [
    {
     "data": {
      "text/plain": [
       "(718890, 100)"
      ]
     },
     "execution_count": 10,
     "metadata": {},
     "output_type": "execute_result"
    }
   ],
   "source": [
    "humans.shape"
   ]
  },
  {
   "cell_type": "code",
   "execution_count": 11,
   "metadata": {},
   "outputs": [
    {
     "data": {
      "text/html": [
       "<div>\n",
       "<style scoped>\n",
       "    .dataframe tbody tr th:only-of-type {\n",
       "        vertical-align: middle;\n",
       "    }\n",
       "\n",
       "    .dataframe tbody tr th {\n",
       "        vertical-align: top;\n",
       "    }\n",
       "\n",
       "    .dataframe thead th {\n",
       "        text-align: right;\n",
       "    }\n",
       "</style>\n",
       "<table border=\"1\" class=\"dataframe\">\n",
       "  <thead>\n",
       "    <tr style=\"text-align: right;\">\n",
       "      <th></th>\n",
       "      <th>Reference</th>\n",
       "      <th>Reference.1</th>\n",
       "      <th>Reference.2</th>\n",
       "      <th>Reference.3</th>\n",
       "      <th>Reference.4</th>\n",
       "      <th>Reference.5</th>\n",
       "      <th>Reference.6</th>\n",
       "      <th>Reference.7</th>\n",
       "      <th>Reference.8</th>\n",
       "      <th>Epitope</th>\n",
       "      <th>...</th>\n",
       "      <th>Antigen Processing Cells</th>\n",
       "      <th>Antigen Processing Cells.1</th>\n",
       "      <th>Antigen Processing Cells.2</th>\n",
       "      <th>Antigen Processing Cells.3</th>\n",
       "      <th>Antigen Processing Cells.4</th>\n",
       "      <th>MHC</th>\n",
       "      <th>MHC.1</th>\n",
       "      <th>MHC.2</th>\n",
       "      <th>MHC.3</th>\n",
       "      <th>Assay Comments</th>\n",
       "    </tr>\n",
       "  </thead>\n",
       "  <tbody>\n",
       "    <tr>\n",
       "      <th>1</th>\n",
       "      <td>http://www.iedb.org/assay/26</td>\n",
       "      <td>http://www.iedb.org/reference/274</td>\n",
       "      <td>Literature</td>\n",
       "      <td>15448372</td>\n",
       "      <td>Yi-Hsiang Huang; Mi-Hua Tao; Cheng-Po Hu; Wan-...</td>\n",
       "      <td>J Gen Virol</td>\n",
       "      <td>2004</td>\n",
       "      <td>Identification of novel HLA-A*0201-restricted ...</td>\n",
       "      <td>NaN</td>\n",
       "      <td>http://www.iedb.org/epitope/31803</td>\n",
       "      <td>...</td>\n",
       "      <td>NaN</td>\n",
       "      <td>NaN</td>\n",
       "      <td>NaN</td>\n",
       "      <td>NaN</td>\n",
       "      <td>NaN</td>\n",
       "      <td>HLA-A*02:01</td>\n",
       "      <td>http://purl.obolibrary.org/obo/MRO_0001007</td>\n",
       "      <td>NaN</td>\n",
       "      <td>I</td>\n",
       "      <td>NaN</td>\n",
       "    </tr>\n",
       "    <tr>\n",
       "      <th>2</th>\n",
       "      <td>http://www.iedb.org/assay/115</td>\n",
       "      <td>http://www.iedb.org/reference/299</td>\n",
       "      <td>Literature</td>\n",
       "      <td>15140958</td>\n",
       "      <td>Yue-Dan Wang; Wan-Yee Fion Sin; Guo-Bing Xu; H...</td>\n",
       "      <td>J Virol</td>\n",
       "      <td>2004</td>\n",
       "      <td>T-cell epitopes in severe acute respiratory sy...</td>\n",
       "      <td>NaN</td>\n",
       "      <td>http://www.iedb.org/epitope/36724</td>\n",
       "      <td>...</td>\n",
       "      <td>NaN</td>\n",
       "      <td>NaN</td>\n",
       "      <td>NaN</td>\n",
       "      <td>NaN</td>\n",
       "      <td>NaN</td>\n",
       "      <td>HLA-A2</td>\n",
       "      <td>http://purl.obolibrary.org/obo/MRO_0001530</td>\n",
       "      <td>NaN</td>\n",
       "      <td>I</td>\n",
       "      <td>NaN</td>\n",
       "    </tr>\n",
       "    <tr>\n",
       "      <th>5</th>\n",
       "      <td>http://www.iedb.org/assay/247</td>\n",
       "      <td>http://www.iedb.org/reference/329</td>\n",
       "      <td>Literature</td>\n",
       "      <td>15104671</td>\n",
       "      <td>C Sylvester-Hvid; M Nielsen; K Lamberth; G R&amp;o...</td>\n",
       "      <td>Tissue Antigens</td>\n",
       "      <td>2004</td>\n",
       "      <td>SARS CTL vaccine candidates; HLA supertype-, g...</td>\n",
       "      <td>NaN</td>\n",
       "      <td>http://www.iedb.org/epitope/14829</td>\n",
       "      <td>...</td>\n",
       "      <td>NaN</td>\n",
       "      <td>NaN</td>\n",
       "      <td>NaN</td>\n",
       "      <td>NaN</td>\n",
       "      <td>NaN</td>\n",
       "      <td>HLA-A*03:01</td>\n",
       "      <td>http://purl.obolibrary.org/obo/MRO_0001026</td>\n",
       "      <td>NaN</td>\n",
       "      <td>I</td>\n",
       "      <td>NaN</td>\n",
       "    </tr>\n",
       "    <tr>\n",
       "      <th>6</th>\n",
       "      <td>http://www.iedb.org/assay/248</td>\n",
       "      <td>http://www.iedb.org/reference/329</td>\n",
       "      <td>Literature</td>\n",
       "      <td>15104671</td>\n",
       "      <td>C Sylvester-Hvid; M Nielsen; K Lamberth; G R&amp;o...</td>\n",
       "      <td>Tissue Antigens</td>\n",
       "      <td>2004</td>\n",
       "      <td>SARS CTL vaccine candidates; HLA supertype-, g...</td>\n",
       "      <td>NaN</td>\n",
       "      <td>http://www.iedb.org/epitope/14829</td>\n",
       "      <td>...</td>\n",
       "      <td>NaN</td>\n",
       "      <td>NaN</td>\n",
       "      <td>NaN</td>\n",
       "      <td>NaN</td>\n",
       "      <td>NaN</td>\n",
       "      <td>HLA-A*11:01</td>\n",
       "      <td>http://purl.obolibrary.org/obo/MRO_0001029</td>\n",
       "      <td>NaN</td>\n",
       "      <td>I</td>\n",
       "      <td>NaN</td>\n",
       "    </tr>\n",
       "    <tr>\n",
       "      <th>7</th>\n",
       "      <td>http://www.iedb.org/assay/249</td>\n",
       "      <td>http://www.iedb.org/reference/329</td>\n",
       "      <td>Literature</td>\n",
       "      <td>15104671</td>\n",
       "      <td>C Sylvester-Hvid; M Nielsen; K Lamberth; G R&amp;o...</td>\n",
       "      <td>Tissue Antigens</td>\n",
       "      <td>2004</td>\n",
       "      <td>SARS CTL vaccine candidates; HLA supertype-, g...</td>\n",
       "      <td>NaN</td>\n",
       "      <td>http://www.iedb.org/epitope/33667</td>\n",
       "      <td>...</td>\n",
       "      <td>NaN</td>\n",
       "      <td>NaN</td>\n",
       "      <td>NaN</td>\n",
       "      <td>NaN</td>\n",
       "      <td>NaN</td>\n",
       "      <td>HLA-A*03:01</td>\n",
       "      <td>http://purl.obolibrary.org/obo/MRO_0001026</td>\n",
       "      <td>NaN</td>\n",
       "      <td>I</td>\n",
       "      <td>NaN</td>\n",
       "    </tr>\n",
       "  </tbody>\n",
       "</table>\n",
       "<p>5 rows × 100 columns</p>\n",
       "</div>"
      ],
      "text/plain": [
       "                       Reference                        Reference.1  \\\n",
       "1   http://www.iedb.org/assay/26  http://www.iedb.org/reference/274   \n",
       "2  http://www.iedb.org/assay/115  http://www.iedb.org/reference/299   \n",
       "5  http://www.iedb.org/assay/247  http://www.iedb.org/reference/329   \n",
       "6  http://www.iedb.org/assay/248  http://www.iedb.org/reference/329   \n",
       "7  http://www.iedb.org/assay/249  http://www.iedb.org/reference/329   \n",
       "\n",
       "  Reference.2 Reference.3                                        Reference.4  \\\n",
       "1  Literature    15448372  Yi-Hsiang Huang; Mi-Hua Tao; Cheng-Po Hu; Wan-...   \n",
       "2  Literature    15140958  Yue-Dan Wang; Wan-Yee Fion Sin; Guo-Bing Xu; H...   \n",
       "5  Literature    15104671  C Sylvester-Hvid; M Nielsen; K Lamberth; G R&o...   \n",
       "6  Literature    15104671  C Sylvester-Hvid; M Nielsen; K Lamberth; G R&o...   \n",
       "7  Literature    15104671  C Sylvester-Hvid; M Nielsen; K Lamberth; G R&o...   \n",
       "\n",
       "       Reference.5 Reference.6  \\\n",
       "1      J Gen Virol        2004   \n",
       "2          J Virol        2004   \n",
       "5  Tissue Antigens        2004   \n",
       "6  Tissue Antigens        2004   \n",
       "7  Tissue Antigens        2004   \n",
       "\n",
       "                                         Reference.7 Reference.8  \\\n",
       "1  Identification of novel HLA-A*0201-restricted ...         NaN   \n",
       "2  T-cell epitopes in severe acute respiratory sy...         NaN   \n",
       "5  SARS CTL vaccine candidates; HLA supertype-, g...         NaN   \n",
       "6  SARS CTL vaccine candidates; HLA supertype-, g...         NaN   \n",
       "7  SARS CTL vaccine candidates; HLA supertype-, g...         NaN   \n",
       "\n",
       "                             Epitope  ... Antigen Processing Cells  \\\n",
       "1  http://www.iedb.org/epitope/31803  ...                      NaN   \n",
       "2  http://www.iedb.org/epitope/36724  ...                      NaN   \n",
       "5  http://www.iedb.org/epitope/14829  ...                      NaN   \n",
       "6  http://www.iedb.org/epitope/14829  ...                      NaN   \n",
       "7  http://www.iedb.org/epitope/33667  ...                      NaN   \n",
       "\n",
       "  Antigen Processing Cells.1 Antigen Processing Cells.2  \\\n",
       "1                        NaN                        NaN   \n",
       "2                        NaN                        NaN   \n",
       "5                        NaN                        NaN   \n",
       "6                        NaN                        NaN   \n",
       "7                        NaN                        NaN   \n",
       "\n",
       "  Antigen Processing Cells.3 Antigen Processing Cells.4          MHC  \\\n",
       "1                        NaN                        NaN  HLA-A*02:01   \n",
       "2                        NaN                        NaN       HLA-A2   \n",
       "5                        NaN                        NaN  HLA-A*03:01   \n",
       "6                        NaN                        NaN  HLA-A*11:01   \n",
       "7                        NaN                        NaN  HLA-A*03:01   \n",
       "\n",
       "                                        MHC.1 MHC.2 MHC.3 Assay Comments  \n",
       "1  http://purl.obolibrary.org/obo/MRO_0001007   NaN     I            NaN  \n",
       "2  http://purl.obolibrary.org/obo/MRO_0001530   NaN     I            NaN  \n",
       "5  http://purl.obolibrary.org/obo/MRO_0001026   NaN     I            NaN  \n",
       "6  http://purl.obolibrary.org/obo/MRO_0001029   NaN     I            NaN  \n",
       "7  http://purl.obolibrary.org/obo/MRO_0001026   NaN     I            NaN  \n",
       "\n",
       "[5 rows x 100 columns]"
      ]
     },
     "execution_count": 11,
     "metadata": {},
     "output_type": "execute_result"
    }
   ],
   "source": [
    "humans.head()"
   ]
  },
  {
   "cell_type": "code",
   "execution_count": 12,
   "metadata": {},
   "outputs": [
    {
     "data": {
      "text/html": [
       "<div>\n",
       "<style scoped>\n",
       "    .dataframe tbody tr th:only-of-type {\n",
       "        vertical-align: middle;\n",
       "    }\n",
       "\n",
       "    .dataframe tbody tr th {\n",
       "        vertical-align: top;\n",
       "    }\n",
       "\n",
       "    .dataframe thead th {\n",
       "        text-align: right;\n",
       "    }\n",
       "</style>\n",
       "<table border=\"1\" class=\"dataframe\">\n",
       "  <thead>\n",
       "    <tr style=\"text-align: right;\">\n",
       "      <th></th>\n",
       "      <th>Reference</th>\n",
       "      <th>Reference.1</th>\n",
       "      <th>Reference.2</th>\n",
       "      <th>Reference.3</th>\n",
       "      <th>Reference.4</th>\n",
       "      <th>Reference.5</th>\n",
       "      <th>Reference.6</th>\n",
       "      <th>Reference.7</th>\n",
       "      <th>Reference.8</th>\n",
       "      <th>Epitope</th>\n",
       "      <th>...</th>\n",
       "      <th>Antigen Processing Cells</th>\n",
       "      <th>Antigen Processing Cells.1</th>\n",
       "      <th>Antigen Processing Cells.2</th>\n",
       "      <th>Antigen Processing Cells.3</th>\n",
       "      <th>Antigen Processing Cells.4</th>\n",
       "      <th>MHC</th>\n",
       "      <th>MHC.1</th>\n",
       "      <th>MHC.2</th>\n",
       "      <th>MHC.3</th>\n",
       "      <th>Assay Comments</th>\n",
       "    </tr>\n",
       "  </thead>\n",
       "  <tbody>\n",
       "    <tr>\n",
       "      <th>4391167</th>\n",
       "      <td>http://www.iedb.org/assay/18995841</td>\n",
       "      <td>http://www.iedb.org/reference/1040639</td>\n",
       "      <td>Literature</td>\n",
       "      <td>34529764</td>\n",
       "      <td>Katrien Pletinckx; Kirsty S Nicolson; Heather ...</td>\n",
       "      <td>Blood Adv</td>\n",
       "      <td>2022</td>\n",
       "      <td>Antigen-specific immunotherapy with apitopes s...</td>\n",
       "      <td>NaN</td>\n",
       "      <td>http://www.iedb.org/epitope/2060740</td>\n",
       "      <td>...</td>\n",
       "      <td>NaN</td>\n",
       "      <td>NaN</td>\n",
       "      <td>NaN</td>\n",
       "      <td>NaN</td>\n",
       "      <td>NaN</td>\n",
       "      <td>HLA-DRA*01:01/DRB1*11:01</td>\n",
       "      <td>http://purl.obolibrary.org/obo/MRO_0001263</td>\n",
       "      <td>NaN</td>\n",
       "      <td>II</td>\n",
       "      <td>NaN</td>\n",
       "    </tr>\n",
       "    <tr>\n",
       "      <th>4391168</th>\n",
       "      <td>http://www.iedb.org/assay/18995846</td>\n",
       "      <td>http://www.iedb.org/reference/1040639</td>\n",
       "      <td>Literature</td>\n",
       "      <td>34529764</td>\n",
       "      <td>Katrien Pletinckx; Kirsty S Nicolson; Heather ...</td>\n",
       "      <td>Blood Adv</td>\n",
       "      <td>2022</td>\n",
       "      <td>Antigen-specific immunotherapy with apitopes s...</td>\n",
       "      <td>NaN</td>\n",
       "      <td>http://www.iedb.org/epitope/2060739</td>\n",
       "      <td>...</td>\n",
       "      <td>NaN</td>\n",
       "      <td>NaN</td>\n",
       "      <td>NaN</td>\n",
       "      <td>NaN</td>\n",
       "      <td>NaN</td>\n",
       "      <td>HLA-DRA*01:01/DRB1*15:01</td>\n",
       "      <td>http://purl.obolibrary.org/obo/MRO_0001267</td>\n",
       "      <td>NaN</td>\n",
       "      <td>II</td>\n",
       "      <td>NaN</td>\n",
       "    </tr>\n",
       "    <tr>\n",
       "      <th>4391169</th>\n",
       "      <td>http://www.iedb.org/assay/18995847</td>\n",
       "      <td>http://www.iedb.org/reference/1040639</td>\n",
       "      <td>Literature</td>\n",
       "      <td>34529764</td>\n",
       "      <td>Katrien Pletinckx; Kirsty S Nicolson; Heather ...</td>\n",
       "      <td>Blood Adv</td>\n",
       "      <td>2022</td>\n",
       "      <td>Antigen-specific immunotherapy with apitopes s...</td>\n",
       "      <td>NaN</td>\n",
       "      <td>http://www.iedb.org/epitope/2060739</td>\n",
       "      <td>...</td>\n",
       "      <td>NaN</td>\n",
       "      <td>NaN</td>\n",
       "      <td>NaN</td>\n",
       "      <td>NaN</td>\n",
       "      <td>NaN</td>\n",
       "      <td>HLA-DRA*01:01/DRB1*03:01</td>\n",
       "      <td>http://purl.obolibrary.org/obo/MRO_0001257</td>\n",
       "      <td>NaN</td>\n",
       "      <td>II</td>\n",
       "      <td>NaN</td>\n",
       "    </tr>\n",
       "    <tr>\n",
       "      <th>4391170</th>\n",
       "      <td>http://www.iedb.org/assay/18995848</td>\n",
       "      <td>http://www.iedb.org/reference/1040639</td>\n",
       "      <td>Literature</td>\n",
       "      <td>34529764</td>\n",
       "      <td>Katrien Pletinckx; Kirsty S Nicolson; Heather ...</td>\n",
       "      <td>Blood Adv</td>\n",
       "      <td>2022</td>\n",
       "      <td>Antigen-specific immunotherapy with apitopes s...</td>\n",
       "      <td>NaN</td>\n",
       "      <td>http://www.iedb.org/epitope/2060739</td>\n",
       "      <td>...</td>\n",
       "      <td>NaN</td>\n",
       "      <td>NaN</td>\n",
       "      <td>NaN</td>\n",
       "      <td>NaN</td>\n",
       "      <td>NaN</td>\n",
       "      <td>HLA-DRA*01:01/DRB1*04:01</td>\n",
       "      <td>http://purl.obolibrary.org/obo/MRO_0001258</td>\n",
       "      <td>NaN</td>\n",
       "      <td>II</td>\n",
       "      <td>NaN</td>\n",
       "    </tr>\n",
       "    <tr>\n",
       "      <th>4391171</th>\n",
       "      <td>http://www.iedb.org/assay/18995849</td>\n",
       "      <td>http://www.iedb.org/reference/1040639</td>\n",
       "      <td>Literature</td>\n",
       "      <td>34529764</td>\n",
       "      <td>Katrien Pletinckx; Kirsty S Nicolson; Heather ...</td>\n",
       "      <td>Blood Adv</td>\n",
       "      <td>2022</td>\n",
       "      <td>Antigen-specific immunotherapy with apitopes s...</td>\n",
       "      <td>NaN</td>\n",
       "      <td>http://www.iedb.org/epitope/2060739</td>\n",
       "      <td>...</td>\n",
       "      <td>NaN</td>\n",
       "      <td>NaN</td>\n",
       "      <td>NaN</td>\n",
       "      <td>NaN</td>\n",
       "      <td>NaN</td>\n",
       "      <td>HLA-DRA*01:01/DRB1*11:01</td>\n",
       "      <td>http://purl.obolibrary.org/obo/MRO_0001263</td>\n",
       "      <td>NaN</td>\n",
       "      <td>II</td>\n",
       "      <td>NaN</td>\n",
       "    </tr>\n",
       "  </tbody>\n",
       "</table>\n",
       "<p>5 rows × 100 columns</p>\n",
       "</div>"
      ],
      "text/plain": [
       "                                  Reference  \\\n",
       "4391167  http://www.iedb.org/assay/18995841   \n",
       "4391168  http://www.iedb.org/assay/18995846   \n",
       "4391169  http://www.iedb.org/assay/18995847   \n",
       "4391170  http://www.iedb.org/assay/18995848   \n",
       "4391171  http://www.iedb.org/assay/18995849   \n",
       "\n",
       "                                   Reference.1 Reference.2 Reference.3  \\\n",
       "4391167  http://www.iedb.org/reference/1040639  Literature    34529764   \n",
       "4391168  http://www.iedb.org/reference/1040639  Literature    34529764   \n",
       "4391169  http://www.iedb.org/reference/1040639  Literature    34529764   \n",
       "4391170  http://www.iedb.org/reference/1040639  Literature    34529764   \n",
       "4391171  http://www.iedb.org/reference/1040639  Literature    34529764   \n",
       "\n",
       "                                               Reference.4 Reference.5  \\\n",
       "4391167  Katrien Pletinckx; Kirsty S Nicolson; Heather ...   Blood Adv   \n",
       "4391168  Katrien Pletinckx; Kirsty S Nicolson; Heather ...   Blood Adv   \n",
       "4391169  Katrien Pletinckx; Kirsty S Nicolson; Heather ...   Blood Adv   \n",
       "4391170  Katrien Pletinckx; Kirsty S Nicolson; Heather ...   Blood Adv   \n",
       "4391171  Katrien Pletinckx; Kirsty S Nicolson; Heather ...   Blood Adv   \n",
       "\n",
       "        Reference.6                                        Reference.7  \\\n",
       "4391167        2022  Antigen-specific immunotherapy with apitopes s...   \n",
       "4391168        2022  Antigen-specific immunotherapy with apitopes s...   \n",
       "4391169        2022  Antigen-specific immunotherapy with apitopes s...   \n",
       "4391170        2022  Antigen-specific immunotherapy with apitopes s...   \n",
       "4391171        2022  Antigen-specific immunotherapy with apitopes s...   \n",
       "\n",
       "        Reference.8                              Epitope  ...  \\\n",
       "4391167         NaN  http://www.iedb.org/epitope/2060740  ...   \n",
       "4391168         NaN  http://www.iedb.org/epitope/2060739  ...   \n",
       "4391169         NaN  http://www.iedb.org/epitope/2060739  ...   \n",
       "4391170         NaN  http://www.iedb.org/epitope/2060739  ...   \n",
       "4391171         NaN  http://www.iedb.org/epitope/2060739  ...   \n",
       "\n",
       "        Antigen Processing Cells Antigen Processing Cells.1  \\\n",
       "4391167                      NaN                        NaN   \n",
       "4391168                      NaN                        NaN   \n",
       "4391169                      NaN                        NaN   \n",
       "4391170                      NaN                        NaN   \n",
       "4391171                      NaN                        NaN   \n",
       "\n",
       "        Antigen Processing Cells.2 Antigen Processing Cells.3  \\\n",
       "4391167                        NaN                        NaN   \n",
       "4391168                        NaN                        NaN   \n",
       "4391169                        NaN                        NaN   \n",
       "4391170                        NaN                        NaN   \n",
       "4391171                        NaN                        NaN   \n",
       "\n",
       "        Antigen Processing Cells.4                       MHC  \\\n",
       "4391167                        NaN  HLA-DRA*01:01/DRB1*11:01   \n",
       "4391168                        NaN  HLA-DRA*01:01/DRB1*15:01   \n",
       "4391169                        NaN  HLA-DRA*01:01/DRB1*03:01   \n",
       "4391170                        NaN  HLA-DRA*01:01/DRB1*04:01   \n",
       "4391171                        NaN  HLA-DRA*01:01/DRB1*11:01   \n",
       "\n",
       "                                              MHC.1 MHC.2 MHC.3 Assay Comments  \n",
       "4391167  http://purl.obolibrary.org/obo/MRO_0001263   NaN    II            NaN  \n",
       "4391168  http://purl.obolibrary.org/obo/MRO_0001267   NaN    II            NaN  \n",
       "4391169  http://purl.obolibrary.org/obo/MRO_0001257   NaN    II            NaN  \n",
       "4391170  http://purl.obolibrary.org/obo/MRO_0001258   NaN    II            NaN  \n",
       "4391171  http://purl.obolibrary.org/obo/MRO_0001263   NaN    II            NaN  \n",
       "\n",
       "[5 rows x 100 columns]"
      ]
     },
     "execution_count": 12,
     "metadata": {},
     "output_type": "execute_result"
    }
   ],
   "source": [
    "humans.tail()"
   ]
  },
  {
   "cell_type": "code",
   "execution_count": 13,
   "metadata": {},
   "outputs": [],
   "source": [
    "data_humans_mhc1 = humans[humans['MHC.3'] == 'I']"
   ]
  },
  {
   "cell_type": "code",
   "execution_count": 14,
   "metadata": {},
   "outputs": [
    {
     "data": {
      "text/plain": [
       "(177729, 100)"
      ]
     },
     "execution_count": 14,
     "metadata": {},
     "output_type": "execute_result"
    }
   ],
   "source": [
    "data_humans_mhc1.shape"
   ]
  },
  {
   "cell_type": "code",
   "execution_count": 15,
   "metadata": {},
   "outputs": [
    {
     "data": {
      "text/plain": [
       "1                   Positive-Low\n",
       "2                  Positive-High\n",
       "5          Positive-Intermediate\n",
       "6                  Positive-High\n",
       "7          Positive-Intermediate\n",
       "                   ...          \n",
       "4391157                 Positive\n",
       "4391158                 Positive\n",
       "4391159                 Positive\n",
       "4391160                 Positive\n",
       "4391161                 Positive\n",
       "Name: Assay.5, Length: 177729, dtype: object"
      ]
     },
     "execution_count": 15,
     "metadata": {},
     "output_type": "execute_result"
    }
   ],
   "source": [
    "data_humans_mhc1['Assay.5']"
   ]
  },
  {
   "cell_type": "code",
   "execution_count": 16,
   "metadata": {},
   "outputs": [
    {
     "data": {
      "text/plain": [
       "array(['Positive-Low', 'Positive-High', 'Positive-Intermediate',\n",
       "       'Positive', 'Negative'], dtype=object)"
      ]
     },
     "execution_count": 16,
     "metadata": {},
     "output_type": "execute_result"
    }
   ],
   "source": [
    "data_humans_mhc1['Assay.5'].unique()"
   ]
  },
  {
   "cell_type": "code",
   "execution_count": 17,
   "metadata": {},
   "outputs": [],
   "source": [
    "affinities = data_humans_mhc1['Assay.5']"
   ]
  },
  {
   "cell_type": "code",
   "execution_count": 18,
   "metadata": {},
   "outputs": [
    {
     "name": "stdout",
     "output_type": "stream",
     "text": [
      "dict_keys(['Positive-Low', 'Positive-High', 'Positive-Intermediate', 'Positive', 'Negative'])\n",
      "dict_values([25722, 26982, 21429, 14609, 88987])\n"
     ]
    }
   ],
   "source": [
    "from collections import Counter\n",
    "affinity = affinities.unique()\n",
    "print(Counter(affinity).keys())\n",
    "print(Counter(affinities).values())"
   ]
  },
  {
   "cell_type": "code",
   "execution_count": 19,
   "metadata": {},
   "outputs": [],
   "source": [
    "affinity_dict = {'Positive-Low' : 1, 'Positive-High': 1, 'Positive-Intermediate': 1, 'Positive':1, 'Negative':0}"
   ]
  },
  {
   "cell_type": "code",
   "execution_count": 20,
   "metadata": {},
   "outputs": [],
   "source": [
    "data_humans_mhc1_affinities = data_humans_mhc1.replace({'Assay.5':affinity_dict})"
   ]
  },
  {
   "cell_type": "code",
   "execution_count": 21,
   "metadata": {},
   "outputs": [],
   "source": [
    "viralepitope_sequences = data_humans_mhc1_affinities[['MHC','Epitope.2', 'Assay.5']]"
   ]
  },
  {
   "cell_type": "code",
   "execution_count": 22,
   "metadata": {},
   "outputs": [],
   "source": [
    "viralepitope_sequences = viralepitope_sequences.reset_index()"
   ]
  },
  {
   "cell_type": "code",
   "execution_count": 23,
   "metadata": {},
   "outputs": [
    {
     "data": {
      "text/html": [
       "<div>\n",
       "<style scoped>\n",
       "    .dataframe tbody tr th:only-of-type {\n",
       "        vertical-align: middle;\n",
       "    }\n",
       "\n",
       "    .dataframe tbody tr th {\n",
       "        vertical-align: top;\n",
       "    }\n",
       "\n",
       "    .dataframe thead th {\n",
       "        text-align: right;\n",
       "    }\n",
       "</style>\n",
       "<table border=\"1\" class=\"dataframe\">\n",
       "  <thead>\n",
       "    <tr style=\"text-align: right;\">\n",
       "      <th></th>\n",
       "      <th>index</th>\n",
       "      <th>MHC</th>\n",
       "      <th>Epitope.2</th>\n",
       "      <th>Assay.5</th>\n",
       "    </tr>\n",
       "  </thead>\n",
       "  <tbody>\n",
       "    <tr>\n",
       "      <th>0</th>\n",
       "      <td>1</td>\n",
       "      <td>HLA-A*02:01</td>\n",
       "      <td>KLEDLERDL</td>\n",
       "      <td>1</td>\n",
       "    </tr>\n",
       "    <tr>\n",
       "      <th>1</th>\n",
       "      <td>2</td>\n",
       "      <td>HLA-A2</td>\n",
       "      <td>LITGRLQSL</td>\n",
       "      <td>1</td>\n",
       "    </tr>\n",
       "    <tr>\n",
       "      <th>2</th>\n",
       "      <td>5</td>\n",
       "      <td>HLA-A*03:01</td>\n",
       "      <td>EVMPVSMAK</td>\n",
       "      <td>1</td>\n",
       "    </tr>\n",
       "    <tr>\n",
       "      <th>3</th>\n",
       "      <td>6</td>\n",
       "      <td>HLA-A*11:01</td>\n",
       "      <td>EVMPVSMAK</td>\n",
       "      <td>1</td>\n",
       "    </tr>\n",
       "    <tr>\n",
       "      <th>4</th>\n",
       "      <td>7</td>\n",
       "      <td>HLA-A*03:01</td>\n",
       "      <td>KTFPPTEPK</td>\n",
       "      <td>1</td>\n",
       "    </tr>\n",
       "    <tr>\n",
       "      <th>...</th>\n",
       "      <td>...</td>\n",
       "      <td>...</td>\n",
       "      <td>...</td>\n",
       "      <td>...</td>\n",
       "    </tr>\n",
       "    <tr>\n",
       "      <th>177724</th>\n",
       "      <td>4391157</td>\n",
       "      <td>HLA-A*02:01</td>\n",
       "      <td>ILLWQPIPV</td>\n",
       "      <td>1</td>\n",
       "    </tr>\n",
       "    <tr>\n",
       "      <th>177725</th>\n",
       "      <td>4391158</td>\n",
       "      <td>HLA-A*02:01</td>\n",
       "      <td>ALDVYNGLL</td>\n",
       "      <td>1</td>\n",
       "    </tr>\n",
       "    <tr>\n",
       "      <th>177726</th>\n",
       "      <td>4391159</td>\n",
       "      <td>HLA-A*02:01</td>\n",
       "      <td>LTDAVKVMDL</td>\n",
       "      <td>1</td>\n",
       "    </tr>\n",
       "    <tr>\n",
       "      <th>177727</th>\n",
       "      <td>4391160</td>\n",
       "      <td>HLA-A*02:01</td>\n",
       "      <td>KLQCVDLHV</td>\n",
       "      <td>1</td>\n",
       "    </tr>\n",
       "    <tr>\n",
       "      <th>177728</th>\n",
       "      <td>4391161</td>\n",
       "      <td>HLA-A*02:01</td>\n",
       "      <td>FLTPKKLQCV</td>\n",
       "      <td>1</td>\n",
       "    </tr>\n",
       "  </tbody>\n",
       "</table>\n",
       "<p>177729 rows × 4 columns</p>\n",
       "</div>"
      ],
      "text/plain": [
       "          index          MHC   Epitope.2  Assay.5\n",
       "0             1  HLA-A*02:01   KLEDLERDL        1\n",
       "1             2       HLA-A2   LITGRLQSL        1\n",
       "2             5  HLA-A*03:01   EVMPVSMAK        1\n",
       "3             6  HLA-A*11:01   EVMPVSMAK        1\n",
       "4             7  HLA-A*03:01   KTFPPTEPK        1\n",
       "...         ...          ...         ...      ...\n",
       "177724  4391157  HLA-A*02:01   ILLWQPIPV        1\n",
       "177725  4391158  HLA-A*02:01   ALDVYNGLL        1\n",
       "177726  4391159  HLA-A*02:01  LTDAVKVMDL        1\n",
       "177727  4391160  HLA-A*02:01   KLQCVDLHV        1\n",
       "177728  4391161  HLA-A*02:01  FLTPKKLQCV        1\n",
       "\n",
       "[177729 rows x 4 columns]"
      ]
     },
     "execution_count": 23,
     "metadata": {},
     "output_type": "execute_result"
    }
   ],
   "source": [
    "viralepitope_sequences"
   ]
  },
  {
   "cell_type": "code",
   "execution_count": 24,
   "metadata": {},
   "outputs": [],
   "source": [
    "import numpy as np\n",
    "type(viralepitope_sequences)\n",
    "x = np.array(viralepitope_sequences[['Epitope.2','MHC','Assay.5']])"
   ]
  },
  {
   "cell_type": "code",
   "execution_count": 25,
   "metadata": {},
   "outputs": [],
   "source": [
    "positive_aff = [i for i, x in enumerate(viralepitope_sequences[['Assay.5']]) if x != 0]"
   ]
  },
  {
   "cell_type": "code",
   "execution_count": 26,
   "metadata": {},
   "outputs": [],
   "source": [
    "viralepitope_sequences_lengths = (lambda x:[len(i) for i in x])(viralepitope_sequences['Epitope.2'])"
   ]
  },
  {
   "cell_type": "code",
   "execution_count": 27,
   "metadata": {},
   "outputs": [],
   "source": [
    "smallerthan = sum([i < 8 for i in viralepitope_sequences_lengths])\n",
    "largerthan = sum([i > 15 for i in viralepitope_sequences_lengths])"
   ]
  },
  {
   "cell_type": "code",
   "execution_count": 28,
   "metadata": {},
   "outputs": [
    {
     "name": "stdout",
     "output_type": "stream",
     "text": [
      "62\n",
      "1242\n"
     ]
    }
   ],
   "source": [
    "print(smallerthan)\n",
    "print(largerthan)"
   ]
  },
  {
   "cell_type": "code",
   "execution_count": 29,
   "metadata": {},
   "outputs": [],
   "source": [
    "lowrange = [i for i, x in enumerate(viralepitope_sequences_lengths) if x < 8]\n",
    "highrange = [i for i, x in enumerate(viralepitope_sequences_lengths) if x > 15]"
   ]
  },
  {
   "cell_type": "code",
   "execution_count": 30,
   "metadata": {},
   "outputs": [
    {
     "name": "stdout",
     "output_type": "stream",
     "text": [
      "62\n",
      "[['GILGFVF' 'HLA-A*02:01' 0]\n",
      " ['GILGFVF' 'HLA-A*02:01' 0]\n",
      " ['KKIKNSL' 'HLA-A*02:01' 0]\n",
      " ['LGIVCPI' 'HLA-A*02:01' 1]\n",
      " ['LGIVCPI' 'HLA-A*02:01' 1]\n",
      " ['AEAMEVA' 'HLA-B*07:02' 0]\n",
      " ['LLMGTLG' 'HLA-B8' 0]\n",
      " ['KLWPPQK' 'HLA-A*11:01' 0]\n",
      " ['RRFIYYV' 'HLA-B*27:05' 1]\n",
      " ['WQTMYTN' 'HLA-B*27:05' 0]\n",
      " ['QYSEKGW' 'HLA-A*24:02' 0]\n",
      " ['RQPQVSI' 'HLA-B*27:05' 1]\n",
      " ['RQPQVSI' 'HLA-B*27:04' 1]\n",
      " ['RQPQVSI' 'HLA-B*27:06' 1]\n",
      " ['AQPQVSI' 'HLA-B*27:05' 1]\n",
      " ['RAPQVSI' 'HLA-B*27:05' 1]\n",
      " ['AAPQVSI' 'HLA-B*27:05' 0]\n",
      " ['AQPQVSI' 'HLA-B*27:04' 1]\n",
      " ['RAPQVSI' 'HLA-B*27:04' 1]\n",
      " ['AAPQVSI' 'HLA-B*27:04' 0]\n",
      " ['AQPQVSI' 'HLA-B*27:06' 1]\n",
      " ['RAPQVSI' 'HLA-B*27:06' 1]\n",
      " ['AAPQVSI' 'HLA-B*27:06' 1]\n",
      " ['AVA' 'HLA-A*68:01' 1]\n",
      " ['VMEYLPL' 'HLA-A*02:01' 1]\n",
      " ['LSVTILL' 'HLA-A*02:01' 0]\n",
      " ['ATVIVSV' 'HLA-A*02:01' 0]\n",
      " ['VQALLTI' 'HLA-A*02:01' 0]\n",
      " ['VMEYVPL' 'HLA-A*02:01' 1]\n",
      " ['SSCPLSK' 'HLA-A*11:01' 1]\n",
      " ['SSCPLSK' 'HLA-A*11:01' 1]\n",
      " ['SCPLSK' 'HLA-A*11:01' 0]\n",
      " ['SSCSSCP' 'HLA-A*11:01' 0]\n",
      " ['SSCPLSK' 'HLA-A*11:01' 1]\n",
      " ['YLLEMLW' 'HLA-A*02:01' 1]\n",
      " ['LEMLWRL' 'HLA-A*02:01' 0]\n",
      " ['TYGPVFM' 'HLA-A*24:02' 1]\n",
      " ['GPVFMCL' 'HLA-A*24:02' 0]\n",
      " ['LVVDFSQ' 'HLA-A*33:03' 0]\n",
      " ['DFSQFSR' 'HLA-A*02:01' 1]\n",
      " ['RPPIFIR' 'HLA-B*07:02' 1]\n",
      " ['PIFIRRL' 'HLA-B*07:02' 1]\n",
      " ['FLFDGSP' 'HLA-B*15:02' 1]\n",
      " ['FDGSPTY' 'HLA-B*15:02' 1]\n",
      " ['RRIYDLI' 'HLA-B*27:05' 1]\n",
      " ['IYDLIEL' 'HLA-B*27:05' 0]\n",
      " ['HLAAQGM' 'HLA-B*46:01' 0]\n",
      " ['AAQGMAY' 'HLA-B*46:01' 1]\n",
      " ['LPSDFFP' 'HLA-B*54:01' 1]\n",
      " ['SDFFPSV' 'HLA-B*54:01' 1]\n",
      " ['KAGQVVT' 'HLA-B*58:01' 0]\n",
      " ['GQVVTIW' 'HLA-B*58:01' 1]\n",
      " ['GAVDPLL' 'HLA-C*03:04' 1]\n",
      " ['VDPLLAL' 'HLA-C*03:04' 0]\n",
      " ['GILGFVF' 'HLA-C*08:01' 1]\n",
      " ['LGFVFTL' 'HLA-C*08:01' 0]\n",
      " ['YQSGLSI' 'HLA-C*12:02' 1]\n",
      " ['SGLSIVM' 'HLA-C*12:02' 1]\n",
      " ['GM' 'HLA-A*02:01' 1]\n",
      " ['ATIGT' 'HLA-A*11:01' 1]\n",
      " ['AMYK' 'HLA-A*11:01' 1]\n",
      " ['ALQPGTA' 'HLA-A*02:01' 0]]\n"
     ]
    }
   ],
   "source": [
    "print(len(lowrange))\n",
    "print(x[lowrange])"
   ]
  },
  {
   "cell_type": "code",
   "execution_count": 31,
   "metadata": {},
   "outputs": [
    {
     "name": "stdout",
     "output_type": "stream",
     "text": [
      "1242\n",
      "[['QGPGAPQGPGAPQGPGAPQGPGAP' 'HLA-B37' 1]\n",
      " ['DKKESGDSEDKKESGDSE' 'HLA-B37' 1]\n",
      " ['SPTSPSYSPTSPSYSPTSPSY' 'HLA-B37' 1]\n",
      " ...\n",
      " ['RRFSRSPIR + PHOS(S4)' 'HLA-B*27:05' 1]\n",
      " ['RRFSRSPIR + PHOS(S6)' 'HLA-B*27:05' 1]\n",
      " ['FLPTPEELGLLGPPRPQVLA' 'HLA-A*02:01' 1]]\n"
     ]
    }
   ],
   "source": [
    "print(len(highrange))\n",
    "print(x[highrange])"
   ]
  },
  {
   "cell_type": "code",
   "execution_count": 32,
   "metadata": {},
   "outputs": [],
   "source": [
    "inrange = [i for i, x in enumerate(viralepitope_sequences_lengths) if x >= 8 and x <= 15]"
   ]
  },
  {
   "cell_type": "code",
   "execution_count": 33,
   "metadata": {},
   "outputs": [],
   "source": [
    "vepi = x[inrange]"
   ]
  },
  {
   "cell_type": "code",
   "execution_count": 34,
   "metadata": {},
   "outputs": [
    {
     "data": {
      "text/plain": [
       "0"
      ]
     },
     "execution_count": 34,
     "metadata": {},
     "output_type": "execute_result"
    }
   ],
   "source": [
    "sum([type(i) == str for i in vepi])"
   ]
  },
  {
   "cell_type": "code",
   "execution_count": 35,
   "metadata": {},
   "outputs": [],
   "source": [
    "pos_affinity = [i for i, x in enumerate(vepi[:,2]) if x != 0]"
   ]
  },
  {
   "cell_type": "code",
   "execution_count": 36,
   "metadata": {},
   "outputs": [
    {
     "data": {
      "text/plain": [
       "88051"
      ]
     },
     "execution_count": 36,
     "metadata": {},
     "output_type": "execute_result"
    }
   ],
   "source": [
    "len(pos_affinity)"
   ]
  },
  {
   "cell_type": "code",
   "execution_count": 37,
   "metadata": {},
   "outputs": [],
   "source": [
    "vepi_pos = vepi[pos_affinity]"
   ]
  },
  {
   "cell_type": "code",
   "execution_count": 38,
   "metadata": {},
   "outputs": [],
   "source": [
    "peptidelengthcount = []\n",
    "for u in range(8, 16, 1):\n",
    "    c = [i for i, x in enumerate(viralepitope_sequences_lengths) if x == u]\n",
    "    peptidelengthcount.append(len(c))"
   ]
  },
  {
   "cell_type": "code",
   "execution_count": 39,
   "metadata": {},
   "outputs": [
    {
     "data": {
      "text/plain": [
       "[1235, 138602, 33720, 1946, 201, 127, 106, 488]"
      ]
     },
     "execution_count": 39,
     "metadata": {},
     "output_type": "execute_result"
    }
   ],
   "source": [
    "peptidelengthcount"
   ]
  },
  {
   "cell_type": "code",
   "execution_count": 40,
   "metadata": {},
   "outputs": [],
   "source": [
    "negative_peptidelengthcount = [x*10 for x in peptidelengthcount]"
   ]
  },
  {
   "cell_type": "code",
   "execution_count": 41,
   "metadata": {},
   "outputs": [
    {
     "data": {
      "text/plain": [
       "[12350, 1386020, 337200, 19460, 2010, 1270, 1060, 4880]"
      ]
     },
     "execution_count": 41,
     "metadata": {},
     "output_type": "execute_result"
    }
   ],
   "source": [
    "negative_peptidelengthcount"
   ]
  },
  {
   "cell_type": "code",
   "execution_count": 42,
   "metadata": {},
   "outputs": [],
   "source": [
    "iedb_df = pd.DataFrame(vepi_pos[:,:3])"
   ]
  },
  {
   "cell_type": "code",
   "execution_count": 43,
   "metadata": {},
   "outputs": [],
   "source": [
    "iedb_df.rename(columns= {0:'epitope', 1:'allele', 2:'label'}, inplace = True)"
   ]
  },
  {
   "cell_type": "code",
   "execution_count": 44,
   "metadata": {},
   "outputs": [
    {
     "data": {
      "text/html": [
       "<div>\n",
       "<style scoped>\n",
       "    .dataframe tbody tr th:only-of-type {\n",
       "        vertical-align: middle;\n",
       "    }\n",
       "\n",
       "    .dataframe tbody tr th {\n",
       "        vertical-align: top;\n",
       "    }\n",
       "\n",
       "    .dataframe thead th {\n",
       "        text-align: right;\n",
       "    }\n",
       "</style>\n",
       "<table border=\"1\" class=\"dataframe\">\n",
       "  <thead>\n",
       "    <tr style=\"text-align: right;\">\n",
       "      <th></th>\n",
       "      <th>epitope</th>\n",
       "      <th>allele</th>\n",
       "      <th>label</th>\n",
       "    </tr>\n",
       "  </thead>\n",
       "  <tbody>\n",
       "    <tr>\n",
       "      <th>0</th>\n",
       "      <td>KLEDLERDL</td>\n",
       "      <td>HLA-A*02:01</td>\n",
       "      <td>1</td>\n",
       "    </tr>\n",
       "    <tr>\n",
       "      <th>1</th>\n",
       "      <td>LITGRLQSL</td>\n",
       "      <td>HLA-A2</td>\n",
       "      <td>1</td>\n",
       "    </tr>\n",
       "    <tr>\n",
       "      <th>2</th>\n",
       "      <td>EVMPVSMAK</td>\n",
       "      <td>HLA-A*03:01</td>\n",
       "      <td>1</td>\n",
       "    </tr>\n",
       "    <tr>\n",
       "      <th>3</th>\n",
       "      <td>EVMPVSMAK</td>\n",
       "      <td>HLA-A*11:01</td>\n",
       "      <td>1</td>\n",
       "    </tr>\n",
       "    <tr>\n",
       "      <th>4</th>\n",
       "      <td>KTFPPTEPK</td>\n",
       "      <td>HLA-A*03:01</td>\n",
       "      <td>1</td>\n",
       "    </tr>\n",
       "    <tr>\n",
       "      <th>...</th>\n",
       "      <td>...</td>\n",
       "      <td>...</td>\n",
       "      <td>...</td>\n",
       "    </tr>\n",
       "    <tr>\n",
       "      <th>88046</th>\n",
       "      <td>ILLWQPIPV</td>\n",
       "      <td>HLA-A*02:01</td>\n",
       "      <td>1</td>\n",
       "    </tr>\n",
       "    <tr>\n",
       "      <th>88047</th>\n",
       "      <td>ALDVYNGLL</td>\n",
       "      <td>HLA-A*02:01</td>\n",
       "      <td>1</td>\n",
       "    </tr>\n",
       "    <tr>\n",
       "      <th>88048</th>\n",
       "      <td>LTDAVKVMDL</td>\n",
       "      <td>HLA-A*02:01</td>\n",
       "      <td>1</td>\n",
       "    </tr>\n",
       "    <tr>\n",
       "      <th>88049</th>\n",
       "      <td>KLQCVDLHV</td>\n",
       "      <td>HLA-A*02:01</td>\n",
       "      <td>1</td>\n",
       "    </tr>\n",
       "    <tr>\n",
       "      <th>88050</th>\n",
       "      <td>FLTPKKLQCV</td>\n",
       "      <td>HLA-A*02:01</td>\n",
       "      <td>1</td>\n",
       "    </tr>\n",
       "  </tbody>\n",
       "</table>\n",
       "<p>88051 rows × 3 columns</p>\n",
       "</div>"
      ],
      "text/plain": [
       "          epitope       allele label\n",
       "0       KLEDLERDL  HLA-A*02:01     1\n",
       "1       LITGRLQSL       HLA-A2     1\n",
       "2       EVMPVSMAK  HLA-A*03:01     1\n",
       "3       EVMPVSMAK  HLA-A*11:01     1\n",
       "4       KTFPPTEPK  HLA-A*03:01     1\n",
       "...           ...          ...   ...\n",
       "88046   ILLWQPIPV  HLA-A*02:01     1\n",
       "88047   ALDVYNGLL  HLA-A*02:01     1\n",
       "88048  LTDAVKVMDL  HLA-A*02:01     1\n",
       "88049   KLQCVDLHV  HLA-A*02:01     1\n",
       "88050  FLTPKKLQCV  HLA-A*02:01     1\n",
       "\n",
       "[88051 rows x 3 columns]"
      ]
     },
     "execution_count": 44,
     "metadata": {},
     "output_type": "execute_result"
    }
   ],
   "source": [
    "iedb_df"
   ]
  },
  {
   "cell_type": "code",
   "execution_count": 45,
   "metadata": {},
   "outputs": [],
   "source": [
    "removedValue = ['abacavir', 'carbamazepine', 'oxcarbazepine', 'licarbazepine']"
   ]
  },
  {
   "cell_type": "code",
   "execution_count": 46,
   "metadata": {},
   "outputs": [],
   "source": [
    "for values in removedValue:\n",
    "    iedb_df.drop(iedb_df[iedb_df['epitope'] == values].index, inplace = True)"
   ]
  },
  {
   "cell_type": "code",
   "execution_count": 47,
   "metadata": {},
   "outputs": [],
   "source": [
    "iedb_df.to_csv('positive_epitope_seq.txt', sep = '\\t', header = False, index = False)"
   ]
  },
  {
   "cell_type": "code",
   "execution_count": 48,
   "metadata": {},
   "outputs": [],
   "source": [
    "#ofile = open(\"viralepitope_seq.txt\", \"w\")\n",
    "#i = 0\n",
    "#iedb_seq = iedb_df[1]\n",
    "#for line in iedb_seq:\n",
    "#    ofile.write('>Sequence_'+str(i)+'\\n'+line+'\\n')\n",
    "#    i = i+1\n",
    "#ofile.close() "
   ]
  }
 ],
 "metadata": {
  "kernelspec": {
   "display_name": "Python 3.8.13 ('viralepitope': conda)",
   "language": "python",
   "name": "python3"
  },
  "language_info": {
   "codemirror_mode": {
    "name": "ipython",
    "version": 3
   },
   "file_extension": ".py",
   "mimetype": "text/x-python",
   "name": "python",
   "nbconvert_exporter": "python",
   "pygments_lexer": "ipython3",
   "version": "3.8.13"
  },
  "orig_nbformat": 4,
  "vscode": {
   "interpreter": {
    "hash": "89a569e57c3a868c837518f690d34e8ba538dcefa2ece26ecfaf82d5cd67ebe4"
   }
  }
 },
 "nbformat": 4,
 "nbformat_minor": 2
}
