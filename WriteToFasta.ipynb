{
 "cells": [
  {
   "cell_type": "code",
   "execution_count": 1,
   "metadata": {},
   "outputs": [],
   "source": [
    "import pandas as pd"
   ]
  },
  {
   "cell_type": "code",
   "execution_count": 20,
   "metadata": {},
   "outputs": [],
   "source": [
    "data = pd.read_csv('/home/jjia1/jjia1/viralepitope/mhc_ligand_full.csv', low_memory = False, dtype = object)"
   ]
  },
  {
   "cell_type": "code",
   "execution_count": 21,
   "metadata": {},
   "outputs": [
    {
     "data": {
      "text/plain": [
       "Index(['Reference', 'Reference.1', 'Reference.2', 'Reference.3', 'Reference.4',\n",
       "       'Reference.5', 'Reference.6', 'Reference.7', 'Reference.8', 'Epitope',\n",
       "       'Epitope.1', 'Epitope.2', 'Epitope.3', 'Epitope.4', 'Epitope.5',\n",
       "       'Epitope.6', 'Epitope.7', 'Epitope.8', 'Epitope.9', 'Epitope.10',\n",
       "       'Epitope.11', 'Epitope.12', 'Epitope.13', 'Epitope.14',\n",
       "       'Related Object', 'Related Object.1', 'Related Object.2',\n",
       "       'Related Object.3', 'Related Object.4', 'Related Object.5',\n",
       "       'Related Object.6', 'Related Object.7', 'Related Object.8',\n",
       "       'Related Object.9', 'Related Object.10', 'Related Object.11',\n",
       "       'Related Object.12', 'Related Object.13', 'Related Object.14', 'Host',\n",
       "       'Host.1', 'Host.2', 'Host.3', 'Host.4', 'In vivo Process',\n",
       "       'In vivo Process.1', 'In vivo Process.2', 'In vivo Process.3',\n",
       "       'In vivo Process.4', 'In vivo Process.5', 'In vivo Process.6',\n",
       "       'In vivo Process.7', 'In vivo Process.8', 'In vivo Process.9',\n",
       "       'In vivo Process.10', 'In vivo Process.11', 'In vivo Process.12',\n",
       "       'In vivo Process.13', 'In vivo Process.14', 'In vivo Process.15',\n",
       "       'In vivo Process.16', 'In vivo Process.17', 'In vitro Process',\n",
       "       'In vitro Process.1', 'In vitro Process.2', 'In vitro Process.3',\n",
       "       'In vitro Process.4', 'In vitro Process.5', 'In vitro Process.6',\n",
       "       'In vitro Process.7', 'In vitro Process.8', 'In vitro Process.9',\n",
       "       'In vitro Process.10', 'In vitro Process.11', 'In vitro Process.12',\n",
       "       'In vitro Process.13', 'In vitro Process.14',\n",
       "       'Processed Antigen Comments', 'Assay', 'Assay.1', 'Assay.2', 'Assay.3',\n",
       "       'Assay.4', 'Assay.5', 'Assay.6', 'Assay.7', 'Assay.8', 'Assay.9',\n",
       "       'Assay.10', 'Assay.11', 'Antigen Processing Cells',\n",
       "       'Antigen Processing Cells.1', 'Antigen Processing Cells.2',\n",
       "       'Antigen Processing Cells.3', 'Antigen Processing Cells.4', 'MHC',\n",
       "       'MHC.1', 'MHC.2', 'MHC.3', 'Assay Comments'],\n",
       "      dtype='object')"
      ]
     },
     "execution_count": 21,
     "metadata": {},
     "output_type": "execute_result"
    }
   ],
   "source": [
    "data.columns"
   ]
  },
  {
   "cell_type": "code",
   "execution_count": 22,
   "metadata": {},
   "outputs": [
    {
     "data": {
      "text/plain": [
       "(4391206, 100)"
      ]
     },
     "execution_count": 22,
     "metadata": {},
     "output_type": "execute_result"
    }
   ],
   "source": [
    "data.shape"
   ]
  },
  {
   "cell_type": "code",
   "execution_count": 23,
   "metadata": {},
   "outputs": [
    {
     "data": {
      "text/plain": [
       "0          Description\n",
       "1            KLEDLERDL\n",
       "2            LITGRLQSL\n",
       "3             TRVAFAGL\n",
       "4             RNTDFFGL\n",
       "              ...     \n",
       "4391201      LRKRQLAVL\n",
       "4391202      LRKRQLTAL\n",
       "4391203      LRKRQLTVA\n",
       "4391204      LRKRQLTVI\n",
       "4391205      LRKRQLTVV\n",
       "Name: Epitope.2, Length: 4391206, dtype: object"
      ]
     },
     "execution_count": 23,
     "metadata": {},
     "output_type": "execute_result"
    }
   ],
   "source": [
    "data['Epitope.2']"
   ]
  },
  {
   "cell_type": "code",
   "execution_count": 24,
   "metadata": {},
   "outputs": [
    {
     "data": {
      "text/plain": [
       "0          Allele Name\n",
       "1          HLA-A*02:01\n",
       "2               HLA-A2\n",
       "3                H2-Kb\n",
       "4                H2-Kb\n",
       "              ...     \n",
       "4391201    Anpl-UAA*76\n",
       "4391202    Anpl-UAA*76\n",
       "4391203    Anpl-UAA*76\n",
       "4391204    Anpl-UAA*76\n",
       "4391205    Anpl-UAA*76\n",
       "Name: MHC, Length: 4391206, dtype: object"
      ]
     },
     "execution_count": 24,
     "metadata": {},
     "output_type": "execute_result"
    }
   ],
   "source": [
    "data['MHC']"
   ]
  },
  {
   "cell_type": "code",
   "execution_count": 25,
   "metadata": {},
   "outputs": [
    {
     "data": {
      "text/plain": [
       "0          MHC allele class\n",
       "1                         I\n",
       "2                         I\n",
       "3                         I\n",
       "4                         I\n",
       "                 ...       \n",
       "4391201                   I\n",
       "4391202                   I\n",
       "4391203                   I\n",
       "4391204                   I\n",
       "4391205                   I\n",
       "Name: MHC.3, Length: 4391206, dtype: object"
      ]
     },
     "execution_count": 25,
     "metadata": {},
     "output_type": "execute_result"
    }
   ],
   "source": [
    "data['MHC.3']"
   ]
  },
  {
   "cell_type": "code",
   "execution_count": 26,
   "metadata": {},
   "outputs": [
    {
     "data": {
      "text/plain": [
       "0                               Name\n",
       "1               human (Homo sapiens)\n",
       "2               human (Homo sapiens)\n",
       "3               mouse (Mus musculus)\n",
       "4               mouse (Mus musculus)\n",
       "                     ...            \n",
       "4391201    duck (Anas platyrhynchos)\n",
       "4391202    duck (Anas platyrhynchos)\n",
       "4391203    duck (Anas platyrhynchos)\n",
       "4391204    duck (Anas platyrhynchos)\n",
       "4391205    duck (Anas platyrhynchos)\n",
       "Name: Host, Length: 4391206, dtype: object"
      ]
     },
     "execution_count": 26,
     "metadata": {},
     "output_type": "execute_result"
    }
   ],
   "source": [
    "data['Host']"
   ]
  },
  {
   "cell_type": "code",
   "execution_count": 27,
   "metadata": {},
   "outputs": [],
   "source": [
    "humans = data[data['Host']== 'human (Homo sapiens)']"
   ]
  },
  {
   "cell_type": "code",
   "execution_count": 28,
   "metadata": {},
   "outputs": [
    {
     "data": {
      "text/plain": [
       "(718890, 100)"
      ]
     },
     "execution_count": 28,
     "metadata": {},
     "output_type": "execute_result"
    }
   ],
   "source": [
    "humans.shape"
   ]
  },
  {
   "cell_type": "code",
   "execution_count": 30,
   "metadata": {},
   "outputs": [
    {
     "data": {
      "text/html": [
       "<div>\n",
       "<style scoped>\n",
       "    .dataframe tbody tr th:only-of-type {\n",
       "        vertical-align: middle;\n",
       "    }\n",
       "\n",
       "    .dataframe tbody tr th {\n",
       "        vertical-align: top;\n",
       "    }\n",
       "\n",
       "    .dataframe thead th {\n",
       "        text-align: right;\n",
       "    }\n",
       "</style>\n",
       "<table border=\"1\" class=\"dataframe\">\n",
       "  <thead>\n",
       "    <tr style=\"text-align: right;\">\n",
       "      <th></th>\n",
       "      <th>Reference</th>\n",
       "      <th>Reference.1</th>\n",
       "      <th>Reference.2</th>\n",
       "      <th>Reference.3</th>\n",
       "      <th>Reference.4</th>\n",
       "      <th>Reference.5</th>\n",
       "      <th>Reference.6</th>\n",
       "      <th>Reference.7</th>\n",
       "      <th>Reference.8</th>\n",
       "      <th>Epitope</th>\n",
       "      <th>...</th>\n",
       "      <th>Antigen Processing Cells</th>\n",
       "      <th>Antigen Processing Cells.1</th>\n",
       "      <th>Antigen Processing Cells.2</th>\n",
       "      <th>Antigen Processing Cells.3</th>\n",
       "      <th>Antigen Processing Cells.4</th>\n",
       "      <th>MHC</th>\n",
       "      <th>MHC.1</th>\n",
       "      <th>MHC.2</th>\n",
       "      <th>MHC.3</th>\n",
       "      <th>Assay Comments</th>\n",
       "    </tr>\n",
       "  </thead>\n",
       "  <tbody>\n",
       "    <tr>\n",
       "      <th>1</th>\n",
       "      <td>http://www.iedb.org/assay/26</td>\n",
       "      <td>http://www.iedb.org/reference/274</td>\n",
       "      <td>Literature</td>\n",
       "      <td>15448372</td>\n",
       "      <td>Yi-Hsiang Huang; Mi-Hua Tao; Cheng-Po Hu; Wan-...</td>\n",
       "      <td>J Gen Virol</td>\n",
       "      <td>2004</td>\n",
       "      <td>Identification of novel HLA-A*0201-restricted ...</td>\n",
       "      <td>NaN</td>\n",
       "      <td>http://www.iedb.org/epitope/31803</td>\n",
       "      <td>...</td>\n",
       "      <td>NaN</td>\n",
       "      <td>NaN</td>\n",
       "      <td>NaN</td>\n",
       "      <td>NaN</td>\n",
       "      <td>NaN</td>\n",
       "      <td>HLA-A*02:01</td>\n",
       "      <td>http://purl.obolibrary.org/obo/MRO_0001007</td>\n",
       "      <td>NaN</td>\n",
       "      <td>I</td>\n",
       "      <td>NaN</td>\n",
       "    </tr>\n",
       "    <tr>\n",
       "      <th>2</th>\n",
       "      <td>http://www.iedb.org/assay/115</td>\n",
       "      <td>http://www.iedb.org/reference/299</td>\n",
       "      <td>Literature</td>\n",
       "      <td>15140958</td>\n",
       "      <td>Yue-Dan Wang; Wan-Yee Fion Sin; Guo-Bing Xu; H...</td>\n",
       "      <td>J Virol</td>\n",
       "      <td>2004</td>\n",
       "      <td>T-cell epitopes in severe acute respiratory sy...</td>\n",
       "      <td>NaN</td>\n",
       "      <td>http://www.iedb.org/epitope/36724</td>\n",
       "      <td>...</td>\n",
       "      <td>NaN</td>\n",
       "      <td>NaN</td>\n",
       "      <td>NaN</td>\n",
       "      <td>NaN</td>\n",
       "      <td>NaN</td>\n",
       "      <td>HLA-A2</td>\n",
       "      <td>http://purl.obolibrary.org/obo/MRO_0001530</td>\n",
       "      <td>NaN</td>\n",
       "      <td>I</td>\n",
       "      <td>NaN</td>\n",
       "    </tr>\n",
       "    <tr>\n",
       "      <th>5</th>\n",
       "      <td>http://www.iedb.org/assay/247</td>\n",
       "      <td>http://www.iedb.org/reference/329</td>\n",
       "      <td>Literature</td>\n",
       "      <td>15104671</td>\n",
       "      <td>C Sylvester-Hvid; M Nielsen; K Lamberth; G R&amp;o...</td>\n",
       "      <td>Tissue Antigens</td>\n",
       "      <td>2004</td>\n",
       "      <td>SARS CTL vaccine candidates; HLA supertype-, g...</td>\n",
       "      <td>NaN</td>\n",
       "      <td>http://www.iedb.org/epitope/14829</td>\n",
       "      <td>...</td>\n",
       "      <td>NaN</td>\n",
       "      <td>NaN</td>\n",
       "      <td>NaN</td>\n",
       "      <td>NaN</td>\n",
       "      <td>NaN</td>\n",
       "      <td>HLA-A*03:01</td>\n",
       "      <td>http://purl.obolibrary.org/obo/MRO_0001026</td>\n",
       "      <td>NaN</td>\n",
       "      <td>I</td>\n",
       "      <td>NaN</td>\n",
       "    </tr>\n",
       "    <tr>\n",
       "      <th>6</th>\n",
       "      <td>http://www.iedb.org/assay/248</td>\n",
       "      <td>http://www.iedb.org/reference/329</td>\n",
       "      <td>Literature</td>\n",
       "      <td>15104671</td>\n",
       "      <td>C Sylvester-Hvid; M Nielsen; K Lamberth; G R&amp;o...</td>\n",
       "      <td>Tissue Antigens</td>\n",
       "      <td>2004</td>\n",
       "      <td>SARS CTL vaccine candidates; HLA supertype-, g...</td>\n",
       "      <td>NaN</td>\n",
       "      <td>http://www.iedb.org/epitope/14829</td>\n",
       "      <td>...</td>\n",
       "      <td>NaN</td>\n",
       "      <td>NaN</td>\n",
       "      <td>NaN</td>\n",
       "      <td>NaN</td>\n",
       "      <td>NaN</td>\n",
       "      <td>HLA-A*11:01</td>\n",
       "      <td>http://purl.obolibrary.org/obo/MRO_0001029</td>\n",
       "      <td>NaN</td>\n",
       "      <td>I</td>\n",
       "      <td>NaN</td>\n",
       "    </tr>\n",
       "    <tr>\n",
       "      <th>7</th>\n",
       "      <td>http://www.iedb.org/assay/249</td>\n",
       "      <td>http://www.iedb.org/reference/329</td>\n",
       "      <td>Literature</td>\n",
       "      <td>15104671</td>\n",
       "      <td>C Sylvester-Hvid; M Nielsen; K Lamberth; G R&amp;o...</td>\n",
       "      <td>Tissue Antigens</td>\n",
       "      <td>2004</td>\n",
       "      <td>SARS CTL vaccine candidates; HLA supertype-, g...</td>\n",
       "      <td>NaN</td>\n",
       "      <td>http://www.iedb.org/epitope/33667</td>\n",
       "      <td>...</td>\n",
       "      <td>NaN</td>\n",
       "      <td>NaN</td>\n",
       "      <td>NaN</td>\n",
       "      <td>NaN</td>\n",
       "      <td>NaN</td>\n",
       "      <td>HLA-A*03:01</td>\n",
       "      <td>http://purl.obolibrary.org/obo/MRO_0001026</td>\n",
       "      <td>NaN</td>\n",
       "      <td>I</td>\n",
       "      <td>NaN</td>\n",
       "    </tr>\n",
       "  </tbody>\n",
       "</table>\n",
       "<p>5 rows × 100 columns</p>\n",
       "</div>"
      ],
      "text/plain": [
       "                       Reference                        Reference.1  \\\n",
       "1   http://www.iedb.org/assay/26  http://www.iedb.org/reference/274   \n",
       "2  http://www.iedb.org/assay/115  http://www.iedb.org/reference/299   \n",
       "5  http://www.iedb.org/assay/247  http://www.iedb.org/reference/329   \n",
       "6  http://www.iedb.org/assay/248  http://www.iedb.org/reference/329   \n",
       "7  http://www.iedb.org/assay/249  http://www.iedb.org/reference/329   \n",
       "\n",
       "  Reference.2 Reference.3                                        Reference.4  \\\n",
       "1  Literature    15448372  Yi-Hsiang Huang; Mi-Hua Tao; Cheng-Po Hu; Wan-...   \n",
       "2  Literature    15140958  Yue-Dan Wang; Wan-Yee Fion Sin; Guo-Bing Xu; H...   \n",
       "5  Literature    15104671  C Sylvester-Hvid; M Nielsen; K Lamberth; G R&o...   \n",
       "6  Literature    15104671  C Sylvester-Hvid; M Nielsen; K Lamberth; G R&o...   \n",
       "7  Literature    15104671  C Sylvester-Hvid; M Nielsen; K Lamberth; G R&o...   \n",
       "\n",
       "       Reference.5 Reference.6  \\\n",
       "1      J Gen Virol        2004   \n",
       "2          J Virol        2004   \n",
       "5  Tissue Antigens        2004   \n",
       "6  Tissue Antigens        2004   \n",
       "7  Tissue Antigens        2004   \n",
       "\n",
       "                                         Reference.7 Reference.8  \\\n",
       "1  Identification of novel HLA-A*0201-restricted ...         NaN   \n",
       "2  T-cell epitopes in severe acute respiratory sy...         NaN   \n",
       "5  SARS CTL vaccine candidates; HLA supertype-, g...         NaN   \n",
       "6  SARS CTL vaccine candidates; HLA supertype-, g...         NaN   \n",
       "7  SARS CTL vaccine candidates; HLA supertype-, g...         NaN   \n",
       "\n",
       "                             Epitope  ... Antigen Processing Cells  \\\n",
       "1  http://www.iedb.org/epitope/31803  ...                      NaN   \n",
       "2  http://www.iedb.org/epitope/36724  ...                      NaN   \n",
       "5  http://www.iedb.org/epitope/14829  ...                      NaN   \n",
       "6  http://www.iedb.org/epitope/14829  ...                      NaN   \n",
       "7  http://www.iedb.org/epitope/33667  ...                      NaN   \n",
       "\n",
       "  Antigen Processing Cells.1 Antigen Processing Cells.2  \\\n",
       "1                        NaN                        NaN   \n",
       "2                        NaN                        NaN   \n",
       "5                        NaN                        NaN   \n",
       "6                        NaN                        NaN   \n",
       "7                        NaN                        NaN   \n",
       "\n",
       "  Antigen Processing Cells.3 Antigen Processing Cells.4          MHC  \\\n",
       "1                        NaN                        NaN  HLA-A*02:01   \n",
       "2                        NaN                        NaN       HLA-A2   \n",
       "5                        NaN                        NaN  HLA-A*03:01   \n",
       "6                        NaN                        NaN  HLA-A*11:01   \n",
       "7                        NaN                        NaN  HLA-A*03:01   \n",
       "\n",
       "                                        MHC.1 MHC.2 MHC.3 Assay Comments  \n",
       "1  http://purl.obolibrary.org/obo/MRO_0001007   NaN     I            NaN  \n",
       "2  http://purl.obolibrary.org/obo/MRO_0001530   NaN     I            NaN  \n",
       "5  http://purl.obolibrary.org/obo/MRO_0001026   NaN     I            NaN  \n",
       "6  http://purl.obolibrary.org/obo/MRO_0001029   NaN     I            NaN  \n",
       "7  http://purl.obolibrary.org/obo/MRO_0001026   NaN     I            NaN  \n",
       "\n",
       "[5 rows x 100 columns]"
      ]
     },
     "execution_count": 30,
     "metadata": {},
     "output_type": "execute_result"
    }
   ],
   "source": [
    "humans.head()"
   ]
  },
  {
   "cell_type": "code",
   "execution_count": 31,
   "metadata": {},
   "outputs": [
    {
     "data": {
      "text/html": [
       "<div>\n",
       "<style scoped>\n",
       "    .dataframe tbody tr th:only-of-type {\n",
       "        vertical-align: middle;\n",
       "    }\n",
       "\n",
       "    .dataframe tbody tr th {\n",
       "        vertical-align: top;\n",
       "    }\n",
       "\n",
       "    .dataframe thead th {\n",
       "        text-align: right;\n",
       "    }\n",
       "</style>\n",
       "<table border=\"1\" class=\"dataframe\">\n",
       "  <thead>\n",
       "    <tr style=\"text-align: right;\">\n",
       "      <th></th>\n",
       "      <th>Reference</th>\n",
       "      <th>Reference.1</th>\n",
       "      <th>Reference.2</th>\n",
       "      <th>Reference.3</th>\n",
       "      <th>Reference.4</th>\n",
       "      <th>Reference.5</th>\n",
       "      <th>Reference.6</th>\n",
       "      <th>Reference.7</th>\n",
       "      <th>Reference.8</th>\n",
       "      <th>Epitope</th>\n",
       "      <th>...</th>\n",
       "      <th>Antigen Processing Cells</th>\n",
       "      <th>Antigen Processing Cells.1</th>\n",
       "      <th>Antigen Processing Cells.2</th>\n",
       "      <th>Antigen Processing Cells.3</th>\n",
       "      <th>Antigen Processing Cells.4</th>\n",
       "      <th>MHC</th>\n",
       "      <th>MHC.1</th>\n",
       "      <th>MHC.2</th>\n",
       "      <th>MHC.3</th>\n",
       "      <th>Assay Comments</th>\n",
       "    </tr>\n",
       "  </thead>\n",
       "  <tbody>\n",
       "    <tr>\n",
       "      <th>4391167</th>\n",
       "      <td>http://www.iedb.org/assay/18995841</td>\n",
       "      <td>http://www.iedb.org/reference/1040639</td>\n",
       "      <td>Literature</td>\n",
       "      <td>34529764</td>\n",
       "      <td>Katrien Pletinckx; Kirsty S Nicolson; Heather ...</td>\n",
       "      <td>Blood Adv</td>\n",
       "      <td>2022</td>\n",
       "      <td>Antigen-specific immunotherapy with apitopes s...</td>\n",
       "      <td>NaN</td>\n",
       "      <td>http://www.iedb.org/epitope/2060740</td>\n",
       "      <td>...</td>\n",
       "      <td>NaN</td>\n",
       "      <td>NaN</td>\n",
       "      <td>NaN</td>\n",
       "      <td>NaN</td>\n",
       "      <td>NaN</td>\n",
       "      <td>HLA-DRA*01:01/DRB1*11:01</td>\n",
       "      <td>http://purl.obolibrary.org/obo/MRO_0001263</td>\n",
       "      <td>NaN</td>\n",
       "      <td>II</td>\n",
       "      <td>NaN</td>\n",
       "    </tr>\n",
       "    <tr>\n",
       "      <th>4391168</th>\n",
       "      <td>http://www.iedb.org/assay/18995846</td>\n",
       "      <td>http://www.iedb.org/reference/1040639</td>\n",
       "      <td>Literature</td>\n",
       "      <td>34529764</td>\n",
       "      <td>Katrien Pletinckx; Kirsty S Nicolson; Heather ...</td>\n",
       "      <td>Blood Adv</td>\n",
       "      <td>2022</td>\n",
       "      <td>Antigen-specific immunotherapy with apitopes s...</td>\n",
       "      <td>NaN</td>\n",
       "      <td>http://www.iedb.org/epitope/2060739</td>\n",
       "      <td>...</td>\n",
       "      <td>NaN</td>\n",
       "      <td>NaN</td>\n",
       "      <td>NaN</td>\n",
       "      <td>NaN</td>\n",
       "      <td>NaN</td>\n",
       "      <td>HLA-DRA*01:01/DRB1*15:01</td>\n",
       "      <td>http://purl.obolibrary.org/obo/MRO_0001267</td>\n",
       "      <td>NaN</td>\n",
       "      <td>II</td>\n",
       "      <td>NaN</td>\n",
       "    </tr>\n",
       "    <tr>\n",
       "      <th>4391169</th>\n",
       "      <td>http://www.iedb.org/assay/18995847</td>\n",
       "      <td>http://www.iedb.org/reference/1040639</td>\n",
       "      <td>Literature</td>\n",
       "      <td>34529764</td>\n",
       "      <td>Katrien Pletinckx; Kirsty S Nicolson; Heather ...</td>\n",
       "      <td>Blood Adv</td>\n",
       "      <td>2022</td>\n",
       "      <td>Antigen-specific immunotherapy with apitopes s...</td>\n",
       "      <td>NaN</td>\n",
       "      <td>http://www.iedb.org/epitope/2060739</td>\n",
       "      <td>...</td>\n",
       "      <td>NaN</td>\n",
       "      <td>NaN</td>\n",
       "      <td>NaN</td>\n",
       "      <td>NaN</td>\n",
       "      <td>NaN</td>\n",
       "      <td>HLA-DRA*01:01/DRB1*03:01</td>\n",
       "      <td>http://purl.obolibrary.org/obo/MRO_0001257</td>\n",
       "      <td>NaN</td>\n",
       "      <td>II</td>\n",
       "      <td>NaN</td>\n",
       "    </tr>\n",
       "    <tr>\n",
       "      <th>4391170</th>\n",
       "      <td>http://www.iedb.org/assay/18995848</td>\n",
       "      <td>http://www.iedb.org/reference/1040639</td>\n",
       "      <td>Literature</td>\n",
       "      <td>34529764</td>\n",
       "      <td>Katrien Pletinckx; Kirsty S Nicolson; Heather ...</td>\n",
       "      <td>Blood Adv</td>\n",
       "      <td>2022</td>\n",
       "      <td>Antigen-specific immunotherapy with apitopes s...</td>\n",
       "      <td>NaN</td>\n",
       "      <td>http://www.iedb.org/epitope/2060739</td>\n",
       "      <td>...</td>\n",
       "      <td>NaN</td>\n",
       "      <td>NaN</td>\n",
       "      <td>NaN</td>\n",
       "      <td>NaN</td>\n",
       "      <td>NaN</td>\n",
       "      <td>HLA-DRA*01:01/DRB1*04:01</td>\n",
       "      <td>http://purl.obolibrary.org/obo/MRO_0001258</td>\n",
       "      <td>NaN</td>\n",
       "      <td>II</td>\n",
       "      <td>NaN</td>\n",
       "    </tr>\n",
       "    <tr>\n",
       "      <th>4391171</th>\n",
       "      <td>http://www.iedb.org/assay/18995849</td>\n",
       "      <td>http://www.iedb.org/reference/1040639</td>\n",
       "      <td>Literature</td>\n",
       "      <td>34529764</td>\n",
       "      <td>Katrien Pletinckx; Kirsty S Nicolson; Heather ...</td>\n",
       "      <td>Blood Adv</td>\n",
       "      <td>2022</td>\n",
       "      <td>Antigen-specific immunotherapy with apitopes s...</td>\n",
       "      <td>NaN</td>\n",
       "      <td>http://www.iedb.org/epitope/2060739</td>\n",
       "      <td>...</td>\n",
       "      <td>NaN</td>\n",
       "      <td>NaN</td>\n",
       "      <td>NaN</td>\n",
       "      <td>NaN</td>\n",
       "      <td>NaN</td>\n",
       "      <td>HLA-DRA*01:01/DRB1*11:01</td>\n",
       "      <td>http://purl.obolibrary.org/obo/MRO_0001263</td>\n",
       "      <td>NaN</td>\n",
       "      <td>II</td>\n",
       "      <td>NaN</td>\n",
       "    </tr>\n",
       "  </tbody>\n",
       "</table>\n",
       "<p>5 rows × 100 columns</p>\n",
       "</div>"
      ],
      "text/plain": [
       "                                  Reference  \\\n",
       "4391167  http://www.iedb.org/assay/18995841   \n",
       "4391168  http://www.iedb.org/assay/18995846   \n",
       "4391169  http://www.iedb.org/assay/18995847   \n",
       "4391170  http://www.iedb.org/assay/18995848   \n",
       "4391171  http://www.iedb.org/assay/18995849   \n",
       "\n",
       "                                   Reference.1 Reference.2 Reference.3  \\\n",
       "4391167  http://www.iedb.org/reference/1040639  Literature    34529764   \n",
       "4391168  http://www.iedb.org/reference/1040639  Literature    34529764   \n",
       "4391169  http://www.iedb.org/reference/1040639  Literature    34529764   \n",
       "4391170  http://www.iedb.org/reference/1040639  Literature    34529764   \n",
       "4391171  http://www.iedb.org/reference/1040639  Literature    34529764   \n",
       "\n",
       "                                               Reference.4 Reference.5  \\\n",
       "4391167  Katrien Pletinckx; Kirsty S Nicolson; Heather ...   Blood Adv   \n",
       "4391168  Katrien Pletinckx; Kirsty S Nicolson; Heather ...   Blood Adv   \n",
       "4391169  Katrien Pletinckx; Kirsty S Nicolson; Heather ...   Blood Adv   \n",
       "4391170  Katrien Pletinckx; Kirsty S Nicolson; Heather ...   Blood Adv   \n",
       "4391171  Katrien Pletinckx; Kirsty S Nicolson; Heather ...   Blood Adv   \n",
       "\n",
       "        Reference.6                                        Reference.7  \\\n",
       "4391167        2022  Antigen-specific immunotherapy with apitopes s...   \n",
       "4391168        2022  Antigen-specific immunotherapy with apitopes s...   \n",
       "4391169        2022  Antigen-specific immunotherapy with apitopes s...   \n",
       "4391170        2022  Antigen-specific immunotherapy with apitopes s...   \n",
       "4391171        2022  Antigen-specific immunotherapy with apitopes s...   \n",
       "\n",
       "        Reference.8                              Epitope  ...  \\\n",
       "4391167         NaN  http://www.iedb.org/epitope/2060740  ...   \n",
       "4391168         NaN  http://www.iedb.org/epitope/2060739  ...   \n",
       "4391169         NaN  http://www.iedb.org/epitope/2060739  ...   \n",
       "4391170         NaN  http://www.iedb.org/epitope/2060739  ...   \n",
       "4391171         NaN  http://www.iedb.org/epitope/2060739  ...   \n",
       "\n",
       "        Antigen Processing Cells Antigen Processing Cells.1  \\\n",
       "4391167                      NaN                        NaN   \n",
       "4391168                      NaN                        NaN   \n",
       "4391169                      NaN                        NaN   \n",
       "4391170                      NaN                        NaN   \n",
       "4391171                      NaN                        NaN   \n",
       "\n",
       "        Antigen Processing Cells.2 Antigen Processing Cells.3  \\\n",
       "4391167                        NaN                        NaN   \n",
       "4391168                        NaN                        NaN   \n",
       "4391169                        NaN                        NaN   \n",
       "4391170                        NaN                        NaN   \n",
       "4391171                        NaN                        NaN   \n",
       "\n",
       "        Antigen Processing Cells.4                       MHC  \\\n",
       "4391167                        NaN  HLA-DRA*01:01/DRB1*11:01   \n",
       "4391168                        NaN  HLA-DRA*01:01/DRB1*15:01   \n",
       "4391169                        NaN  HLA-DRA*01:01/DRB1*03:01   \n",
       "4391170                        NaN  HLA-DRA*01:01/DRB1*04:01   \n",
       "4391171                        NaN  HLA-DRA*01:01/DRB1*11:01   \n",
       "\n",
       "                                              MHC.1 MHC.2 MHC.3 Assay Comments  \n",
       "4391167  http://purl.obolibrary.org/obo/MRO_0001263   NaN    II            NaN  \n",
       "4391168  http://purl.obolibrary.org/obo/MRO_0001267   NaN    II            NaN  \n",
       "4391169  http://purl.obolibrary.org/obo/MRO_0001257   NaN    II            NaN  \n",
       "4391170  http://purl.obolibrary.org/obo/MRO_0001258   NaN    II            NaN  \n",
       "4391171  http://purl.obolibrary.org/obo/MRO_0001263   NaN    II            NaN  \n",
       "\n",
       "[5 rows x 100 columns]"
      ]
     },
     "execution_count": 31,
     "metadata": {},
     "output_type": "execute_result"
    }
   ],
   "source": [
    "humans.tail()"
   ]
  },
  {
   "cell_type": "code",
   "execution_count": 37,
   "metadata": {},
   "outputs": [],
   "source": [
    "data_humans_mhc1 = humans[humans['MHC.3'] == 'I']"
   ]
  },
  {
   "cell_type": "code",
   "execution_count": 38,
   "metadata": {},
   "outputs": [
    {
     "data": {
      "text/plain": [
       "(177729, 100)"
      ]
     },
     "execution_count": 38,
     "metadata": {},
     "output_type": "execute_result"
    }
   ],
   "source": [
    "data_humans_mhc1.shape"
   ]
  },
  {
   "cell_type": "code",
   "execution_count": 71,
   "metadata": {},
   "outputs": [],
   "source": [
    "viralepitope_sequences = data_humans_mhc1[['MHC','Epitope.2']]"
   ]
  },
  {
   "cell_type": "code",
   "execution_count": 72,
   "metadata": {},
   "outputs": [],
   "source": [
    "viralepitope_sequences = viralepitope_sequences.reset_index()"
   ]
  },
  {
   "cell_type": "code",
   "execution_count": 73,
   "metadata": {},
   "outputs": [
    {
     "data": {
      "text/html": [
       "<div>\n",
       "<style scoped>\n",
       "    .dataframe tbody tr th:only-of-type {\n",
       "        vertical-align: middle;\n",
       "    }\n",
       "\n",
       "    .dataframe tbody tr th {\n",
       "        vertical-align: top;\n",
       "    }\n",
       "\n",
       "    .dataframe thead th {\n",
       "        text-align: right;\n",
       "    }\n",
       "</style>\n",
       "<table border=\"1\" class=\"dataframe\">\n",
       "  <thead>\n",
       "    <tr style=\"text-align: right;\">\n",
       "      <th></th>\n",
       "      <th>index</th>\n",
       "      <th>MHC</th>\n",
       "      <th>Epitope.2</th>\n",
       "    </tr>\n",
       "  </thead>\n",
       "  <tbody>\n",
       "    <tr>\n",
       "      <th>0</th>\n",
       "      <td>1</td>\n",
       "      <td>HLA-A*02:01</td>\n",
       "      <td>KLEDLERDL</td>\n",
       "    </tr>\n",
       "    <tr>\n",
       "      <th>1</th>\n",
       "      <td>2</td>\n",
       "      <td>HLA-A2</td>\n",
       "      <td>LITGRLQSL</td>\n",
       "    </tr>\n",
       "    <tr>\n",
       "      <th>2</th>\n",
       "      <td>5</td>\n",
       "      <td>HLA-A*03:01</td>\n",
       "      <td>EVMPVSMAK</td>\n",
       "    </tr>\n",
       "    <tr>\n",
       "      <th>3</th>\n",
       "      <td>6</td>\n",
       "      <td>HLA-A*11:01</td>\n",
       "      <td>EVMPVSMAK</td>\n",
       "    </tr>\n",
       "    <tr>\n",
       "      <th>4</th>\n",
       "      <td>7</td>\n",
       "      <td>HLA-A*03:01</td>\n",
       "      <td>KTFPPTEPK</td>\n",
       "    </tr>\n",
       "    <tr>\n",
       "      <th>...</th>\n",
       "      <td>...</td>\n",
       "      <td>...</td>\n",
       "      <td>...</td>\n",
       "    </tr>\n",
       "    <tr>\n",
       "      <th>177724</th>\n",
       "      <td>4391157</td>\n",
       "      <td>HLA-A*02:01</td>\n",
       "      <td>ILLWQPIPV</td>\n",
       "    </tr>\n",
       "    <tr>\n",
       "      <th>177725</th>\n",
       "      <td>4391158</td>\n",
       "      <td>HLA-A*02:01</td>\n",
       "      <td>ALDVYNGLL</td>\n",
       "    </tr>\n",
       "    <tr>\n",
       "      <th>177726</th>\n",
       "      <td>4391159</td>\n",
       "      <td>HLA-A*02:01</td>\n",
       "      <td>LTDAVKVMDL</td>\n",
       "    </tr>\n",
       "    <tr>\n",
       "      <th>177727</th>\n",
       "      <td>4391160</td>\n",
       "      <td>HLA-A*02:01</td>\n",
       "      <td>KLQCVDLHV</td>\n",
       "    </tr>\n",
       "    <tr>\n",
       "      <th>177728</th>\n",
       "      <td>4391161</td>\n",
       "      <td>HLA-A*02:01</td>\n",
       "      <td>FLTPKKLQCV</td>\n",
       "    </tr>\n",
       "  </tbody>\n",
       "</table>\n",
       "<p>177729 rows × 3 columns</p>\n",
       "</div>"
      ],
      "text/plain": [
       "          index          MHC   Epitope.2\n",
       "0             1  HLA-A*02:01   KLEDLERDL\n",
       "1             2       HLA-A2   LITGRLQSL\n",
       "2             5  HLA-A*03:01   EVMPVSMAK\n",
       "3             6  HLA-A*11:01   EVMPVSMAK\n",
       "4             7  HLA-A*03:01   KTFPPTEPK\n",
       "...         ...          ...         ...\n",
       "177724  4391157  HLA-A*02:01   ILLWQPIPV\n",
       "177725  4391158  HLA-A*02:01   ALDVYNGLL\n",
       "177726  4391159  HLA-A*02:01  LTDAVKVMDL\n",
       "177727  4391160  HLA-A*02:01   KLQCVDLHV\n",
       "177728  4391161  HLA-A*02:01  FLTPKKLQCV\n",
       "\n",
       "[177729 rows x 3 columns]"
      ]
     },
     "execution_count": 73,
     "metadata": {},
     "output_type": "execute_result"
    }
   ],
   "source": [
    "viralepitope_sequences"
   ]
  },
  {
   "cell_type": "code",
   "execution_count": 74,
   "metadata": {},
   "outputs": [],
   "source": [
    "import numpy as np\n",
    "type(viralepitope_sequences)\n",
    "x = np.array(viralepitope_sequences[['MHC','Epitope.2']])"
   ]
  },
  {
   "cell_type": "code",
   "execution_count": 75,
   "metadata": {},
   "outputs": [],
   "source": [
    "viralepitope_sequences_lengths = (lambda x:[len(i) for i in x])(viralepitope_sequences['Epitope.2'])"
   ]
  },
  {
   "cell_type": "code",
   "execution_count": 76,
   "metadata": {},
   "outputs": [],
   "source": [
    "smallerthan = sum([i < 8 for i in viralepitope_sequences_lengths])\n",
    "largerthan = sum([i > 15 for i in viralepitope_sequences_lengths])"
   ]
  },
  {
   "cell_type": "code",
   "execution_count": 77,
   "metadata": {},
   "outputs": [
    {
     "name": "stdout",
     "output_type": "stream",
     "text": [
      "62\n",
      "1242\n"
     ]
    }
   ],
   "source": [
    "print(smallerthan)\n",
    "print(largerthan)"
   ]
  },
  {
   "cell_type": "code",
   "execution_count": 78,
   "metadata": {},
   "outputs": [],
   "source": [
    "lowrange = [i for i, x in enumerate(viralepitope_sequences_lengths) if x < 8]\n",
    "highrange = [i for i, x in enumerate(viralepitope_sequences_lengths) if x > 15]"
   ]
  },
  {
   "cell_type": "code",
   "execution_count": 79,
   "metadata": {},
   "outputs": [
    {
     "name": "stdout",
     "output_type": "stream",
     "text": [
      "62\n",
      "[['HLA-A*02:01' 'GILGFVF']\n",
      " ['HLA-A*02:01' 'GILGFVF']\n",
      " ['HLA-A*02:01' 'KKIKNSL']\n",
      " ['HLA-A*02:01' 'LGIVCPI']\n",
      " ['HLA-A*02:01' 'LGIVCPI']\n",
      " ['HLA-B*07:02' 'AEAMEVA']\n",
      " ['HLA-B8' 'LLMGTLG']\n",
      " ['HLA-A*11:01' 'KLWPPQK']\n",
      " ['HLA-B*27:05' 'RRFIYYV']\n",
      " ['HLA-B*27:05' 'WQTMYTN']\n",
      " ['HLA-A*24:02' 'QYSEKGW']\n",
      " ['HLA-B*27:05' 'RQPQVSI']\n",
      " ['HLA-B*27:04' 'RQPQVSI']\n",
      " ['HLA-B*27:06' 'RQPQVSI']\n",
      " ['HLA-B*27:05' 'AQPQVSI']\n",
      " ['HLA-B*27:05' 'RAPQVSI']\n",
      " ['HLA-B*27:05' 'AAPQVSI']\n",
      " ['HLA-B*27:04' 'AQPQVSI']\n",
      " ['HLA-B*27:04' 'RAPQVSI']\n",
      " ['HLA-B*27:04' 'AAPQVSI']\n",
      " ['HLA-B*27:06' 'AQPQVSI']\n",
      " ['HLA-B*27:06' 'RAPQVSI']\n",
      " ['HLA-B*27:06' 'AAPQVSI']\n",
      " ['HLA-A*68:01' 'AVA']\n",
      " ['HLA-A*02:01' 'VMEYLPL']\n",
      " ['HLA-A*02:01' 'LSVTILL']\n",
      " ['HLA-A*02:01' 'ATVIVSV']\n",
      " ['HLA-A*02:01' 'VQALLTI']\n",
      " ['HLA-A*02:01' 'VMEYVPL']\n",
      " ['HLA-A*11:01' 'SSCPLSK']\n",
      " ['HLA-A*11:01' 'SSCPLSK']\n",
      " ['HLA-A*11:01' 'SCPLSK']\n",
      " ['HLA-A*11:01' 'SSCSSCP']\n",
      " ['HLA-A*11:01' 'SSCPLSK']\n",
      " ['HLA-A*02:01' 'YLLEMLW']\n",
      " ['HLA-A*02:01' 'LEMLWRL']\n",
      " ['HLA-A*24:02' 'TYGPVFM']\n",
      " ['HLA-A*24:02' 'GPVFMCL']\n",
      " ['HLA-A*33:03' 'LVVDFSQ']\n",
      " ['HLA-A*02:01' 'DFSQFSR']\n",
      " ['HLA-B*07:02' 'RPPIFIR']\n",
      " ['HLA-B*07:02' 'PIFIRRL']\n",
      " ['HLA-B*15:02' 'FLFDGSP']\n",
      " ['HLA-B*15:02' 'FDGSPTY']\n",
      " ['HLA-B*27:05' 'RRIYDLI']\n",
      " ['HLA-B*27:05' 'IYDLIEL']\n",
      " ['HLA-B*46:01' 'HLAAQGM']\n",
      " ['HLA-B*46:01' 'AAQGMAY']\n",
      " ['HLA-B*54:01' 'LPSDFFP']\n",
      " ['HLA-B*54:01' 'SDFFPSV']\n",
      " ['HLA-B*58:01' 'KAGQVVT']\n",
      " ['HLA-B*58:01' 'GQVVTIW']\n",
      " ['HLA-C*03:04' 'GAVDPLL']\n",
      " ['HLA-C*03:04' 'VDPLLAL']\n",
      " ['HLA-C*08:01' 'GILGFVF']\n",
      " ['HLA-C*08:01' 'LGFVFTL']\n",
      " ['HLA-C*12:02' 'YQSGLSI']\n",
      " ['HLA-C*12:02' 'SGLSIVM']\n",
      " ['HLA-A*02:01' 'GM']\n",
      " ['HLA-A*11:01' 'ATIGT']\n",
      " ['HLA-A*11:01' 'AMYK']\n",
      " ['HLA-A*02:01' 'ALQPGTA']]\n"
     ]
    }
   ],
   "source": [
    "print(len(lowrange))\n",
    "print(x[lowrange])"
   ]
  },
  {
   "cell_type": "code",
   "execution_count": 80,
   "metadata": {},
   "outputs": [
    {
     "name": "stdout",
     "output_type": "stream",
     "text": [
      "1242\n",
      "[['HLA-B37' 'QGPGAPQGPGAPQGPGAPQGPGAP']\n",
      " ['HLA-B37' 'DKKESGDSEDKKESGDSE']\n",
      " ['HLA-B37' 'SPTSPSYSPTSPSYSPTSPSY']\n",
      " ...\n",
      " ['HLA-B*27:05' 'RRFSRSPIR + PHOS(S4)']\n",
      " ['HLA-B*27:05' 'RRFSRSPIR + PHOS(S6)']\n",
      " ['HLA-A*02:01' 'FLPTPEELGLLGPPRPQVLA']]\n"
     ]
    }
   ],
   "source": [
    "print(len(highrange))\n",
    "print(x[highrange])"
   ]
  },
  {
   "cell_type": "code",
   "execution_count": 81,
   "metadata": {},
   "outputs": [],
   "source": [
    "inrange = [i for i, x in enumerate(viralepitope_sequences_lengths) if x >= 8 and x <= 15]"
   ]
  },
  {
   "cell_type": "code",
   "execution_count": 82,
   "metadata": {},
   "outputs": [],
   "source": [
    "vepi = x[inrange]"
   ]
  },
  {
   "cell_type": "code",
   "execution_count": 83,
   "metadata": {},
   "outputs": [
    {
     "data": {
      "text/plain": [
       "0"
      ]
     },
     "execution_count": 83,
     "metadata": {},
     "output_type": "execute_result"
    }
   ],
   "source": [
    "sum([type(i) == str for i in vepi])"
   ]
  },
  {
   "cell_type": "code",
   "execution_count": 84,
   "metadata": {},
   "outputs": [],
   "source": [
    "peptidelengthcount = []\n",
    "for u in range(8, 16, 1):\n",
    "    c = [i for i, x in enumerate(viralepitope_sequences_lengths) if x == u]\n",
    "    peptidelengthcount.append(len(c))"
   ]
  },
  {
   "cell_type": "code",
   "execution_count": 85,
   "metadata": {},
   "outputs": [
    {
     "data": {
      "text/plain": [
       "[1235, 138602, 33720, 1946, 201, 127, 106, 488]"
      ]
     },
     "execution_count": 85,
     "metadata": {},
     "output_type": "execute_result"
    }
   ],
   "source": [
    "peptidelengthcount"
   ]
  },
  {
   "cell_type": "code",
   "execution_count": 88,
   "metadata": {},
   "outputs": [],
   "source": [
    "iedb_df = pd.DataFrame(vepi)"
   ]
  },
  {
   "cell_type": "code",
   "execution_count": 89,
   "metadata": {},
   "outputs": [
    {
     "data": {
      "text/html": [
       "<div>\n",
       "<style scoped>\n",
       "    .dataframe tbody tr th:only-of-type {\n",
       "        vertical-align: middle;\n",
       "    }\n",
       "\n",
       "    .dataframe tbody tr th {\n",
       "        vertical-align: top;\n",
       "    }\n",
       "\n",
       "    .dataframe thead th {\n",
       "        text-align: right;\n",
       "    }\n",
       "</style>\n",
       "<table border=\"1\" class=\"dataframe\">\n",
       "  <thead>\n",
       "    <tr style=\"text-align: right;\">\n",
       "      <th></th>\n",
       "      <th>0</th>\n",
       "      <th>1</th>\n",
       "    </tr>\n",
       "  </thead>\n",
       "  <tbody>\n",
       "    <tr>\n",
       "      <th>0</th>\n",
       "      <td>HLA-A*02:01</td>\n",
       "      <td>KLEDLERDL</td>\n",
       "    </tr>\n",
       "    <tr>\n",
       "      <th>1</th>\n",
       "      <td>HLA-A2</td>\n",
       "      <td>LITGRLQSL</td>\n",
       "    </tr>\n",
       "    <tr>\n",
       "      <th>2</th>\n",
       "      <td>HLA-A*03:01</td>\n",
       "      <td>EVMPVSMAK</td>\n",
       "    </tr>\n",
       "    <tr>\n",
       "      <th>3</th>\n",
       "      <td>HLA-A*11:01</td>\n",
       "      <td>EVMPVSMAK</td>\n",
       "    </tr>\n",
       "    <tr>\n",
       "      <th>4</th>\n",
       "      <td>HLA-A*03:01</td>\n",
       "      <td>KTFPPTEPK</td>\n",
       "    </tr>\n",
       "    <tr>\n",
       "      <th>...</th>\n",
       "      <td>...</td>\n",
       "      <td>...</td>\n",
       "    </tr>\n",
       "    <tr>\n",
       "      <th>176420</th>\n",
       "      <td>HLA-A*02:01</td>\n",
       "      <td>ILLWQPIPV</td>\n",
       "    </tr>\n",
       "    <tr>\n",
       "      <th>176421</th>\n",
       "      <td>HLA-A*02:01</td>\n",
       "      <td>ALDVYNGLL</td>\n",
       "    </tr>\n",
       "    <tr>\n",
       "      <th>176422</th>\n",
       "      <td>HLA-A*02:01</td>\n",
       "      <td>LTDAVKVMDL</td>\n",
       "    </tr>\n",
       "    <tr>\n",
       "      <th>176423</th>\n",
       "      <td>HLA-A*02:01</td>\n",
       "      <td>KLQCVDLHV</td>\n",
       "    </tr>\n",
       "    <tr>\n",
       "      <th>176424</th>\n",
       "      <td>HLA-A*02:01</td>\n",
       "      <td>FLTPKKLQCV</td>\n",
       "    </tr>\n",
       "  </tbody>\n",
       "</table>\n",
       "<p>176425 rows × 2 columns</p>\n",
       "</div>"
      ],
      "text/plain": [
       "                  0           1\n",
       "0       HLA-A*02:01   KLEDLERDL\n",
       "1            HLA-A2   LITGRLQSL\n",
       "2       HLA-A*03:01   EVMPVSMAK\n",
       "3       HLA-A*11:01   EVMPVSMAK\n",
       "4       HLA-A*03:01   KTFPPTEPK\n",
       "...             ...         ...\n",
       "176420  HLA-A*02:01   ILLWQPIPV\n",
       "176421  HLA-A*02:01   ALDVYNGLL\n",
       "176422  HLA-A*02:01  LTDAVKVMDL\n",
       "176423  HLA-A*02:01   KLQCVDLHV\n",
       "176424  HLA-A*02:01  FLTPKKLQCV\n",
       "\n",
       "[176425 rows x 2 columns]"
      ]
     },
     "execution_count": 89,
     "metadata": {},
     "output_type": "execute_result"
    }
   ],
   "source": [
    "iedb_df"
   ]
  },
  {
   "cell_type": "code",
   "execution_count": 93,
   "metadata": {},
   "outputs": [],
   "source": [
    "iedb_df.to_csv('/home/jjia1/viralepitope/viralepitope/iedb_data.txt', sep = '\\t', header = False, index = False)"
   ]
  },
  {
   "cell_type": "code",
   "execution_count": null,
   "metadata": {},
   "outputs": [],
   "source": [
    "#ofile = open(\"/home/jjia1/viralepitope/viralepitope/viralepitope_seq.txt\", \"w\")\n",
    "#i = 0\n",
    "#for line in iedb_df:\n",
    "#    ofile.write('>Sequence_'+str(i)+'\\n'+line+'\\n')\n",
    "#    i = i+1\n",
    "#ofile.close() "
   ]
  },
  {
   "cell_type": "code",
   "execution_count": null,
   "metadata": {},
   "outputs": [],
   "source": []
  }
 ],
 "metadata": {
  "kernelspec": {
   "display_name": "Python 3.8.13 ('viralepitope': conda)",
   "language": "python",
   "name": "python3"
  },
  "language_info": {
   "codemirror_mode": {
    "name": "ipython",
    "version": 3
   },
   "file_extension": ".py",
   "mimetype": "text/x-python",
   "name": "python",
   "nbconvert_exporter": "python",
   "pygments_lexer": "ipython3",
   "version": "3.8.13"
  },
  "orig_nbformat": 4,
  "vscode": {
   "interpreter": {
    "hash": "89a569e57c3a868c837518f690d34e8ba538dcefa2ece26ecfaf82d5cd67ebe4"
   }
  }
 },
 "nbformat": 4,
 "nbformat_minor": 2
}
