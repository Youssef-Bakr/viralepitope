{
 "cells": [
  {
   "cell_type": "code",
   "execution_count": 1,
   "metadata": {},
   "outputs": [],
   "source": [
    "import pandas as pd"
   ]
  },
  {
   "cell_type": "code",
   "execution_count": 2,
   "metadata": {},
   "outputs": [
    {
     "name": "stderr",
     "output_type": "stream",
     "text": [
      "/tmp/ipykernel_21010/3201867391.py:1: DtypeWarning: Columns (3,5,6,8,12,13,14,15,16,17,18,19,20,21,22,23,24,25,26,27,28,29,30,31,32,33,34,35,36,37,38,41,42,43,44,45,46,47,48,49,50,51,52,53,54,55,56,57,58,59,60,61,62,63,64,65,66,67,68,69,70,71,72,73,74,75,76,77,78,81,84,85,86,87,88,89,90,91,92,93,94,97,99) have mixed types. Specify dtype option on import or set low_memory=False.\n",
      "  data = pd.read_csv('/home/jjia1/jjia1/viralepitope/mhc_ligand_full.csv')\n"
     ]
    }
   ],
   "source": [
    "data = pd.read_csv('/home/jjia1/jjia1/viralepitope/mhc_ligand_full.csv')"
   ]
  },
  {
   "cell_type": "code",
   "execution_count": 3,
   "metadata": {},
   "outputs": [
    {
     "data": {
      "text/plain": [
       "Index(['Reference', 'Reference.1', 'Reference.2', 'Reference.3', 'Reference.4',\n",
       "       'Reference.5', 'Reference.6', 'Reference.7', 'Reference.8', 'Epitope',\n",
       "       'Epitope.1', 'Epitope.2', 'Epitope.3', 'Epitope.4', 'Epitope.5',\n",
       "       'Epitope.6', 'Epitope.7', 'Epitope.8', 'Epitope.9', 'Epitope.10',\n",
       "       'Epitope.11', 'Epitope.12', 'Epitope.13', 'Epitope.14',\n",
       "       'Related Object', 'Related Object.1', 'Related Object.2',\n",
       "       'Related Object.3', 'Related Object.4', 'Related Object.5',\n",
       "       'Related Object.6', 'Related Object.7', 'Related Object.8',\n",
       "       'Related Object.9', 'Related Object.10', 'Related Object.11',\n",
       "       'Related Object.12', 'Related Object.13', 'Related Object.14', 'Host',\n",
       "       'Host.1', 'Host.2', 'Host.3', 'Host.4', 'In vivo Process',\n",
       "       'In vivo Process.1', 'In vivo Process.2', 'In vivo Process.3',\n",
       "       'In vivo Process.4', 'In vivo Process.5', 'In vivo Process.6',\n",
       "       'In vivo Process.7', 'In vivo Process.8', 'In vivo Process.9',\n",
       "       'In vivo Process.10', 'In vivo Process.11', 'In vivo Process.12',\n",
       "       'In vivo Process.13', 'In vivo Process.14', 'In vivo Process.15',\n",
       "       'In vivo Process.16', 'In vivo Process.17', 'In vitro Process',\n",
       "       'In vitro Process.1', 'In vitro Process.2', 'In vitro Process.3',\n",
       "       'In vitro Process.4', 'In vitro Process.5', 'In vitro Process.6',\n",
       "       'In vitro Process.7', 'In vitro Process.8', 'In vitro Process.9',\n",
       "       'In vitro Process.10', 'In vitro Process.11', 'In vitro Process.12',\n",
       "       'In vitro Process.13', 'In vitro Process.14',\n",
       "       'Processed Antigen Comments', 'Assay', 'Assay.1', 'Assay.2', 'Assay.3',\n",
       "       'Assay.4', 'Assay.5', 'Assay.6', 'Assay.7', 'Assay.8', 'Assay.9',\n",
       "       'Assay.10', 'Assay.11', 'Antigen Processing Cells',\n",
       "       'Antigen Processing Cells.1', 'Antigen Processing Cells.2',\n",
       "       'Antigen Processing Cells.3', 'Antigen Processing Cells.4', 'MHC',\n",
       "       'MHC.1', 'MHC.2', 'MHC.3', 'Assay Comments'],\n",
       "      dtype='object')"
      ]
     },
     "execution_count": 3,
     "metadata": {},
     "output_type": "execute_result"
    }
   ],
   "source": [
    "data.columns"
   ]
  },
  {
   "cell_type": "code",
   "execution_count": 4,
   "metadata": {},
   "outputs": [
    {
     "data": {
      "text/plain": [
       "(4391206, 100)"
      ]
     },
     "execution_count": 4,
     "metadata": {},
     "output_type": "execute_result"
    }
   ],
   "source": [
    "data.shape"
   ]
  },
  {
   "cell_type": "code",
   "execution_count": 5,
   "metadata": {},
   "outputs": [
    {
     "data": {
      "text/plain": [
       "0          Description\n",
       "1            KLEDLERDL\n",
       "2            LITGRLQSL\n",
       "3             TRVAFAGL\n",
       "4             RNTDFFGL\n",
       "              ...     \n",
       "4391201      LRKRQLAVL\n",
       "4391202      LRKRQLTAL\n",
       "4391203      LRKRQLTVA\n",
       "4391204      LRKRQLTVI\n",
       "4391205      LRKRQLTVV\n",
       "Name: Epitope.2, Length: 4391206, dtype: object"
      ]
     },
     "execution_count": 5,
     "metadata": {},
     "output_type": "execute_result"
    }
   ],
   "source": [
    "data['Epitope.2']"
   ]
  },
  {
   "cell_type": "code",
   "execution_count": 22,
   "metadata": {},
   "outputs": [
    {
     "data": {
      "text/plain": [
       "0          Allele Name\n",
       "1          HLA-A*02:01\n",
       "2               HLA-A2\n",
       "3                H2-Kb\n",
       "4                H2-Kb\n",
       "              ...     \n",
       "4391201    Anpl-UAA*76\n",
       "4391202    Anpl-UAA*76\n",
       "4391203    Anpl-UAA*76\n",
       "4391204    Anpl-UAA*76\n",
       "4391205    Anpl-UAA*76\n",
       "Name: MHC, Length: 4391206, dtype: object"
      ]
     },
     "execution_count": 22,
     "metadata": {},
     "output_type": "execute_result"
    }
   ],
   "source": [
    "data['MHC']"
   ]
  },
  {
   "cell_type": "code",
   "execution_count": 6,
   "metadata": {},
   "outputs": [
    {
     "data": {
      "text/plain": [
       "0          MHC allele class\n",
       "1                         I\n",
       "2                         I\n",
       "3                         I\n",
       "4                         I\n",
       "                 ...       \n",
       "4391201                   I\n",
       "4391202                   I\n",
       "4391203                   I\n",
       "4391204                   I\n",
       "4391205                   I\n",
       "Name: MHC.3, Length: 4391206, dtype: object"
      ]
     },
     "execution_count": 6,
     "metadata": {},
     "output_type": "execute_result"
    }
   ],
   "source": [
    "data['MHC.3']"
   ]
  },
  {
   "cell_type": "code",
   "execution_count": 7,
   "metadata": {},
   "outputs": [
    {
     "data": {
      "text/plain": [
       "0                               Name\n",
       "1               human (Homo sapiens)\n",
       "2               human (Homo sapiens)\n",
       "3               mouse (Mus musculus)\n",
       "4               mouse (Mus musculus)\n",
       "                     ...            \n",
       "4391201    duck (Anas platyrhynchos)\n",
       "4391202    duck (Anas platyrhynchos)\n",
       "4391203    duck (Anas platyrhynchos)\n",
       "4391204    duck (Anas platyrhynchos)\n",
       "4391205    duck (Anas platyrhynchos)\n",
       "Name: Host, Length: 4391206, dtype: object"
      ]
     },
     "execution_count": 7,
     "metadata": {},
     "output_type": "execute_result"
    }
   ],
   "source": [
    "data['Host']"
   ]
  },
  {
   "cell_type": "code",
   "execution_count": 8,
   "metadata": {},
   "outputs": [],
   "source": [
    "humans = data[data['Host']== 'human (Homo sapiens)']"
   ]
  },
  {
   "cell_type": "code",
   "execution_count": 9,
   "metadata": {},
   "outputs": [
    {
     "data": {
      "text/plain": [
       "(718890, 100)"
      ]
     },
     "execution_count": 9,
     "metadata": {},
     "output_type": "execute_result"
    }
   ],
   "source": [
    "humans.shape"
   ]
  },
  {
   "cell_type": "code",
   "execution_count": 10,
   "metadata": {},
   "outputs": [],
   "source": [
    "data_humans_mhc1 = humans[humans['MHC.3'] == 'I']"
   ]
  },
  {
   "cell_type": "code",
   "execution_count": 11,
   "metadata": {},
   "outputs": [
    {
     "data": {
      "text/plain": [
       "(177729, 100)"
      ]
     },
     "execution_count": 11,
     "metadata": {},
     "output_type": "execute_result"
    }
   ],
   "source": [
    "data_humans_mhc1.shape"
   ]
  },
  {
   "cell_type": "code",
   "execution_count": 12,
   "metadata": {},
   "outputs": [],
   "source": [
    "viralepitope_sequences = data_humans_mhc1['Epitope.2']"
   ]
  },
  {
   "cell_type": "code",
   "execution_count": 162,
   "metadata": {},
   "outputs": [],
   "source": [
    "viralepitope_sequences = viralepitope_sequences.reset_index()"
   ]
  },
  {
   "cell_type": "code",
   "execution_count": 163,
   "metadata": {},
   "outputs": [
    {
     "data": {
      "text/html": [
       "<div>\n",
       "<style scoped>\n",
       "    .dataframe tbody tr th:only-of-type {\n",
       "        vertical-align: middle;\n",
       "    }\n",
       "\n",
       "    .dataframe tbody tr th {\n",
       "        vertical-align: top;\n",
       "    }\n",
       "\n",
       "    .dataframe thead th {\n",
       "        text-align: right;\n",
       "    }\n",
       "</style>\n",
       "<table border=\"1\" class=\"dataframe\">\n",
       "  <thead>\n",
       "    <tr style=\"text-align: right;\">\n",
       "      <th></th>\n",
       "      <th>index</th>\n",
       "      <th>Epitope.2</th>\n",
       "    </tr>\n",
       "  </thead>\n",
       "  <tbody>\n",
       "    <tr>\n",
       "      <th>0</th>\n",
       "      <td>1</td>\n",
       "      <td>KLEDLERDL</td>\n",
       "    </tr>\n",
       "    <tr>\n",
       "      <th>1</th>\n",
       "      <td>2</td>\n",
       "      <td>LITGRLQSL</td>\n",
       "    </tr>\n",
       "    <tr>\n",
       "      <th>2</th>\n",
       "      <td>5</td>\n",
       "      <td>EVMPVSMAK</td>\n",
       "    </tr>\n",
       "    <tr>\n",
       "      <th>3</th>\n",
       "      <td>6</td>\n",
       "      <td>EVMPVSMAK</td>\n",
       "    </tr>\n",
       "    <tr>\n",
       "      <th>4</th>\n",
       "      <td>7</td>\n",
       "      <td>KTFPPTEPK</td>\n",
       "    </tr>\n",
       "    <tr>\n",
       "      <th>...</th>\n",
       "      <td>...</td>\n",
       "      <td>...</td>\n",
       "    </tr>\n",
       "    <tr>\n",
       "      <th>177724</th>\n",
       "      <td>4391157</td>\n",
       "      <td>ILLWQPIPV</td>\n",
       "    </tr>\n",
       "    <tr>\n",
       "      <th>177725</th>\n",
       "      <td>4391158</td>\n",
       "      <td>ALDVYNGLL</td>\n",
       "    </tr>\n",
       "    <tr>\n",
       "      <th>177726</th>\n",
       "      <td>4391159</td>\n",
       "      <td>LTDAVKVMDL</td>\n",
       "    </tr>\n",
       "    <tr>\n",
       "      <th>177727</th>\n",
       "      <td>4391160</td>\n",
       "      <td>KLQCVDLHV</td>\n",
       "    </tr>\n",
       "    <tr>\n",
       "      <th>177728</th>\n",
       "      <td>4391161</td>\n",
       "      <td>FLTPKKLQCV</td>\n",
       "    </tr>\n",
       "  </tbody>\n",
       "</table>\n",
       "<p>177729 rows × 2 columns</p>\n",
       "</div>"
      ],
      "text/plain": [
       "          index   Epitope.2\n",
       "0             1   KLEDLERDL\n",
       "1             2   LITGRLQSL\n",
       "2             5   EVMPVSMAK\n",
       "3             6   EVMPVSMAK\n",
       "4             7   KTFPPTEPK\n",
       "...         ...         ...\n",
       "177724  4391157   ILLWQPIPV\n",
       "177725  4391158   ALDVYNGLL\n",
       "177726  4391159  LTDAVKVMDL\n",
       "177727  4391160   KLQCVDLHV\n",
       "177728  4391161  FLTPKKLQCV\n",
       "\n",
       "[177729 rows x 2 columns]"
      ]
     },
     "execution_count": 163,
     "metadata": {},
     "output_type": "execute_result"
    }
   ],
   "source": [
    "viralepitope_sequences"
   ]
  },
  {
   "cell_type": "code",
   "execution_count": 179,
   "metadata": {},
   "outputs": [],
   "source": [
    "import numpy as np\n",
    "type(viralepitope_sequences)\n",
    "x = np.array(viralepitope_sequences['Epitope.2'])"
   ]
  },
  {
   "cell_type": "code",
   "execution_count": 168,
   "metadata": {},
   "outputs": [],
   "source": [
    "viralepitope_sequences_lengths = (lambda x:[len(i) for i in x])(viralepitope_sequences['Epitope.2'])"
   ]
  },
  {
   "cell_type": "code",
   "execution_count": 169,
   "metadata": {},
   "outputs": [],
   "source": [
    "smallerthan = sum([i < 8 for i in viralepitope_sequences_lengths])\n",
    "largerthan = sum([i > 15 for i in viralepitope_sequences_lengths])"
   ]
  },
  {
   "cell_type": "code",
   "execution_count": 170,
   "metadata": {},
   "outputs": [
    {
     "name": "stdout",
     "output_type": "stream",
     "text": [
      "62\n",
      "1242\n"
     ]
    }
   ],
   "source": [
    "print(smallerthan)\n",
    "print(largerthan)"
   ]
  },
  {
   "cell_type": "code",
   "execution_count": 173,
   "metadata": {},
   "outputs": [],
   "source": [
    "lowrange = [i for i, x in enumerate(viralepitope_sequences_lengths) if x < 8]\n",
    "highrange = [i for i, x in enumerate(viralepitope_sequences_lengths) if x > 15]"
   ]
  },
  {
   "cell_type": "code",
   "execution_count": 174,
   "metadata": {},
   "outputs": [
    {
     "name": "stdout",
     "output_type": "stream",
     "text": [
      "62\n",
      "['GILGFVF' 'GILGFVF' 'KKIKNSL' 'LGIVCPI' 'LGIVCPI' 'AEAMEVA' 'LLMGTLG'\n",
      " 'KLWPPQK' 'RRFIYYV' 'WQTMYTN' 'QYSEKGW' 'RQPQVSI' 'RQPQVSI' 'RQPQVSI'\n",
      " 'AQPQVSI' 'RAPQVSI' 'AAPQVSI' 'AQPQVSI' 'RAPQVSI' 'AAPQVSI' 'AQPQVSI'\n",
      " 'RAPQVSI' 'AAPQVSI' 'AVA' 'VMEYLPL' 'LSVTILL' 'ATVIVSV' 'VQALLTI'\n",
      " 'VMEYVPL' 'SSCPLSK' 'SSCPLSK' 'SCPLSK' 'SSCSSCP' 'SSCPLSK' 'YLLEMLW'\n",
      " 'LEMLWRL' 'TYGPVFM' 'GPVFMCL' 'LVVDFSQ' 'DFSQFSR' 'RPPIFIR' 'PIFIRRL'\n",
      " 'FLFDGSP' 'FDGSPTY' 'RRIYDLI' 'IYDLIEL' 'HLAAQGM' 'AAQGMAY' 'LPSDFFP'\n",
      " 'SDFFPSV' 'KAGQVVT' 'GQVVTIW' 'GAVDPLL' 'VDPLLAL' 'GILGFVF' 'LGFVFTL'\n",
      " 'YQSGLSI' 'SGLSIVM' 'GM' 'ATIGT' 'AMYK' 'ALQPGTA']\n"
     ]
    }
   ],
   "source": [
    "print(len(lowrange))\n",
    "print(x[lowrange])"
   ]
  },
  {
   "cell_type": "code",
   "execution_count": 175,
   "metadata": {},
   "outputs": [
    {
     "name": "stdout",
     "output_type": "stream",
     "text": [
      "1242\n",
      "['QGPGAPQGPGAPQGPGAPQGPGAP' 'DKKESGDSEDKKESGDSE' 'SPTSPSYSPTSPSYSPTSPSY'\n",
      " ... 'RRFSRSPIR + PHOS(S4)' 'RRFSRSPIR + PHOS(S6)' 'FLPTPEELGLLGPPRPQVLA']\n"
     ]
    }
   ],
   "source": [
    "print(len(highrange))\n",
    "print(x[highrange])"
   ]
  },
  {
   "cell_type": "code",
   "execution_count": 180,
   "metadata": {},
   "outputs": [],
   "source": [
    "inrange = [i for i, x in enumerate(viralepitope_sequences_lengths) if x >= 8 and x <= 15]"
   ]
  },
  {
   "cell_type": "code",
   "execution_count": 188,
   "metadata": {},
   "outputs": [],
   "source": [
    "vepi = x[inrange]"
   ]
  },
  {
   "cell_type": "code",
   "execution_count": 192,
   "metadata": {},
   "outputs": [
    {
     "data": {
      "text/plain": [
       "176425"
      ]
     },
     "execution_count": 192,
     "metadata": {},
     "output_type": "execute_result"
    }
   ],
   "source": [
    "sum([type(i) == str for i in vepi])"
   ]
  },
  {
   "cell_type": "code",
   "execution_count": 23,
   "metadata": {},
   "outputs": [],
   "source": [
    "mhc_names = data_humans_mhc1['MHC']"
   ]
  },
  {
   "cell_type": "code",
   "execution_count": 194,
   "metadata": {},
   "outputs": [],
   "source": [
    "mhc_names = mhc_names.reset_index()\n",
    "mhc_names = mhc_names['MHC']"
   ]
  },
  {
   "cell_type": "code",
   "execution_count": 195,
   "metadata": {},
   "outputs": [],
   "source": [
    "hla_epi = np.array(mhc_names)\n",
    "hla_epi = hla_epi[inrange]"
   ]
  },
  {
   "cell_type": "code",
   "execution_count": 198,
   "metadata": {},
   "outputs": [],
   "source": [
    "ofile = open(\"/home/jjia1/viralepitope/viralepitope/viralepitope_seq.fasta\", \"w\")\n",
    "i = 0\n",
    "for line in vepi:\n",
    "    ofile.write('>Sequence_'+str(i)+'\\n'+line+'\\n')\n",
    "    i = i+1\n",
    "ofile.close() "
   ]
  },
  {
   "cell_type": "code",
   "execution_count": 199,
   "metadata": {},
   "outputs": [],
   "source": [
    "ofile = open(\"/home/jjia1/viralepitope/viralepitope/mhcnames.txt\", \"w\")\n",
    "i = 0\n",
    "for line in hla_epi:\n",
    "    ofile.write('>MHCName_'+str(i)+'\\n'+line+'\\n')\n",
    "    i = i+1\n",
    "ofile.close() "
   ]
  },
  {
   "cell_type": "code",
   "execution_count": 219,
   "metadata": {},
   "outputs": [],
   "source": [
    "with open('/home/jjia1/viralepitope/viralepitope/uniprot_ref.fasta') as f:\n",
    "    lines = f.readline().strip()"
   ]
  },
  {
   "cell_type": "code",
   "execution_count": 220,
   "metadata": {},
   "outputs": [],
   "source": [
    "y = []\n",
    "decoy_seq = []\n",
    "for line in lines:\n",
    "    if line[0] == '>':\n",
    "        y.append(1)\n",
    "    else:\n",
    "        decoy_seq.append(line)"
   ]
  },
  {
   "cell_type": "code",
   "execution_count": 221,
   "metadata": {},
   "outputs": [
    {
     "data": {
      "text/plain": [
       "['s',\n",
       " 'p',\n",
       " '|',\n",
       " 'A',\n",
       " '0',\n",
       " 'A',\n",
       " '0',\n",
       " '2',\n",
       " '4',\n",
       " 'R',\n",
       " 'B',\n",
       " 'G',\n",
       " '1',\n",
       " '|',\n",
       " 'N',\n",
       " 'U',\n",
       " 'D',\n",
       " '4',\n",
       " 'B',\n",
       " '_',\n",
       " 'H',\n",
       " 'U',\n",
       " 'M',\n",
       " 'A',\n",
       " 'N',\n",
       " ' ',\n",
       " 'D',\n",
       " 'i',\n",
       " 'p',\n",
       " 'h',\n",
       " 'o',\n",
       " 's',\n",
       " 'p',\n",
       " 'h',\n",
       " 'o',\n",
       " 'i',\n",
       " 'n',\n",
       " 'o',\n",
       " 's',\n",
       " 'i',\n",
       " 't',\n",
       " 'o',\n",
       " 'l',\n",
       " ' ',\n",
       " 'p',\n",
       " 'o',\n",
       " 'l',\n",
       " 'y',\n",
       " 'p',\n",
       " 'h',\n",
       " 'o',\n",
       " 's',\n",
       " 'p',\n",
       " 'h',\n",
       " 'a',\n",
       " 't',\n",
       " 'e',\n",
       " ' ',\n",
       " 'p',\n",
       " 'h',\n",
       " 'o',\n",
       " 's',\n",
       " 'p',\n",
       " 'h',\n",
       " 'o',\n",
       " 'h',\n",
       " 'y',\n",
       " 'd',\n",
       " 'r',\n",
       " 'o',\n",
       " 'l',\n",
       " 'a',\n",
       " 's',\n",
       " 'e',\n",
       " ' ',\n",
       " 'N',\n",
       " 'U',\n",
       " 'D',\n",
       " 'T',\n",
       " '4',\n",
       " 'B',\n",
       " ' ',\n",
       " 'O',\n",
       " 'S',\n",
       " '=',\n",
       " 'H',\n",
       " 'o',\n",
       " 'm',\n",
       " 'o',\n",
       " ' ',\n",
       " 's',\n",
       " 'a',\n",
       " 'p',\n",
       " 'i',\n",
       " 'e',\n",
       " 'n',\n",
       " 's',\n",
       " ' ',\n",
       " 'O',\n",
       " 'X',\n",
       " '=',\n",
       " '9',\n",
       " '6',\n",
       " '0',\n",
       " '6',\n",
       " ' ',\n",
       " 'G',\n",
       " 'N',\n",
       " '=',\n",
       " 'N',\n",
       " 'U',\n",
       " 'D',\n",
       " 'T',\n",
       " '4',\n",
       " 'B',\n",
       " ' ',\n",
       " 'P',\n",
       " 'E',\n",
       " '=',\n",
       " '3',\n",
       " ' ',\n",
       " 'S',\n",
       " 'V',\n",
       " '=',\n",
       " '1']"
      ]
     },
     "execution_count": 221,
     "metadata": {},
     "output_type": "execute_result"
    }
   ],
   "source": [
    "decoy_seq"
   ]
  },
  {
   "cell_type": "code",
   "execution_count": null,
   "metadata": {},
   "outputs": [],
   "source": []
  }
 ],
 "metadata": {
  "kernelspec": {
   "display_name": "Python 3.8.13 ('viralepitope': conda)",
   "language": "python",
   "name": "python3"
  },
  "language_info": {
   "codemirror_mode": {
    "name": "ipython",
    "version": 3
   },
   "file_extension": ".py",
   "mimetype": "text/x-python",
   "name": "python",
   "nbconvert_exporter": "python",
   "pygments_lexer": "ipython3",
   "version": "3.8.13"
  },
  "orig_nbformat": 4,
  "vscode": {
   "interpreter": {
    "hash": "89a569e57c3a868c837518f690d34e8ba538dcefa2ece26ecfaf82d5cd67ebe4"
   }
  }
 },
 "nbformat": 4,
 "nbformat_minor": 2
}
