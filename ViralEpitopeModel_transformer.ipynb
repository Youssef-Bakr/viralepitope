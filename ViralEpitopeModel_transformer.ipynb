{
 "cells": [
  {
   "cell_type": "code",
   "execution_count": 1,
   "metadata": {},
   "outputs": [
    {
     "data": {
      "text/plain": [
       "'\\nCreated on August 4th 2022\\n\\n@author: JJ\\n'"
      ]
     },
     "execution_count": 1,
     "metadata": {},
     "output_type": "execute_result"
    }
   ],
   "source": [
    "\"\"\"\n",
    "Created on August 4th 2022\n",
    "\n",
    "@author: JJ\n",
    "\"\"\""
   ]
  },
  {
   "cell_type": "code",
   "execution_count": 2,
   "metadata": {},
   "outputs": [
    {
     "name": "stderr",
     "output_type": "stream",
     "text": [
      "2022-12-01 14:10:32.139760: I tensorflow/stream_executor/platform/default/dso_loader.cc:49] Successfully opened dynamic library libcudart.so.10.1\n"
     ]
    }
   ],
   "source": [
    "import os, re, sys\n",
    "import numpy as np\n",
    "import pandas as pd\n",
    "from math import log\n",
    "import random\n",
    "import scipy.io\n",
    "import tensorflow as tf\n",
    "import csv"
   ]
  },
  {
   "cell_type": "code",
   "execution_count": 3,
   "metadata": {},
   "outputs": [],
   "source": [
    "from tensorflow.keras.optimizers import *\n",
    "from tensorflow.keras.models import *\n",
    "from tensorflow.keras.layers import *\n",
    "from tensorflow.keras.constraints import *\n",
    "from tensorflow.keras.regularizers import *\n",
    "#from tensorflow.keras.models import Model\n",
    "from tensorflow.keras import backend as K\n",
    "from tensorflow.keras import (\n",
    "    activations, \n",
    "    initializers, \n",
    "    regularizers, \n",
    "    constraints\n",
    ")"
   ]
  },
  {
   "cell_type": "code",
   "execution_count": 4,
   "metadata": {},
   "outputs": [],
   "source": [
    "num_threads = 8\n",
    "# Maximum number of threads to use for OpenMP parallel regions.\n",
    "os.environ[\"OMP_NUM_THREADS\"] = \"8\"\n",
    "# Without setting below 2 environment variables, it didn't work for me. Thanks to @cjw85 \n",
    "os.environ[\"TF_NUM_INTRAOP_THREADS\"] = \"4\"\n",
    "os.environ[\"TF_NUM_INTEROP_THREADS\"] = \"4\"\n",
    "\n",
    "tf.config.threading.set_inter_op_parallelism_threads(\n",
    "    num_threads\n",
    ")\n",
    "tf.config.threading.set_intra_op_parallelism_threads(\n",
    "    num_threads\n",
    ")\n",
    "tf.config.set_soft_device_placement(True)"
   ]
  },
  {
   "cell_type": "code",
   "execution_count": 5,
   "metadata": {},
   "outputs": [],
   "source": [
    "# in a well-defined initial state.\n",
    "random.seed\n",
    "np.random.seed(1337)\n",
    "tf.random.set_seed(1337)"
   ]
  },
  {
   "cell_type": "code",
   "execution_count": 6,
   "metadata": {},
   "outputs": [],
   "source": [
    "import matplotlib\n",
    "import matplotlib.pyplot as plt"
   ]
  },
  {
   "cell_type": "code",
   "execution_count": 7,
   "metadata": {},
   "outputs": [],
   "source": [
    "from tensorflow.keras.callbacks import (\n",
    "    ModelCheckpoint, \n",
    "    EarlyStopping\n",
    ")\n",
    "from sklearn.metrics import (\n",
    "    roc_curve,\n",
    "    auc,\n",
    "    roc_auc_score,\n",
    "    average_precision_score,\n",
    "    precision_recall_curve,\n",
    ")"
   ]
  },
  {
   "cell_type": "code",
   "execution_count": 8,
   "metadata": {},
   "outputs": [],
   "source": [
    "from sklearn.model_selection import train_test_split, StratifiedKFold\n",
    "from sklearn.utils import resample, shuffle\n",
    "from sklearn.feature_selection import (\n",
    "    SelectKBest,\n",
    "    chi2\n",
    ")\n",
    "import keras_tuner as kt\n",
    "from collections import defaultdict"
   ]
  },
  {
   "cell_type": "code",
   "execution_count": 9,
   "metadata": {},
   "outputs": [],
   "source": [
    "import pickle as pkl"
   ]
  },
  {
   "cell_type": "code",
   "execution_count": 10,
   "metadata": {},
   "outputs": [],
   "source": [
    "from proteinbert import OutputType, OutputSpec, FinetuningModelGenerator, load_pretrained_model, finetune, evaluate_by_len\n",
    "from proteinbert.conv_and_global_attention_model import get_model_with_hidden_layers_as_outputs"
   ]
  },
  {
   "cell_type": "code",
   "execution_count": 16,
   "metadata": {},
   "outputs": [],
   "source": [
    "pretrained_model_generator, input_encoder = load_pretrained_model('/home/jjia1/viralepitope/viralepitope', 'epoch_92400_sample_23500000.pkl')"
   ]
  },
  {
   "cell_type": "code",
   "execution_count": 21,
   "metadata": {},
   "outputs": [],
   "source": [
    "OUTPUT_TYPE = OutputType(False, 'binary')\n",
    "UNIQUE_LABELS = [0, 1]\n",
    "OUTPUT_SPEC = OutputSpec(OUTPUT_TYPE, UNIQUE_LABELS)"
   ]
  },
  {
   "cell_type": "code",
   "execution_count": 29,
   "metadata": {},
   "outputs": [],
   "source": [
    "allpep = pd.read_csv('viralepitope_sequenceonly.csv')\n",
    "allmhc = pd.read_csv('mhcepitope_sequenceonly.csv')"
   ]
  },
  {
   "cell_type": "code",
   "execution_count": 30,
   "metadata": {},
   "outputs": [],
   "source": [
    "all_pep = allpep.drop(allpep.columns[[0]], axis = 1)\n",
    "all_mhc = allmhc.drop(allmhc.columns[[0]], axis = 1)"
   ]
  },
  {
   "cell_type": "code",
   "execution_count": 31,
   "metadata": {},
   "outputs": [],
   "source": [
    "train_pep, test_pep = train_test_split(all_pep, stratify = all_pep['label'], test_size = 0.1, random_state = 0)\n",
    "train_mhc, test_mhc = train_test_split(all_mhc, stratify = all_mhc['label'], test_size = 0.1, random_state = 0)"
   ]
  },
  {
   "cell_type": "code",
   "execution_count": 36,
   "metadata": {},
   "outputs": [
    {
     "data": {
      "text/plain": [
       "Index(['sequence', 'label'], dtype='object')"
      ]
     },
     "execution_count": 36,
     "metadata": {},
     "output_type": "execute_result"
    }
   ],
   "source": [
    "train_pep.columns"
   ]
  },
  {
   "cell_type": "code",
   "execution_count": 35,
   "metadata": {},
   "outputs": [],
   "source": [
    "model_generator = FinetuningModelGenerator(pretrained_model_generator, OUTPUT_SPEC, pretraining_model_manipulation_function = \\\n",
    "        get_model_with_hidden_layers_as_outputs, dropout_rate = 0.5)\n",
    "\n",
    "training_callbacks = [\n",
    "    tf.keras.callbacks.ReduceLROnPlateau(patience = 1, factor = 0.25, min_lr = 1e-05, verbose = 1),\n",
    "    tf.keras.callbacks.EarlyStopping(patience = 2, restore_best_weights = True),\n",
    "]"
   ]
  },
  {
   "cell_type": "code",
   "execution_count": 37,
   "metadata": {},
   "outputs": [],
   "source": [
    "kfold = StratifiedKFold(n_splits=5, shuffle=True, random_state=1337)    \n",
    "allprobas_=np.array([]) \n",
    "all_labels=np.array([])"
   ]
  },
  {
   "cell_type": "code",
   "execution_count": 41,
   "metadata": {},
   "outputs": [
    {
     "name": "stdout",
     "output_type": "stream",
     "text": [
      "[2022_12_02-14:00:48] Training set: Filtered out 0 of 850791 (0.0%) records of lengths exceeding 510.\n",
      "[2022_12_02-14:03:24] Validation set: Filtered out 0 of 94533 (0.0%) records of lengths exceeding 510.\n",
      "[2022_12_02-14:03:42] Training with frozen pretrained layers...\n"
     ]
    },
    {
     "name": "stderr",
     "output_type": "stream",
     "text": [
      "2022-12-02 14:03:42.562560: I tensorflow/compiler/jit/xla_cpu_device.cc:41] Not creating XLA devices, tf_xla_enable_xla_devices not set\n",
      "2022-12-02 14:03:42.564420: W tensorflow/stream_executor/platform/default/dso_loader.cc:60] Could not load dynamic library 'libcuda.so.1'; dlerror: libcuda.so.1: cannot open shared object file: No such file or directory\n",
      "2022-12-02 14:03:42.564463: W tensorflow/stream_executor/cuda/cuda_driver.cc:326] failed call to cuInit: UNKNOWN ERROR (303)\n",
      "2022-12-02 14:03:42.564657: I tensorflow/stream_executor/cuda/cuda_diagnostics.cc:156] kernel driver does not appear to be running on this host (sbcphaplp001.uthouston.edu): /proc/driver/nvidia/version does not exist\n",
      "2022-12-02 14:03:42.565856: I tensorflow/core/platform/cpu_feature_guard.cc:142] This TensorFlow binary is optimized with oneAPI Deep Neural Network Library (oneDNN) to use the following CPU instructions in performance-critical operations:  SSE4.1 SSE4.2 AVX AVX2 AVX512F FMA\n",
      "To enable them in other operations, rebuild TensorFlow with the appropriate compiler flags.\n",
      "2022-12-02 14:03:42.566479: I tensorflow/compiler/jit/xla_gpu_device.cc:99] Not creating XLA devices, tf_xla_enable_xla_devices not set\n",
      "2022-12-02 14:03:47.030069: W tensorflow/core/framework/cpu_allocator_impl.cc:80] Allocation of 1742419968 exceeds 10% of free system memory.\n",
      "2022-12-02 14:03:50.215938: W tensorflow/core/framework/cpu_allocator_impl.cc:80] Allocation of 7608623913 exceeds 10% of free system memory.\n",
      "2022-12-02 14:07:33.057973: I tensorflow/compiler/mlir/mlir_graph_optimization_pass.cc:116] None of the MLIR optimization passes are enabled (registered 2)\n",
      "2022-12-02 14:07:33.061934: I tensorflow/core/platform/profile_utils/cpu_utils.cc:112] CPU Frequency: 2200000000 Hz\n"
     ]
    },
    {
     "name": "stdout",
     "output_type": "stream",
     "text": [
      "Epoch 1/40\n",
      " 1712/26588 [>.............................] - ETA: 9:07:13 - loss: 0.3267"
     ]
    }
   ],
   "source": [
    "#for i, (train, test) in enumerate(kfold.split(train_pep['sequence'], train_pep['label'])):\n",
    " #   training_pep = train_pep[train]\n",
    " #   training_mhc = train_mhc[train]\n",
    "    \n",
    "#    validation_pep = train_pep[test]\n",
    "#    validation_mhc = train_mhc[test]\n",
    "    \n",
    "\n",
    "finetune(model_generator, input_encoder, OUTPUT_SPEC, train_pep['sequence'], train_pep['label'], test_pep['sequence'], test_pep['label'], \\\n",
    "        seq_len = 512, batch_size = 32, max_epochs_per_stage = 40, lr = 1e-04, begin_with_frozen_pretrained_layers = True, \\\n",
    "        lr_with_frozen_pretrained_layers = 1e-02, n_final_epochs = 1, final_seq_len = 1024, final_lr = 1e-05, callbacks = training_callbacks)"
   ]
  },
  {
   "cell_type": "code",
   "execution_count": null,
   "metadata": {},
   "outputs": [],
   "source": [
    "pep_sgtembedding.drop(columns = 'id', inplace = True)\n",
    "mhc_sgtembedding.drop(columns = 'id', inplace = True)"
   ]
  },
  {
   "cell_type": "code",
   "execution_count": null,
   "metadata": {},
   "outputs": [],
   "source": [
    "#pep_sgtembedding, mhc_sgtembedding, encoded_target\n",
    "train_pep, test_pep, train_mhc, test_mhc, train_target, test_target = train_test_split(pep_sgtembedding, mhc_sgtembedding, target_df, test_size = 0.2, stratify = target_df)"
   ]
  },
  {
   "cell_type": "code",
   "execution_count": null,
   "metadata": {},
   "outputs": [],
   "source": [
    "print(train_pep.shape)\n",
    "print(test_pep.shape)"
   ]
  },
  {
   "cell_type": "code",
   "execution_count": null,
   "metadata": {},
   "outputs": [],
   "source": [
    "train_pep"
   ]
  },
  {
   "cell_type": "code",
   "execution_count": null,
   "metadata": {},
   "outputs": [],
   "source": [
    "train_target"
   ]
  },
  {
   "cell_type": "code",
   "execution_count": null,
   "metadata": {},
   "outputs": [],
   "source": [
    "def build_model(training_pep, training_mhc):\n",
    "    embed_dim = 32\n",
    "    ff_dim = 32\n",
    "    num_heads = 2\n",
    "\n",
    "    input_pep = Input(shape=(training_pep.shape[1:]), name = 'peptide')\n",
    "    input_mhc = Input(shape=(training_pep.shape[1:]), name = 'mhc')\n",
    "\n",
    "    transformer_pep = TransformerBlock(embed_dim, num_heads, ff_dim)\n",
    "    transformer_mhc = TransformerBlock(embed_dim, num_heads, ff_dim)\n",
    "\n",
    "    x_pep = transformer_pep(input_pep)\n",
    "    x_mhc = transformer_mhc(input_mhc)\n",
    "\n",
    "    x_pep = GlobalAveragePooling1D()(x_pep)\n",
    "    x_mhc = GlobalAveragePooling1D()(x_mhc)\n",
    "\n",
    "    x_pep = Dropout(0.1)(x_pep)\n",
    "    x_mhc = Dropout(0.1)(x_mhc)\n",
    "\n",
    "    x_pep = Dense(20, activation = 'relu')(x_pep)\n",
    "    x_mhc = Dense(20, activation = 'relu')(x_mhc)\n",
    "\n",
    "    x_pep = Dropout(0.1)(x_pep)\n",
    "    x_mhc = Dropout(0.1)(x_mhc)\n",
    "\n",
    "    output_pep = Dense(1)(x_pep)\n",
    "    output_mhc = Dense(1)(x_mhc)\n",
    "\n",
    "    combined_output = concatenate([output_pep, output_mhc])\n",
    "    combinedDense_output = Dense(1)(combined_output)\n",
    "    output = Activation('sigmoid')(combinedDense_output)\n",
    "\n",
    "    model = Model(inputs = [input_pep, input_mhc], outputs = output)\n",
    "    opt = Adam(learning_rate = 1e-3)\n",
    "    model.compile(loss = 'binary_crossentropy', optimizer = opt, metrics = ['accuracy', 'AUC'])\n",
    "    model.summary()\n",
    "    return model"
   ]
  },
  {
   "cell_type": "code",
   "execution_count": null,
   "metadata": {},
   "outputs": [],
   "source": [
    "encoder = LabelEncoder()\n",
    "encoder.fit(train_target)\n",
    "encoded_y = encoder.transform(train_target)"
   ]
  },
  {
   "cell_type": "code",
   "execution_count": null,
   "metadata": {},
   "outputs": [],
   "source": [
    "x_pep = pd.DataFrame(train_pep)\n",
    "x_mhc = pd.DataFrame(train_mhc)"
   ]
  },
  {
   "cell_type": "code",
   "execution_count": null,
   "metadata": {},
   "outputs": [],
   "source": [
    "z = x_pep.iloc[1:10]\n",
    "z_n = z.to_numpy()"
   ]
  },
  {
   "cell_type": "code",
   "execution_count": null,
   "metadata": {},
   "outputs": [],
   "source": [
    "folder = 'transformer/model/'\n",
    "if not os.path.isdir(folder):\n",
    "        os.makedirs(folder)\n",
    "\n",
    "for i, (train_index, test_index) in enumerate(kfold.split(x_pep, encoded_y)):\n",
    "    training_pep = x_pep.iloc[train_index]\n",
    "    training_mhc = x_mhc.iloc[train_index]\n",
    "    training_target = encoded_y[train_index]\n",
    "    \n",
    "    validation_pep = x_pep.iloc[test_index]\n",
    "    validation_mhc = x_mhc.iloc[test_index]\n",
    "    validation_target = encoded_y[test_index]\n",
    "    \n",
    "    training_pep = training_pep.to_numpy()\n",
    "    training_mhc = training_mhc.to_numpy()\n",
    "    validation_pep = validation_pep.to_numpy()\n",
    "    validation_mhc = validation_mhc.to_numpy()\n",
    "        \n",
    "    callbacks_list = [\n",
    "                ModelCheckpoint(filepath=(folder+'CV/model_%s.h5' %i), monitor='val_accuracy', mode='max', verbose=1, save_best_only=True),\n",
    "                EarlyStopping(monitor = 'val_accuracy', mode = 'max', verbose = 1, patience = 5)\n",
    "        ]\n",
    "    model = build_model(training_pep, training_mhc)\n",
    "    model.summary()\n",
    "\n",
    "    model.fit([training_pep,training_mhc], \n",
    "            training_target,\n",
    "            batch_size=512,\n",
    "            epochs = 100,\n",
    "            shuffle=True,\n",
    "            callbacks=callbacks_list,\n",
    "            validation_data=([validation_pep,validation_mhc], validation_target),\n",
    "            verbose=1)  \n",
    "    del model\n",
    "\n",
    "    saved_model = build_model(training_pep, training_mhc)\n",
    "    saved_model.load_weights('model/CV/model_' +str(i)+'.h5')\n",
    "    probas_ = saved_model.predict([np.array(validation_pep),np.array(validation_mhc)])\n",
    "    allprobas_ = np.append(allprobas_, probas_)           \n",
    "    all_labels = np.append(all_labels, validation_target)\n",
    "    del saved_model\n"
   ]
  },
  {
   "cell_type": "code",
   "execution_count": null,
   "metadata": {},
   "outputs": [],
   "source": [
    "font1 = {'family' : 'Times New Roman',\n",
    "        'weight' : 'normal',\n",
    "        'size'   : 16}\n",
    "figsize=6.2, 6.2\n",
    "\n",
    "for i, (train, test) in enumerate(kfold.split(train_pep, train_target)):\n",
    "    training_pep = train_pep[train]\n",
    "    training_mhc = train_mhc[train]\n",
    "    training_target = train_target[train]\n",
    "    \n",
    "    validation_pep = train_pep[test]\n",
    "    validation_mhc = train_mhc[test]\n",
    "    validation_target = train_target[test]\n",
    "\n",
    "    if i == 0:\n",
    "        saved_model = build_model(training_pep, training_mhc)\n",
    "        saved_model.load_weights('model/CV/model_' +str(i)+'.h5')\n",
    "        probas_ = saved_model.predict([np.array(validation_pep),np.array(validation_mhc)])\n",
    "        allprobas_ = np.append(allprobas_, probas_)           \n",
    "        all_labels = np.append(all_labels, validation_target)\n",
    "        del saved_model\n",
    "\n",
    "        fpr, tpr, thresholds = roc_curve(all_labels, allprobas_)\n",
    "        roc_auc = auc(fpr, tpr)\n",
    "        precision, recall, _ = precision_recall_curve(all_labels, allprobas_)\n",
    "        aupr = average_precision_score(all_labels, allprobas_)\n",
    "        print(roc_auc)\n",
    "        print(aupr)\n",
    "\n",
    "        figure1, ax1 = plt.subplots(figsize=figsize)\n",
    "        ax1.tick_params(labelsize=18)\n",
    "        labels = ax1.get_xticklabels() + ax1.get_yticklabels()\n",
    "        [label.set_fontname('Times New Roman') for label in labels]  \n",
    "        ax1.plot([0, 1], [0, 1], linestyle='--', lw=2, color='r',\n",
    "        label='Luck', alpha=.8)\n",
    "\n",
    "        ax1.plot(fpr, tpr, color='b',\n",
    "                label=r'First CV ROC (AUC = %0.4f)' % (roc_auc),\n",
    "                    lw=2, alpha=.8)\n",
    "        ax1.set_xlim([-0.05, 1.05])\n",
    "        ax1.set_ylim([-0.05, 1.05])\n",
    "        ax1.set_xlabel('False Positive Rate', font1)\n",
    "        ax1.set_ylabel('True Positive Rate', font1)\n",
    "        title1 = 'Cross Validated ROC Curve'\n",
    "        ax1.set_title(title1, font1)\n",
    "        ax1.legend(loc=\"lower right\")\n",
    "        \n",
    "        ########PR_figure\n",
    "        figure2, ax2 = plt.subplots(figsize=figsize)\n",
    "        ax2.tick_params(labelsize=18)\n",
    "        labels = ax2.get_xticklabels() + ax2.get_yticklabels()\n",
    "        [label.set_fontname('Times New Roman') for label in labels] \n",
    "\n",
    "        ax2.plot(recall, precision, color='b',\n",
    "                label=r'First CV Precision-Recall (AUC = %0.4f)' % aupr,\n",
    "                lw=2, alpha=.8)\n",
    "\n",
    "        ax2.set_xlim([-0.05, 1.05])\n",
    "        ax2.set_ylim([-0.05, 1.05])\n",
    "        ax2.set_xlabel('Recall', font1)\n",
    "        ax2.set_ylabel('Precision', font1)\n",
    "        title2 = 'Cross Validated PR Curve'\n",
    "        ax2.set_title(title2, font1)\n",
    "        ax2.legend(loc=\"lower left\")\n",
    "\n",
    "    else:\n",
    "        saved_model = build_model(training_pep, training_mhc)\n",
    "        saved_model.load_weights('model/CV/model_' +str(i)+'.h5')\n",
    "        probas_ = saved_model.predict([np.array(validation_pep),np.array(validation_mhc)])\n",
    "        allprobas_ = np.append(allprobas_, probas_)           \n",
    "        all_labels = np.append(all_labels, validation_target)\n",
    "        del saved_model\n",
    "        \n",
    "        fpr, tpr, thresholds = roc_curve(validation_target, probas_)\n",
    "        roc_auc = auc(fpr, tpr)\n",
    "        precision, recall, _ = precision_recall_curve(validation_target, probas_)\n",
    "        aupr = average_precision_score(validation_target, probas_)\n",
    "        print(roc_auc)\n",
    "        print(aupr)\n",
    "\n",
    "        ax1.plot(fpr, tpr,\n",
    "        label=str(i)+'th CV ROC (AUC = %0.4f)' % (roc_auc),\n",
    "            lw=2, alpha=.8)\n",
    "        ax1.legend(loc=\"lower right\")\n",
    "\n",
    "\n",
    "        ax2.plot(recall, precision, \n",
    "        label=str(i)+'th CV Precision-Recall (AUC = %0.4f)' % (aupr),\n",
    "        lw=2, alpha=.8)\n",
    "        ax2.legend(loc=\"lower left\")"
   ]
  },
  {
   "cell_type": "code",
   "execution_count": null,
   "metadata": {},
   "outputs": [],
   "source": [
    "figure1.savefig('figures/5_fold_roc.jpg', dpi=300, bbox_inches = 'tight')\n",
    "figure2.savefig('figures/5_fold_prc.jpg', dpi=300, bbox_inches = 'tight')"
   ]
  },
  {
   "cell_type": "code",
   "execution_count": null,
   "metadata": {},
   "outputs": [],
   "source": [
    "font1 = {'family' : 'Times New Roman',\n",
    "        'weight' : 'normal',\n",
    "        'size'   : 16}\n",
    "figsize=6.2, 6.2\n",
    "\n",
    "########ROC_figure\n",
    "figure1, ax1 = plt.subplots(figsize=figsize)\n",
    "ax1.tick_params(labelsize=18)\n",
    "labels = ax1.get_xticklabels() + ax1.get_yticklabels()\n",
    "[label.set_fontname('Times New Roman') for label in labels]  \n",
    "\n",
    "fpr, tpr, thresholds = roc_curve(all_labels, allprobas_)\n",
    "roc_auc = auc(fpr, tpr)\n",
    "print(roc_auc)\n",
    "\n",
    "ax1.plot(fpr, tpr, color='b',\n",
    "    label=r'Mean ROC (AUC = %0.4f)' % (roc_auc),\n",
    "    lw=2, alpha=.8)\n",
    "ax1.plot([0, 1], [0, 1], linestyle='--', lw=2, color='r',\n",
    "        label='Luck', alpha=.8)\n",
    "ax1.set_xlim([-0.05, 1.05])\n",
    "ax1.set_ylim([-0.05, 1.05])\n",
    "ax1.set_xlabel('False Positive Rate', font1)\n",
    "ax1.set_ylabel('True Positive Rate', font1)\n",
    "title1 = 'Cross Validated ROC Curve'\n",
    "ax1.set_title(title1, font1)\n",
    "ax1.legend(loc=\"lower right\")\n",
    "figure1.savefig('figures/mean_5_fold_roc.jpg', dpi=300, bbox_inches = 'tight')\n",
    "\n",
    "########PR_figure\n",
    "figure2, ax2 = plt.subplots(figsize=figsize)\n",
    "ax2.tick_params(labelsize=18)\n",
    "labels = ax2.get_xticklabels() + ax2.get_yticklabels()\n",
    "[label.set_fontname('Times New Roman') for label in labels] \n",
    "\n",
    "precision, recall, _ = precision_recall_curve(all_labels, allprobas_)\n",
    "ax2.plot(recall, precision, color='b',\n",
    "        label=r'Mean Precision-Recall (AUC = %0.4f)' % (average_precision_score(all_labels, allprobas_)),\n",
    "        lw=2, alpha=.8)\n",
    "\n",
    "ax2.set_xlim([-0.05, 1.05])\n",
    "ax2.set_ylim([-0.05, 1.05])\n",
    "ax2.set_xlabel('Recall', font1)\n",
    "ax2.set_ylabel('Precision', font1)\n",
    "title2 = 'Cross Validated PR Curve'\n",
    "ax2.set_title(title2, font1)\n",
    "ax2.legend(loc=\"lower left\")\n",
    "figure2.savefig('figures/mean_5_fold_pr.jpg', dpi=300, bbox_inches = 'tight')\n"
   ]
  },
  {
   "cell_type": "code",
   "execution_count": null,
   "metadata": {},
   "outputs": [],
   "source": [
    "allprobas2_=np.array([]) \n",
    "all_labels2=np.array([])"
   ]
  },
  {
   "cell_type": "code",
   "execution_count": null,
   "metadata": {},
   "outputs": [],
   "source": [
    "font1 = {'family' : 'Times New Roman',\n",
    "        'weight' : 'normal',\n",
    "        'size'   : 16}\n",
    "figsize=6.2, 6.2\n",
    "\n",
    "for i in range(5):\n",
    "    if i == 0:\n",
    "        saved_model = build_model(training_pep, training_mhc)\n",
    "        saved_model.load_weights('model/CV/model_' +str(i)+'.h5')\n",
    "        probas_ = saved_model.predict([np.array(test_pep),np.array(test_mhc)])\n",
    "        allprobas2_ = np.append(allprobas2_, probas_)           \n",
    "        all_labels2 = np.append(all_labels2, test_target)\n",
    "        del saved_model\n",
    "\n",
    "        fpr, tpr, thresholds = roc_curve(all_labels2, allprobas2_)\n",
    "        roc_auc = auc(fpr, tpr)\n",
    "        precision, recall, _ = precision_recall_curve(all_labels2, allprobas2_)\n",
    "        aupr = average_precision_score(all_labels2, allprobas2_)\n",
    "        print(roc_auc)\n",
    "        print(aupr)\n",
    "\n",
    "        figure1, ax1 = plt.subplots(figsize=figsize)\n",
    "        ax1.tick_params(labelsize=18)\n",
    "        labels = ax1.get_xticklabels() + ax1.get_yticklabels()\n",
    "        [label.set_fontname('Times New Roman') for label in labels]  \n",
    "        ax1.plot([0, 1], [0, 1], linestyle='--', lw=2, color='r',\n",
    "        label='Luck', alpha=.8)\n",
    "\n",
    "        ax1.plot(fpr, tpr, color='b',\n",
    "                label=r'First CV ROC (AUC = %0.4f)' % (roc_auc),\n",
    "                    lw=2, alpha=.8)\n",
    "        ax1.set_xlim([-0.05, 1.05])\n",
    "        ax1.set_ylim([-0.05, 1.05])\n",
    "        ax1.set_xlabel('False Positive Rate', font1)\n",
    "        ax1.set_ylabel('True Positive Rate', font1)\n",
    "        title1 = 'Cross Validated ROC Curve'\n",
    "        ax1.set_title(title1, font1)\n",
    "        ax1.legend(loc=\"lower right\")\n",
    "        \n",
    "        ########PR_figure\n",
    "        figure2, ax2 = plt.subplots(figsize=figsize)\n",
    "        ax2.tick_params(labelsize=18)\n",
    "        labels = ax2.get_xticklabels() + ax2.get_yticklabels()\n",
    "        [label.set_fontname('Times New Roman') for label in labels] \n",
    "\n",
    "        ax2.plot(recall, precision, color='b',\n",
    "                label=r'First CV Precision-Recall (AUC = %0.4f)' % aupr,\n",
    "                lw=2, alpha=.8)\n",
    "\n",
    "        ax2.set_xlim([-0.05, 1.05])\n",
    "        ax2.set_ylim([-0.05, 1.05])\n",
    "        ax2.set_xlabel('Recall', font1)\n",
    "        ax2.set_ylabel('Precision', font1)\n",
    "        title2 = 'Cross Validated PR Curve'\n",
    "        ax2.set_title(title2, font1)\n",
    "        ax2.legend(loc=\"lower left\")\n",
    "\n",
    "    else:\n",
    "        saved_model = build_model(training_pep, training_mhc)\n",
    "        saved_model.load_weights('model/CV/model_' +str(i)+'.h5')\n",
    "        probas_ = saved_model.predict([np.array(test_pep),np.array(test_mhc)])\n",
    "        allprobas2_ = np.append(allprobas2_, probas_)           \n",
    "        all_labels2 = np.append(all_labels2, test_target)\n",
    "        del saved_model\n",
    "        \n",
    "        fpr, tpr, thresholds = roc_curve(test_target, probas_)\n",
    "        roc_auc = auc(fpr, tpr)\n",
    "        precision, recall, _ = precision_recall_curve(test_target, probas_)\n",
    "        aupr = average_precision_score(test_target, probas_)\n",
    "        print(roc_auc)\n",
    "        print(aupr)\n",
    "\n",
    "        ax1.plot(fpr, tpr,\n",
    "        label=str(i)+'th CV ROC (AUC = %0.4f)' % (roc_auc),\n",
    "            lw=2, alpha=.8)\n",
    "        ax1.legend(loc=\"lower right\")\n",
    "\n",
    "\n",
    "        ax2.plot(recall, precision, \n",
    "        label=str(i)+'th CV Precision-Recall (AUC = %0.4f)' % (aupr),\n",
    "        lw=2, alpha=.8)\n",
    "        ax2.legend(loc=\"lower left\")\n",
    "\n",
    "figure1.savefig('figures/test_5_fold_roc.jpg', dpi=300, bbox_inches = 'tight')\n",
    "figure2.savefig('figures/test_5_fold_prc.jpg', dpi=300, bbox_inches = 'tight')"
   ]
  },
  {
   "cell_type": "code",
   "execution_count": null,
   "metadata": {},
   "outputs": [],
   "source": [
    "font1 = {'family' : 'Times New Roman',\n",
    "        'weight' : 'normal',\n",
    "        'size'   : 16}\n",
    "figsize=6.2, 6.2\n",
    "\n",
    "########ROC_figure\n",
    "figure1, ax1 = plt.subplots(figsize=figsize)\n",
    "ax1.tick_params(labelsize=18)\n",
    "labels = ax1.get_xticklabels() + ax1.get_yticklabels()\n",
    "[label.set_fontname('Times New Roman') for label in labels]  \n",
    "\n",
    "fpr, tpr, thresholds = roc_curve(all_labels2, allprobas2_)\n",
    "roc_auc = auc(fpr, tpr)\n",
    "print(roc_auc)\n",
    "\n",
    "ax1.plot(fpr, tpr, color='b',\n",
    "    label=r'Mean ROC (AUC = %0.4f)' % (roc_auc),\n",
    "    lw=2, alpha=.8)\n",
    "ax1.plot([0, 1], [0, 1], linestyle='--', lw=2, color='r',\n",
    "        label='Luck', alpha=.8)\n",
    "ax1.set_xlim([-0.05, 1.05])\n",
    "ax1.set_ylim([-0.05, 1.05])\n",
    "ax1.set_xlabel('False Positive Rate', font1)\n",
    "ax1.set_ylabel('True Positive Rate', font1)\n",
    "title1 = 'Cross Validated ROC Curve'\n",
    "ax1.set_title(title1, font1)\n",
    "ax1.legend(loc=\"lower right\")\n",
    "figure1.savefig('figures/test_mean_5_fold_roc.jpg', dpi=300, bbox_inches = 'tight')\n",
    "\n",
    "########PR_figure\n",
    "figure2, ax2 = plt.subplots(figsize=figsize)\n",
    "ax2.tick_params(labelsize=18)\n",
    "labels = ax2.get_xticklabels() + ax2.get_yticklabels()\n",
    "[label.set_fontname('Times New Roman') for label in labels] \n",
    "\n",
    "precision, recall, _ = precision_recall_curve(all_labels2, allprobas2_)\n",
    "ax2.plot(recall, precision, color='b',\n",
    "        label=r'Mean Precision-Recall (AUC = %0.4f)' % (average_precision_score(all_labels2, allprobas2_)),\n",
    "        lw=2, alpha=.8)\n",
    "\n",
    "ax2.set_xlim([-0.05, 1.05])\n",
    "ax2.set_ylim([-0.05, 1.05])\n",
    "ax2.set_xlabel('Recall', font1)\n",
    "ax2.set_ylabel('Precision', font1)\n",
    "title2 = 'Cross Validated PR Curve'\n",
    "ax2.set_title(title2, font1)\n",
    "ax2.legend(loc=\"lower left\")\n",
    "figure2.savefig('figures/test_mean_5_fold_pr.jpg', dpi=300, bbox_inches = 'tight')\n"
   ]
  },
  {
   "cell_type": "code",
   "execution_count": null,
   "metadata": {},
   "outputs": [],
   "source": [
    "from tensorflow.keras.models import load_model"
   ]
  },
  {
   "cell_type": "code",
   "execution_count": null,
   "metadata": {},
   "outputs": [],
   "source": [
    "figure1, ax1 = plt.subplots(figsize=figsize)\n",
    "figure2, ax2 = plt.subplots(figsize=figsize)\n",
    "for i in range(5):\n",
    "    saved_model = build_model(training_pep, training_mhc)\n",
    "    saved_model = load_model('model/CV/model_'+str(i)+'.h5')\n",
    "\n",
    "    ax1.plot(saved_model.history[\"loss\"])\n",
    "    ax1.plot(saved_model.history[\"val_loss\"])\n",
    "    ax1.legend(['train', 'test'], loc='best')\n",
    " \n",
    "    ax2.plot(saved_model.history[\"accuracy\"])\n",
    "    ax2.plot(saved_model.history[\"val_accuracy\"])\n",
    "    ax2.legend(['train', 'test'], loc='best')\n",
    "\n",
    "    del saved_model\n"
   ]
  },
  {
   "cell_type": "code",
   "execution_count": null,
   "metadata": {},
   "outputs": [],
   "source": []
  }
 ],
 "metadata": {
  "kernelspec": {
   "display_name": "Python 3.8.13 ('viralepitope': conda)",
   "language": "python",
   "name": "python3"
  },
  "language_info": {
   "codemirror_mode": {
    "name": "ipython",
    "version": 3
   },
   "file_extension": ".py",
   "mimetype": "text/x-python",
   "name": "python",
   "nbconvert_exporter": "python",
   "pygments_lexer": "ipython3",
   "version": "3.8.13"
  },
  "orig_nbformat": 4,
  "vscode": {
   "interpreter": {
    "hash": "89a569e57c3a868c837518f690d34e8ba538dcefa2ece26ecfaf82d5cd67ebe4"
   }
  }
 },
 "nbformat": 4,
 "nbformat_minor": 2
}
