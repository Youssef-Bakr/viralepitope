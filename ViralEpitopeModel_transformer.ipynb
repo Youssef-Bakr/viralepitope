{
 "cells": [
  {
   "cell_type": "code",
   "execution_count": 1,
   "metadata": {},
   "outputs": [
    {
     "data": {
      "text/plain": [
       "'\\nCreated on August 4th 2022\\n\\n@author: JJ\\n'"
      ]
     },
     "execution_count": 1,
     "metadata": {},
     "output_type": "execute_result"
    }
   ],
   "source": [
    "\"\"\"\n",
    "Created on August 4th 2022\n",
    "\n",
    "@author: JJ\n",
    "\"\"\""
   ]
  },
  {
   "cell_type": "code",
   "execution_count": 2,
   "metadata": {},
   "outputs": [
    {
     "name": "stderr",
     "output_type": "stream",
     "text": [
      "2022-12-06 14:17:16.493483: I tensorflow/stream_executor/platform/default/dso_loader.cc:49] Successfully opened dynamic library libcudart.so.10.1\n"
     ]
    }
   ],
   "source": [
    "import os, re, sys\n",
    "import numpy as np\n",
    "import pandas as pd\n",
    "from math import log\n",
    "import random\n",
    "import scipy.io\n",
    "import tensorflow as tf\n",
    "import csv"
   ]
  },
  {
   "cell_type": "code",
   "execution_count": 3,
   "metadata": {},
   "outputs": [],
   "source": [
    "from tensorflow.keras.optimizers import *\n",
    "from tensorflow.keras.models import *\n",
    "from tensorflow.keras.layers import *\n",
    "from tensorflow.keras.constraints import *\n",
    "from tensorflow.keras.regularizers import *\n",
    "#from tensorflow.keras.models import Model\n",
    "from tensorflow.keras import backend as K\n",
    "from tensorflow.keras import (\n",
    "    activations, \n",
    "    initializers, \n",
    "    regularizers, \n",
    "    constraints\n",
    ")"
   ]
  },
  {
   "cell_type": "code",
   "execution_count": 4,
   "metadata": {},
   "outputs": [],
   "source": [
    "num_threads = 8\n",
    "# Maximum number of threads to use for OpenMP parallel regions.\n",
    "os.environ[\"OMP_NUM_THREADS\"] = \"8\"\n",
    "# Without setting below 2 environment variables, it didn't work for me. Thanks to @cjw85 \n",
    "os.environ[\"TF_NUM_INTRAOP_THREADS\"] = \"4\"\n",
    "os.environ[\"TF_NUM_INTEROP_THREADS\"] = \"4\"\n",
    "\n",
    "tf.config.threading.set_inter_op_parallelism_threads(\n",
    "    num_threads\n",
    ")\n",
    "tf.config.threading.set_intra_op_parallelism_threads(\n",
    "    num_threads\n",
    ")\n",
    "tf.config.set_soft_device_placement(True)"
   ]
  },
  {
   "cell_type": "code",
   "execution_count": 5,
   "metadata": {},
   "outputs": [],
   "source": [
    "# in a well-defined initial state.\n",
    "random.seed\n",
    "np.random.seed(1337)\n",
    "tf.random.set_seed(1337)"
   ]
  },
  {
   "cell_type": "code",
   "execution_count": 6,
   "metadata": {},
   "outputs": [],
   "source": [
    "import matplotlib\n",
    "import matplotlib.pyplot as plt"
   ]
  },
  {
   "cell_type": "code",
   "execution_count": 7,
   "metadata": {},
   "outputs": [],
   "source": [
    "from tensorflow.keras.callbacks import (\n",
    "    ModelCheckpoint, \n",
    "    EarlyStopping\n",
    ")\n",
    "from sklearn.metrics import (\n",
    "    roc_curve,\n",
    "    auc,\n",
    "    roc_auc_score,\n",
    "    average_precision_score,\n",
    "    precision_recall_curve,\n",
    ")"
   ]
  },
  {
   "cell_type": "code",
   "execution_count": 8,
   "metadata": {},
   "outputs": [],
   "source": [
    "from sklearn.model_selection import train_test_split, StratifiedKFold\n",
    "from sklearn.utils import resample, shuffle\n",
    "from sklearn.feature_selection import (\n",
    "    SelectKBest,\n",
    "    chi2\n",
    ")\n",
    "import keras_tuner as kt\n",
    "from collections import defaultdict"
   ]
  },
  {
   "cell_type": "code",
   "execution_count": 9,
   "metadata": {},
   "outputs": [],
   "source": [
    "import pickle as pkl"
   ]
  },
  {
   "cell_type": "code",
   "execution_count": 10,
   "metadata": {},
   "outputs": [],
   "source": [
    "from proteinbert import OutputType, OutputSpec, FinetuningModelGenerator, load_pretrained_model, finetune, evaluate_by_len\n",
    "from proteinbert.conv_and_global_attention_model import get_model_with_hidden_layers_as_outputs"
   ]
  },
  {
   "cell_type": "code",
   "execution_count": 11,
   "metadata": {},
   "outputs": [],
   "source": [
    "pretrained_model_generator, input_encoder = load_pretrained_model('/home/jjia1/viralepitope/viralepitope', 'epoch_92400_sample_23500000.pkl')"
   ]
  },
  {
   "cell_type": "code",
   "execution_count": 12,
   "metadata": {},
   "outputs": [],
   "source": [
    "OUTPUT_TYPE = OutputType(False, 'binary')\n",
    "UNIQUE_LABELS = [0, 1]\n",
    "OUTPUT_SPEC = OutputSpec(OUTPUT_TYPE, UNIQUE_LABELS)"
   ]
  },
  {
   "cell_type": "code",
   "execution_count": 13,
   "metadata": {},
   "outputs": [],
   "source": [
    "allpep = pd.read_csv('viralepitope_sequenceonly.csv')\n",
    "allmhc = pd.read_csv('mhcepitope_sequenceonly.csv')"
   ]
  },
  {
   "cell_type": "code",
   "execution_count": 14,
   "metadata": {},
   "outputs": [],
   "source": [
    "all_pep = allpep.drop(allpep.columns[[0]], axis = 1)\n",
    "all_mhc = allmhc.drop(allmhc.columns[[0]], axis = 1)"
   ]
  },
  {
   "cell_type": "code",
   "execution_count": 15,
   "metadata": {},
   "outputs": [],
   "source": [
    "train_pep, test_pep = train_test_split(all_pep, stratify = all_pep['label'], test_size = 0.1, random_state = 0)\n",
    "train_mhc, test_mhc = train_test_split(all_mhc, stratify = all_mhc['label'], test_size = 0.1, random_state = 0)"
   ]
  },
  {
   "cell_type": "code",
   "execution_count": 16,
   "metadata": {},
   "outputs": [],
   "source": [
    "train_pep, val_pep = train_test_split(train_pep, stratify = train_pep['label'], test_size = 0.1, random_state = 0)\n",
    "train_mhc, val_mhc = train_test_split(train_mhc, stratify = train_mhc['label'], test_size = 0.1, random_state = 0)"
   ]
  },
  {
   "cell_type": "code",
   "execution_count": 17,
   "metadata": {},
   "outputs": [
    {
     "data": {
      "text/plain": [
       "Index(['sequence', 'label'], dtype='object')"
      ]
     },
     "execution_count": 17,
     "metadata": {},
     "output_type": "execute_result"
    }
   ],
   "source": [
    "train_pep.columns"
   ]
  },
  {
   "cell_type": "code",
   "execution_count": 18,
   "metadata": {},
   "outputs": [],
   "source": [
    "model_generator = FinetuningModelGenerator(pretrained_model_generator, OUTPUT_SPEC, pretraining_model_manipulation_function = \\\n",
    "        get_model_with_hidden_layers_as_outputs, dropout_rate = 0.5)\n",
    "\n",
    "training_callbacks = [\n",
    "    tf.keras.callbacks.ReduceLROnPlateau(patience = 1, factor = 0.25, min_lr = 1e-05, verbose = 1),\n",
    "    tf.keras.callbacks.EarlyStopping(patience = 2, restore_best_weights = True),\n",
    "]"
   ]
  },
  {
   "cell_type": "code",
   "execution_count": 19,
   "metadata": {},
   "outputs": [],
   "source": [
    "kfold = StratifiedKFold(n_splits=5, shuffle=True, random_state=1337)    \n",
    "allprobas_=np.array([]) \n",
    "all_labels=np.array([])"
   ]
  },
  {
   "cell_type": "code",
   "execution_count": 20,
   "metadata": {},
   "outputs": [
    {
     "name": "stdout",
     "output_type": "stream",
     "text": [
      "[2022_12_06-14:18:14] Training set: Filtered out 0 of 765711 (0.0%) records of lengths exceeding 30.\n",
      "[2022_12_06-14:18:20] Validation set: Filtered out 0 of 85080 (0.0%) records of lengths exceeding 30.\n",
      "[2022_12_06-14:18:20] Training with frozen pretrained layers...\n"
     ]
    },
    {
     "name": "stderr",
     "output_type": "stream",
     "text": [
      "2022-12-06 14:18:20.546130: I tensorflow/compiler/jit/xla_cpu_device.cc:41] Not creating XLA devices, tf_xla_enable_xla_devices not set\n",
      "2022-12-06 14:18:20.546571: W tensorflow/stream_executor/platform/default/dso_loader.cc:60] Could not load dynamic library 'libcuda.so.1'; dlerror: libcuda.so.1: cannot open shared object file: No such file or directory\n",
      "2022-12-06 14:18:20.546591: W tensorflow/stream_executor/cuda/cuda_driver.cc:326] failed call to cuInit: UNKNOWN ERROR (303)\n",
      "2022-12-06 14:18:20.546617: I tensorflow/stream_executor/cuda/cuda_diagnostics.cc:156] kernel driver does not appear to be running on this host (sbcphaplp001.uthouston.edu): /proc/driver/nvidia/version does not exist\n",
      "2022-12-06 14:18:20.546830: I tensorflow/core/platform/cpu_feature_guard.cc:142] This TensorFlow binary is optimized with oneAPI Deep Neural Network Library (oneDNN) to use the following CPU instructions in performance-critical operations:  SSE4.1 SSE4.2 AVX AVX2 AVX512F FMA\n",
      "To enable them in other operations, rebuild TensorFlow with the appropriate compiler flags.\n",
      "2022-12-06 14:18:20.548948: I tensorflow/compiler/jit/xla_gpu_device.cc:99] Not creating XLA devices, tf_xla_enable_xla_devices not set\n",
      "2022-12-06 14:18:22.030112: W tensorflow/core/framework/cpu_allocator_impl.cc:80] Allocation of 6847753473 exceeds 10% of free system memory.\n",
      "2022-12-06 14:19:23.476920: I tensorflow/compiler/mlir/mlir_graph_optimization_pass.cc:116] None of the MLIR optimization passes are enabled (registered 2)\n",
      "2022-12-06 14:19:23.477549: I tensorflow/core/platform/profile_utils/cpu_utils.cc:112] CPU Frequency: 2200000000 Hz\n"
     ]
    },
    {
     "name": "stdout",
     "output_type": "stream",
     "text": [
      "Epoch 1/30\n",
      "5983/5983 [==============================] - 869s 144ms/step - loss: 0.2843 - val_loss: 0.2901\n",
      "Epoch 2/30\n",
      "5983/5983 [==============================] - 1363s 228ms/step - loss: 0.2847 - val_loss: 0.2825\n",
      "Epoch 3/30\n",
      "5983/5983 [==============================] - 987s 165ms/step - loss: 0.2846 - val_loss: 0.2447\n",
      "Epoch 4/30\n",
      "5983/5983 [==============================] - 879s 147ms/step - loss: 0.2831 - val_loss: 0.2433\n",
      "Epoch 5/30\n",
      "5983/5983 [==============================] - 864s 144ms/step - loss: 0.2862 - val_loss: 0.2518\n",
      "\n",
      "Epoch 00005: ReduceLROnPlateau reducing learning rate to 0.0024999999441206455.\n",
      "Epoch 6/30\n",
      "5983/5983 [==============================] - 848s 142ms/step - loss: 0.2580 - val_loss: 0.2351\n",
      "Epoch 7/30\n",
      "5983/5983 [==============================] - 844s 141ms/step - loss: 0.2510 - val_loss: 0.2343\n",
      "Epoch 8/30\n",
      "5983/5983 [==============================] - 852s 142ms/step - loss: 0.2513 - val_loss: 0.2324\n",
      "Epoch 9/30\n",
      "5983/5983 [==============================] - 852s 142ms/step - loss: 0.2502 - val_loss: 0.2328\n",
      "\n",
      "Epoch 00009: ReduceLROnPlateau reducing learning rate to 0.0006249999860301614.\n",
      "Epoch 10/30\n",
      "5983/5983 [==============================] - 866s 145ms/step - loss: 0.2447 - val_loss: 0.2312\n",
      "Epoch 11/30\n",
      "5983/5983 [==============================] - 837s 140ms/step - loss: 0.2429 - val_loss: 0.2303\n",
      "Epoch 12/30\n",
      "5983/5983 [==============================] - 833s 139ms/step - loss: 0.2415 - val_loss: 0.2300\n",
      "Epoch 13/30\n",
      "5983/5983 [==============================] - 854s 143ms/step - loss: 0.2417 - val_loss: 0.2308\n",
      "\n",
      "Epoch 00013: ReduceLROnPlateau reducing learning rate to 0.00015624999650754035.\n",
      "Epoch 14/30\n",
      "5983/5983 [==============================] - 819s 137ms/step - loss: 0.2399 - val_loss: 0.2313\n",
      "\n",
      "Epoch 00014: ReduceLROnPlateau reducing learning rate to 3.9062499126885086e-05.\n",
      "[2022_12_06-17:48:52] Training the entire fine-tuned model...\n",
      "[2022_12_06-17:49:01] Incompatible number of optimizer weights - will not initialize them.\n"
     ]
    },
    {
     "name": "stderr",
     "output_type": "stream",
     "text": [
      "2022-12-06 17:49:01.624850: W tensorflow/core/framework/cpu_allocator_impl.cc:80] Allocation of 6847753473 exceeds 10% of free system memory.\n"
     ]
    },
    {
     "name": "stdout",
     "output_type": "stream",
     "text": [
      "Epoch 1/30\n",
      "5983/5983 [==============================] - 2656s 443ms/step - loss: 0.2032 - val_loss: 0.1749\n",
      "Epoch 2/30\n",
      "5983/5983 [==============================] - 2636s 441ms/step - loss: 0.1625 - val_loss: 0.1441\n",
      "Epoch 3/30\n",
      "5983/5983 [==============================] - 2616s 437ms/step - loss: 0.1262 - val_loss: 0.1263\n",
      "Epoch 4/30\n",
      "5983/5983 [==============================] - 2606s 436ms/step - loss: 0.1027 - val_loss: 0.1159\n",
      "Epoch 5/30\n",
      "5983/5983 [==============================] - 2608s 436ms/step - loss: 0.0859 - val_loss: 0.1051\n",
      "Epoch 6/30\n",
      "5983/5983 [==============================] - 2593s 433ms/step - loss: 0.0740 - val_loss: 0.1011\n",
      "Epoch 7/30\n",
      "5983/5983 [==============================] - 2636s 441ms/step - loss: 0.0644 - val_loss: 0.1173\n",
      "\n",
      "Epoch 00007: ReduceLROnPlateau reducing learning rate to 0.0002500000118743628.\n",
      "Epoch 8/30\n",
      "5983/5983 [==============================] - 2555s 427ms/step - loss: 0.0336 - val_loss: 0.0909\n",
      "Epoch 9/30\n",
      "5983/5983 [==============================] - 2340s 391ms/step - loss: 0.0206 - val_loss: 0.0948\n",
      "\n",
      "Epoch 00009: ReduceLROnPlateau reducing learning rate to 6.25000029685907e-05.\n",
      "Epoch 10/30\n",
      "5983/5983 [==============================] - 2115s 354ms/step - loss: 0.0105 - val_loss: 0.1151\n",
      "\n",
      "Epoch 00010: ReduceLROnPlateau reducing learning rate to 1.5625000742147677e-05.\n",
      "[2022_12_07-00:52:44] Training on final epochs of sequence length 1024...\n",
      "[2022_12_07-00:52:45] Training set: Filtered out 0 of 765711 (0.0%) records of lengths exceeding 1022.\n",
      "[2022_12_07-00:53:48] Validation set: Filtered out 0 of 85080 (0.0%) records of lengths exceeding 1022.\n"
     ]
    },
    {
     "name": "stderr",
     "output_type": "stream",
     "text": [
      "2022-12-07 00:54:02.458241: W tensorflow/core/framework/cpu_allocator_impl.cc:80] Allocation of 3136352256 exceeds 10% of free system memory.\n",
      "2022-12-07 00:54:04.612983: W tensorflow/core/framework/cpu_allocator_impl.cc:80] Allocation of 6847753473 exceeds 10% of free system memory.\n"
     ]
    },
    {
     "name": "stdout",
     "output_type": "stream",
     "text": [
      "191428/191428 [==============================] - 53511s 280ms/step - loss: 0.0208 - val_loss: 0.1123\n"
     ]
    }
   ],
   "source": [
    "#for i, (train, test) in enumerate(kfold.split(train_pep['sequence'], train_pep['label'])):\n",
    " #   training_pep = train_pep[train]\n",
    " #   training_mhc = train_mhc[train]\n",
    "    \n",
    "#    validation_pep = train_pep[test]\n",
    "#    validation_mhc = train_mhc[test]\n",
    "    \n",
    "\n",
    "finetune(model_generator, input_encoder, OUTPUT_SPEC, train_pep['sequence'], train_pep['label'], val_pep['sequence'], val_pep['label'], \\\n",
    "        seq_len = 8, batch_size = 128, max_epochs_per_stage = 30, lr = 1e-03, begin_with_frozen_pretrained_layers = True, \\\n",
    "        lr_with_frozen_pretrained_layers = 1e-02, n_final_epochs = 1, final_seq_len = 16, final_lr = 1e-05, callbacks = training_callbacks)"
   ]
  },
  {
   "cell_type": "code",
   "execution_count": 28,
   "metadata": {},
   "outputs": [],
   "source": [
    "results, confusion_matrix = evaluate_by_len(model_generator, input_encoder, OUTPUT_SPEC, test_pep['sequence'], test_pep['label'], \\\n",
    "        start_seq_len = 16, start_batch_size = 64)"
   ]
  },
  {
   "cell_type": "code",
   "execution_count": 29,
   "metadata": {},
   "outputs": [
    {
     "name": "stdout",
     "output_type": "stream",
     "text": [
      "Test-set performance:\n"
     ]
    },
    {
     "data": {
      "text/html": [
       "<div>\n",
       "<style scoped>\n",
       "    .dataframe tbody tr th:only-of-type {\n",
       "        vertical-align: middle;\n",
       "    }\n",
       "\n",
       "    .dataframe tbody tr th {\n",
       "        vertical-align: top;\n",
       "    }\n",
       "\n",
       "    .dataframe thead th {\n",
       "        text-align: right;\n",
       "    }\n",
       "</style>\n",
       "<table border=\"1\" class=\"dataframe\">\n",
       "  <thead>\n",
       "    <tr style=\"text-align: right;\">\n",
       "      <th></th>\n",
       "      <th># records</th>\n",
       "      <th>AUC</th>\n",
       "    </tr>\n",
       "    <tr>\n",
       "      <th>Model seq len</th>\n",
       "      <th></th>\n",
       "      <th></th>\n",
       "    </tr>\n",
       "  </thead>\n",
       "  <tbody>\n",
       "    <tr>\n",
       "      <th>16</th>\n",
       "      <td>94430</td>\n",
       "      <td>0.978072</td>\n",
       "    </tr>\n",
       "    <tr>\n",
       "      <th>32</th>\n",
       "      <td>103</td>\n",
       "      <td>0.814433</td>\n",
       "    </tr>\n",
       "    <tr>\n",
       "      <th>All</th>\n",
       "      <td>94533</td>\n",
       "      <td>0.977997</td>\n",
       "    </tr>\n",
       "  </tbody>\n",
       "</table>\n",
       "</div>"
      ],
      "text/plain": [
       "               # records       AUC\n",
       "Model seq len                     \n",
       "16                 94430  0.978072\n",
       "32                   103  0.814433\n",
       "All                94533  0.977997"
      ]
     },
     "metadata": {},
     "output_type": "display_data"
    }
   ],
   "source": [
    "print('Test-set performance:')\n",
    "display(results)"
   ]
  },
  {
   "cell_type": "code",
   "execution_count": 30,
   "metadata": {},
   "outputs": [
    {
     "name": "stdout",
     "output_type": "stream",
     "text": [
      "Confusion matrix:\n"
     ]
    },
    {
     "data": {
      "text/html": [
       "<div>\n",
       "<style scoped>\n",
       "    .dataframe tbody tr th:only-of-type {\n",
       "        vertical-align: middle;\n",
       "    }\n",
       "\n",
       "    .dataframe tbody tr th {\n",
       "        vertical-align: top;\n",
       "    }\n",
       "\n",
       "    .dataframe thead th {\n",
       "        text-align: right;\n",
       "    }\n",
       "</style>\n",
       "<table border=\"1\" class=\"dataframe\">\n",
       "  <thead>\n",
       "    <tr style=\"text-align: right;\">\n",
       "      <th></th>\n",
       "      <th>0</th>\n",
       "      <th>1</th>\n",
       "    </tr>\n",
       "  </thead>\n",
       "  <tbody>\n",
       "    <tr>\n",
       "      <th>0</th>\n",
       "      <td>84602</td>\n",
       "      <td>1338</td>\n",
       "    </tr>\n",
       "    <tr>\n",
       "      <th>1</th>\n",
       "      <td>1263</td>\n",
       "      <td>7330</td>\n",
       "    </tr>\n",
       "  </tbody>\n",
       "</table>\n",
       "</div>"
      ],
      "text/plain": [
       "       0     1\n",
       "0  84602  1338\n",
       "1   1263  7330"
      ]
     },
     "metadata": {},
     "output_type": "display_data"
    }
   ],
   "source": [
    "print('Confusion matrix:')\n",
    "display(confusion_matrix)"
   ]
  },
  {
   "cell_type": "code",
   "execution_count": 33,
   "metadata": {},
   "outputs": [],
   "source": [
    "model = model_generator.create_model(16)"
   ]
  },
  {
   "cell_type": "code",
   "execution_count": 35,
   "metadata": {},
   "outputs": [],
   "source": [
    "model.save_weights('model/protein_bert.h5')"
   ]
  },
  {
   "cell_type": "code",
   "execution_count": null,
   "metadata": {},
   "outputs": [],
   "source": [
    "pep_sgtembedding.drop(columns = 'id', inplace = True)\n",
    "mhc_sgtembedding.drop(columns = 'id', inplace = True)"
   ]
  },
  {
   "cell_type": "code",
   "execution_count": null,
   "metadata": {},
   "outputs": [],
   "source": [
    "#pep_sgtembedding, mhc_sgtembedding, encoded_target\n",
    "train_pep, test_pep, train_mhc, test_mhc, train_target, test_target = train_test_split(pep_sgtembedding, mhc_sgtembedding, target_df, test_size = 0.2, stratify = target_df)"
   ]
  },
  {
   "cell_type": "code",
   "execution_count": null,
   "metadata": {},
   "outputs": [],
   "source": [
    "print(train_pep.shape)\n",
    "print(test_pep.shape)"
   ]
  },
  {
   "cell_type": "code",
   "execution_count": null,
   "metadata": {},
   "outputs": [],
   "source": [
    "train_pep"
   ]
  },
  {
   "cell_type": "code",
   "execution_count": null,
   "metadata": {},
   "outputs": [],
   "source": [
    "train_target"
   ]
  },
  {
   "cell_type": "code",
   "execution_count": null,
   "metadata": {},
   "outputs": [],
   "source": [
    "def build_model(training_pep, training_mhc):\n",
    "    embed_dim = 32\n",
    "    ff_dim = 32\n",
    "    num_heads = 2\n",
    "\n",
    "    input_pep = Input(shape=(training_pep.shape[1:]), name = 'peptide')\n",
    "    input_mhc = Input(shape=(training_pep.shape[1:]), name = 'mhc')\n",
    "\n",
    "    transformer_pep = TransformerBlock(embed_dim, num_heads, ff_dim)\n",
    "    transformer_mhc = TransformerBlock(embed_dim, num_heads, ff_dim)\n",
    "\n",
    "    x_pep = transformer_pep(input_pep)\n",
    "    x_mhc = transformer_mhc(input_mhc)\n",
    "\n",
    "    x_pep = GlobalAveragePooling1D()(x_pep)\n",
    "    x_mhc = GlobalAveragePooling1D()(x_mhc)\n",
    "\n",
    "    x_pep = Dropout(0.1)(x_pep)\n",
    "    x_mhc = Dropout(0.1)(x_mhc)\n",
    "\n",
    "    x_pep = Dense(20, activation = 'relu')(x_pep)\n",
    "    x_mhc = Dense(20, activation = 'relu')(x_mhc)\n",
    "\n",
    "    x_pep = Dropout(0.1)(x_pep)\n",
    "    x_mhc = Dropout(0.1)(x_mhc)\n",
    "\n",
    "    output_pep = Dense(1)(x_pep)\n",
    "    output_mhc = Dense(1)(x_mhc)\n",
    "\n",
    "    combined_output = concatenate([output_pep, output_mhc])\n",
    "    combinedDense_output = Dense(1)(combined_output)\n",
    "    output = Activation('sigmoid')(combinedDense_output)\n",
    "\n",
    "    model = Model(inputs = [input_pep, input_mhc], outputs = output)\n",
    "    opt = Adam(learning_rate = 1e-3)\n",
    "    model.compile(loss = 'binary_crossentropy', optimizer = opt, metrics = ['accuracy', 'AUC'])\n",
    "    model.summary()\n",
    "    return model"
   ]
  },
  {
   "cell_type": "code",
   "execution_count": null,
   "metadata": {},
   "outputs": [],
   "source": [
    "encoder = LabelEncoder()\n",
    "encoder.fit(train_target)\n",
    "encoded_y = encoder.transform(train_target)"
   ]
  },
  {
   "cell_type": "code",
   "execution_count": null,
   "metadata": {},
   "outputs": [],
   "source": [
    "x_pep = pd.DataFrame(train_pep)\n",
    "x_mhc = pd.DataFrame(train_mhc)"
   ]
  },
  {
   "cell_type": "code",
   "execution_count": null,
   "metadata": {},
   "outputs": [],
   "source": [
    "z = x_pep.iloc[1:10]\n",
    "z_n = z.to_numpy()"
   ]
  },
  {
   "cell_type": "code",
   "execution_count": null,
   "metadata": {},
   "outputs": [],
   "source": [
    "folder = 'transformer/model/'\n",
    "if not os.path.isdir(folder):\n",
    "        os.makedirs(folder)\n",
    "\n",
    "for i, (train_index, test_index) in enumerate(kfold.split(x_pep, encoded_y)):\n",
    "    training_pep = x_pep.iloc[train_index]\n",
    "    training_mhc = x_mhc.iloc[train_index]\n",
    "    training_target = encoded_y[train_index]\n",
    "    \n",
    "    validation_pep = x_pep.iloc[test_index]\n",
    "    validation_mhc = x_mhc.iloc[test_index]\n",
    "    validation_target = encoded_y[test_index]\n",
    "    \n",
    "    training_pep = training_pep.to_numpy()\n",
    "    training_mhc = training_mhc.to_numpy()\n",
    "    validation_pep = validation_pep.to_numpy()\n",
    "    validation_mhc = validation_mhc.to_numpy()\n",
    "        \n",
    "    callbacks_list = [\n",
    "                ModelCheckpoint(filepath=(folder+'CV/model_%s.h5' %i), monitor='val_accuracy', mode='max', verbose=1, save_best_only=True),\n",
    "                EarlyStopping(monitor = 'val_accuracy', mode = 'max', verbose = 1, patience = 5)\n",
    "        ]\n",
    "    model = build_model(training_pep, training_mhc)\n",
    "    model.summary()\n",
    "\n",
    "    model.fit([training_pep,training_mhc], \n",
    "            training_target,\n",
    "            batch_size=512,\n",
    "            epochs = 100,\n",
    "            shuffle=True,\n",
    "            callbacks=callbacks_list,\n",
    "            validation_data=([validation_pep,validation_mhc], validation_target),\n",
    "            verbose=1)  \n",
    "    del model\n",
    "\n",
    "    saved_model = build_model(training_pep, training_mhc)\n",
    "    saved_model.load_weights('model/CV/model_' +str(i)+'.h5')\n",
    "    probas_ = saved_model.predict([np.array(validation_pep),np.array(validation_mhc)])\n",
    "    allprobas_ = np.append(allprobas_, probas_)           \n",
    "    all_labels = np.append(all_labels, validation_target)\n",
    "    del saved_model\n"
   ]
  },
  {
   "cell_type": "code",
   "execution_count": null,
   "metadata": {},
   "outputs": [],
   "source": [
    "font1 = {'family' : 'Times New Roman',\n",
    "        'weight' : 'normal',\n",
    "        'size'   : 16}\n",
    "figsize=6.2, 6.2\n",
    "\n",
    "for i, (train, test) in enumerate(kfold.split(train_pep, train_target)):\n",
    "    training_pep = train_pep[train]\n",
    "    training_mhc = train_mhc[train]\n",
    "    training_target = train_target[train]\n",
    "    \n",
    "    validation_pep = train_pep[test]\n",
    "    validation_mhc = train_mhc[test]\n",
    "    validation_target = train_target[test]\n",
    "\n",
    "    if i == 0:\n",
    "        saved_model = build_model(training_pep, training_mhc)\n",
    "        saved_model.load_weights('model/CV/model_' +str(i)+'.h5')\n",
    "        probas_ = saved_model.predict([np.array(validation_pep),np.array(validation_mhc)])\n",
    "        allprobas_ = np.append(allprobas_, probas_)           \n",
    "        all_labels = np.append(all_labels, validation_target)\n",
    "        del saved_model\n",
    "\n",
    "        fpr, tpr, thresholds = roc_curve(all_labels, allprobas_)\n",
    "        roc_auc = auc(fpr, tpr)\n",
    "        precision, recall, _ = precision_recall_curve(all_labels, allprobas_)\n",
    "        aupr = average_precision_score(all_labels, allprobas_)\n",
    "        print(roc_auc)\n",
    "        print(aupr)\n",
    "\n",
    "        figure1, ax1 = plt.subplots(figsize=figsize)\n",
    "        ax1.tick_params(labelsize=18)\n",
    "        labels = ax1.get_xticklabels() + ax1.get_yticklabels()\n",
    "        [label.set_fontname('Times New Roman') for label in labels]  \n",
    "        ax1.plot([0, 1], [0, 1], linestyle='--', lw=2, color='r',\n",
    "        label='Luck', alpha=.8)\n",
    "\n",
    "        ax1.plot(fpr, tpr, color='b',\n",
    "                label=r'First CV ROC (AUC = %0.4f)' % (roc_auc),\n",
    "                    lw=2, alpha=.8)\n",
    "        ax1.set_xlim([-0.05, 1.05])\n",
    "        ax1.set_ylim([-0.05, 1.05])\n",
    "        ax1.set_xlabel('False Positive Rate', font1)\n",
    "        ax1.set_ylabel('True Positive Rate', font1)\n",
    "        title1 = 'Cross Validated ROC Curve'\n",
    "        ax1.set_title(title1, font1)\n",
    "        ax1.legend(loc=\"lower right\")\n",
    "        \n",
    "        ########PR_figure\n",
    "        figure2, ax2 = plt.subplots(figsize=figsize)\n",
    "        ax2.tick_params(labelsize=18)\n",
    "        labels = ax2.get_xticklabels() + ax2.get_yticklabels()\n",
    "        [label.set_fontname('Times New Roman') for label in labels] \n",
    "\n",
    "        ax2.plot(recall, precision, color='b',\n",
    "                label=r'First CV Precision-Recall (AUC = %0.4f)' % aupr,\n",
    "                lw=2, alpha=.8)\n",
    "\n",
    "        ax2.set_xlim([-0.05, 1.05])\n",
    "        ax2.set_ylim([-0.05, 1.05])\n",
    "        ax2.set_xlabel('Recall', font1)\n",
    "        ax2.set_ylabel('Precision', font1)\n",
    "        title2 = 'Cross Validated PR Curve'\n",
    "        ax2.set_title(title2, font1)\n",
    "        ax2.legend(loc=\"lower left\")\n",
    "\n",
    "    else:\n",
    "        saved_model = build_model(training_pep, training_mhc)\n",
    "        saved_model.load_weights('model/CV/model_' +str(i)+'.h5')\n",
    "        probas_ = saved_model.predict([np.array(validation_pep),np.array(validation_mhc)])\n",
    "        allprobas_ = np.append(allprobas_, probas_)           \n",
    "        all_labels = np.append(all_labels, validation_target)\n",
    "        del saved_model\n",
    "        \n",
    "        fpr, tpr, thresholds = roc_curve(validation_target, probas_)\n",
    "        roc_auc = auc(fpr, tpr)\n",
    "        precision, recall, _ = precision_recall_curve(validation_target, probas_)\n",
    "        aupr = average_precision_score(validation_target, probas_)\n",
    "        print(roc_auc)\n",
    "        print(aupr)\n",
    "\n",
    "        ax1.plot(fpr, tpr,\n",
    "        label=str(i)+'th CV ROC (AUC = %0.4f)' % (roc_auc),\n",
    "            lw=2, alpha=.8)\n",
    "        ax1.legend(loc=\"lower right\")\n",
    "\n",
    "\n",
    "        ax2.plot(recall, precision, \n",
    "        label=str(i)+'th CV Precision-Recall (AUC = %0.4f)' % (aupr),\n",
    "        lw=2, alpha=.8)\n",
    "        ax2.legend(loc=\"lower left\")"
   ]
  },
  {
   "cell_type": "code",
   "execution_count": null,
   "metadata": {},
   "outputs": [],
   "source": [
    "figure1.savefig('figures/5_fold_roc.jpg', dpi=300, bbox_inches = 'tight')\n",
    "figure2.savefig('figures/5_fold_prc.jpg', dpi=300, bbox_inches = 'tight')"
   ]
  },
  {
   "cell_type": "code",
   "execution_count": null,
   "metadata": {},
   "outputs": [],
   "source": [
    "font1 = {'family' : 'Times New Roman',\n",
    "        'weight' : 'normal',\n",
    "        'size'   : 16}\n",
    "figsize=6.2, 6.2\n",
    "\n",
    "########ROC_figure\n",
    "figure1, ax1 = plt.subplots(figsize=figsize)\n",
    "ax1.tick_params(labelsize=18)\n",
    "labels = ax1.get_xticklabels() + ax1.get_yticklabels()\n",
    "[label.set_fontname('Times New Roman') for label in labels]  \n",
    "\n",
    "fpr, tpr, thresholds = roc_curve(all_labels, allprobas_)\n",
    "roc_auc = auc(fpr, tpr)\n",
    "print(roc_auc)\n",
    "\n",
    "ax1.plot(fpr, tpr, color='b',\n",
    "    label=r'Mean ROC (AUC = %0.4f)' % (roc_auc),\n",
    "    lw=2, alpha=.8)\n",
    "ax1.plot([0, 1], [0, 1], linestyle='--', lw=2, color='r',\n",
    "        label='Luck', alpha=.8)\n",
    "ax1.set_xlim([-0.05, 1.05])\n",
    "ax1.set_ylim([-0.05, 1.05])\n",
    "ax1.set_xlabel('False Positive Rate', font1)\n",
    "ax1.set_ylabel('True Positive Rate', font1)\n",
    "title1 = 'Cross Validated ROC Curve'\n",
    "ax1.set_title(title1, font1)\n",
    "ax1.legend(loc=\"lower right\")\n",
    "figure1.savefig('figures/mean_5_fold_roc.jpg', dpi=300, bbox_inches = 'tight')\n",
    "\n",
    "########PR_figure\n",
    "figure2, ax2 = plt.subplots(figsize=figsize)\n",
    "ax2.tick_params(labelsize=18)\n",
    "labels = ax2.get_xticklabels() + ax2.get_yticklabels()\n",
    "[label.set_fontname('Times New Roman') for label in labels] \n",
    "\n",
    "precision, recall, _ = precision_recall_curve(all_labels, allprobas_)\n",
    "ax2.plot(recall, precision, color='b',\n",
    "        label=r'Mean Precision-Recall (AUC = %0.4f)' % (average_precision_score(all_labels, allprobas_)),\n",
    "        lw=2, alpha=.8)\n",
    "\n",
    "ax2.set_xlim([-0.05, 1.05])\n",
    "ax2.set_ylim([-0.05, 1.05])\n",
    "ax2.set_xlabel('Recall', font1)\n",
    "ax2.set_ylabel('Precision', font1)\n",
    "title2 = 'Cross Validated PR Curve'\n",
    "ax2.set_title(title2, font1)\n",
    "ax2.legend(loc=\"lower left\")\n",
    "figure2.savefig('figures/mean_5_fold_pr.jpg', dpi=300, bbox_inches = 'tight')\n"
   ]
  },
  {
   "cell_type": "code",
   "execution_count": null,
   "metadata": {},
   "outputs": [],
   "source": [
    "allprobas2_=np.array([]) \n",
    "all_labels2=np.array([])"
   ]
  },
  {
   "cell_type": "code",
   "execution_count": null,
   "metadata": {},
   "outputs": [],
   "source": [
    "font1 = {'family' : 'Times New Roman',\n",
    "        'weight' : 'normal',\n",
    "        'size'   : 16}\n",
    "figsize=6.2, 6.2\n",
    "\n",
    "for i in range(5):\n",
    "    if i == 0:\n",
    "        saved_model = build_model(training_pep, training_mhc)\n",
    "        saved_model.load_weights('model/CV/model_' +str(i)+'.h5')\n",
    "        probas_ = saved_model.predict([np.array(test_pep),np.array(test_mhc)])\n",
    "        allprobas2_ = np.append(allprobas2_, probas_)           \n",
    "        all_labels2 = np.append(all_labels2, test_target)\n",
    "        del saved_model\n",
    "\n",
    "        fpr, tpr, thresholds = roc_curve(all_labels2, allprobas2_)\n",
    "        roc_auc = auc(fpr, tpr)\n",
    "        precision, recall, _ = precision_recall_curve(all_labels2, allprobas2_)\n",
    "        aupr = average_precision_score(all_labels2, allprobas2_)\n",
    "        print(roc_auc)\n",
    "        print(aupr)\n",
    "\n",
    "        figure1, ax1 = plt.subplots(figsize=figsize)\n",
    "        ax1.tick_params(labelsize=18)\n",
    "        labels = ax1.get_xticklabels() + ax1.get_yticklabels()\n",
    "        [label.set_fontname('Times New Roman') for label in labels]  \n",
    "        ax1.plot([0, 1], [0, 1], linestyle='--', lw=2, color='r',\n",
    "        label='Luck', alpha=.8)\n",
    "\n",
    "        ax1.plot(fpr, tpr, color='b',\n",
    "                label=r'First CV ROC (AUC = %0.4f)' % (roc_auc),\n",
    "                    lw=2, alpha=.8)\n",
    "        ax1.set_xlim([-0.05, 1.05])\n",
    "        ax1.set_ylim([-0.05, 1.05])\n",
    "        ax1.set_xlabel('False Positive Rate', font1)\n",
    "        ax1.set_ylabel('True Positive Rate', font1)\n",
    "        title1 = 'Cross Validated ROC Curve'\n",
    "        ax1.set_title(title1, font1)\n",
    "        ax1.legend(loc=\"lower right\")\n",
    "        \n",
    "        ########PR_figure\n",
    "        figure2, ax2 = plt.subplots(figsize=figsize)\n",
    "        ax2.tick_params(labelsize=18)\n",
    "        labels = ax2.get_xticklabels() + ax2.get_yticklabels()\n",
    "        [label.set_fontname('Times New Roman') for label in labels] \n",
    "\n",
    "        ax2.plot(recall, precision, color='b',\n",
    "                label=r'First CV Precision-Recall (AUC = %0.4f)' % aupr,\n",
    "                lw=2, alpha=.8)\n",
    "\n",
    "        ax2.set_xlim([-0.05, 1.05])\n",
    "        ax2.set_ylim([-0.05, 1.05])\n",
    "        ax2.set_xlabel('Recall', font1)\n",
    "        ax2.set_ylabel('Precision', font1)\n",
    "        title2 = 'Cross Validated PR Curve'\n",
    "        ax2.set_title(title2, font1)\n",
    "        ax2.legend(loc=\"lower left\")\n",
    "\n",
    "    else:\n",
    "        saved_model = build_model(training_pep, training_mhc)\n",
    "        saved_model.load_weights('model/CV/model_' +str(i)+'.h5')\n",
    "        probas_ = saved_model.predict([np.array(test_pep),np.array(test_mhc)])\n",
    "        allprobas2_ = np.append(allprobas2_, probas_)           \n",
    "        all_labels2 = np.append(all_labels2, test_target)\n",
    "        del saved_model\n",
    "        \n",
    "        fpr, tpr, thresholds = roc_curve(test_target, probas_)\n",
    "        roc_auc = auc(fpr, tpr)\n",
    "        precision, recall, _ = precision_recall_curve(test_target, probas_)\n",
    "        aupr = average_precision_score(test_target, probas_)\n",
    "        print(roc_auc)\n",
    "        print(aupr)\n",
    "\n",
    "        ax1.plot(fpr, tpr,\n",
    "        label=str(i)+'th CV ROC (AUC = %0.4f)' % (roc_auc),\n",
    "            lw=2, alpha=.8)\n",
    "        ax1.legend(loc=\"lower right\")\n",
    "\n",
    "\n",
    "        ax2.plot(recall, precision, \n",
    "        label=str(i)+'th CV Precision-Recall (AUC = %0.4f)' % (aupr),\n",
    "        lw=2, alpha=.8)\n",
    "        ax2.legend(loc=\"lower left\")\n",
    "\n",
    "figure1.savefig('figures/test_5_fold_roc.jpg', dpi=300, bbox_inches = 'tight')\n",
    "figure2.savefig('figures/test_5_fold_prc.jpg', dpi=300, bbox_inches = 'tight')"
   ]
  },
  {
   "cell_type": "code",
   "execution_count": null,
   "metadata": {},
   "outputs": [],
   "source": [
    "font1 = {'family' : 'Times New Roman',\n",
    "        'weight' : 'normal',\n",
    "        'size'   : 16}\n",
    "figsize=6.2, 6.2\n",
    "\n",
    "########ROC_figure\n",
    "figure1, ax1 = plt.subplots(figsize=figsize)\n",
    "ax1.tick_params(labelsize=18)\n",
    "labels = ax1.get_xticklabels() + ax1.get_yticklabels()\n",
    "[label.set_fontname('Times New Roman') for label in labels]  \n",
    "\n",
    "fpr, tpr, thresholds = roc_curve(all_labels2, allprobas2_)\n",
    "roc_auc = auc(fpr, tpr)\n",
    "print(roc_auc)\n",
    "\n",
    "ax1.plot(fpr, tpr, color='b',\n",
    "    label=r'Mean ROC (AUC = %0.4f)' % (roc_auc),\n",
    "    lw=2, alpha=.8)\n",
    "ax1.plot([0, 1], [0, 1], linestyle='--', lw=2, color='r',\n",
    "        label='Luck', alpha=.8)\n",
    "ax1.set_xlim([-0.05, 1.05])\n",
    "ax1.set_ylim([-0.05, 1.05])\n",
    "ax1.set_xlabel('False Positive Rate', font1)\n",
    "ax1.set_ylabel('True Positive Rate', font1)\n",
    "title1 = 'Cross Validated ROC Curve'\n",
    "ax1.set_title(title1, font1)\n",
    "ax1.legend(loc=\"lower right\")\n",
    "figure1.savefig('figures/test_mean_5_fold_roc.jpg', dpi=300, bbox_inches = 'tight')\n",
    "\n",
    "########PR_figure\n",
    "figure2, ax2 = plt.subplots(figsize=figsize)\n",
    "ax2.tick_params(labelsize=18)\n",
    "labels = ax2.get_xticklabels() + ax2.get_yticklabels()\n",
    "[label.set_fontname('Times New Roman') for label in labels] \n",
    "\n",
    "precision, recall, _ = precision_recall_curve(all_labels2, allprobas2_)\n",
    "ax2.plot(recall, precision, color='b',\n",
    "        label=r'Mean Precision-Recall (AUC = %0.4f)' % (average_precision_score(all_labels2, allprobas2_)),\n",
    "        lw=2, alpha=.8)\n",
    "\n",
    "ax2.set_xlim([-0.05, 1.05])\n",
    "ax2.set_ylim([-0.05, 1.05])\n",
    "ax2.set_xlabel('Recall', font1)\n",
    "ax2.set_ylabel('Precision', font1)\n",
    "title2 = 'Cross Validated PR Curve'\n",
    "ax2.set_title(title2, font1)\n",
    "ax2.legend(loc=\"lower left\")\n",
    "figure2.savefig('figures/test_mean_5_fold_pr.jpg', dpi=300, bbox_inches = 'tight')\n"
   ]
  },
  {
   "cell_type": "code",
   "execution_count": null,
   "metadata": {},
   "outputs": [],
   "source": [
    "from tensorflow.keras.models import load_model"
   ]
  },
  {
   "cell_type": "code",
   "execution_count": null,
   "metadata": {},
   "outputs": [],
   "source": [
    "figure1, ax1 = plt.subplots(figsize=figsize)\n",
    "figure2, ax2 = plt.subplots(figsize=figsize)\n",
    "for i in range(5):\n",
    "    saved_model = build_model(training_pep, training_mhc)\n",
    "    saved_model = load_model('model/CV/model_'+str(i)+'.h5')\n",
    "\n",
    "    ax1.plot(saved_model.history[\"loss\"])\n",
    "    ax1.plot(saved_model.history[\"val_loss\"])\n",
    "    ax1.legend(['train', 'test'], loc='best')\n",
    " \n",
    "    ax2.plot(saved_model.history[\"accuracy\"])\n",
    "    ax2.plot(saved_model.history[\"val_accuracy\"])\n",
    "    ax2.legend(['train', 'test'], loc='best')\n",
    "\n",
    "    del saved_model\n"
   ]
  },
  {
   "cell_type": "code",
   "execution_count": null,
   "metadata": {},
   "outputs": [],
   "source": []
  }
 ],
 "metadata": {
  "kernelspec": {
   "display_name": "Python 3.8.13 ('viralepitope': conda)",
   "language": "python",
   "name": "python3"
  },
  "language_info": {
   "codemirror_mode": {
    "name": "ipython",
    "version": 3
   },
   "file_extension": ".py",
   "mimetype": "text/x-python",
   "name": "python",
   "nbconvert_exporter": "python",
   "pygments_lexer": "ipython3",
   "version": "3.8.13"
  },
  "orig_nbformat": 4,
  "vscode": {
   "interpreter": {
    "hash": "89a569e57c3a868c837518f690d34e8ba538dcefa2ece26ecfaf82d5cd67ebe4"
   }
  }
 },
 "nbformat": 4,
 "nbformat_minor": 2
}
