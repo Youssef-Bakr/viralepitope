{
 "cells": [
  {
   "cell_type": "code",
   "execution_count": 1,
   "metadata": {},
   "outputs": [
    {
     "data": {
      "text/plain": [
       "'\\nCreated on August 4th 2022\\n\\n@author: JJ\\n'"
      ]
     },
     "execution_count": 1,
     "metadata": {},
     "output_type": "execute_result"
    }
   ],
   "source": [
    "\"\"\"\n",
    "Created on August 4th 2022\n",
    "\n",
    "@author: JJ\n",
    "\"\"\""
   ]
  },
  {
   "cell_type": "code",
   "execution_count": 2,
   "metadata": {},
   "outputs": [
    {
     "name": "stderr",
     "output_type": "stream",
     "text": [
      "2022-11-30 17:47:51.138319: I tensorflow/stream_executor/platform/default/dso_loader.cc:49] Successfully opened dynamic library libcudart.so.10.1\n"
     ]
    }
   ],
   "source": [
    "import os, re, sys\n",
    "import numpy as np\n",
    "import pandas as pd\n",
    "from math import log\n",
    "import random\n",
    "import scipy.io\n",
    "import tensorflow as tf\n",
    "import csv"
   ]
  },
  {
   "cell_type": "code",
   "execution_count": 3,
   "metadata": {},
   "outputs": [],
   "source": [
    "from tensorflow.keras.optimizers import *\n",
    "from tensorflow.keras.models import *\n",
    "from tensorflow.keras.layers import *\n",
    "from tensorflow.keras.constraints import *\n",
    "from tensorflow.keras.regularizers import *\n",
    "#from tensorflow.keras.models import Model\n",
    "from tensorflow.keras import backend as K\n",
    "from tensorflow.keras import (\n",
    "    activations, \n",
    "    initializers, \n",
    "    regularizers, \n",
    "    constraints\n",
    ")"
   ]
  },
  {
   "cell_type": "code",
   "execution_count": 4,
   "metadata": {},
   "outputs": [],
   "source": [
    "num_threads = 8\n",
    "# Maximum number of threads to use for OpenMP parallel regions.\n",
    "os.environ[\"OMP_NUM_THREADS\"] = \"8\"\n",
    "# Without setting below 2 environment variables, it didn't work for me. Thanks to @cjw85 \n",
    "os.environ[\"TF_NUM_INTRAOP_THREADS\"] = \"4\"\n",
    "os.environ[\"TF_NUM_INTEROP_THREADS\"] = \"4\"\n",
    "\n",
    "tf.config.threading.set_inter_op_parallelism_threads(\n",
    "    num_threads\n",
    ")\n",
    "tf.config.threading.set_intra_op_parallelism_threads(\n",
    "    num_threads\n",
    ")\n",
    "tf.config.set_soft_device_placement(True)"
   ]
  },
  {
   "cell_type": "code",
   "execution_count": 5,
   "metadata": {},
   "outputs": [],
   "source": [
    "# in a well-defined initial state.\n",
    "random.seed\n",
    "np.random.seed(1337)\n",
    "tf.random.set_seed(1337)"
   ]
  },
  {
   "cell_type": "code",
   "execution_count": 6,
   "metadata": {},
   "outputs": [],
   "source": [
    "import matplotlib\n",
    "import matplotlib.pyplot as plt"
   ]
  },
  {
   "cell_type": "code",
   "execution_count": 7,
   "metadata": {},
   "outputs": [],
   "source": [
    "from tensorflow.keras.callbacks import (\n",
    "    ModelCheckpoint, \n",
    "    EarlyStopping\n",
    ")\n",
    "from sklearn.metrics import (\n",
    "    roc_curve,\n",
    "    auc,\n",
    "    roc_auc_score,\n",
    "    average_precision_score,\n",
    "    precision_recall_curve,\n",
    ")"
   ]
  },
  {
   "cell_type": "code",
   "execution_count": 8,
   "metadata": {},
   "outputs": [],
   "source": [
    "from sklearn.model_selection import train_test_split, StratifiedKFold\n",
    "from sklearn.utils import resample, shuffle\n",
    "from sklearn.feature_selection import (\n",
    "    SelectKBest,\n",
    "    chi2\n",
    ")\n",
    "import keras_tuner as kt\n",
    "from collections import defaultdict"
   ]
  },
  {
   "cell_type": "code",
   "execution_count": 9,
   "metadata": {},
   "outputs": [],
   "source": [
    "import pickle as pkl"
   ]
  },
  {
   "cell_type": "code",
   "execution_count": 10,
   "metadata": {},
   "outputs": [],
   "source": [
    "from proteinbert import OutputType, OutputSpec, FinetuningModelGenerator, load_pretrained_model, finetune, evaluate_by_len\n",
    "from proteinbert.conv_and_global_attention_model import get_model_with_hidden_layers_as_outputs"
   ]
  },
  {
   "cell_type": "code",
   "execution_count": 12,
   "metadata": {},
   "outputs": [],
   "source": [
    "with open ('epoch_92400_sample_23500000.pkl', 'rb') as f:\n",
    "    proteinbert_pretrained = pkl.load(f)"
   ]
  },
  {
   "cell_type": "code",
   "execution_count": null,
   "metadata": {},
   "outputs": [],
   "source": [
    "kfold = StratifiedKFold(n_splits=5, shuffle=True, random_state=1337)    \n",
    "allprobas_=np.array([]) \n",
    "all_labels=np.array([])"
   ]
  },
  {
   "cell_type": "code",
   "execution_count": null,
   "metadata": {},
   "outputs": [],
   "source": [
    "class TransformerBlock(Layer):\n",
    "    def __init__(self, embed_dim, num_heads, ff_dim, rate=0.1):\n",
    "        super(TransformerBlock, self).__init__()\n",
    "        self.att = MultiHeadAttention(num_heads=num_heads, key_dim=embed_dim)\n",
    "        self.ffn = Sequential(\n",
    "            [Dense(ff_dim, activation=\"relu\"), Dense(embed_dim),]\n",
    "        )\n",
    "        self.layernorm1 = LayerNormalization(epsilon=1e-6)\n",
    "        self.layernorm2 = LayerNormalization(epsilon=1e-6)\n",
    "        self.dropout1 = Dropout(rate)\n",
    "        self.dropout2 = Dropout(rate)\n",
    "\n",
    "    def call(self, inputs, training):\n",
    "        attn_output = self.att(inputs, inputs)\n",
    "        attn_output = self.dropout1(attn_output, training=training)\n",
    "        out1 = self.layernorm1(inputs + attn_output)\n",
    "        ffn_output = self.ffn(out1)\n",
    "        ffn_output = self.dropout2(ffn_output, training=training)\n",
    "        return self.layernorm2(out1 + ffn_output)"
   ]
  },
  {
   "cell_type": "code",
   "execution_count": null,
   "metadata": {},
   "outputs": [],
   "source": [
    "pep_sgtembedding.drop(columns = 'id', inplace = True)\n",
    "mhc_sgtembedding.drop(columns = 'id', inplace = True)"
   ]
  },
  {
   "cell_type": "code",
   "execution_count": null,
   "metadata": {},
   "outputs": [],
   "source": [
    "#pep_sgtembedding, mhc_sgtembedding, encoded_target\n",
    "train_pep, test_pep, train_mhc, test_mhc, train_target, test_target = train_test_split(pep_sgtembedding, mhc_sgtembedding, target_df, test_size = 0.2, stratify = target_df)"
   ]
  },
  {
   "cell_type": "code",
   "execution_count": null,
   "metadata": {},
   "outputs": [],
   "source": [
    "print(train_pep.shape)\n",
    "print(test_pep.shape)"
   ]
  },
  {
   "cell_type": "code",
   "execution_count": null,
   "metadata": {},
   "outputs": [],
   "source": [
    "train_pep"
   ]
  },
  {
   "cell_type": "code",
   "execution_count": null,
   "metadata": {},
   "outputs": [],
   "source": [
    "train_target"
   ]
  },
  {
   "cell_type": "code",
   "execution_count": null,
   "metadata": {},
   "outputs": [],
   "source": [
    "def build_model(training_pep, training_mhc):\n",
    "    embed_dim = 32\n",
    "    ff_dim = 32\n",
    "    num_heads = 2\n",
    "\n",
    "    input_pep = Input(shape=(training_pep.shape[1:]), name = 'peptide')\n",
    "    input_mhc = Input(shape=(training_pep.shape[1:]), name = 'mhc')\n",
    "\n",
    "    transformer_pep = TransformerBlock(embed_dim, num_heads, ff_dim)\n",
    "    transformer_mhc = TransformerBlock(embed_dim, num_heads, ff_dim)\n",
    "\n",
    "    x_pep = transformer_pep(input_pep)\n",
    "    x_mhc = transformer_mhc(input_mhc)\n",
    "\n",
    "    x_pep = GlobalAveragePooling1D()(x_pep)\n",
    "    x_mhc = GlobalAveragePooling1D()(x_mhc)\n",
    "\n",
    "    x_pep = Dropout(0.1)(x_pep)\n",
    "    x_mhc = Dropout(0.1)(x_mhc)\n",
    "\n",
    "    x_pep = Dense(20, activation = 'relu')(x_pep)\n",
    "    x_mhc = Dense(20, activation = 'relu')(x_mhc)\n",
    "\n",
    "    x_pep = Dropout(0.1)(x_pep)\n",
    "    x_mhc = Dropout(0.1)(x_mhc)\n",
    "\n",
    "    output_pep = Dense(1)(x_pep)\n",
    "    output_mhc = Dense(1)(x_mhc)\n",
    "\n",
    "    combined_output = concatenate([output_pep, output_mhc])\n",
    "    combinedDense_output = Dense(1)(combined_output)\n",
    "    output = Activation('sigmoid')(combinedDense_output)\n",
    "\n",
    "    model = Model(inputs = [input_pep, input_mhc], outputs = output)\n",
    "    opt = Adam(learning_rate = 1e-3)\n",
    "    model.compile(loss = 'binary_crossentropy', optimizer = opt, metrics = ['accuracy', 'AUC'])\n",
    "    model.summary()\n",
    "    return model"
   ]
  },
  {
   "cell_type": "code",
   "execution_count": null,
   "metadata": {},
   "outputs": [],
   "source": [
    "encoder = LabelEncoder()\n",
    "encoder.fit(train_target)\n",
    "encoded_y = encoder.transform(train_target)"
   ]
  },
  {
   "cell_type": "code",
   "execution_count": null,
   "metadata": {},
   "outputs": [],
   "source": [
    "x_pep = pd.DataFrame(train_pep)\n",
    "x_mhc = pd.DataFrame(train_mhc)"
   ]
  },
  {
   "cell_type": "code",
   "execution_count": null,
   "metadata": {},
   "outputs": [],
   "source": [
    "z = x_pep.iloc[1:10]\n",
    "z_n = z.to_numpy()"
   ]
  },
  {
   "cell_type": "code",
   "execution_count": null,
   "metadata": {},
   "outputs": [],
   "source": [
    "folder = 'transformer/model/'\n",
    "if not os.path.isdir(folder):\n",
    "        os.makedirs(folder)\n",
    "\n",
    "for i, (train_index, test_index) in enumerate(kfold.split(x_pep, encoded_y)):\n",
    "    training_pep = x_pep.iloc[train_index]\n",
    "    training_mhc = x_mhc.iloc[train_index]\n",
    "    training_target = encoded_y[train_index]\n",
    "    \n",
    "    validation_pep = x_pep.iloc[test_index]\n",
    "    validation_mhc = x_mhc.iloc[test_index]\n",
    "    validation_target = encoded_y[test_index]\n",
    "    \n",
    "    training_pep = training_pep.to_numpy()\n",
    "    training_mhc = training_mhc.to_numpy()\n",
    "    validation_pep = validation_pep.to_numpy()\n",
    "    validation_mhc = validation_mhc.to_numpy()\n",
    "        \n",
    "    callbacks_list = [\n",
    "                ModelCheckpoint(filepath=(folder+'CV/model_%s.h5' %i), monitor='val_accuracy', mode='max', verbose=1, save_best_only=True),\n",
    "                EarlyStopping(monitor = 'val_accuracy', mode = 'max', verbose = 1, patience = 5)\n",
    "        ]\n",
    "    model = build_model(training_pep, training_mhc)\n",
    "    model.summary()\n",
    "\n",
    "    model.fit([training_pep,training_mhc], \n",
    "            training_target,\n",
    "            batch_size=512,\n",
    "            epochs = 100,\n",
    "            shuffle=True,\n",
    "            callbacks=callbacks_list,\n",
    "            validation_data=([validation_pep,validation_mhc], validation_target),\n",
    "            verbose=1)  \n",
    "    del model\n",
    "\n",
    "    saved_model = build_model(training_pep, training_mhc)\n",
    "    saved_model.load_weights('model/CV/model_' +str(i)+'.h5')\n",
    "    probas_ = saved_model.predict([np.array(validation_pep),np.array(validation_mhc)])\n",
    "    allprobas_ = np.append(allprobas_, probas_)           \n",
    "    all_labels = np.append(all_labels, validation_target)\n",
    "    del saved_model\n"
   ]
  },
  {
   "cell_type": "code",
   "execution_count": null,
   "metadata": {},
   "outputs": [],
   "source": [
    "font1 = {'family' : 'Times New Roman',\n",
    "        'weight' : 'normal',\n",
    "        'size'   : 16}\n",
    "figsize=6.2, 6.2\n",
    "\n",
    "for i, (train, test) in enumerate(kfold.split(train_pep, train_target)):\n",
    "    training_pep = train_pep[train]\n",
    "    training_mhc = train_mhc[train]\n",
    "    training_target = train_target[train]\n",
    "    \n",
    "    validation_pep = train_pep[test]\n",
    "    validation_mhc = train_mhc[test]\n",
    "    validation_target = train_target[test]\n",
    "\n",
    "    if i == 0:\n",
    "        saved_model = build_model(training_pep, training_mhc)\n",
    "        saved_model.load_weights('model/CV/model_' +str(i)+'.h5')\n",
    "        probas_ = saved_model.predict([np.array(validation_pep),np.array(validation_mhc)])\n",
    "        allprobas_ = np.append(allprobas_, probas_)           \n",
    "        all_labels = np.append(all_labels, validation_target)\n",
    "        del saved_model\n",
    "\n",
    "        fpr, tpr, thresholds = roc_curve(all_labels, allprobas_)\n",
    "        roc_auc = auc(fpr, tpr)\n",
    "        precision, recall, _ = precision_recall_curve(all_labels, allprobas_)\n",
    "        aupr = average_precision_score(all_labels, allprobas_)\n",
    "        print(roc_auc)\n",
    "        print(aupr)\n",
    "\n",
    "        figure1, ax1 = plt.subplots(figsize=figsize)\n",
    "        ax1.tick_params(labelsize=18)\n",
    "        labels = ax1.get_xticklabels() + ax1.get_yticklabels()\n",
    "        [label.set_fontname('Times New Roman') for label in labels]  \n",
    "        ax1.plot([0, 1], [0, 1], linestyle='--', lw=2, color='r',\n",
    "        label='Luck', alpha=.8)\n",
    "\n",
    "        ax1.plot(fpr, tpr, color='b',\n",
    "                label=r'First CV ROC (AUC = %0.4f)' % (roc_auc),\n",
    "                    lw=2, alpha=.8)\n",
    "        ax1.set_xlim([-0.05, 1.05])\n",
    "        ax1.set_ylim([-0.05, 1.05])\n",
    "        ax1.set_xlabel('False Positive Rate', font1)\n",
    "        ax1.set_ylabel('True Positive Rate', font1)\n",
    "        title1 = 'Cross Validated ROC Curve'\n",
    "        ax1.set_title(title1, font1)\n",
    "        ax1.legend(loc=\"lower right\")\n",
    "        \n",
    "        ########PR_figure\n",
    "        figure2, ax2 = plt.subplots(figsize=figsize)\n",
    "        ax2.tick_params(labelsize=18)\n",
    "        labels = ax2.get_xticklabels() + ax2.get_yticklabels()\n",
    "        [label.set_fontname('Times New Roman') for label in labels] \n",
    "\n",
    "        ax2.plot(recall, precision, color='b',\n",
    "                label=r'First CV Precision-Recall (AUC = %0.4f)' % aupr,\n",
    "                lw=2, alpha=.8)\n",
    "\n",
    "        ax2.set_xlim([-0.05, 1.05])\n",
    "        ax2.set_ylim([-0.05, 1.05])\n",
    "        ax2.set_xlabel('Recall', font1)\n",
    "        ax2.set_ylabel('Precision', font1)\n",
    "        title2 = 'Cross Validated PR Curve'\n",
    "        ax2.set_title(title2, font1)\n",
    "        ax2.legend(loc=\"lower left\")\n",
    "\n",
    "    else:\n",
    "        saved_model = build_model(training_pep, training_mhc)\n",
    "        saved_model.load_weights('model/CV/model_' +str(i)+'.h5')\n",
    "        probas_ = saved_model.predict([np.array(validation_pep),np.array(validation_mhc)])\n",
    "        allprobas_ = np.append(allprobas_, probas_)           \n",
    "        all_labels = np.append(all_labels, validation_target)\n",
    "        del saved_model\n",
    "        \n",
    "        fpr, tpr, thresholds = roc_curve(validation_target, probas_)\n",
    "        roc_auc = auc(fpr, tpr)\n",
    "        precision, recall, _ = precision_recall_curve(validation_target, probas_)\n",
    "        aupr = average_precision_score(validation_target, probas_)\n",
    "        print(roc_auc)\n",
    "        print(aupr)\n",
    "\n",
    "        ax1.plot(fpr, tpr,\n",
    "        label=str(i)+'th CV ROC (AUC = %0.4f)' % (roc_auc),\n",
    "            lw=2, alpha=.8)\n",
    "        ax1.legend(loc=\"lower right\")\n",
    "\n",
    "\n",
    "        ax2.plot(recall, precision, \n",
    "        label=str(i)+'th CV Precision-Recall (AUC = %0.4f)' % (aupr),\n",
    "        lw=2, alpha=.8)\n",
    "        ax2.legend(loc=\"lower left\")"
   ]
  },
  {
   "cell_type": "code",
   "execution_count": null,
   "metadata": {},
   "outputs": [],
   "source": [
    "figure1.savefig('figures/5_fold_roc.jpg', dpi=300, bbox_inches = 'tight')\n",
    "figure2.savefig('figures/5_fold_prc.jpg', dpi=300, bbox_inches = 'tight')"
   ]
  },
  {
   "cell_type": "code",
   "execution_count": null,
   "metadata": {},
   "outputs": [],
   "source": [
    "font1 = {'family' : 'Times New Roman',\n",
    "        'weight' : 'normal',\n",
    "        'size'   : 16}\n",
    "figsize=6.2, 6.2\n",
    "\n",
    "########ROC_figure\n",
    "figure1, ax1 = plt.subplots(figsize=figsize)\n",
    "ax1.tick_params(labelsize=18)\n",
    "labels = ax1.get_xticklabels() + ax1.get_yticklabels()\n",
    "[label.set_fontname('Times New Roman') for label in labels]  \n",
    "\n",
    "fpr, tpr, thresholds = roc_curve(all_labels, allprobas_)\n",
    "roc_auc = auc(fpr, tpr)\n",
    "print(roc_auc)\n",
    "\n",
    "ax1.plot(fpr, tpr, color='b',\n",
    "    label=r'Mean ROC (AUC = %0.4f)' % (roc_auc),\n",
    "    lw=2, alpha=.8)\n",
    "ax1.plot([0, 1], [0, 1], linestyle='--', lw=2, color='r',\n",
    "        label='Luck', alpha=.8)\n",
    "ax1.set_xlim([-0.05, 1.05])\n",
    "ax1.set_ylim([-0.05, 1.05])\n",
    "ax1.set_xlabel('False Positive Rate', font1)\n",
    "ax1.set_ylabel('True Positive Rate', font1)\n",
    "title1 = 'Cross Validated ROC Curve'\n",
    "ax1.set_title(title1, font1)\n",
    "ax1.legend(loc=\"lower right\")\n",
    "figure1.savefig('figures/mean_5_fold_roc.jpg', dpi=300, bbox_inches = 'tight')\n",
    "\n",
    "########PR_figure\n",
    "figure2, ax2 = plt.subplots(figsize=figsize)\n",
    "ax2.tick_params(labelsize=18)\n",
    "labels = ax2.get_xticklabels() + ax2.get_yticklabels()\n",
    "[label.set_fontname('Times New Roman') for label in labels] \n",
    "\n",
    "precision, recall, _ = precision_recall_curve(all_labels, allprobas_)\n",
    "ax2.plot(recall, precision, color='b',\n",
    "        label=r'Mean Precision-Recall (AUC = %0.4f)' % (average_precision_score(all_labels, allprobas_)),\n",
    "        lw=2, alpha=.8)\n",
    "\n",
    "ax2.set_xlim([-0.05, 1.05])\n",
    "ax2.set_ylim([-0.05, 1.05])\n",
    "ax2.set_xlabel('Recall', font1)\n",
    "ax2.set_ylabel('Precision', font1)\n",
    "title2 = 'Cross Validated PR Curve'\n",
    "ax2.set_title(title2, font1)\n",
    "ax2.legend(loc=\"lower left\")\n",
    "figure2.savefig('figures/mean_5_fold_pr.jpg', dpi=300, bbox_inches = 'tight')\n"
   ]
  },
  {
   "cell_type": "code",
   "execution_count": null,
   "metadata": {},
   "outputs": [],
   "source": [
    "allprobas2_=np.array([]) \n",
    "all_labels2=np.array([])"
   ]
  },
  {
   "cell_type": "code",
   "execution_count": null,
   "metadata": {},
   "outputs": [],
   "source": [
    "font1 = {'family' : 'Times New Roman',\n",
    "        'weight' : 'normal',\n",
    "        'size'   : 16}\n",
    "figsize=6.2, 6.2\n",
    "\n",
    "for i in range(5):\n",
    "    if i == 0:\n",
    "        saved_model = build_model(training_pep, training_mhc)\n",
    "        saved_model.load_weights('model/CV/model_' +str(i)+'.h5')\n",
    "        probas_ = saved_model.predict([np.array(test_pep),np.array(test_mhc)])\n",
    "        allprobas2_ = np.append(allprobas2_, probas_)           \n",
    "        all_labels2 = np.append(all_labels2, test_target)\n",
    "        del saved_model\n",
    "\n",
    "        fpr, tpr, thresholds = roc_curve(all_labels2, allprobas2_)\n",
    "        roc_auc = auc(fpr, tpr)\n",
    "        precision, recall, _ = precision_recall_curve(all_labels2, allprobas2_)\n",
    "        aupr = average_precision_score(all_labels2, allprobas2_)\n",
    "        print(roc_auc)\n",
    "        print(aupr)\n",
    "\n",
    "        figure1, ax1 = plt.subplots(figsize=figsize)\n",
    "        ax1.tick_params(labelsize=18)\n",
    "        labels = ax1.get_xticklabels() + ax1.get_yticklabels()\n",
    "        [label.set_fontname('Times New Roman') for label in labels]  \n",
    "        ax1.plot([0, 1], [0, 1], linestyle='--', lw=2, color='r',\n",
    "        label='Luck', alpha=.8)\n",
    "\n",
    "        ax1.plot(fpr, tpr, color='b',\n",
    "                label=r'First CV ROC (AUC = %0.4f)' % (roc_auc),\n",
    "                    lw=2, alpha=.8)\n",
    "        ax1.set_xlim([-0.05, 1.05])\n",
    "        ax1.set_ylim([-0.05, 1.05])\n",
    "        ax1.set_xlabel('False Positive Rate', font1)\n",
    "        ax1.set_ylabel('True Positive Rate', font1)\n",
    "        title1 = 'Cross Validated ROC Curve'\n",
    "        ax1.set_title(title1, font1)\n",
    "        ax1.legend(loc=\"lower right\")\n",
    "        \n",
    "        ########PR_figure\n",
    "        figure2, ax2 = plt.subplots(figsize=figsize)\n",
    "        ax2.tick_params(labelsize=18)\n",
    "        labels = ax2.get_xticklabels() + ax2.get_yticklabels()\n",
    "        [label.set_fontname('Times New Roman') for label in labels] \n",
    "\n",
    "        ax2.plot(recall, precision, color='b',\n",
    "                label=r'First CV Precision-Recall (AUC = %0.4f)' % aupr,\n",
    "                lw=2, alpha=.8)\n",
    "\n",
    "        ax2.set_xlim([-0.05, 1.05])\n",
    "        ax2.set_ylim([-0.05, 1.05])\n",
    "        ax2.set_xlabel('Recall', font1)\n",
    "        ax2.set_ylabel('Precision', font1)\n",
    "        title2 = 'Cross Validated PR Curve'\n",
    "        ax2.set_title(title2, font1)\n",
    "        ax2.legend(loc=\"lower left\")\n",
    "\n",
    "    else:\n",
    "        saved_model = build_model(training_pep, training_mhc)\n",
    "        saved_model.load_weights('model/CV/model_' +str(i)+'.h5')\n",
    "        probas_ = saved_model.predict([np.array(test_pep),np.array(test_mhc)])\n",
    "        allprobas2_ = np.append(allprobas2_, probas_)           \n",
    "        all_labels2 = np.append(all_labels2, test_target)\n",
    "        del saved_model\n",
    "        \n",
    "        fpr, tpr, thresholds = roc_curve(test_target, probas_)\n",
    "        roc_auc = auc(fpr, tpr)\n",
    "        precision, recall, _ = precision_recall_curve(test_target, probas_)\n",
    "        aupr = average_precision_score(test_target, probas_)\n",
    "        print(roc_auc)\n",
    "        print(aupr)\n",
    "\n",
    "        ax1.plot(fpr, tpr,\n",
    "        label=str(i)+'th CV ROC (AUC = %0.4f)' % (roc_auc),\n",
    "            lw=2, alpha=.8)\n",
    "        ax1.legend(loc=\"lower right\")\n",
    "\n",
    "\n",
    "        ax2.plot(recall, precision, \n",
    "        label=str(i)+'th CV Precision-Recall (AUC = %0.4f)' % (aupr),\n",
    "        lw=2, alpha=.8)\n",
    "        ax2.legend(loc=\"lower left\")\n",
    "\n",
    "figure1.savefig('figures/test_5_fold_roc.jpg', dpi=300, bbox_inches = 'tight')\n",
    "figure2.savefig('figures/test_5_fold_prc.jpg', dpi=300, bbox_inches = 'tight')"
   ]
  },
  {
   "cell_type": "code",
   "execution_count": null,
   "metadata": {},
   "outputs": [],
   "source": [
    "font1 = {'family' : 'Times New Roman',\n",
    "        'weight' : 'normal',\n",
    "        'size'   : 16}\n",
    "figsize=6.2, 6.2\n",
    "\n",
    "########ROC_figure\n",
    "figure1, ax1 = plt.subplots(figsize=figsize)\n",
    "ax1.tick_params(labelsize=18)\n",
    "labels = ax1.get_xticklabels() + ax1.get_yticklabels()\n",
    "[label.set_fontname('Times New Roman') for label in labels]  \n",
    "\n",
    "fpr, tpr, thresholds = roc_curve(all_labels2, allprobas2_)\n",
    "roc_auc = auc(fpr, tpr)\n",
    "print(roc_auc)\n",
    "\n",
    "ax1.plot(fpr, tpr, color='b',\n",
    "    label=r'Mean ROC (AUC = %0.4f)' % (roc_auc),\n",
    "    lw=2, alpha=.8)\n",
    "ax1.plot([0, 1], [0, 1], linestyle='--', lw=2, color='r',\n",
    "        label='Luck', alpha=.8)\n",
    "ax1.set_xlim([-0.05, 1.05])\n",
    "ax1.set_ylim([-0.05, 1.05])\n",
    "ax1.set_xlabel('False Positive Rate', font1)\n",
    "ax1.set_ylabel('True Positive Rate', font1)\n",
    "title1 = 'Cross Validated ROC Curve'\n",
    "ax1.set_title(title1, font1)\n",
    "ax1.legend(loc=\"lower right\")\n",
    "figure1.savefig('figures/test_mean_5_fold_roc.jpg', dpi=300, bbox_inches = 'tight')\n",
    "\n",
    "########PR_figure\n",
    "figure2, ax2 = plt.subplots(figsize=figsize)\n",
    "ax2.tick_params(labelsize=18)\n",
    "labels = ax2.get_xticklabels() + ax2.get_yticklabels()\n",
    "[label.set_fontname('Times New Roman') for label in labels] \n",
    "\n",
    "precision, recall, _ = precision_recall_curve(all_labels2, allprobas2_)\n",
    "ax2.plot(recall, precision, color='b',\n",
    "        label=r'Mean Precision-Recall (AUC = %0.4f)' % (average_precision_score(all_labels2, allprobas2_)),\n",
    "        lw=2, alpha=.8)\n",
    "\n",
    "ax2.set_xlim([-0.05, 1.05])\n",
    "ax2.set_ylim([-0.05, 1.05])\n",
    "ax2.set_xlabel('Recall', font1)\n",
    "ax2.set_ylabel('Precision', font1)\n",
    "title2 = 'Cross Validated PR Curve'\n",
    "ax2.set_title(title2, font1)\n",
    "ax2.legend(loc=\"lower left\")\n",
    "figure2.savefig('figures/test_mean_5_fold_pr.jpg', dpi=300, bbox_inches = 'tight')\n"
   ]
  },
  {
   "cell_type": "code",
   "execution_count": null,
   "metadata": {},
   "outputs": [],
   "source": [
    "from tensorflow.keras.models import load_model"
   ]
  },
  {
   "cell_type": "code",
   "execution_count": null,
   "metadata": {},
   "outputs": [],
   "source": [
    "figure1, ax1 = plt.subplots(figsize=figsize)\n",
    "figure2, ax2 = plt.subplots(figsize=figsize)\n",
    "for i in range(5):\n",
    "    saved_model = build_model(training_pep, training_mhc)\n",
    "    saved_model = load_model('model/CV/model_'+str(i)+'.h5')\n",
    "\n",
    "    ax1.plot(saved_model.history[\"loss\"])\n",
    "    ax1.plot(saved_model.history[\"val_loss\"])\n",
    "    ax1.legend(['train', 'test'], loc='best')\n",
    " \n",
    "    ax2.plot(saved_model.history[\"accuracy\"])\n",
    "    ax2.plot(saved_model.history[\"val_accuracy\"])\n",
    "    ax2.legend(['train', 'test'], loc='best')\n",
    "\n",
    "    del saved_model\n"
   ]
  },
  {
   "cell_type": "code",
   "execution_count": null,
   "metadata": {},
   "outputs": [],
   "source": []
  }
 ],
 "metadata": {
  "kernelspec": {
   "display_name": "Python 3.8.13 ('viralepitope': conda)",
   "language": "python",
   "name": "python3"
  },
  "language_info": {
   "codemirror_mode": {
    "name": "ipython",
    "version": 3
   },
   "file_extension": ".py",
   "mimetype": "text/x-python",
   "name": "python",
   "nbconvert_exporter": "python",
   "pygments_lexer": "ipython3",
   "version": "3.8.13"
  },
  "orig_nbformat": 4,
  "vscode": {
   "interpreter": {
    "hash": "89a569e57c3a868c837518f690d34e8ba538dcefa2ece26ecfaf82d5cd67ebe4"
   }
  }
 },
 "nbformat": 4,
 "nbformat_minor": 2
}
